{
 "cells": [
  {
   "attachments": {},
   "cell_type": "markdown",
   "id": "41da1d33",
   "metadata": {
    "id": "41da1d33"
   },
   "source": [
    "# ML MINI PROJECT - PHASE 2"
   ]
  },
  {
   "attachments": {},
   "cell_type": "markdown",
   "id": "f395829b",
   "metadata": {
    "id": "f395829b"
   },
   "source": [
    "# Shiv Pratap Singh 200968038"
   ]
  },
  {
   "attachments": {},
   "cell_type": "markdown",
   "id": "aaaf5b03",
   "metadata": {
    "id": "aaaf5b03"
   },
   "source": [
    "MOVIESLENS DATASET\n",
    "\n",
    "The data set consists of 4 csv files named links, movies,ratings and tags\n",
    "  - ratings.csv \n",
    "      - all ratings contained in the file ratings.csv\n",
    "      - ratings made from 0-5 with 0.5 incrementation\n",
    "  - tags.csv \n",
    "      - contains all the tags\n",
    "  - movies.csv \n",
    "      - contains information about movie titles and the gneres associated with the movie\n",
    "  - links.csv \n",
    "      - contains identifiers that can be used to link other sources of movies data\n",
    "      - movieId - identifier movieLens\n",
    "      - imdbId - identifier imdb \n",
    "      - tmdbId - identifier  theMovieDb\n",
    "\n",
    "This data set describes a 5 - star rating and free-text tagging activity from MovieLens(a movie recommender service)\n",
    "100836 ratings\n",
    "3683 tag applications\n",
    "9742 movies\n",
    "users involed in creation = 610\n",
    "duration of collection of data - March 29, 1996 - September 24, 2018\n",
    "every user rated atleaset 20 ratings"
   ]
  },
  {
   "attachments": {},
   "cell_type": "markdown",
   "id": "0c86cc35",
   "metadata": {
    "id": "0c86cc35"
   },
   "source": [
    "## Preliminary Analysis"
   ]
  },
  {
   "attachments": {},
   "cell_type": "markdown",
   "id": "02ca9d99",
   "metadata": {
    "id": "02ca9d99"
   },
   "source": [
    "Objective - To build an app with simple UI that'll allow users to search movies and get recommendations. "
   ]
  },
  {
   "attachments": {},
   "cell_type": "markdown",
   "id": "c180f578",
   "metadata": {
    "id": "c180f578"
   },
   "source": [
    "Python Libraries that'll play Key Role - \n",
    "- StreamLit - Building UI\n",
    "- Surprise - Collaborative Filtering \n",
    "- FastAPI - API for the recommender system\n",
    "- Pandas - Data Analysis and Preprocessing "
   ]
  },
  {
   "attachments": {},
   "cell_type": "markdown",
   "id": "44752e6d",
   "metadata": {
    "id": "44752e6d"
   },
   "source": [
    "In this notebook, I have aimed to clean the data and preprocess it to make it reach a usable state. We have 4 csv files, one of which - Links.csv is completely useless for the recommender system that I have in mind. The rest 3 csv files contain important information that I want to utilise properly to build a satisfactory project."
   ]
  },
  {
   "cell_type": "code",
   "execution_count": 3,
   "id": "t8QTur5Zjrm5",
   "metadata": {
    "id": "t8QTur5Zjrm5"
   },
   "outputs": [],
   "source": [
    "from pydrive.auth import GoogleAuth\n",
    "from pydrive.drive import GoogleDrive\n",
    "from google.colab import auth\n",
    "from oauth2client.client import GoogleCredentials\n"
   ]
  },
  {
   "cell_type": "code",
   "execution_count": 4,
   "id": "_uvumLdUjrqi",
   "metadata": {
    "id": "_uvumLdUjrqi"
   },
   "outputs": [],
   "source": [
    "auth.authenticate_user()\n",
    "gauth = GoogleAuth()\n",
    "gauth.credentials = GoogleCredentials.get_application_default()\n",
    "drive = GoogleDrive(gauth)"
   ]
  },
  {
   "cell_type": "code",
   "execution_count": 5,
   "id": "BWUh-Wa5jrtV",
   "metadata": {
    "id": "BWUh-Wa5jrtV"
   },
   "outputs": [],
   "source": [
    "downloaded = drive.CreateFile({'id':'1_ca6c6mVTyxxf18KGsgY0tNmD180brBf'}) # replace the id with id of file you want to access\n",
    "downloaded.GetContentFile('movies.csv') "
   ]
  },
  {
   "cell_type": "code",
   "execution_count": 6,
   "id": "dgoagozrjrwo",
   "metadata": {
    "id": "dgoagozrjrwo"
   },
   "outputs": [],
   "source": [
    "downloaded = drive.CreateFile({'id':'1TQKWWWUdNIC0DSUbbbdz4_pTcIS6UhdP'}) # replace the id with id of file you want to access\n",
    "downloaded.GetContentFile('ratings.csv') "
   ]
  },
  {
   "cell_type": "code",
   "execution_count": 7,
   "id": "SkZGoVlbk6W4",
   "metadata": {
    "id": "SkZGoVlbk6W4"
   },
   "outputs": [],
   "source": [
    "downloaded = drive.CreateFile({'id':'1unIo32Ggs5jg_NpYkHPUeTHvmQWUIsgt'}) # replace the id with id of file you want to access\n",
    "downloaded.GetContentFile('tags.csv') "
   ]
  },
  {
   "cell_type": "code",
   "execution_count": 8,
   "id": "vgak2lnck61x",
   "metadata": {
    "id": "vgak2lnck61x"
   },
   "outputs": [],
   "source": [
    "downloaded = drive.CreateFile({'id':'1UmXBH8tnax-pm7h-XKFe9LJ8gGtmmDKE'}) # replace the id with id of file you want to access\n",
    "downloaded.GetContentFile('links.csv') "
   ]
  },
  {
   "cell_type": "code",
   "execution_count": 4,
   "id": "f4543c1f",
   "metadata": {},
   "outputs": [
    {
     "name": "stdout",
     "output_type": "stream",
     "text": [
      "Requirement already satisfied: pandas in c:\\users\\shiv\\appdata\\local\\packages\\pythonsoftwarefoundation.python.3.11_qbz5n2kfra8p0\\localcache\\local-packages\\python311\\site-packages (2.0.2)\n",
      "Requirement already satisfied: python-dateutil>=2.8.2 in c:\\users\\shiv\\appdata\\local\\packages\\pythonsoftwarefoundation.python.3.11_qbz5n2kfra8p0\\localcache\\local-packages\\python311\\site-packages (from pandas) (2.8.2)\n",
      "Requirement already satisfied: pytz>=2020.1 in c:\\users\\shiv\\appdata\\local\\packages\\pythonsoftwarefoundation.python.3.11_qbz5n2kfra8p0\\localcache\\local-packages\\python311\\site-packages (from pandas) (2023.3)\n",
      "Requirement already satisfied: tzdata>=2022.1 in c:\\users\\shiv\\appdata\\local\\packages\\pythonsoftwarefoundation.python.3.11_qbz5n2kfra8p0\\localcache\\local-packages\\python311\\site-packages (from pandas) (2023.3)\n",
      "Requirement already satisfied: numpy>=1.21.0 in c:\\users\\shiv\\appdata\\local\\packages\\pythonsoftwarefoundation.python.3.11_qbz5n2kfra8p0\\localcache\\local-packages\\python311\\site-packages (from pandas) (1.25.0)\n",
      "Requirement already satisfied: six>=1.5 in c:\\users\\shiv\\appdata\\local\\packages\\pythonsoftwarefoundation.python.3.11_qbz5n2kfra8p0\\localcache\\local-packages\\python311\\site-packages (from python-dateutil>=2.8.2->pandas) (1.16.0)\n"
     ]
    }
   ],
   "source": [
    "!pip install pandas"
   ]
  },
  {
   "cell_type": "code",
   "execution_count": 1,
   "id": "24cec490",
   "metadata": {
    "id": "24cec490"
   },
   "outputs": [],
   "source": [
    "import pandas as pd\n",
    "import numpy as np"
   ]
  },
  {
   "cell_type": "code",
   "execution_count": 13,
   "id": "f7b60034",
   "metadata": {
    "colab": {
     "base_uri": "https://localhost:8080/"
    },
    "id": "f7b60034",
    "outputId": "b827ef74-68f9-49a2-817c-e9e2268b20ab",
    "scrolled": true
   },
   "outputs": [
    {
     "name": "stdout",
     "output_type": "stream",
     "text": [
      "<class 'pandas.core.frame.DataFrame'>\n",
      "RangeIndex: 9742 entries, 0 to 9741\n",
      "Data columns (total 3 columns):\n",
      " #   Column   Non-Null Count  Dtype \n",
      "---  ------   --------------  ----- \n",
      " 0   movieId  9742 non-null   int64 \n",
      " 1   title    9742 non-null   object\n",
      " 2   genres   9742 non-null   object\n",
      "dtypes: int64(1), object(2)\n",
      "memory usage: 228.5+ KB\n"
     ]
    }
   ],
   "source": [
    "movies_df = pd.read_csv('movies_dataset//movies.csv')\n",
    "movies_df.info()"
   ]
  },
  {
   "attachments": {},
   "cell_type": "markdown",
   "id": "ad4bd70c",
   "metadata": {
    "id": "ad4bd70c"
   },
   "source": [
    "The Movies.csv has the genre information of each movie along with its unique identifier movieId"
   ]
  },
  {
   "cell_type": "code",
   "execution_count": 14,
   "id": "e45b73cd",
   "metadata": {
    "colab": {
     "base_uri": "https://localhost:8080/",
     "height": 424
    },
    "id": "e45b73cd",
    "outputId": "fe39c2dd-1623-4665-9641-3daf8f0fc7ab"
   },
   "outputs": [
    {
     "data": {
      "text/html": [
       "<div>\n",
       "<style scoped>\n",
       "    .dataframe tbody tr th:only-of-type {\n",
       "        vertical-align: middle;\n",
       "    }\n",
       "\n",
       "    .dataframe tbody tr th {\n",
       "        vertical-align: top;\n",
       "    }\n",
       "\n",
       "    .dataframe thead th {\n",
       "        text-align: right;\n",
       "    }\n",
       "</style>\n",
       "<table border=\"1\" class=\"dataframe\">\n",
       "  <thead>\n",
       "    <tr style=\"text-align: right;\">\n",
       "      <th></th>\n",
       "      <th>movieId</th>\n",
       "      <th>title</th>\n",
       "      <th>genres</th>\n",
       "    </tr>\n",
       "  </thead>\n",
       "  <tbody>\n",
       "    <tr>\n",
       "      <th>0</th>\n",
       "      <td>1</td>\n",
       "      <td>Toy Story (1995)</td>\n",
       "      <td>Adventure|Animation|Children|Comedy|Fantasy</td>\n",
       "    </tr>\n",
       "    <tr>\n",
       "      <th>1</th>\n",
       "      <td>2</td>\n",
       "      <td>Jumanji (1995)</td>\n",
       "      <td>Adventure|Children|Fantasy</td>\n",
       "    </tr>\n",
       "    <tr>\n",
       "      <th>2</th>\n",
       "      <td>3</td>\n",
       "      <td>Grumpier Old Men (1995)</td>\n",
       "      <td>Comedy|Romance</td>\n",
       "    </tr>\n",
       "    <tr>\n",
       "      <th>3</th>\n",
       "      <td>4</td>\n",
       "      <td>Waiting to Exhale (1995)</td>\n",
       "      <td>Comedy|Drama|Romance</td>\n",
       "    </tr>\n",
       "    <tr>\n",
       "      <th>4</th>\n",
       "      <td>5</td>\n",
       "      <td>Father of the Bride Part II (1995)</td>\n",
       "      <td>Comedy</td>\n",
       "    </tr>\n",
       "    <tr>\n",
       "      <th>...</th>\n",
       "      <td>...</td>\n",
       "      <td>...</td>\n",
       "      <td>...</td>\n",
       "    </tr>\n",
       "    <tr>\n",
       "      <th>9737</th>\n",
       "      <td>193581</td>\n",
       "      <td>Black Butler: Book of the Atlantic (2017)</td>\n",
       "      <td>Action|Animation|Comedy|Fantasy</td>\n",
       "    </tr>\n",
       "    <tr>\n",
       "      <th>9738</th>\n",
       "      <td>193583</td>\n",
       "      <td>No Game No Life: Zero (2017)</td>\n",
       "      <td>Animation|Comedy|Fantasy</td>\n",
       "    </tr>\n",
       "    <tr>\n",
       "      <th>9739</th>\n",
       "      <td>193585</td>\n",
       "      <td>Flint (2017)</td>\n",
       "      <td>Drama</td>\n",
       "    </tr>\n",
       "    <tr>\n",
       "      <th>9740</th>\n",
       "      <td>193587</td>\n",
       "      <td>Bungo Stray Dogs: Dead Apple (2018)</td>\n",
       "      <td>Action|Animation</td>\n",
       "    </tr>\n",
       "    <tr>\n",
       "      <th>9741</th>\n",
       "      <td>193609</td>\n",
       "      <td>Andrew Dice Clay: Dice Rules (1991)</td>\n",
       "      <td>Comedy</td>\n",
       "    </tr>\n",
       "  </tbody>\n",
       "</table>\n",
       "<p>9742 rows × 3 columns</p>\n",
       "</div>"
      ],
      "text/plain": [
       "      movieId                                      title  \\\n",
       "0           1                           Toy Story (1995)   \n",
       "1           2                             Jumanji (1995)   \n",
       "2           3                    Grumpier Old Men (1995)   \n",
       "3           4                   Waiting to Exhale (1995)   \n",
       "4           5         Father of the Bride Part II (1995)   \n",
       "...       ...                                        ...   \n",
       "9737   193581  Black Butler: Book of the Atlantic (2017)   \n",
       "9738   193583               No Game No Life: Zero (2017)   \n",
       "9739   193585                               Flint (2017)   \n",
       "9740   193587        Bungo Stray Dogs: Dead Apple (2018)   \n",
       "9741   193609        Andrew Dice Clay: Dice Rules (1991)   \n",
       "\n",
       "                                           genres  \n",
       "0     Adventure|Animation|Children|Comedy|Fantasy  \n",
       "1                      Adventure|Children|Fantasy  \n",
       "2                                  Comedy|Romance  \n",
       "3                            Comedy|Drama|Romance  \n",
       "4                                          Comedy  \n",
       "...                                           ...  \n",
       "9737              Action|Animation|Comedy|Fantasy  \n",
       "9738                     Animation|Comedy|Fantasy  \n",
       "9739                                        Drama  \n",
       "9740                             Action|Animation  \n",
       "9741                                       Comedy  \n",
       "\n",
       "[9742 rows x 3 columns]"
      ]
     },
     "execution_count": 14,
     "metadata": {},
     "output_type": "execute_result"
    }
   ],
   "source": [
    "movies_df"
   ]
  },
  {
   "attachments": {},
   "cell_type": "markdown",
   "id": "e375b398",
   "metadata": {
    "id": "e375b398"
   },
   "source": [
    "We can extract the movie release year from the title column"
   ]
  },
  {
   "cell_type": "code",
   "execution_count": 15,
   "id": "04a8220d",
   "metadata": {
    "id": "04a8220d"
   },
   "outputs": [],
   "source": [
    "movies_df['release_year'] = movies_df.title.str.extract(\"\\((\\d{4})\\)\", expand=True)\n",
    "movies_df.release_year = pd.to_datetime(movies_df.release_year, format='%Y')\n",
    "movies_df.release_year = movies_df.release_year.dt.year\n",
    "movies_df.title = movies_df.title.str[:-7]"
   ]
  },
  {
   "cell_type": "code",
   "execution_count": 16,
   "id": "bcd74de2",
   "metadata": {
    "colab": {
     "base_uri": "https://localhost:8080/",
     "height": 424
    },
    "id": "bcd74de2",
    "outputId": "5cb87f83-ebdb-44be-888a-87f4d77d3703"
   },
   "outputs": [
    {
     "data": {
      "text/html": [
       "<div>\n",
       "<style scoped>\n",
       "    .dataframe tbody tr th:only-of-type {\n",
       "        vertical-align: middle;\n",
       "    }\n",
       "\n",
       "    .dataframe tbody tr th {\n",
       "        vertical-align: top;\n",
       "    }\n",
       "\n",
       "    .dataframe thead th {\n",
       "        text-align: right;\n",
       "    }\n",
       "</style>\n",
       "<table border=\"1\" class=\"dataframe\">\n",
       "  <thead>\n",
       "    <tr style=\"text-align: right;\">\n",
       "      <th></th>\n",
       "      <th>movieId</th>\n",
       "      <th>title</th>\n",
       "      <th>genres</th>\n",
       "      <th>release_year</th>\n",
       "    </tr>\n",
       "  </thead>\n",
       "  <tbody>\n",
       "    <tr>\n",
       "      <th>0</th>\n",
       "      <td>1</td>\n",
       "      <td>Toy Story</td>\n",
       "      <td>Adventure|Animation|Children|Comedy|Fantasy</td>\n",
       "      <td>1995.0</td>\n",
       "    </tr>\n",
       "    <tr>\n",
       "      <th>1</th>\n",
       "      <td>2</td>\n",
       "      <td>Jumanji</td>\n",
       "      <td>Adventure|Children|Fantasy</td>\n",
       "      <td>1995.0</td>\n",
       "    </tr>\n",
       "    <tr>\n",
       "      <th>2</th>\n",
       "      <td>3</td>\n",
       "      <td>Grumpier Old Men</td>\n",
       "      <td>Comedy|Romance</td>\n",
       "      <td>1995.0</td>\n",
       "    </tr>\n",
       "    <tr>\n",
       "      <th>3</th>\n",
       "      <td>4</td>\n",
       "      <td>Waiting to Exhale</td>\n",
       "      <td>Comedy|Drama|Romance</td>\n",
       "      <td>1995.0</td>\n",
       "    </tr>\n",
       "    <tr>\n",
       "      <th>4</th>\n",
       "      <td>5</td>\n",
       "      <td>Father of the Bride Part II</td>\n",
       "      <td>Comedy</td>\n",
       "      <td>1995.0</td>\n",
       "    </tr>\n",
       "    <tr>\n",
       "      <th>...</th>\n",
       "      <td>...</td>\n",
       "      <td>...</td>\n",
       "      <td>...</td>\n",
       "      <td>...</td>\n",
       "    </tr>\n",
       "    <tr>\n",
       "      <th>9737</th>\n",
       "      <td>193581</td>\n",
       "      <td>Black Butler: Book of the Atlantic</td>\n",
       "      <td>Action|Animation|Comedy|Fantasy</td>\n",
       "      <td>2017.0</td>\n",
       "    </tr>\n",
       "    <tr>\n",
       "      <th>9738</th>\n",
       "      <td>193583</td>\n",
       "      <td>No Game No Life: Zero</td>\n",
       "      <td>Animation|Comedy|Fantasy</td>\n",
       "      <td>2017.0</td>\n",
       "    </tr>\n",
       "    <tr>\n",
       "      <th>9739</th>\n",
       "      <td>193585</td>\n",
       "      <td>Flint</td>\n",
       "      <td>Drama</td>\n",
       "      <td>2017.0</td>\n",
       "    </tr>\n",
       "    <tr>\n",
       "      <th>9740</th>\n",
       "      <td>193587</td>\n",
       "      <td>Bungo Stray Dogs: Dead Apple</td>\n",
       "      <td>Action|Animation</td>\n",
       "      <td>2018.0</td>\n",
       "    </tr>\n",
       "    <tr>\n",
       "      <th>9741</th>\n",
       "      <td>193609</td>\n",
       "      <td>Andrew Dice Clay: Dice Rules</td>\n",
       "      <td>Comedy</td>\n",
       "      <td>1991.0</td>\n",
       "    </tr>\n",
       "  </tbody>\n",
       "</table>\n",
       "<p>9742 rows × 4 columns</p>\n",
       "</div>"
      ],
      "text/plain": [
       "      movieId                               title  \\\n",
       "0           1                           Toy Story   \n",
       "1           2                             Jumanji   \n",
       "2           3                    Grumpier Old Men   \n",
       "3           4                   Waiting to Exhale   \n",
       "4           5         Father of the Bride Part II   \n",
       "...       ...                                 ...   \n",
       "9737   193581  Black Butler: Book of the Atlantic   \n",
       "9738   193583               No Game No Life: Zero   \n",
       "9739   193585                               Flint   \n",
       "9740   193587        Bungo Stray Dogs: Dead Apple   \n",
       "9741   193609        Andrew Dice Clay: Dice Rules   \n",
       "\n",
       "                                           genres  release_year  \n",
       "0     Adventure|Animation|Children|Comedy|Fantasy        1995.0  \n",
       "1                      Adventure|Children|Fantasy        1995.0  \n",
       "2                                  Comedy|Romance        1995.0  \n",
       "3                            Comedy|Drama|Romance        1995.0  \n",
       "4                                          Comedy        1995.0  \n",
       "...                                           ...           ...  \n",
       "9737              Action|Animation|Comedy|Fantasy        2017.0  \n",
       "9738                     Animation|Comedy|Fantasy        2017.0  \n",
       "9739                                        Drama        2017.0  \n",
       "9740                             Action|Animation        2018.0  \n",
       "9741                                       Comedy        1991.0  \n",
       "\n",
       "[9742 rows x 4 columns]"
      ]
     },
     "execution_count": 16,
     "metadata": {},
     "output_type": "execute_result"
    }
   ],
   "source": [
    "movies_df"
   ]
  },
  {
   "attachments": {},
   "cell_type": "markdown",
   "id": "fe3943dc",
   "metadata": {
    "id": "fe3943dc"
   },
   "source": [
    "Genre Column is a list of genres associated with the movie separated by '|', its annoying, I'll replace it with a one-hot encoded matrix."
   ]
  },
  {
   "cell_type": "code",
   "execution_count": 17,
   "id": "9f3a8138",
   "metadata": {
    "colab": {
     "base_uri": "https://localhost:8080/"
    },
    "id": "9f3a8138",
    "outputId": "7cfc0601-f7d9-4c7d-e480-56dc76935235"
   },
   "outputs": [
    {
     "data": {
      "text/plain": [
       "['Children',\n",
       " 'Action',\n",
       " 'Animation',\n",
       " 'Fantasy',\n",
       " 'Drama',\n",
       " 'War',\n",
       " 'Film-Noir',\n",
       " '(no genres listed)',\n",
       " 'IMAX',\n",
       " 'Mystery',\n",
       " 'Sci-Fi',\n",
       " 'Western',\n",
       " 'Crime',\n",
       " 'Thriller',\n",
       " 'Horror',\n",
       " 'Musical',\n",
       " 'Documentary',\n",
       " 'Adventure',\n",
       " 'Romance',\n",
       " 'Comedy']"
      ]
     },
     "execution_count": 17,
     "metadata": {},
     "output_type": "execute_result"
    }
   ],
   "source": [
    "# Getting series of lists by applying split operation.\n",
    "movies_df.genres = movies_df.genres.str.split('|')\n",
    "# Getting distinct genre types for generating columns of genre type, set stores only distinct values\n",
    "genre_columns = list(set([j for i in movies_df['genres'].tolist() for j in i]))\n",
    "genre_columns"
   ]
  },
  {
   "cell_type": "code",
   "execution_count": 18,
   "id": "a7fd80d1",
   "metadata": {
    "colab": {
     "base_uri": "https://localhost:8080/",
     "height": 973
    },
    "id": "a7fd80d1",
    "outputId": "08ac4fe0-5b4d-4ad8-e9b1-87c6edf3b09e"
   },
   "outputs": [
    {
     "data": {
      "text/html": [
       "<div>\n",
       "<style scoped>\n",
       "    .dataframe tbody tr th:only-of-type {\n",
       "        vertical-align: middle;\n",
       "    }\n",
       "\n",
       "    .dataframe tbody tr th {\n",
       "        vertical-align: top;\n",
       "    }\n",
       "\n",
       "    .dataframe thead th {\n",
       "        text-align: right;\n",
       "    }\n",
       "</style>\n",
       "<table border=\"1\" class=\"dataframe\">\n",
       "  <thead>\n",
       "    <tr style=\"text-align: right;\">\n",
       "      <th></th>\n",
       "      <th>movieId</th>\n",
       "      <th>title</th>\n",
       "      <th>genres</th>\n",
       "      <th>release_year</th>\n",
       "      <th>Children</th>\n",
       "      <th>Action</th>\n",
       "      <th>Animation</th>\n",
       "      <th>Fantasy</th>\n",
       "      <th>Drama</th>\n",
       "      <th>War</th>\n",
       "      <th>...</th>\n",
       "      <th>Sci-Fi</th>\n",
       "      <th>Western</th>\n",
       "      <th>Crime</th>\n",
       "      <th>Thriller</th>\n",
       "      <th>Horror</th>\n",
       "      <th>Musical</th>\n",
       "      <th>Documentary</th>\n",
       "      <th>Adventure</th>\n",
       "      <th>Romance</th>\n",
       "      <th>Comedy</th>\n",
       "    </tr>\n",
       "  </thead>\n",
       "  <tbody>\n",
       "    <tr>\n",
       "      <th>0</th>\n",
       "      <td>1</td>\n",
       "      <td>Toy Story</td>\n",
       "      <td>[Adventure, Animation, Children, Comedy, Fantasy]</td>\n",
       "      <td>1995.0</td>\n",
       "      <td>0</td>\n",
       "      <td>0</td>\n",
       "      <td>0</td>\n",
       "      <td>0</td>\n",
       "      <td>0</td>\n",
       "      <td>0</td>\n",
       "      <td>...</td>\n",
       "      <td>0</td>\n",
       "      <td>0</td>\n",
       "      <td>0</td>\n",
       "      <td>0</td>\n",
       "      <td>0</td>\n",
       "      <td>0</td>\n",
       "      <td>0</td>\n",
       "      <td>0</td>\n",
       "      <td>0</td>\n",
       "      <td>0</td>\n",
       "    </tr>\n",
       "    <tr>\n",
       "      <th>1</th>\n",
       "      <td>2</td>\n",
       "      <td>Jumanji</td>\n",
       "      <td>[Adventure, Children, Fantasy]</td>\n",
       "      <td>1995.0</td>\n",
       "      <td>0</td>\n",
       "      <td>0</td>\n",
       "      <td>0</td>\n",
       "      <td>0</td>\n",
       "      <td>0</td>\n",
       "      <td>0</td>\n",
       "      <td>...</td>\n",
       "      <td>0</td>\n",
       "      <td>0</td>\n",
       "      <td>0</td>\n",
       "      <td>0</td>\n",
       "      <td>0</td>\n",
       "      <td>0</td>\n",
       "      <td>0</td>\n",
       "      <td>0</td>\n",
       "      <td>0</td>\n",
       "      <td>0</td>\n",
       "    </tr>\n",
       "    <tr>\n",
       "      <th>2</th>\n",
       "      <td>3</td>\n",
       "      <td>Grumpier Old Men</td>\n",
       "      <td>[Comedy, Romance]</td>\n",
       "      <td>1995.0</td>\n",
       "      <td>0</td>\n",
       "      <td>0</td>\n",
       "      <td>0</td>\n",
       "      <td>0</td>\n",
       "      <td>0</td>\n",
       "      <td>0</td>\n",
       "      <td>...</td>\n",
       "      <td>0</td>\n",
       "      <td>0</td>\n",
       "      <td>0</td>\n",
       "      <td>0</td>\n",
       "      <td>0</td>\n",
       "      <td>0</td>\n",
       "      <td>0</td>\n",
       "      <td>0</td>\n",
       "      <td>0</td>\n",
       "      <td>0</td>\n",
       "    </tr>\n",
       "    <tr>\n",
       "      <th>3</th>\n",
       "      <td>4</td>\n",
       "      <td>Waiting to Exhale</td>\n",
       "      <td>[Comedy, Drama, Romance]</td>\n",
       "      <td>1995.0</td>\n",
       "      <td>0</td>\n",
       "      <td>0</td>\n",
       "      <td>0</td>\n",
       "      <td>0</td>\n",
       "      <td>0</td>\n",
       "      <td>0</td>\n",
       "      <td>...</td>\n",
       "      <td>0</td>\n",
       "      <td>0</td>\n",
       "      <td>0</td>\n",
       "      <td>0</td>\n",
       "      <td>0</td>\n",
       "      <td>0</td>\n",
       "      <td>0</td>\n",
       "      <td>0</td>\n",
       "      <td>0</td>\n",
       "      <td>0</td>\n",
       "    </tr>\n",
       "    <tr>\n",
       "      <th>4</th>\n",
       "      <td>5</td>\n",
       "      <td>Father of the Bride Part II</td>\n",
       "      <td>[Comedy]</td>\n",
       "      <td>1995.0</td>\n",
       "      <td>0</td>\n",
       "      <td>0</td>\n",
       "      <td>0</td>\n",
       "      <td>0</td>\n",
       "      <td>0</td>\n",
       "      <td>0</td>\n",
       "      <td>...</td>\n",
       "      <td>0</td>\n",
       "      <td>0</td>\n",
       "      <td>0</td>\n",
       "      <td>0</td>\n",
       "      <td>0</td>\n",
       "      <td>0</td>\n",
       "      <td>0</td>\n",
       "      <td>0</td>\n",
       "      <td>0</td>\n",
       "      <td>0</td>\n",
       "    </tr>\n",
       "    <tr>\n",
       "      <th>...</th>\n",
       "      <td>...</td>\n",
       "      <td>...</td>\n",
       "      <td>...</td>\n",
       "      <td>...</td>\n",
       "      <td>...</td>\n",
       "      <td>...</td>\n",
       "      <td>...</td>\n",
       "      <td>...</td>\n",
       "      <td>...</td>\n",
       "      <td>...</td>\n",
       "      <td>...</td>\n",
       "      <td>...</td>\n",
       "      <td>...</td>\n",
       "      <td>...</td>\n",
       "      <td>...</td>\n",
       "      <td>...</td>\n",
       "      <td>...</td>\n",
       "      <td>...</td>\n",
       "      <td>...</td>\n",
       "      <td>...</td>\n",
       "      <td>...</td>\n",
       "    </tr>\n",
       "    <tr>\n",
       "      <th>9737</th>\n",
       "      <td>193581</td>\n",
       "      <td>Black Butler: Book of the Atlantic</td>\n",
       "      <td>[Action, Animation, Comedy, Fantasy]</td>\n",
       "      <td>2017.0</td>\n",
       "      <td>0</td>\n",
       "      <td>0</td>\n",
       "      <td>0</td>\n",
       "      <td>0</td>\n",
       "      <td>0</td>\n",
       "      <td>0</td>\n",
       "      <td>...</td>\n",
       "      <td>0</td>\n",
       "      <td>0</td>\n",
       "      <td>0</td>\n",
       "      <td>0</td>\n",
       "      <td>0</td>\n",
       "      <td>0</td>\n",
       "      <td>0</td>\n",
       "      <td>0</td>\n",
       "      <td>0</td>\n",
       "      <td>0</td>\n",
       "    </tr>\n",
       "    <tr>\n",
       "      <th>9738</th>\n",
       "      <td>193583</td>\n",
       "      <td>No Game No Life: Zero</td>\n",
       "      <td>[Animation, Comedy, Fantasy]</td>\n",
       "      <td>2017.0</td>\n",
       "      <td>0</td>\n",
       "      <td>0</td>\n",
       "      <td>0</td>\n",
       "      <td>0</td>\n",
       "      <td>0</td>\n",
       "      <td>0</td>\n",
       "      <td>...</td>\n",
       "      <td>0</td>\n",
       "      <td>0</td>\n",
       "      <td>0</td>\n",
       "      <td>0</td>\n",
       "      <td>0</td>\n",
       "      <td>0</td>\n",
       "      <td>0</td>\n",
       "      <td>0</td>\n",
       "      <td>0</td>\n",
       "      <td>0</td>\n",
       "    </tr>\n",
       "    <tr>\n",
       "      <th>9739</th>\n",
       "      <td>193585</td>\n",
       "      <td>Flint</td>\n",
       "      <td>[Drama]</td>\n",
       "      <td>2017.0</td>\n",
       "      <td>0</td>\n",
       "      <td>0</td>\n",
       "      <td>0</td>\n",
       "      <td>0</td>\n",
       "      <td>0</td>\n",
       "      <td>0</td>\n",
       "      <td>...</td>\n",
       "      <td>0</td>\n",
       "      <td>0</td>\n",
       "      <td>0</td>\n",
       "      <td>0</td>\n",
       "      <td>0</td>\n",
       "      <td>0</td>\n",
       "      <td>0</td>\n",
       "      <td>0</td>\n",
       "      <td>0</td>\n",
       "      <td>0</td>\n",
       "    </tr>\n",
       "    <tr>\n",
       "      <th>9740</th>\n",
       "      <td>193587</td>\n",
       "      <td>Bungo Stray Dogs: Dead Apple</td>\n",
       "      <td>[Action, Animation]</td>\n",
       "      <td>2018.0</td>\n",
       "      <td>0</td>\n",
       "      <td>0</td>\n",
       "      <td>0</td>\n",
       "      <td>0</td>\n",
       "      <td>0</td>\n",
       "      <td>0</td>\n",
       "      <td>...</td>\n",
       "      <td>0</td>\n",
       "      <td>0</td>\n",
       "      <td>0</td>\n",
       "      <td>0</td>\n",
       "      <td>0</td>\n",
       "      <td>0</td>\n",
       "      <td>0</td>\n",
       "      <td>0</td>\n",
       "      <td>0</td>\n",
       "      <td>0</td>\n",
       "    </tr>\n",
       "    <tr>\n",
       "      <th>9741</th>\n",
       "      <td>193609</td>\n",
       "      <td>Andrew Dice Clay: Dice Rules</td>\n",
       "      <td>[Comedy]</td>\n",
       "      <td>1991.0</td>\n",
       "      <td>0</td>\n",
       "      <td>0</td>\n",
       "      <td>0</td>\n",
       "      <td>0</td>\n",
       "      <td>0</td>\n",
       "      <td>0</td>\n",
       "      <td>...</td>\n",
       "      <td>0</td>\n",
       "      <td>0</td>\n",
       "      <td>0</td>\n",
       "      <td>0</td>\n",
       "      <td>0</td>\n",
       "      <td>0</td>\n",
       "      <td>0</td>\n",
       "      <td>0</td>\n",
       "      <td>0</td>\n",
       "      <td>0</td>\n",
       "    </tr>\n",
       "  </tbody>\n",
       "</table>\n",
       "<p>9742 rows × 24 columns</p>\n",
       "</div>"
      ],
      "text/plain": [
       "      movieId                               title  \\\n",
       "0           1                           Toy Story   \n",
       "1           2                             Jumanji   \n",
       "2           3                    Grumpier Old Men   \n",
       "3           4                   Waiting to Exhale   \n",
       "4           5         Father of the Bride Part II   \n",
       "...       ...                                 ...   \n",
       "9737   193581  Black Butler: Book of the Atlantic   \n",
       "9738   193583               No Game No Life: Zero   \n",
       "9739   193585                               Flint   \n",
       "9740   193587        Bungo Stray Dogs: Dead Apple   \n",
       "9741   193609        Andrew Dice Clay: Dice Rules   \n",
       "\n",
       "                                                 genres  release_year  \\\n",
       "0     [Adventure, Animation, Children, Comedy, Fantasy]        1995.0   \n",
       "1                        [Adventure, Children, Fantasy]        1995.0   \n",
       "2                                     [Comedy, Romance]        1995.0   \n",
       "3                              [Comedy, Drama, Romance]        1995.0   \n",
       "4                                              [Comedy]        1995.0   \n",
       "...                                                 ...           ...   \n",
       "9737               [Action, Animation, Comedy, Fantasy]        2017.0   \n",
       "9738                       [Animation, Comedy, Fantasy]        2017.0   \n",
       "9739                                            [Drama]        2017.0   \n",
       "9740                                [Action, Animation]        2018.0   \n",
       "9741                                           [Comedy]        1991.0   \n",
       "\n",
       "      Children  Action  Animation  Fantasy  Drama  War  ...  Sci-Fi  Western  \\\n",
       "0            0       0          0        0      0    0  ...       0        0   \n",
       "1            0       0          0        0      0    0  ...       0        0   \n",
       "2            0       0          0        0      0    0  ...       0        0   \n",
       "3            0       0          0        0      0    0  ...       0        0   \n",
       "4            0       0          0        0      0    0  ...       0        0   \n",
       "...        ...     ...        ...      ...    ...  ...  ...     ...      ...   \n",
       "9737         0       0          0        0      0    0  ...       0        0   \n",
       "9738         0       0          0        0      0    0  ...       0        0   \n",
       "9739         0       0          0        0      0    0  ...       0        0   \n",
       "9740         0       0          0        0      0    0  ...       0        0   \n",
       "9741         0       0          0        0      0    0  ...       0        0   \n",
       "\n",
       "      Crime  Thriller  Horror  Musical  Documentary  Adventure  Romance  \\\n",
       "0         0         0       0        0            0          0        0   \n",
       "1         0         0       0        0            0          0        0   \n",
       "2         0         0       0        0            0          0        0   \n",
       "3         0         0       0        0            0          0        0   \n",
       "4         0         0       0        0            0          0        0   \n",
       "...     ...       ...     ...      ...          ...        ...      ...   \n",
       "9737      0         0       0        0            0          0        0   \n",
       "9738      0         0       0        0            0          0        0   \n",
       "9739      0         0       0        0            0          0        0   \n",
       "9740      0         0       0        0            0          0        0   \n",
       "9741      0         0       0        0            0          0        0   \n",
       "\n",
       "      Comedy  \n",
       "0          0  \n",
       "1          0  \n",
       "2          0  \n",
       "3          0  \n",
       "4          0  \n",
       "...      ...  \n",
       "9737       0  \n",
       "9738       0  \n",
       "9739       0  \n",
       "9740       0  \n",
       "9741       0  \n",
       "\n",
       "[9742 rows x 24 columns]"
      ]
     },
     "execution_count": 18,
     "metadata": {},
     "output_type": "execute_result"
    }
   ],
   "source": [
    "#We are trying to one-hot encode the movies genre\n",
    "for j in genre_columns:\n",
    "    movies_df[j] = 0\n",
    "movies_df"
   ]
  },
  {
   "cell_type": "code",
   "execution_count": 19,
   "id": "ac52904d",
   "metadata": {
    "id": "ac52904d"
   },
   "outputs": [],
   "source": [
    "#If the genre is in the list we made in genres column then one-hot the respective genre column\n",
    "for i in range(movies_df.shape[0]):\n",
    "    for j in genre_columns:\n",
    "        if(j in movies_df['genres'].iloc[i]):\n",
    "            movies_df.loc[i,j] = 1\n",
    "# Use get_dummies() built-in function"
   ]
  },
  {
   "attachments": {},
   "cell_type": "markdown",
   "id": "2cb77ff4",
   "metadata": {
    "id": "2cb77ff4"
   },
   "source": [
    "IMAX is not a genre, its a viewing feature, completely irrelavant. We drop it along with old genres column."
   ]
  },
  {
   "cell_type": "code",
   "execution_count": 20,
   "id": "0050e92c",
   "metadata": {
    "id": "0050e92c"
   },
   "outputs": [],
   "source": [
    "movies_df.drop(['IMAX','genres'],axis=1,inplace = True)"
   ]
  },
  {
   "cell_type": "code",
   "execution_count": 21,
   "id": "87d13ebd",
   "metadata": {
    "id": "87d13ebd"
   },
   "outputs": [],
   "source": [
    "movies_df.rename(columns = {'(no genres listed)':'None'},inplace=True)"
   ]
  },
  {
   "cell_type": "code",
   "execution_count": 22,
   "id": "525c1243",
   "metadata": {
    "colab": {
     "base_uri": "https://localhost:8080/",
     "height": 852
    },
    "id": "525c1243",
    "outputId": "eef794e9-3590-44d4-d397-ee0f532c8ef1"
   },
   "outputs": [
    {
     "data": {
      "text/html": [
       "<div>\n",
       "<style scoped>\n",
       "    .dataframe tbody tr th:only-of-type {\n",
       "        vertical-align: middle;\n",
       "    }\n",
       "\n",
       "    .dataframe tbody tr th {\n",
       "        vertical-align: top;\n",
       "    }\n",
       "\n",
       "    .dataframe thead th {\n",
       "        text-align: right;\n",
       "    }\n",
       "</style>\n",
       "<table border=\"1\" class=\"dataframe\">\n",
       "  <thead>\n",
       "    <tr style=\"text-align: right;\">\n",
       "      <th></th>\n",
       "      <th>movieId</th>\n",
       "      <th>title</th>\n",
       "      <th>release_year</th>\n",
       "      <th>Children</th>\n",
       "      <th>Action</th>\n",
       "      <th>Animation</th>\n",
       "      <th>Fantasy</th>\n",
       "      <th>Drama</th>\n",
       "      <th>War</th>\n",
       "      <th>Film-Noir</th>\n",
       "      <th>...</th>\n",
       "      <th>Sci-Fi</th>\n",
       "      <th>Western</th>\n",
       "      <th>Crime</th>\n",
       "      <th>Thriller</th>\n",
       "      <th>Horror</th>\n",
       "      <th>Musical</th>\n",
       "      <th>Documentary</th>\n",
       "      <th>Adventure</th>\n",
       "      <th>Romance</th>\n",
       "      <th>Comedy</th>\n",
       "    </tr>\n",
       "  </thead>\n",
       "  <tbody>\n",
       "    <tr>\n",
       "      <th>0</th>\n",
       "      <td>1</td>\n",
       "      <td>Toy Story</td>\n",
       "      <td>1995.0</td>\n",
       "      <td>1</td>\n",
       "      <td>0</td>\n",
       "      <td>1</td>\n",
       "      <td>1</td>\n",
       "      <td>0</td>\n",
       "      <td>0</td>\n",
       "      <td>0</td>\n",
       "      <td>...</td>\n",
       "      <td>0</td>\n",
       "      <td>0</td>\n",
       "      <td>0</td>\n",
       "      <td>0</td>\n",
       "      <td>0</td>\n",
       "      <td>0</td>\n",
       "      <td>0</td>\n",
       "      <td>1</td>\n",
       "      <td>0</td>\n",
       "      <td>1</td>\n",
       "    </tr>\n",
       "    <tr>\n",
       "      <th>1</th>\n",
       "      <td>2</td>\n",
       "      <td>Jumanji</td>\n",
       "      <td>1995.0</td>\n",
       "      <td>1</td>\n",
       "      <td>0</td>\n",
       "      <td>0</td>\n",
       "      <td>1</td>\n",
       "      <td>0</td>\n",
       "      <td>0</td>\n",
       "      <td>0</td>\n",
       "      <td>...</td>\n",
       "      <td>0</td>\n",
       "      <td>0</td>\n",
       "      <td>0</td>\n",
       "      <td>0</td>\n",
       "      <td>0</td>\n",
       "      <td>0</td>\n",
       "      <td>0</td>\n",
       "      <td>1</td>\n",
       "      <td>0</td>\n",
       "      <td>0</td>\n",
       "    </tr>\n",
       "    <tr>\n",
       "      <th>2</th>\n",
       "      <td>3</td>\n",
       "      <td>Grumpier Old Men</td>\n",
       "      <td>1995.0</td>\n",
       "      <td>0</td>\n",
       "      <td>0</td>\n",
       "      <td>0</td>\n",
       "      <td>0</td>\n",
       "      <td>0</td>\n",
       "      <td>0</td>\n",
       "      <td>0</td>\n",
       "      <td>...</td>\n",
       "      <td>0</td>\n",
       "      <td>0</td>\n",
       "      <td>0</td>\n",
       "      <td>0</td>\n",
       "      <td>0</td>\n",
       "      <td>0</td>\n",
       "      <td>0</td>\n",
       "      <td>0</td>\n",
       "      <td>1</td>\n",
       "      <td>1</td>\n",
       "    </tr>\n",
       "    <tr>\n",
       "      <th>3</th>\n",
       "      <td>4</td>\n",
       "      <td>Waiting to Exhale</td>\n",
       "      <td>1995.0</td>\n",
       "      <td>0</td>\n",
       "      <td>0</td>\n",
       "      <td>0</td>\n",
       "      <td>0</td>\n",
       "      <td>1</td>\n",
       "      <td>0</td>\n",
       "      <td>0</td>\n",
       "      <td>...</td>\n",
       "      <td>0</td>\n",
       "      <td>0</td>\n",
       "      <td>0</td>\n",
       "      <td>0</td>\n",
       "      <td>0</td>\n",
       "      <td>0</td>\n",
       "      <td>0</td>\n",
       "      <td>0</td>\n",
       "      <td>1</td>\n",
       "      <td>1</td>\n",
       "    </tr>\n",
       "    <tr>\n",
       "      <th>4</th>\n",
       "      <td>5</td>\n",
       "      <td>Father of the Bride Part II</td>\n",
       "      <td>1995.0</td>\n",
       "      <td>0</td>\n",
       "      <td>0</td>\n",
       "      <td>0</td>\n",
       "      <td>0</td>\n",
       "      <td>0</td>\n",
       "      <td>0</td>\n",
       "      <td>0</td>\n",
       "      <td>...</td>\n",
       "      <td>0</td>\n",
       "      <td>0</td>\n",
       "      <td>0</td>\n",
       "      <td>0</td>\n",
       "      <td>0</td>\n",
       "      <td>0</td>\n",
       "      <td>0</td>\n",
       "      <td>0</td>\n",
       "      <td>0</td>\n",
       "      <td>1</td>\n",
       "    </tr>\n",
       "    <tr>\n",
       "      <th>...</th>\n",
       "      <td>...</td>\n",
       "      <td>...</td>\n",
       "      <td>...</td>\n",
       "      <td>...</td>\n",
       "      <td>...</td>\n",
       "      <td>...</td>\n",
       "      <td>...</td>\n",
       "      <td>...</td>\n",
       "      <td>...</td>\n",
       "      <td>...</td>\n",
       "      <td>...</td>\n",
       "      <td>...</td>\n",
       "      <td>...</td>\n",
       "      <td>...</td>\n",
       "      <td>...</td>\n",
       "      <td>...</td>\n",
       "      <td>...</td>\n",
       "      <td>...</td>\n",
       "      <td>...</td>\n",
       "      <td>...</td>\n",
       "      <td>...</td>\n",
       "    </tr>\n",
       "    <tr>\n",
       "      <th>9737</th>\n",
       "      <td>193581</td>\n",
       "      <td>Black Butler: Book of the Atlantic</td>\n",
       "      <td>2017.0</td>\n",
       "      <td>0</td>\n",
       "      <td>1</td>\n",
       "      <td>1</td>\n",
       "      <td>1</td>\n",
       "      <td>0</td>\n",
       "      <td>0</td>\n",
       "      <td>0</td>\n",
       "      <td>...</td>\n",
       "      <td>0</td>\n",
       "      <td>0</td>\n",
       "      <td>0</td>\n",
       "      <td>0</td>\n",
       "      <td>0</td>\n",
       "      <td>0</td>\n",
       "      <td>0</td>\n",
       "      <td>0</td>\n",
       "      <td>0</td>\n",
       "      <td>1</td>\n",
       "    </tr>\n",
       "    <tr>\n",
       "      <th>9738</th>\n",
       "      <td>193583</td>\n",
       "      <td>No Game No Life: Zero</td>\n",
       "      <td>2017.0</td>\n",
       "      <td>0</td>\n",
       "      <td>0</td>\n",
       "      <td>1</td>\n",
       "      <td>1</td>\n",
       "      <td>0</td>\n",
       "      <td>0</td>\n",
       "      <td>0</td>\n",
       "      <td>...</td>\n",
       "      <td>0</td>\n",
       "      <td>0</td>\n",
       "      <td>0</td>\n",
       "      <td>0</td>\n",
       "      <td>0</td>\n",
       "      <td>0</td>\n",
       "      <td>0</td>\n",
       "      <td>0</td>\n",
       "      <td>0</td>\n",
       "      <td>1</td>\n",
       "    </tr>\n",
       "    <tr>\n",
       "      <th>9739</th>\n",
       "      <td>193585</td>\n",
       "      <td>Flint</td>\n",
       "      <td>2017.0</td>\n",
       "      <td>0</td>\n",
       "      <td>0</td>\n",
       "      <td>0</td>\n",
       "      <td>0</td>\n",
       "      <td>1</td>\n",
       "      <td>0</td>\n",
       "      <td>0</td>\n",
       "      <td>...</td>\n",
       "      <td>0</td>\n",
       "      <td>0</td>\n",
       "      <td>0</td>\n",
       "      <td>0</td>\n",
       "      <td>0</td>\n",
       "      <td>0</td>\n",
       "      <td>0</td>\n",
       "      <td>0</td>\n",
       "      <td>0</td>\n",
       "      <td>0</td>\n",
       "    </tr>\n",
       "    <tr>\n",
       "      <th>9740</th>\n",
       "      <td>193587</td>\n",
       "      <td>Bungo Stray Dogs: Dead Apple</td>\n",
       "      <td>2018.0</td>\n",
       "      <td>0</td>\n",
       "      <td>1</td>\n",
       "      <td>1</td>\n",
       "      <td>0</td>\n",
       "      <td>0</td>\n",
       "      <td>0</td>\n",
       "      <td>0</td>\n",
       "      <td>...</td>\n",
       "      <td>0</td>\n",
       "      <td>0</td>\n",
       "      <td>0</td>\n",
       "      <td>0</td>\n",
       "      <td>0</td>\n",
       "      <td>0</td>\n",
       "      <td>0</td>\n",
       "      <td>0</td>\n",
       "      <td>0</td>\n",
       "      <td>0</td>\n",
       "    </tr>\n",
       "    <tr>\n",
       "      <th>9741</th>\n",
       "      <td>193609</td>\n",
       "      <td>Andrew Dice Clay: Dice Rules</td>\n",
       "      <td>1991.0</td>\n",
       "      <td>0</td>\n",
       "      <td>0</td>\n",
       "      <td>0</td>\n",
       "      <td>0</td>\n",
       "      <td>0</td>\n",
       "      <td>0</td>\n",
       "      <td>0</td>\n",
       "      <td>...</td>\n",
       "      <td>0</td>\n",
       "      <td>0</td>\n",
       "      <td>0</td>\n",
       "      <td>0</td>\n",
       "      <td>0</td>\n",
       "      <td>0</td>\n",
       "      <td>0</td>\n",
       "      <td>0</td>\n",
       "      <td>0</td>\n",
       "      <td>1</td>\n",
       "    </tr>\n",
       "  </tbody>\n",
       "</table>\n",
       "<p>9742 rows × 22 columns</p>\n",
       "</div>"
      ],
      "text/plain": [
       "      movieId                               title  release_year  Children  \\\n",
       "0           1                           Toy Story        1995.0         1   \n",
       "1           2                             Jumanji        1995.0         1   \n",
       "2           3                    Grumpier Old Men        1995.0         0   \n",
       "3           4                   Waiting to Exhale        1995.0         0   \n",
       "4           5         Father of the Bride Part II        1995.0         0   \n",
       "...       ...                                 ...           ...       ...   \n",
       "9737   193581  Black Butler: Book of the Atlantic        2017.0         0   \n",
       "9738   193583               No Game No Life: Zero        2017.0         0   \n",
       "9739   193585                               Flint        2017.0         0   \n",
       "9740   193587        Bungo Stray Dogs: Dead Apple        2018.0         0   \n",
       "9741   193609        Andrew Dice Clay: Dice Rules        1991.0         0   \n",
       "\n",
       "      Action  Animation  Fantasy  Drama  War  Film-Noir  ...  Sci-Fi  Western  \\\n",
       "0          0          1        1      0    0          0  ...       0        0   \n",
       "1          0          0        1      0    0          0  ...       0        0   \n",
       "2          0          0        0      0    0          0  ...       0        0   \n",
       "3          0          0        0      1    0          0  ...       0        0   \n",
       "4          0          0        0      0    0          0  ...       0        0   \n",
       "...      ...        ...      ...    ...  ...        ...  ...     ...      ...   \n",
       "9737       1          1        1      0    0          0  ...       0        0   \n",
       "9738       0          1        1      0    0          0  ...       0        0   \n",
       "9739       0          0        0      1    0          0  ...       0        0   \n",
       "9740       1          1        0      0    0          0  ...       0        0   \n",
       "9741       0          0        0      0    0          0  ...       0        0   \n",
       "\n",
       "      Crime  Thriller  Horror  Musical  Documentary  Adventure  Romance  \\\n",
       "0         0         0       0        0            0          1        0   \n",
       "1         0         0       0        0            0          1        0   \n",
       "2         0         0       0        0            0          0        1   \n",
       "3         0         0       0        0            0          0        1   \n",
       "4         0         0       0        0            0          0        0   \n",
       "...     ...       ...     ...      ...          ...        ...      ...   \n",
       "9737      0         0       0        0            0          0        0   \n",
       "9738      0         0       0        0            0          0        0   \n",
       "9739      0         0       0        0            0          0        0   \n",
       "9740      0         0       0        0            0          0        0   \n",
       "9741      0         0       0        0            0          0        0   \n",
       "\n",
       "      Comedy  \n",
       "0          1  \n",
       "1          0  \n",
       "2          1  \n",
       "3          1  \n",
       "4          1  \n",
       "...      ...  \n",
       "9737       1  \n",
       "9738       1  \n",
       "9739       0  \n",
       "9740       0  \n",
       "9741       1  \n",
       "\n",
       "[9742 rows x 22 columns]"
      ]
     },
     "execution_count": 22,
     "metadata": {},
     "output_type": "execute_result"
    }
   ],
   "source": [
    "movies_df"
   ]
  },
  {
   "cell_type": "code",
   "execution_count": 23,
   "id": "88436e77",
   "metadata": {
    "id": "88436e77"
   },
   "outputs": [],
   "source": [
    "genre_columns = ['Romance', 'Comedy', 'Animation',\n",
    "       'Mystery', 'Children', 'Musical', 'Crime', 'Action', 'Horror', 'War',\n",
    "       'Western', 'Adventure', 'Film-Noir', 'None', 'Drama', 'Fantasy',\n",
    "       'Sci-Fi', 'Thriller', 'Documentary']"
   ]
  },
  {
   "cell_type": "code",
   "execution_count": 24,
   "id": "bbe62aa6",
   "metadata": {
    "colab": {
     "base_uri": "https://localhost:8080/"
    },
    "id": "bbe62aa6",
    "outputId": "60535646-ddc5-45dc-fd59-9407cedd9250"
   },
   "outputs": [
    {
     "data": {
      "text/plain": [
       "movieId          0\n",
       "title            0\n",
       "release_year    13\n",
       "Children         0\n",
       "Action           0\n",
       "Animation        0\n",
       "Fantasy          0\n",
       "Drama            0\n",
       "War              0\n",
       "Film-Noir        0\n",
       "None             0\n",
       "Mystery          0\n",
       "Sci-Fi           0\n",
       "Western          0\n",
       "Crime            0\n",
       "Thriller         0\n",
       "Horror           0\n",
       "Musical          0\n",
       "Documentary      0\n",
       "Adventure        0\n",
       "Romance          0\n",
       "Comedy           0\n",
       "dtype: int64"
      ]
     },
     "execution_count": 24,
     "metadata": {},
     "output_type": "execute_result"
    }
   ],
   "source": [
    "movies_df.isnull().sum()"
   ]
  },
  {
   "cell_type": "code",
   "execution_count": 25,
   "id": "e9c5d324",
   "metadata": {
    "id": "e9c5d324"
   },
   "outputs": [],
   "source": [
    "movies_df.dropna(inplace=True,axis=0)"
   ]
  },
  {
   "cell_type": "code",
   "execution_count": 26,
   "id": "9d83bf40",
   "metadata": {
    "colab": {
     "base_uri": "https://localhost:8080/",
     "height": 352
    },
    "id": "9d83bf40",
    "outputId": "b327ec98-c7e2-4f54-c6b4-52ca7a8d0880"
   },
   "outputs": [
    {
     "data": {
      "text/plain": [
       "<Axes: xlabel='release_year', ylabel='movieId'>"
      ]
     },
     "execution_count": 26,
     "metadata": {},
     "output_type": "execute_result"
    },
    {
     "data": {
      "image/png": "[encoded data removed]",
      "text/plain": [
       "<Figure size 1000x500 with 1 Axes>"
      ]
     },
     "metadata": {},
     "output_type": "display_data"
    }
   ],
   "source": [
    "import matplotlib.pyplot as plt\n",
    "%matplotlib inline\n",
    "import seaborn as sns\n",
    "plt.rcParams[\"figure.figsize\"] = (10,5)\n",
    "dftmp = movies_df[['movieId', 'release_year']].groupby('release_year')\n",
    "sns.lineplot(x = dftmp.release_year.first(), y = dftmp.movieId.nunique(),markers='o',color='y')"
   ]
  },
  {
   "attachments": {},
   "cell_type": "markdown",
   "id": "ac12c277",
   "metadata": {
    "id": "ac12c277"
   },
   "source": [
    "Most Movies in our dataset have been released quite recently"
   ]
  },
  {
   "cell_type": "code",
   "execution_count": 23,
   "id": "90924c69",
   "metadata": {
    "colab": {
     "base_uri": "https://localhost:8080/"
    },
    "id": "90924c69",
    "outputId": "9fbce820-a7ec-4e67-aef7-b183c2255499"
   },
   "outputs": [
    {
     "data": {
      "text/plain": [
       "{'Romance': 1596,\n",
       " 'Comedy': 3756,\n",
       " 'Animation': 611,\n",
       " 'Mystery': 573,\n",
       " 'Children': 664,\n",
       " 'Musical': 334,\n",
       " 'Crime': 1199,\n",
       " 'Action': 1827,\n",
       " 'Horror': 978,\n",
       " 'War': 382,\n",
       " 'Western': 167,\n",
       " 'Adventure': 1263,\n",
       " 'Film-Noir': 87,\n",
       " 'None': 25,\n",
       " 'Drama': 4359,\n",
       " 'Fantasy': 779,\n",
       " 'Sci-Fi': 978,\n",
       " 'Thriller': 1892,\n",
       " 'Documentary': 440}"
      ]
     },
     "execution_count": 23,
     "metadata": {},
     "output_type": "execute_result"
    }
   ],
   "source": [
    "count = {}\n",
    "for i in genre_columns:\n",
    "    count[i] = movies_df[i].sum()\n",
    "count"
   ]
  },
  {
   "cell_type": "code",
   "execution_count": 24,
   "id": "da2cf2d7",
   "metadata": {
    "colab": {
     "base_uri": "https://localhost:8080/",
     "height": 645
    },
    "id": "da2cf2d7",
    "outputId": "c068ef40-455d-4052-f7f3-934bb232bd56"
   },
   "outputs": [
    {
     "data": {
      "text/html": [
       "<div>\n",
       "<style scoped>\n",
       "    .dataframe tbody tr th:only-of-type {\n",
       "        vertical-align: middle;\n",
       "    }\n",
       "\n",
       "    .dataframe tbody tr th {\n",
       "        vertical-align: top;\n",
       "    }\n",
       "\n",
       "    .dataframe thead th {\n",
       "        text-align: right;\n",
       "    }\n",
       "</style>\n",
       "<table border=\"1\" class=\"dataframe\">\n",
       "  <thead>\n",
       "    <tr style=\"text-align: right;\">\n",
       "      <th></th>\n",
       "      <th>genre</th>\n",
       "      <th>count</th>\n",
       "    </tr>\n",
       "  </thead>\n",
       "  <tbody>\n",
       "    <tr>\n",
       "      <th>0</th>\n",
       "      <td>Romance</td>\n",
       "      <td>1596</td>\n",
       "    </tr>\n",
       "    <tr>\n",
       "      <th>1</th>\n",
       "      <td>Comedy</td>\n",
       "      <td>3756</td>\n",
       "    </tr>\n",
       "    <tr>\n",
       "      <th>2</th>\n",
       "      <td>Animation</td>\n",
       "      <td>611</td>\n",
       "    </tr>\n",
       "    <tr>\n",
       "      <th>3</th>\n",
       "      <td>Mystery</td>\n",
       "      <td>573</td>\n",
       "    </tr>\n",
       "    <tr>\n",
       "      <th>4</th>\n",
       "      <td>Children</td>\n",
       "      <td>664</td>\n",
       "    </tr>\n",
       "    <tr>\n",
       "      <th>5</th>\n",
       "      <td>Musical</td>\n",
       "      <td>334</td>\n",
       "    </tr>\n",
       "    <tr>\n",
       "      <th>6</th>\n",
       "      <td>Crime</td>\n",
       "      <td>1199</td>\n",
       "    </tr>\n",
       "    <tr>\n",
       "      <th>7</th>\n",
       "      <td>Action</td>\n",
       "      <td>1827</td>\n",
       "    </tr>\n",
       "    <tr>\n",
       "      <th>8</th>\n",
       "      <td>Horror</td>\n",
       "      <td>978</td>\n",
       "    </tr>\n",
       "    <tr>\n",
       "      <th>9</th>\n",
       "      <td>War</td>\n",
       "      <td>382</td>\n",
       "    </tr>\n",
       "    <tr>\n",
       "      <th>10</th>\n",
       "      <td>Western</td>\n",
       "      <td>167</td>\n",
       "    </tr>\n",
       "    <tr>\n",
       "      <th>11</th>\n",
       "      <td>Adventure</td>\n",
       "      <td>1263</td>\n",
       "    </tr>\n",
       "    <tr>\n",
       "      <th>12</th>\n",
       "      <td>Film-Noir</td>\n",
       "      <td>87</td>\n",
       "    </tr>\n",
       "    <tr>\n",
       "      <th>13</th>\n",
       "      <td>None</td>\n",
       "      <td>25</td>\n",
       "    </tr>\n",
       "    <tr>\n",
       "      <th>14</th>\n",
       "      <td>Drama</td>\n",
       "      <td>4359</td>\n",
       "    </tr>\n",
       "    <tr>\n",
       "      <th>15</th>\n",
       "      <td>Fantasy</td>\n",
       "      <td>779</td>\n",
       "    </tr>\n",
       "    <tr>\n",
       "      <th>16</th>\n",
       "      <td>Sci-Fi</td>\n",
       "      <td>978</td>\n",
       "    </tr>\n",
       "    <tr>\n",
       "      <th>17</th>\n",
       "      <td>Thriller</td>\n",
       "      <td>1892</td>\n",
       "    </tr>\n",
       "    <tr>\n",
       "      <th>18</th>\n",
       "      <td>Documentary</td>\n",
       "      <td>440</td>\n",
       "    </tr>\n",
       "  </tbody>\n",
       "</table>\n",
       "</div>"
      ],
      "text/plain": [
       "          genre  count\n",
       "0       Romance   1596\n",
       "1        Comedy   3756\n",
       "2     Animation    611\n",
       "3       Mystery    573\n",
       "4      Children    664\n",
       "5       Musical    334\n",
       "6         Crime   1199\n",
       "7        Action   1827\n",
       "8        Horror    978\n",
       "9           War    382\n",
       "10      Western    167\n",
       "11    Adventure   1263\n",
       "12    Film-Noir     87\n",
       "13         None     25\n",
       "14        Drama   4359\n",
       "15      Fantasy    779\n",
       "16       Sci-Fi    978\n",
       "17     Thriller   1892\n",
       "18  Documentary    440"
      ]
     },
     "execution_count": 24,
     "metadata": {},
     "output_type": "execute_result"
    }
   ],
   "source": [
    "genre_count =  pd.DataFrame({'genre':count.keys(),'count':count.values()})\n",
    "genre_count"
   ]
  },
  {
   "cell_type": "code",
   "execution_count": 25,
   "id": "3999c65c",
   "metadata": {
    "colab": {
     "base_uri": "https://localhost:8080/",
     "height": 337
    },
    "id": "3999c65c",
    "outputId": "6bbe43e0-31dd-4173-b54c-931cab21abe4"
   },
   "outputs": [
    {
     "data": {
      "image/png": "[encoded data removed]",
      "text/plain": [
       "<Figure size 1000x400 with 1 Axes>"
      ]
     },
     "metadata": {},
     "output_type": "display_data"
    }
   ],
   "source": [
    "plt.rcParams[\"figure.figsize\"] = (10,4)\n",
    "plt.xticks(rotation=90)\n",
    "ax = sns.barplot(x = 'genre',y = 'count',data = genre_count)\n",
    "t  = ax.bar_label(ax.containers[0])"
   ]
  },
  {
   "attachments": {},
   "cell_type": "markdown",
   "id": "79020759",
   "metadata": {
    "id": "79020759"
   },
   "source": [
    "This graph offers count of every genre for the movies. Most movies in dataset is Drama and Comedy."
   ]
  },
  {
   "attachments": {},
   "cell_type": "markdown",
   "id": "73035e50",
   "metadata": {
    "id": "73035e50"
   },
   "source": [
    "Next we are going to work on ratings csv file, it has the ratings for each movie a given user has watched. Movie and Users are identified by special identifier for the respective columns"
   ]
  },
  {
   "cell_type": "code",
   "execution_count": 4,
   "id": "26f339ec",
   "metadata": {
    "colab": {
     "base_uri": "https://localhost:8080/"
    },
    "id": "26f339ec",
    "outputId": "a807000c-36d7-40b3-f201-54424da67b2f"
   },
   "outputs": [
    {
     "name": "stdout",
     "output_type": "stream",
     "text": [
      "<class 'pandas.core.frame.DataFrame'>\n",
      "RangeIndex: 100004 entries, 0 to 100003\n",
      "Data columns (total 4 columns):\n",
      " #   Column     Non-Null Count   Dtype  \n",
      "---  ------     --------------   -----  \n",
      " 0   userId     100004 non-null  int64  \n",
      " 1   movieId    100004 non-null  int64  \n",
      " 2   rating     100004 non-null  float64\n",
      " 3   timestamp  100004 non-null  int64  \n",
      "dtypes: float64(1), int64(3)\n",
      "memory usage: 3.1 MB\n"
     ]
    }
   ],
   "source": [
    "ratings_df = pd.read_csv('movies_dataset//ratings_small.csv')\n",
    "ratings_df.info()"
   ]
  },
  {
   "cell_type": "code",
   "execution_count": 5,
   "id": "61e51fcf",
   "metadata": {
    "colab": {
     "base_uri": "https://localhost:8080/",
     "height": 424
    },
    "id": "61e51fcf",
    "outputId": "a1d4ddd0-fc94-4a89-c394-db978dbd5f93"
   },
   "outputs": [
    {
     "data": {
      "text/html": [
       "<div>\n",
       "<style scoped>\n",
       "    .dataframe tbody tr th:only-of-type {\n",
       "        vertical-align: middle;\n",
       "    }\n",
       "\n",
       "    .dataframe tbody tr th {\n",
       "        vertical-align: top;\n",
       "    }\n",
       "\n",
       "    .dataframe thead th {\n",
       "        text-align: right;\n",
       "    }\n",
       "</style>\n",
       "<table border=\"1\" class=\"dataframe\">\n",
       "  <thead>\n",
       "    <tr style=\"text-align: right;\">\n",
       "      <th></th>\n",
       "      <th>userId</th>\n",
       "      <th>movieId</th>\n",
       "      <th>rating</th>\n",
       "      <th>timestamp</th>\n",
       "    </tr>\n",
       "  </thead>\n",
       "  <tbody>\n",
       "    <tr>\n",
       "      <th>0</th>\n",
       "      <td>1</td>\n",
       "      <td>31</td>\n",
       "      <td>2.5</td>\n",
       "      <td>1260759144</td>\n",
       "    </tr>\n",
       "    <tr>\n",
       "      <th>1</th>\n",
       "      <td>1</td>\n",
       "      <td>1029</td>\n",
       "      <td>3.0</td>\n",
       "      <td>1260759179</td>\n",
       "    </tr>\n",
       "    <tr>\n",
       "      <th>2</th>\n",
       "      <td>1</td>\n",
       "      <td>1061</td>\n",
       "      <td>3.0</td>\n",
       "      <td>1260759182</td>\n",
       "    </tr>\n",
       "    <tr>\n",
       "      <th>3</th>\n",
       "      <td>1</td>\n",
       "      <td>1129</td>\n",
       "      <td>2.0</td>\n",
       "      <td>1260759185</td>\n",
       "    </tr>\n",
       "    <tr>\n",
       "      <th>4</th>\n",
       "      <td>1</td>\n",
       "      <td>1172</td>\n",
       "      <td>4.0</td>\n",
       "      <td>1260759205</td>\n",
       "    </tr>\n",
       "    <tr>\n",
       "      <th>...</th>\n",
       "      <td>...</td>\n",
       "      <td>...</td>\n",
       "      <td>...</td>\n",
       "      <td>...</td>\n",
       "    </tr>\n",
       "    <tr>\n",
       "      <th>99999</th>\n",
       "      <td>671</td>\n",
       "      <td>6268</td>\n",
       "      <td>2.5</td>\n",
       "      <td>1065579370</td>\n",
       "    </tr>\n",
       "    <tr>\n",
       "      <th>100000</th>\n",
       "      <td>671</td>\n",
       "      <td>6269</td>\n",
       "      <td>4.0</td>\n",
       "      <td>1065149201</td>\n",
       "    </tr>\n",
       "    <tr>\n",
       "      <th>100001</th>\n",
       "      <td>671</td>\n",
       "      <td>6365</td>\n",
       "      <td>4.0</td>\n",
       "      <td>1070940363</td>\n",
       "    </tr>\n",
       "    <tr>\n",
       "      <th>100002</th>\n",
       "      <td>671</td>\n",
       "      <td>6385</td>\n",
       "      <td>2.5</td>\n",
       "      <td>1070979663</td>\n",
       "    </tr>\n",
       "    <tr>\n",
       "      <th>100003</th>\n",
       "      <td>671</td>\n",
       "      <td>6565</td>\n",
       "      <td>3.5</td>\n",
       "      <td>1074784724</td>\n",
       "    </tr>\n",
       "  </tbody>\n",
       "</table>\n",
       "<p>100004 rows × 4 columns</p>\n",
       "</div>"
      ],
      "text/plain": [
       "        userId  movieId  rating   timestamp\n",
       "0            1       31     2.5  1260759144\n",
       "1            1     1029     3.0  1260759179\n",
       "2            1     1061     3.0  1260759182\n",
       "3            1     1129     2.0  1260759185\n",
       "4            1     1172     4.0  1260759205\n",
       "...        ...      ...     ...         ...\n",
       "99999      671     6268     2.5  1065579370\n",
       "100000     671     6269     4.0  1065149201\n",
       "100001     671     6365     4.0  1070940363\n",
       "100002     671     6385     2.5  1070979663\n",
       "100003     671     6565     3.5  1074784724\n",
       "\n",
       "[100004 rows x 4 columns]"
      ]
     },
     "execution_count": 5,
     "metadata": {},
     "output_type": "execute_result"
    }
   ],
   "source": [
    "ratings_df"
   ]
  },
  {
   "cell_type": "code",
   "execution_count": 6,
   "id": "5dc179c6",
   "metadata": {
    "colab": {
     "base_uri": "https://localhost:8080/"
    },
    "id": "5dc179c6",
    "outputId": "aa2d5552-cd1b-46fe-cc7e-4da016a70478"
   },
   "outputs": [
    {
     "data": {
      "text/plain": [
       "array([2.5, 3. , 2. , 4. , 3.5, 1. , 5. , 4.5, 1.5, 0.5])"
      ]
     },
     "execution_count": 6,
     "metadata": {},
     "output_type": "execute_result"
    }
   ],
   "source": [
    "ratings_df.rating.unique()"
   ]
  },
  {
   "attachments": {},
   "cell_type": "markdown",
   "id": "b9d2676c",
   "metadata": {
    "id": "b9d2676c"
   },
   "source": [
    "Ratings range from 0.5 - 5"
   ]
  },
  {
   "attachments": {},
   "cell_type": "markdown",
   "id": "9ac4d6df",
   "metadata": {
    "id": "9ac4d6df"
   },
   "source": [
    "Timestamp column needs to be preprocessed to extract datetime components. Right now its the number of seconds from 1st Jan 1970."
   ]
  },
  {
   "cell_type": "code",
   "execution_count": 7,
   "id": "94e6f13d",
   "metadata": {
    "id": "94e6f13d"
   },
   "outputs": [],
   "source": [
    "from datetime import datetime\n",
    "def unix_to_datetime(t):\n",
    "    ts = int(t)\n",
    "\n",
    "# if you encounter a \"year is out of range\" error the timestamp\n",
    "# may be in milliseconds, try `ts /= 1000` in that case\n",
    "    return (datetime.utcfromtimestamp(ts).strftime('%Y-%m-%d'))"
   ]
  },
  {
   "cell_type": "code",
   "execution_count": 8,
   "id": "44f8f548",
   "metadata": {
    "colab": {
     "base_uri": "https://localhost:8080/",
     "height": 424
    },
    "id": "44f8f548",
    "outputId": "c5e88426-bffd-409d-9f6a-ce8c02928555"
   },
   "outputs": [
    {
     "data": {
      "text/html": [
       "<div>\n",
       "<style scoped>\n",
       "    .dataframe tbody tr th:only-of-type {\n",
       "        vertical-align: middle;\n",
       "    }\n",
       "\n",
       "    .dataframe tbody tr th {\n",
       "        vertical-align: top;\n",
       "    }\n",
       "\n",
       "    .dataframe thead th {\n",
       "        text-align: right;\n",
       "    }\n",
       "</style>\n",
       "<table border=\"1\" class=\"dataframe\">\n",
       "  <thead>\n",
       "    <tr style=\"text-align: right;\">\n",
       "      <th></th>\n",
       "      <th>userId</th>\n",
       "      <th>movieId</th>\n",
       "      <th>rating</th>\n",
       "      <th>year</th>\n",
       "      <th>month</th>\n",
       "      <th>day</th>\n",
       "    </tr>\n",
       "  </thead>\n",
       "  <tbody>\n",
       "    <tr>\n",
       "      <th>0</th>\n",
       "      <td>1</td>\n",
       "      <td>31</td>\n",
       "      <td>2.5</td>\n",
       "      <td>2009</td>\n",
       "      <td>12</td>\n",
       "      <td>14</td>\n",
       "    </tr>\n",
       "    <tr>\n",
       "      <th>1</th>\n",
       "      <td>1</td>\n",
       "      <td>1029</td>\n",
       "      <td>3.0</td>\n",
       "      <td>2009</td>\n",
       "      <td>12</td>\n",
       "      <td>14</td>\n",
       "    </tr>\n",
       "    <tr>\n",
       "      <th>2</th>\n",
       "      <td>1</td>\n",
       "      <td>1061</td>\n",
       "      <td>3.0</td>\n",
       "      <td>2009</td>\n",
       "      <td>12</td>\n",
       "      <td>14</td>\n",
       "    </tr>\n",
       "    <tr>\n",
       "      <th>3</th>\n",
       "      <td>1</td>\n",
       "      <td>1129</td>\n",
       "      <td>2.0</td>\n",
       "      <td>2009</td>\n",
       "      <td>12</td>\n",
       "      <td>14</td>\n",
       "    </tr>\n",
       "    <tr>\n",
       "      <th>4</th>\n",
       "      <td>1</td>\n",
       "      <td>1172</td>\n",
       "      <td>4.0</td>\n",
       "      <td>2009</td>\n",
       "      <td>12</td>\n",
       "      <td>14</td>\n",
       "    </tr>\n",
       "    <tr>\n",
       "      <th>...</th>\n",
       "      <td>...</td>\n",
       "      <td>...</td>\n",
       "      <td>...</td>\n",
       "      <td>...</td>\n",
       "      <td>...</td>\n",
       "      <td>...</td>\n",
       "    </tr>\n",
       "    <tr>\n",
       "      <th>99999</th>\n",
       "      <td>671</td>\n",
       "      <td>6268</td>\n",
       "      <td>2.5</td>\n",
       "      <td>2003</td>\n",
       "      <td>10</td>\n",
       "      <td>8</td>\n",
       "    </tr>\n",
       "    <tr>\n",
       "      <th>100000</th>\n",
       "      <td>671</td>\n",
       "      <td>6269</td>\n",
       "      <td>4.0</td>\n",
       "      <td>2003</td>\n",
       "      <td>10</td>\n",
       "      <td>3</td>\n",
       "    </tr>\n",
       "    <tr>\n",
       "      <th>100001</th>\n",
       "      <td>671</td>\n",
       "      <td>6365</td>\n",
       "      <td>4.0</td>\n",
       "      <td>2003</td>\n",
       "      <td>12</td>\n",
       "      <td>9</td>\n",
       "    </tr>\n",
       "    <tr>\n",
       "      <th>100002</th>\n",
       "      <td>671</td>\n",
       "      <td>6385</td>\n",
       "      <td>2.5</td>\n",
       "      <td>2003</td>\n",
       "      <td>12</td>\n",
       "      <td>9</td>\n",
       "    </tr>\n",
       "    <tr>\n",
       "      <th>100003</th>\n",
       "      <td>671</td>\n",
       "      <td>6565</td>\n",
       "      <td>3.5</td>\n",
       "      <td>2004</td>\n",
       "      <td>1</td>\n",
       "      <td>22</td>\n",
       "    </tr>\n",
       "  </tbody>\n",
       "</table>\n",
       "<p>100004 rows × 6 columns</p>\n",
       "</div>"
      ],
      "text/plain": [
       "        userId  movieId  rating  year  month  day\n",
       "0            1       31     2.5  2009     12   14\n",
       "1            1     1029     3.0  2009     12   14\n",
       "2            1     1061     3.0  2009     12   14\n",
       "3            1     1129     2.0  2009     12   14\n",
       "4            1     1172     4.0  2009     12   14\n",
       "...        ...      ...     ...   ...    ...  ...\n",
       "99999      671     6268     2.5  2003     10    8\n",
       "100000     671     6269     4.0  2003     10    3\n",
       "100001     671     6365     4.0  2003     12    9\n",
       "100002     671     6385     2.5  2003     12    9\n",
       "100003     671     6565     3.5  2004      1   22\n",
       "\n",
       "[100004 rows x 6 columns]"
      ]
     },
     "execution_count": 8,
     "metadata": {},
     "output_type": "execute_result"
    }
   ],
   "source": [
    "ratings_df['timestamp'] = ratings_df['timestamp'].apply(unix_to_datetime)\n",
    "# We preprocess Date column dividing it into 3 separate coloumns\n",
    "ratings_df['timestamp'] = pd.to_datetime(ratings_df['timestamp'])\n",
    "ratings_df['year'] = ratings_df['timestamp'].dt.year\n",
    "ratings_df['month'] = ratings_df['timestamp'].dt.month\n",
    "ratings_df['day'] = ratings_df['timestamp'].dt.day\n",
    "ratings_df.drop('timestamp',axis=1,inplace=True)\n",
    "# This is to convert timestamp column to meaningful columns like year and month.\n",
    "# ratings_df.timestamp = pd.to_datetime(ratings_df.timestamp, infer_datetime_format=True)\n",
    "# ratings_df['year'] = ratings_df.timestamp.dt.year\n",
    "# ratings_df.drop('timestamp',axis=1,inplace=True)\n",
    "ratings_df"
   ]
  },
  {
   "attachments": {},
   "cell_type": "markdown",
   "id": "d36175e7",
   "metadata": {
    "id": "d36175e7"
   },
   "source": [
    "Extracting basic info from ratings file"
   ]
  },
  {
   "cell_type": "code",
   "execution_count": 9,
   "id": "82b72c43",
   "metadata": {
    "colab": {
     "base_uri": "https://localhost:8080/"
    },
    "id": "82b72c43",
    "outputId": "bd1b7464-57ea-4cc9-ea41-608296860214"
   },
   "outputs": [
    {
     "name": "stdout",
     "output_type": "stream",
     "text": [
      "Years: [2009 1996 2011 2000 2006 2005 1999 2014 2012 2001 2004 2002 2003 2007\n",
      " 2013 2015 2016 2008 2010 1997 1998 1995]\n",
      "Months [12  6  2 11  8  7  9 10  4  3  1  5]\n",
      "#Unique users: 671\n",
      "#Unique movies: 9066\n",
      "Unique ratings: [2.5 3.  2.  4.  3.5 1.  5.  4.5 1.5 0.5]\n",
      "Average rating: 3.54\n",
      "Frequency of each rating value:\n",
      "rating\n",
      "4.0    28750\n",
      "3.0    20064\n",
      "5.0    15095\n",
      "3.5    10538\n",
      "4.5     7723\n",
      "2.0     7271\n",
      "2.5     4449\n",
      "1.0     3326\n",
      "1.5     1687\n",
      "0.5     1101\n",
      "Name: count, dtype: int64\n"
     ]
    }
   ],
   "source": [
    "print('Years:', ratings_df.year.unique())\n",
    "print('Months', ratings_df.month.unique())\n",
    "print('#Unique users:', ratings_df.userId.nunique())\n",
    "print('#Unique movies:', ratings_df.movieId.nunique())\n",
    "print('Unique ratings:', ratings_df.rating.unique())\n",
    "print('Average rating:', round(ratings_df.rating.mean(), 2))\n",
    "print('Frequency of each rating value:')\n",
    "print(ratings_df['rating'].value_counts())"
   ]
  },
  {
   "cell_type": "code",
   "execution_count": 10,
   "id": "d0ba7821",
   "metadata": {
    "id": "d0ba7821"
   },
   "outputs": [],
   "source": [
    "ratings_df['rating'] = ratings_df['rating'].astype('int')"
   ]
  },
  {
   "cell_type": "code",
   "execution_count": 11,
   "id": "c33e69f8",
   "metadata": {
    "colab": {
     "base_uri": "https://localhost:8080/"
    },
    "id": "c33e69f8",
    "outputId": "5db6c44f-1563-4ba7-96c4-6859775ece91"
   },
   "outputs": [
    {
     "data": {
      "text/plain": [
       "rating\n",
       "4    36473\n",
       "3    30602\n",
       "5    15095\n",
       "2    11720\n",
       "1     5013\n",
       "0     1101\n",
       "Name: count, dtype: int64"
      ]
     },
     "execution_count": 11,
     "metadata": {},
     "output_type": "execute_result"
    }
   ],
   "source": [
    "ratings_df['rating'].value_counts()"
   ]
  },
  {
   "cell_type": "code",
   "execution_count": 63,
   "id": "19bc1b80",
   "metadata": {
    "colab": {
     "base_uri": "https://localhost:8080/",
     "height": 279
    },
    "id": "19bc1b80",
    "outputId": "32880652-5cbd-435c-b829-27cf2a4bbed1"
   },
   "outputs": [
    {
     "data": {
      "image/png": "[encoded data removed]",
      "text/plain": [
       "<Figure size 1000x400 with 1 Axes>"
      ]
     },
     "metadata": {},
     "output_type": "display_data"
    }
   ],
   "source": [
    "plt.rcParams[\"figure.figsize\"] = (10,4)\n",
    "ax = sns.barplot(x = 'rating',y = ratings_df['rating'].value_counts(),data = ratings_df,errorbar=None)\n",
    "t  = ax.bar_label(ax.containers[0])"
   ]
  },
  {
   "attachments": {},
   "cell_type": "markdown",
   "id": "118fa315",
   "metadata": {
    "id": "118fa315"
   },
   "source": [
    "The graph shows most users rated 5."
   ]
  },
  {
   "attachments": {},
   "cell_type": "markdown",
   "id": "4e091a59",
   "metadata": {
    "id": "4e091a59"
   },
   "source": [
    "Lets see number of ratings in each year"
   ]
  },
  {
   "cell_type": "code",
   "execution_count": 64,
   "id": "ad532466",
   "metadata": {
    "colab": {
     "base_uri": "https://localhost:8080/",
     "height": 349
    },
    "id": "ad532466",
    "outputId": "d4f988cd-b455-48d6-d02e-84ead9a14b66"
   },
   "outputs": [
    {
     "data": {
      "image/png": "[encoded data removed]",
      "text/plain": [
       "<Figure size 1000x500 with 1 Axes>"
      ]
     },
     "metadata": {},
     "output_type": "display_data"
    }
   ],
   "source": [
    "df_yr_rat = ratings_df[['year', 'rating']].groupby(['year']).count().reset_index()\n",
    "plt.rcParams[\"figure.figsize\"] = (10,5)\n",
    "plt.xticks(rotation=90)\n",
    "ax = sns.barplot(x='year', y='rating', data = df_yr_rat)\n",
    "t  = ax.bar_label(ax.containers[0])"
   ]
  },
  {
   "attachments": {},
   "cell_type": "markdown",
   "id": "19468af9",
   "metadata": {
    "id": "19468af9"
   },
   "source": [
    "Most movies were rated in 2000, no other year even reaches 75% of 2000 ratings. "
   ]
  },
  {
   "attachments": {},
   "cell_type": "markdown",
   "id": "da37318d",
   "metadata": {
    "id": "da37318d"
   },
   "source": [
    "Now have a look at the average monthly distribution of rating.\n",
    "\n"
   ]
  },
  {
   "cell_type": "code",
   "execution_count": 65,
   "id": "9ea5b848",
   "metadata": {
    "colab": {
     "base_uri": "https://localhost:8080/",
     "height": 334
    },
    "id": "9ea5b848",
    "outputId": "c6eef5c1-6f51-4e3f-a69b-30459679e691"
   },
   "outputs": [
    {
     "data": {
      "image/png": "[encoded data removed]",
      "text/plain": [
       "<Figure size 1000x500 with 1 Axes>"
      ]
     },
     "metadata": {},
     "output_type": "display_data"
    }
   ],
   "source": [
    "df_temp = ratings_df[['month', 'rating']].groupby(['month']).count().reset_index()\n",
    "# df_temp['rating'] = df_temp['rating'] / 4\n",
    "plt.rcParams[\"figure.figsize\"] = (10,5)\n",
    "ax = sns.barplot(x='month', y='rating', data = df_temp)\n",
    "t  = ax.bar_label(ax.containers[0])"
   ]
  },
  {
   "attachments": {},
   "cell_type": "markdown",
   "id": "b2afa7ff",
   "metadata": {
    "id": "b2afa7ff"
   },
   "source": [
    "Here is monthwise count of ratings, viewership spikes in months of May, November, August and March."
   ]
  },
  {
   "attachments": {},
   "cell_type": "markdown",
   "id": "be1f910f",
   "metadata": {
    "id": "be1f910f"
   },
   "source": [
    "Most Highly rated Movies - "
   ]
  },
  {
   "cell_type": "code",
   "execution_count": 27,
   "id": "ea5ce08e",
   "metadata": {
    "colab": {
     "base_uri": "https://localhost:8080/",
     "height": 817
    },
    "id": "ea5ce08e",
    "outputId": "6e5463b8-b474-4412-e672-2b81f4f79257"
   },
   "outputs": [
    {
     "data": {
      "text/html": [
       "<div>\n",
       "<style scoped>\n",
       "    .dataframe tbody tr th:only-of-type {\n",
       "        vertical-align: middle;\n",
       "    }\n",
       "\n",
       "    .dataframe tbody tr th {\n",
       "        vertical-align: top;\n",
       "    }\n",
       "\n",
       "    .dataframe thead th {\n",
       "        text-align: right;\n",
       "    }\n",
       "</style>\n",
       "<table border=\"1\" class=\"dataframe\">\n",
       "  <thead>\n",
       "    <tr style=\"text-align: right;\">\n",
       "      <th></th>\n",
       "      <th>movieId</th>\n",
       "      <th>title</th>\n",
       "      <th>release_year</th>\n",
       "      <th>Children</th>\n",
       "      <th>Action</th>\n",
       "      <th>Animation</th>\n",
       "      <th>Fantasy</th>\n",
       "      <th>Drama</th>\n",
       "      <th>War</th>\n",
       "      <th>Film-Noir</th>\n",
       "      <th>...</th>\n",
       "      <th>Sci-Fi</th>\n",
       "      <th>Western</th>\n",
       "      <th>Crime</th>\n",
       "      <th>Thriller</th>\n",
       "      <th>Horror</th>\n",
       "      <th>Musical</th>\n",
       "      <th>Documentary</th>\n",
       "      <th>Adventure</th>\n",
       "      <th>Romance</th>\n",
       "      <th>Comedy</th>\n",
       "    </tr>\n",
       "  </thead>\n",
       "  <tbody>\n",
       "    <tr>\n",
       "      <th>48</th>\n",
       "      <td>53</td>\n",
       "      <td>Lamerica</td>\n",
       "      <td>1994.0</td>\n",
       "      <td>0</td>\n",
       "      <td>0</td>\n",
       "      <td>0</td>\n",
       "      <td>0</td>\n",
       "      <td>1</td>\n",
       "      <td>0</td>\n",
       "      <td>0</td>\n",
       "      <td>...</td>\n",
       "      <td>0</td>\n",
       "      <td>0</td>\n",
       "      <td>0</td>\n",
       "      <td>0</td>\n",
       "      <td>0</td>\n",
       "      <td>0</td>\n",
       "      <td>0</td>\n",
       "      <td>1</td>\n",
       "      <td>0</td>\n",
       "      <td>0</td>\n",
       "    </tr>\n",
       "    <tr>\n",
       "      <th>154</th>\n",
       "      <td>183</td>\n",
       "      <td>Mute Witness</td>\n",
       "      <td>1994.0</td>\n",
       "      <td>0</td>\n",
       "      <td>0</td>\n",
       "      <td>0</td>\n",
       "      <td>0</td>\n",
       "      <td>0</td>\n",
       "      <td>0</td>\n",
       "      <td>0</td>\n",
       "      <td>...</td>\n",
       "      <td>0</td>\n",
       "      <td>0</td>\n",
       "      <td>0</td>\n",
       "      <td>1</td>\n",
       "      <td>1</td>\n",
       "      <td>0</td>\n",
       "      <td>0</td>\n",
       "      <td>0</td>\n",
       "      <td>0</td>\n",
       "      <td>1</td>\n",
       "    </tr>\n",
       "    <tr>\n",
       "      <th>261</th>\n",
       "      <td>301</td>\n",
       "      <td>Picture Bride (Bijo photo)</td>\n",
       "      <td>1994.0</td>\n",
       "      <td>0</td>\n",
       "      <td>0</td>\n",
       "      <td>0</td>\n",
       "      <td>0</td>\n",
       "      <td>1</td>\n",
       "      <td>0</td>\n",
       "      <td>0</td>\n",
       "      <td>...</td>\n",
       "      <td>0</td>\n",
       "      <td>0</td>\n",
       "      <td>0</td>\n",
       "      <td>0</td>\n",
       "      <td>0</td>\n",
       "      <td>0</td>\n",
       "      <td>0</td>\n",
       "      <td>0</td>\n",
       "      <td>1</td>\n",
       "      <td>0</td>\n",
       "    </tr>\n",
       "    <tr>\n",
       "      <th>604</th>\n",
       "      <td>759</td>\n",
       "      <td>Maya Lin: A Strong Clear Vision</td>\n",
       "      <td>1994.0</td>\n",
       "      <td>0</td>\n",
       "      <td>0</td>\n",
       "      <td>0</td>\n",
       "      <td>0</td>\n",
       "      <td>0</td>\n",
       "      <td>0</td>\n",
       "      <td>0</td>\n",
       "      <td>...</td>\n",
       "      <td>0</td>\n",
       "      <td>0</td>\n",
       "      <td>0</td>\n",
       "      <td>0</td>\n",
       "      <td>0</td>\n",
       "      <td>0</td>\n",
       "      <td>1</td>\n",
       "      <td>0</td>\n",
       "      <td>0</td>\n",
       "      <td>0</td>\n",
       "    </tr>\n",
       "    <tr>\n",
       "      <th>608</th>\n",
       "      <td>764</td>\n",
       "      <td>Heavy</td>\n",
       "      <td>1995.0</td>\n",
       "      <td>0</td>\n",
       "      <td>0</td>\n",
       "      <td>0</td>\n",
       "      <td>0</td>\n",
       "      <td>1</td>\n",
       "      <td>0</td>\n",
       "      <td>0</td>\n",
       "      <td>...</td>\n",
       "      <td>0</td>\n",
       "      <td>0</td>\n",
       "      <td>0</td>\n",
       "      <td>0</td>\n",
       "      <td>0</td>\n",
       "      <td>0</td>\n",
       "      <td>0</td>\n",
       "      <td>0</td>\n",
       "      <td>1</td>\n",
       "      <td>0</td>\n",
       "    </tr>\n",
       "    <tr>\n",
       "      <th>...</th>\n",
       "      <td>...</td>\n",
       "      <td>...</td>\n",
       "      <td>...</td>\n",
       "      <td>...</td>\n",
       "      <td>...</td>\n",
       "      <td>...</td>\n",
       "      <td>...</td>\n",
       "      <td>...</td>\n",
       "      <td>...</td>\n",
       "      <td>...</td>\n",
       "      <td>...</td>\n",
       "      <td>...</td>\n",
       "      <td>...</td>\n",
       "      <td>...</td>\n",
       "      <td>...</td>\n",
       "      <td>...</td>\n",
       "      <td>...</td>\n",
       "      <td>...</td>\n",
       "      <td>...</td>\n",
       "      <td>...</td>\n",
       "      <td>...</td>\n",
       "    </tr>\n",
       "    <tr>\n",
       "      <th>9012</th>\n",
       "      <td>140265</td>\n",
       "      <td>George Carlin: Jammin' in New York</td>\n",
       "      <td>1992.0</td>\n",
       "      <td>0</td>\n",
       "      <td>0</td>\n",
       "      <td>0</td>\n",
       "      <td>0</td>\n",
       "      <td>0</td>\n",
       "      <td>0</td>\n",
       "      <td>0</td>\n",
       "      <td>...</td>\n",
       "      <td>0</td>\n",
       "      <td>0</td>\n",
       "      <td>0</td>\n",
       "      <td>0</td>\n",
       "      <td>0</td>\n",
       "      <td>0</td>\n",
       "      <td>0</td>\n",
       "      <td>0</td>\n",
       "      <td>0</td>\n",
       "      <td>1</td>\n",
       "    </tr>\n",
       "    <tr>\n",
       "      <th>9040</th>\n",
       "      <td>141668</td>\n",
       "      <td>War Room</td>\n",
       "      <td>2015.0</td>\n",
       "      <td>0</td>\n",
       "      <td>0</td>\n",
       "      <td>0</td>\n",
       "      <td>0</td>\n",
       "      <td>1</td>\n",
       "      <td>0</td>\n",
       "      <td>0</td>\n",
       "      <td>...</td>\n",
       "      <td>0</td>\n",
       "      <td>0</td>\n",
       "      <td>0</td>\n",
       "      <td>0</td>\n",
       "      <td>0</td>\n",
       "      <td>0</td>\n",
       "      <td>0</td>\n",
       "      <td>0</td>\n",
       "      <td>0</td>\n",
       "      <td>0</td>\n",
       "    </tr>\n",
       "    <tr>\n",
       "      <th>9111</th>\n",
       "      <td>144976</td>\n",
       "      <td>Bone Tomahawk</td>\n",
       "      <td>2015.0</td>\n",
       "      <td>0</td>\n",
       "      <td>0</td>\n",
       "      <td>0</td>\n",
       "      <td>0</td>\n",
       "      <td>0</td>\n",
       "      <td>0</td>\n",
       "      <td>0</td>\n",
       "      <td>...</td>\n",
       "      <td>0</td>\n",
       "      <td>1</td>\n",
       "      <td>0</td>\n",
       "      <td>0</td>\n",
       "      <td>1</td>\n",
       "      <td>0</td>\n",
       "      <td>0</td>\n",
       "      <td>0</td>\n",
       "      <td>0</td>\n",
       "      <td>0</td>\n",
       "    </tr>\n",
       "    <tr>\n",
       "      <th>9170</th>\n",
       "      <td>148881</td>\n",
       "      <td>World of Tomorrow</td>\n",
       "      <td>2015.0</td>\n",
       "      <td>0</td>\n",
       "      <td>0</td>\n",
       "      <td>1</td>\n",
       "      <td>0</td>\n",
       "      <td>0</td>\n",
       "      <td>0</td>\n",
       "      <td>0</td>\n",
       "      <td>...</td>\n",
       "      <td>0</td>\n",
       "      <td>0</td>\n",
       "      <td>0</td>\n",
       "      <td>0</td>\n",
       "      <td>0</td>\n",
       "      <td>0</td>\n",
       "      <td>0</td>\n",
       "      <td>0</td>\n",
       "      <td>0</td>\n",
       "      <td>1</td>\n",
       "    </tr>\n",
       "    <tr>\n",
       "      <th>9255</th>\n",
       "      <td>156025</td>\n",
       "      <td>Ice Age: The Great Egg-Scapade</td>\n",
       "      <td>2016.0</td>\n",
       "      <td>1</td>\n",
       "      <td>0</td>\n",
       "      <td>1</td>\n",
       "      <td>0</td>\n",
       "      <td>0</td>\n",
       "      <td>0</td>\n",
       "      <td>0</td>\n",
       "      <td>...</td>\n",
       "      <td>0</td>\n",
       "      <td>0</td>\n",
       "      <td>0</td>\n",
       "      <td>0</td>\n",
       "      <td>0</td>\n",
       "      <td>0</td>\n",
       "      <td>0</td>\n",
       "      <td>1</td>\n",
       "      <td>0</td>\n",
       "      <td>1</td>\n",
       "    </tr>\n",
       "  </tbody>\n",
       "</table>\n",
       "<p>147 rows × 22 columns</p>\n",
       "</div>"
      ],
      "text/plain": [
       "      movieId                               title  release_year  Children  \\\n",
       "48         53                            Lamerica        1994.0         0   \n",
       "154       183                        Mute Witness        1994.0         0   \n",
       "261       301          Picture Bride (Bijo photo)        1994.0         0   \n",
       "604       759     Maya Lin: A Strong Clear Vision        1994.0         0   \n",
       "608       764                               Heavy        1995.0         0   \n",
       "...       ...                                 ...           ...       ...   \n",
       "9012   140265  George Carlin: Jammin' in New York        1992.0         0   \n",
       "9040   141668                            War Room        2015.0         0   \n",
       "9111   144976                       Bone Tomahawk        2015.0         0   \n",
       "9170   148881                   World of Tomorrow        2015.0         0   \n",
       "9255   156025      Ice Age: The Great Egg-Scapade        2016.0         1   \n",
       "\n",
       "      Action  Animation  Fantasy  Drama  War  Film-Noir  ...  Sci-Fi  Western  \\\n",
       "48         0          0        0      1    0          0  ...       0        0   \n",
       "154        0          0        0      0    0          0  ...       0        0   \n",
       "261        0          0        0      1    0          0  ...       0        0   \n",
       "604        0          0        0      0    0          0  ...       0        0   \n",
       "608        0          0        0      1    0          0  ...       0        0   \n",
       "...      ...        ...      ...    ...  ...        ...  ...     ...      ...   \n",
       "9012       0          0        0      0    0          0  ...       0        0   \n",
       "9040       0          0        0      1    0          0  ...       0        0   \n",
       "9111       0          0        0      0    0          0  ...       0        1   \n",
       "9170       0          1        0      0    0          0  ...       0        0   \n",
       "9255       0          1        0      0    0          0  ...       0        0   \n",
       "\n",
       "      Crime  Thriller  Horror  Musical  Documentary  Adventure  Romance  \\\n",
       "48        0         0       0        0            0          1        0   \n",
       "154       0         1       1        0            0          0        0   \n",
       "261       0         0       0        0            0          0        1   \n",
       "604       0         0       0        0            1          0        0   \n",
       "608       0         0       0        0            0          0        1   \n",
       "...     ...       ...     ...      ...          ...        ...      ...   \n",
       "9012      0         0       0        0            0          0        0   \n",
       "9040      0         0       0        0            0          0        0   \n",
       "9111      0         0       1        0            0          0        0   \n",
       "9170      0         0       0        0            0          0        0   \n",
       "9255      0         0       0        0            0          1        0   \n",
       "\n",
       "      Comedy  \n",
       "48         0  \n",
       "154        1  \n",
       "261        0  \n",
       "604        0  \n",
       "608        0  \n",
       "...      ...  \n",
       "9012       1  \n",
       "9040       0  \n",
       "9111       0  \n",
       "9170       1  \n",
       "9255       1  \n",
       "\n",
       "[147 rows x 22 columns]"
      ]
     },
     "execution_count": 27,
     "metadata": {},
     "output_type": "execute_result"
    }
   ],
   "source": [
    "agg_movie =  ratings_df.groupby('movieId',as_index=False).agg({'rating':'mean'}).sort_values('rating',ascending=False,ignore_index = True)\n",
    "movies_df.loc[movies_df.movieId.isin(agg_movie[agg_movie.rating == 5.0]['movieId'])]"
   ]
  },
  {
   "cell_type": "code",
   "execution_count": 28,
   "id": "1c9a6505",
   "metadata": {
    "colab": {
     "base_uri": "https://localhost:8080/"
    },
    "id": "1c9a6505",
    "outputId": "19a19de4-cced-4c6e-dd6e-d0d7f866bcf7"
   },
   "outputs": [
    {
     "name": "stdout",
     "output_type": "stream",
     "text": [
      "<class 'pandas.core.frame.DataFrame'>\n",
      "RangeIndex: 3683 entries, 0 to 3682\n",
      "Data columns (total 4 columns):\n",
      " #   Column     Non-Null Count  Dtype \n",
      "---  ------     --------------  ----- \n",
      " 0   userId     3683 non-null   int64 \n",
      " 1   movieId    3683 non-null   int64 \n",
      " 2   tag        3683 non-null   object\n",
      " 3   timestamp  3683 non-null   int64 \n",
      "dtypes: int64(3), object(1)\n",
      "memory usage: 115.2+ KB\n"
     ]
    }
   ],
   "source": [
    "tags_df = pd.read_csv('movies_dataset//tags.csv')\n",
    "tags_df.info()"
   ]
  },
  {
   "cell_type": "code",
   "execution_count": 29,
   "id": "eaf3a149",
   "metadata": {
    "colab": {
     "base_uri": "https://localhost:8080/",
     "height": 424
    },
    "id": "eaf3a149",
    "outputId": "298607da-3353-4431-85b4-874bf922d7d2"
   },
   "outputs": [
    {
     "data": {
      "text/html": [
       "<div>\n",
       "<style scoped>\n",
       "    .dataframe tbody tr th:only-of-type {\n",
       "        vertical-align: middle;\n",
       "    }\n",
       "\n",
       "    .dataframe tbody tr th {\n",
       "        vertical-align: top;\n",
       "    }\n",
       "\n",
       "    .dataframe thead th {\n",
       "        text-align: right;\n",
       "    }\n",
       "</style>\n",
       "<table border=\"1\" class=\"dataframe\">\n",
       "  <thead>\n",
       "    <tr style=\"text-align: right;\">\n",
       "      <th></th>\n",
       "      <th>userId</th>\n",
       "      <th>movieId</th>\n",
       "      <th>tag</th>\n",
       "      <th>timestamp</th>\n",
       "    </tr>\n",
       "  </thead>\n",
       "  <tbody>\n",
       "    <tr>\n",
       "      <th>0</th>\n",
       "      <td>2</td>\n",
       "      <td>60756</td>\n",
       "      <td>funny</td>\n",
       "      <td>1445714994</td>\n",
       "    </tr>\n",
       "    <tr>\n",
       "      <th>1</th>\n",
       "      <td>2</td>\n",
       "      <td>60756</td>\n",
       "      <td>Highly quotable</td>\n",
       "      <td>1445714996</td>\n",
       "    </tr>\n",
       "    <tr>\n",
       "      <th>2</th>\n",
       "      <td>2</td>\n",
       "      <td>60756</td>\n",
       "      <td>will ferrell</td>\n",
       "      <td>1445714992</td>\n",
       "    </tr>\n",
       "    <tr>\n",
       "      <th>3</th>\n",
       "      <td>2</td>\n",
       "      <td>89774</td>\n",
       "      <td>Boxing story</td>\n",
       "      <td>1445715207</td>\n",
       "    </tr>\n",
       "    <tr>\n",
       "      <th>4</th>\n",
       "      <td>2</td>\n",
       "      <td>89774</td>\n",
       "      <td>MMA</td>\n",
       "      <td>1445715200</td>\n",
       "    </tr>\n",
       "    <tr>\n",
       "      <th>...</th>\n",
       "      <td>...</td>\n",
       "      <td>...</td>\n",
       "      <td>...</td>\n",
       "      <td>...</td>\n",
       "    </tr>\n",
       "    <tr>\n",
       "      <th>3678</th>\n",
       "      <td>606</td>\n",
       "      <td>7382</td>\n",
       "      <td>for katie</td>\n",
       "      <td>1171234019</td>\n",
       "    </tr>\n",
       "    <tr>\n",
       "      <th>3679</th>\n",
       "      <td>606</td>\n",
       "      <td>7936</td>\n",
       "      <td>austere</td>\n",
       "      <td>1173392334</td>\n",
       "    </tr>\n",
       "    <tr>\n",
       "      <th>3680</th>\n",
       "      <td>610</td>\n",
       "      <td>3265</td>\n",
       "      <td>gun fu</td>\n",
       "      <td>1493843984</td>\n",
       "    </tr>\n",
       "    <tr>\n",
       "      <th>3681</th>\n",
       "      <td>610</td>\n",
       "      <td>3265</td>\n",
       "      <td>heroic bloodshed</td>\n",
       "      <td>1493843978</td>\n",
       "    </tr>\n",
       "    <tr>\n",
       "      <th>3682</th>\n",
       "      <td>610</td>\n",
       "      <td>168248</td>\n",
       "      <td>Heroic Bloodshed</td>\n",
       "      <td>1493844270</td>\n",
       "    </tr>\n",
       "  </tbody>\n",
       "</table>\n",
       "<p>3683 rows × 4 columns</p>\n",
       "</div>"
      ],
      "text/plain": [
       "      userId  movieId               tag   timestamp\n",
       "0          2    60756             funny  1445714994\n",
       "1          2    60756   Highly quotable  1445714996\n",
       "2          2    60756      will ferrell  1445714992\n",
       "3          2    89774      Boxing story  1445715207\n",
       "4          2    89774               MMA  1445715200\n",
       "...      ...      ...               ...         ...\n",
       "3678     606     7382         for katie  1171234019\n",
       "3679     606     7936           austere  1173392334\n",
       "3680     610     3265            gun fu  1493843984\n",
       "3681     610     3265  heroic bloodshed  1493843978\n",
       "3682     610   168248  Heroic Bloodshed  1493844270\n",
       "\n",
       "[3683 rows x 4 columns]"
      ]
     },
     "execution_count": 29,
     "metadata": {},
     "output_type": "execute_result"
    }
   ],
   "source": [
    "tags_df"
   ]
  },
  {
   "cell_type": "code",
   "execution_count": 30,
   "id": "afa44a99",
   "metadata": {
    "id": "afa44a99"
   },
   "outputs": [],
   "source": [
    "#tags_df.drop('timestamp',axis=1,inplace=True)"
   ]
  },
  {
   "cell_type": "code",
   "execution_count": 31,
   "id": "15c1b7ba",
   "metadata": {
    "id": "15c1b7ba"
   },
   "outputs": [],
   "source": [
    "tags_df['tag'] = tags_df.tag.str.lower()"
   ]
  },
  {
   "cell_type": "code",
   "execution_count": 32,
   "id": "f5ac2c37",
   "metadata": {
    "id": "f5ac2c37"
   },
   "outputs": [],
   "source": [
    "import re\n",
    "for i,j in tags_df.iterrows():\n",
    "    tag = j.tag\n",
    "    tag_correct = re.sub(r' \\([^)]*\\)','',tag)\n",
    "    if 'based' or '-' in tag_correct:\n",
    "        tags_df.loc[i,'tag'] = tag_correct\n",
    "        continue\n",
    "    if re.findall(r'\\b\\w{2}\\b',tag_correct) or re.findall(r'\\b\\w{1}\\b',tag_correct):\n",
    "        tags_df.loc[i,'tag'] = np.NaN\n",
    "    elif tag == tag_correct:\n",
    "        continue\n",
    "    else:\n",
    "        tag_df.loc[i,'tag'] = tag_correct\n",
    "        pass\n",
    "\n",
    "tags_df = tags_df.dropna()     "
   ]
  },
  {
   "cell_type": "code",
   "execution_count": 33,
   "id": "c26bfca3",
   "metadata": {
    "colab": {
     "base_uri": "https://localhost:8080/",
     "height": 363
    },
    "id": "c26bfca3",
    "outputId": "2fc7e1a7-ed89-4ac3-bb49-8a65c43181f2"
   },
   "outputs": [
    {
     "data": {
      "text/html": [
       "<div>\n",
       "<style scoped>\n",
       "    .dataframe tbody tr th:only-of-type {\n",
       "        vertical-align: middle;\n",
       "    }\n",
       "\n",
       "    .dataframe tbody tr th {\n",
       "        vertical-align: top;\n",
       "    }\n",
       "\n",
       "    .dataframe thead th {\n",
       "        text-align: right;\n",
       "    }\n",
       "</style>\n",
       "<table border=\"1\" class=\"dataframe\">\n",
       "  <thead>\n",
       "    <tr style=\"text-align: right;\">\n",
       "      <th></th>\n",
       "      <th>userId</th>\n",
       "      <th>movieId</th>\n",
       "      <th>tag</th>\n",
       "      <th>timestamp</th>\n",
       "    </tr>\n",
       "  </thead>\n",
       "  <tbody>\n",
       "    <tr>\n",
       "      <th>3673</th>\n",
       "      <td>606</td>\n",
       "      <td>1357</td>\n",
       "      <td>music</td>\n",
       "      <td>1176765393</td>\n",
       "    </tr>\n",
       "    <tr>\n",
       "      <th>3674</th>\n",
       "      <td>606</td>\n",
       "      <td>1948</td>\n",
       "      <td>british</td>\n",
       "      <td>1177512649</td>\n",
       "    </tr>\n",
       "    <tr>\n",
       "      <th>3675</th>\n",
       "      <td>606</td>\n",
       "      <td>3578</td>\n",
       "      <td>romans</td>\n",
       "      <td>1173212944</td>\n",
       "    </tr>\n",
       "    <tr>\n",
       "      <th>3676</th>\n",
       "      <td>606</td>\n",
       "      <td>5694</td>\n",
       "      <td>70mm</td>\n",
       "      <td>1175638092</td>\n",
       "    </tr>\n",
       "    <tr>\n",
       "      <th>3677</th>\n",
       "      <td>606</td>\n",
       "      <td>6107</td>\n",
       "      <td>world war ii</td>\n",
       "      <td>1178473747</td>\n",
       "    </tr>\n",
       "    <tr>\n",
       "      <th>3678</th>\n",
       "      <td>606</td>\n",
       "      <td>7382</td>\n",
       "      <td>for katie</td>\n",
       "      <td>1171234019</td>\n",
       "    </tr>\n",
       "    <tr>\n",
       "      <th>3679</th>\n",
       "      <td>606</td>\n",
       "      <td>7936</td>\n",
       "      <td>austere</td>\n",
       "      <td>1173392334</td>\n",
       "    </tr>\n",
       "    <tr>\n",
       "      <th>3680</th>\n",
       "      <td>610</td>\n",
       "      <td>3265</td>\n",
       "      <td>gun fu</td>\n",
       "      <td>1493843984</td>\n",
       "    </tr>\n",
       "    <tr>\n",
       "      <th>3681</th>\n",
       "      <td>610</td>\n",
       "      <td>3265</td>\n",
       "      <td>heroic bloodshed</td>\n",
       "      <td>1493843978</td>\n",
       "    </tr>\n",
       "    <tr>\n",
       "      <th>3682</th>\n",
       "      <td>610</td>\n",
       "      <td>168248</td>\n",
       "      <td>heroic bloodshed</td>\n",
       "      <td>1493844270</td>\n",
       "    </tr>\n",
       "  </tbody>\n",
       "</table>\n",
       "</div>"
      ],
      "text/plain": [
       "      userId  movieId               tag   timestamp\n",
       "3673     606     1357             music  1176765393\n",
       "3674     606     1948           british  1177512649\n",
       "3675     606     3578            romans  1173212944\n",
       "3676     606     5694              70mm  1175638092\n",
       "3677     606     6107      world war ii  1178473747\n",
       "3678     606     7382         for katie  1171234019\n",
       "3679     606     7936           austere  1173392334\n",
       "3680     610     3265            gun fu  1493843984\n",
       "3681     610     3265  heroic bloodshed  1493843978\n",
       "3682     610   168248  heroic bloodshed  1493844270"
      ]
     },
     "execution_count": 33,
     "metadata": {},
     "output_type": "execute_result"
    }
   ],
   "source": [
    "tags_df.tail(10)"
   ]
  },
  {
   "attachments": {},
   "cell_type": "markdown",
   "id": "5f5ff89b",
   "metadata": {
    "id": "5f5ff89b"
   },
   "source": [
    "## Preprocessing Done"
   ]
  },
  {
   "attachments": {},
   "cell_type": "markdown",
   "id": "d6f54bc0",
   "metadata": {
    "id": "d6f54bc0"
   },
   "source": [
    "# Phase 2 - Recommender System Models"
   ]
  },
  {
   "attachments": {},
   "cell_type": "markdown",
   "id": "d63e64fa",
   "metadata": {
    "id": "d63e64fa"
   },
   "source": [
    "Merge the movies_df and ratings_df on movieId"
   ]
  },
  {
   "cell_type": "code",
   "execution_count": 34,
   "id": "3798ced6",
   "metadata": {
    "colab": {
     "base_uri": "https://localhost:8080/",
     "height": 540
    },
    "id": "3798ced6",
    "outputId": "f7e56e31-cadd-41ea-e047-8147cbceda9b"
   },
   "outputs": [
    {
     "data": {
      "text/html": [
       "<div>\n",
       "<style scoped>\n",
       "    .dataframe tbody tr th:only-of-type {\n",
       "        vertical-align: middle;\n",
       "    }\n",
       "\n",
       "    .dataframe tbody tr th {\n",
       "        vertical-align: top;\n",
       "    }\n",
       "\n",
       "    .dataframe thead th {\n",
       "        text-align: right;\n",
       "    }\n",
       "</style>\n",
       "<table border=\"1\" class=\"dataframe\">\n",
       "  <thead>\n",
       "    <tr style=\"text-align: right;\">\n",
       "      <th></th>\n",
       "      <th>userId</th>\n",
       "      <th>movieId</th>\n",
       "      <th>rating</th>\n",
       "      <th>year</th>\n",
       "      <th>month</th>\n",
       "      <th>day</th>\n",
       "      <th>title</th>\n",
       "      <th>release_year</th>\n",
       "      <th>Children</th>\n",
       "      <th>Action</th>\n",
       "      <th>...</th>\n",
       "      <th>Sci-Fi</th>\n",
       "      <th>Western</th>\n",
       "      <th>Crime</th>\n",
       "      <th>Thriller</th>\n",
       "      <th>Horror</th>\n",
       "      <th>Musical</th>\n",
       "      <th>Documentary</th>\n",
       "      <th>Adventure</th>\n",
       "      <th>Romance</th>\n",
       "      <th>Comedy</th>\n",
       "    </tr>\n",
       "  </thead>\n",
       "  <tbody>\n",
       "    <tr>\n",
       "      <th>0</th>\n",
       "      <td>1</td>\n",
       "      <td>31</td>\n",
       "      <td>2</td>\n",
       "      <td>2009</td>\n",
       "      <td>12</td>\n",
       "      <td>14</td>\n",
       "      <td>Dangerous Minds</td>\n",
       "      <td>1995.0</td>\n",
       "      <td>0</td>\n",
       "      <td>0</td>\n",
       "      <td>...</td>\n",
       "      <td>0</td>\n",
       "      <td>0</td>\n",
       "      <td>0</td>\n",
       "      <td>0</td>\n",
       "      <td>0</td>\n",
       "      <td>0</td>\n",
       "      <td>0</td>\n",
       "      <td>0</td>\n",
       "      <td>0</td>\n",
       "      <td>0</td>\n",
       "    </tr>\n",
       "    <tr>\n",
       "      <th>1</th>\n",
       "      <td>7</td>\n",
       "      <td>31</td>\n",
       "      <td>3</td>\n",
       "      <td>1996</td>\n",
       "      <td>12</td>\n",
       "      <td>29</td>\n",
       "      <td>Dangerous Minds</td>\n",
       "      <td>1995.0</td>\n",
       "      <td>0</td>\n",
       "      <td>0</td>\n",
       "      <td>...</td>\n",
       "      <td>0</td>\n",
       "      <td>0</td>\n",
       "      <td>0</td>\n",
       "      <td>0</td>\n",
       "      <td>0</td>\n",
       "      <td>0</td>\n",
       "      <td>0</td>\n",
       "      <td>0</td>\n",
       "      <td>0</td>\n",
       "      <td>0</td>\n",
       "    </tr>\n",
       "    <tr>\n",
       "      <th>2</th>\n",
       "      <td>31</td>\n",
       "      <td>31</td>\n",
       "      <td>4</td>\n",
       "      <td>2010</td>\n",
       "      <td>5</td>\n",
       "      <td>11</td>\n",
       "      <td>Dangerous Minds</td>\n",
       "      <td>1995.0</td>\n",
       "      <td>0</td>\n",
       "      <td>0</td>\n",
       "      <td>...</td>\n",
       "      <td>0</td>\n",
       "      <td>0</td>\n",
       "      <td>0</td>\n",
       "      <td>0</td>\n",
       "      <td>0</td>\n",
       "      <td>0</td>\n",
       "      <td>0</td>\n",
       "      <td>0</td>\n",
       "      <td>0</td>\n",
       "      <td>0</td>\n",
       "    </tr>\n",
       "    <tr>\n",
       "      <th>3</th>\n",
       "      <td>32</td>\n",
       "      <td>31</td>\n",
       "      <td>4</td>\n",
       "      <td>1996</td>\n",
       "      <td>6</td>\n",
       "      <td>15</td>\n",
       "      <td>Dangerous Minds</td>\n",
       "      <td>1995.0</td>\n",
       "      <td>0</td>\n",
       "      <td>0</td>\n",
       "      <td>...</td>\n",
       "      <td>0</td>\n",
       "      <td>0</td>\n",
       "      <td>0</td>\n",
       "      <td>0</td>\n",
       "      <td>0</td>\n",
       "      <td>0</td>\n",
       "      <td>0</td>\n",
       "      <td>0</td>\n",
       "      <td>0</td>\n",
       "      <td>0</td>\n",
       "    </tr>\n",
       "    <tr>\n",
       "      <th>4</th>\n",
       "      <td>36</td>\n",
       "      <td>31</td>\n",
       "      <td>3</td>\n",
       "      <td>1996</td>\n",
       "      <td>11</td>\n",
       "      <td>3</td>\n",
       "      <td>Dangerous Minds</td>\n",
       "      <td>1995.0</td>\n",
       "      <td>0</td>\n",
       "      <td>0</td>\n",
       "      <td>...</td>\n",
       "      <td>0</td>\n",
       "      <td>0</td>\n",
       "      <td>0</td>\n",
       "      <td>0</td>\n",
       "      <td>0</td>\n",
       "      <td>0</td>\n",
       "      <td>0</td>\n",
       "      <td>0</td>\n",
       "      <td>0</td>\n",
       "      <td>0</td>\n",
       "    </tr>\n",
       "    <tr>\n",
       "      <th>...</th>\n",
       "      <td>...</td>\n",
       "      <td>...</td>\n",
       "      <td>...</td>\n",
       "      <td>...</td>\n",
       "      <td>...</td>\n",
       "      <td>...</td>\n",
       "      <td>...</td>\n",
       "      <td>...</td>\n",
       "      <td>...</td>\n",
       "      <td>...</td>\n",
       "      <td>...</td>\n",
       "      <td>...</td>\n",
       "      <td>...</td>\n",
       "      <td>...</td>\n",
       "      <td>...</td>\n",
       "      <td>...</td>\n",
       "      <td>...</td>\n",
       "      <td>...</td>\n",
       "      <td>...</td>\n",
       "      <td>...</td>\n",
       "      <td>...</td>\n",
       "    </tr>\n",
       "    <tr>\n",
       "      <th>97237</th>\n",
       "      <td>664</td>\n",
       "      <td>60832</td>\n",
       "      <td>3</td>\n",
       "      <td>2014</td>\n",
       "      <td>3</td>\n",
       "      <td>4</td>\n",
       "      <td>Pathology</td>\n",
       "      <td>2008.0</td>\n",
       "      <td>0</td>\n",
       "      <td>0</td>\n",
       "      <td>...</td>\n",
       "      <td>0</td>\n",
       "      <td>0</td>\n",
       "      <td>1</td>\n",
       "      <td>1</td>\n",
       "      <td>1</td>\n",
       "      <td>0</td>\n",
       "      <td>0</td>\n",
       "      <td>0</td>\n",
       "      <td>0</td>\n",
       "      <td>0</td>\n",
       "    </tr>\n",
       "    <tr>\n",
       "      <th>97238</th>\n",
       "      <td>664</td>\n",
       "      <td>64997</td>\n",
       "      <td>2</td>\n",
       "      <td>2012</td>\n",
       "      <td>7</td>\n",
       "      <td>31</td>\n",
       "      <td>War of the Worlds</td>\n",
       "      <td>2005.0</td>\n",
       "      <td>0</td>\n",
       "      <td>1</td>\n",
       "      <td>...</td>\n",
       "      <td>1</td>\n",
       "      <td>0</td>\n",
       "      <td>0</td>\n",
       "      <td>0</td>\n",
       "      <td>0</td>\n",
       "      <td>0</td>\n",
       "      <td>0</td>\n",
       "      <td>0</td>\n",
       "      <td>0</td>\n",
       "      <td>0</td>\n",
       "    </tr>\n",
       "    <tr>\n",
       "      <th>97239</th>\n",
       "      <td>665</td>\n",
       "      <td>129</td>\n",
       "      <td>3</td>\n",
       "      <td>2001</td>\n",
       "      <td>7</td>\n",
       "      <td>15</td>\n",
       "      <td>Pie in the Sky</td>\n",
       "      <td>1996.0</td>\n",
       "      <td>0</td>\n",
       "      <td>0</td>\n",
       "      <td>...</td>\n",
       "      <td>0</td>\n",
       "      <td>0</td>\n",
       "      <td>0</td>\n",
       "      <td>0</td>\n",
       "      <td>0</td>\n",
       "      <td>0</td>\n",
       "      <td>0</td>\n",
       "      <td>0</td>\n",
       "      <td>1</td>\n",
       "      <td>1</td>\n",
       "    </tr>\n",
       "    <tr>\n",
       "      <th>97240</th>\n",
       "      <td>665</td>\n",
       "      <td>4736</td>\n",
       "      <td>1</td>\n",
       "      <td>2002</td>\n",
       "      <td>1</td>\n",
       "      <td>5</td>\n",
       "      <td>Summer Catch</td>\n",
       "      <td>2001.0</td>\n",
       "      <td>0</td>\n",
       "      <td>0</td>\n",
       "      <td>...</td>\n",
       "      <td>0</td>\n",
       "      <td>0</td>\n",
       "      <td>0</td>\n",
       "      <td>0</td>\n",
       "      <td>0</td>\n",
       "      <td>0</td>\n",
       "      <td>0</td>\n",
       "      <td>0</td>\n",
       "      <td>1</td>\n",
       "      <td>1</td>\n",
       "    </tr>\n",
       "    <tr>\n",
       "      <th>97241</th>\n",
       "      <td>668</td>\n",
       "      <td>6425</td>\n",
       "      <td>1</td>\n",
       "      <td>2001</td>\n",
       "      <td>6</td>\n",
       "      <td>27</td>\n",
       "      <td>6th Man, The (Sixth Man, The)</td>\n",
       "      <td>1997.0</td>\n",
       "      <td>0</td>\n",
       "      <td>0</td>\n",
       "      <td>...</td>\n",
       "      <td>0</td>\n",
       "      <td>0</td>\n",
       "      <td>0</td>\n",
       "      <td>0</td>\n",
       "      <td>0</td>\n",
       "      <td>0</td>\n",
       "      <td>0</td>\n",
       "      <td>0</td>\n",
       "      <td>0</td>\n",
       "      <td>1</td>\n",
       "    </tr>\n",
       "  </tbody>\n",
       "</table>\n",
       "<p>97242 rows × 27 columns</p>\n",
       "</div>"
      ],
      "text/plain": [
       "       userId  movieId  rating  year  month  day  \\\n",
       "0           1       31       2  2009     12   14   \n",
       "1           7       31       3  1996     12   29   \n",
       "2          31       31       4  2010      5   11   \n",
       "3          32       31       4  1996      6   15   \n",
       "4          36       31       3  1996     11    3   \n",
       "...       ...      ...     ...   ...    ...  ...   \n",
       "97237     664    60832       3  2014      3    4   \n",
       "97238     664    64997       2  2012      7   31   \n",
       "97239     665      129       3  2001      7   15   \n",
       "97240     665     4736       1  2002      1    5   \n",
       "97241     668     6425       1  2001      6   27   \n",
       "\n",
       "                               title  release_year  Children  Action  ...  \\\n",
       "0                    Dangerous Minds        1995.0         0       0  ...   \n",
       "1                    Dangerous Minds        1995.0         0       0  ...   \n",
       "2                    Dangerous Minds        1995.0         0       0  ...   \n",
       "3                    Dangerous Minds        1995.0         0       0  ...   \n",
       "4                    Dangerous Minds        1995.0         0       0  ...   \n",
       "...                              ...           ...       ...     ...  ...   \n",
       "97237                      Pathology        2008.0         0       0  ...   \n",
       "97238              War of the Worlds        2005.0         0       1  ...   \n",
       "97239                 Pie in the Sky        1996.0         0       0  ...   \n",
       "97240                   Summer Catch        2001.0         0       0  ...   \n",
       "97241  6th Man, The (Sixth Man, The)        1997.0         0       0  ...   \n",
       "\n",
       "       Sci-Fi  Western  Crime  Thriller  Horror  Musical  Documentary  \\\n",
       "0           0        0      0         0       0        0            0   \n",
       "1           0        0      0         0       0        0            0   \n",
       "2           0        0      0         0       0        0            0   \n",
       "3           0        0      0         0       0        0            0   \n",
       "4           0        0      0         0       0        0            0   \n",
       "...       ...      ...    ...       ...     ...      ...          ...   \n",
       "97237       0        0      1         1       1        0            0   \n",
       "97238       1        0      0         0       0        0            0   \n",
       "97239       0        0      0         0       0        0            0   \n",
       "97240       0        0      0         0       0        0            0   \n",
       "97241       0        0      0         0       0        0            0   \n",
       "\n",
       "       Adventure  Romance  Comedy  \n",
       "0              0        0       0  \n",
       "1              0        0       0  \n",
       "2              0        0       0  \n",
       "3              0        0       0  \n",
       "4              0        0       0  \n",
       "...          ...      ...     ...  \n",
       "97237          0        0       0  \n",
       "97238          0        0       0  \n",
       "97239          0        1       1  \n",
       "97240          0        1       1  \n",
       "97241          0        0       1  \n",
       "\n",
       "[97242 rows x 27 columns]"
      ]
     },
     "execution_count": 34,
     "metadata": {},
     "output_type": "execute_result"
    }
   ],
   "source": [
    "merged_dataset = pd.merge(ratings_df, movies_df, how='inner', on='movieId')\n",
    "merged_dataset"
   ]
  },
  {
   "attachments": {},
   "cell_type": "markdown",
   "id": "4e744627",
   "metadata": {
    "id": "4e744627"
   },
   "source": [
    "To make sure there's no redundancies i.e. no user has rated the same movie more than once."
   ]
  },
  {
   "cell_type": "code",
   "execution_count": 35,
   "id": "44c7a952",
   "metadata": {
    "colab": {
     "base_uri": "https://localhost:8080/",
     "height": 424
    },
    "id": "44c7a952",
    "outputId": "24f7a7f9-854c-4dcb-dbd4-5dffeafee8af"
   },
   "outputs": [
    {
     "data": {
      "text/html": [
       "<div>\n",
       "<style scoped>\n",
       "    .dataframe tbody tr th:only-of-type {\n",
       "        vertical-align: middle;\n",
       "    }\n",
       "\n",
       "    .dataframe tbody tr th {\n",
       "        vertical-align: top;\n",
       "    }\n",
       "\n",
       "    .dataframe thead th {\n",
       "        text-align: right;\n",
       "    }\n",
       "</style>\n",
       "<table border=\"1\" class=\"dataframe\">\n",
       "  <thead>\n",
       "    <tr style=\"text-align: right;\">\n",
       "      <th></th>\n",
       "      <th>userId</th>\n",
       "      <th>title</th>\n",
       "      <th>rating</th>\n",
       "    </tr>\n",
       "  </thead>\n",
       "  <tbody>\n",
       "    <tr>\n",
       "      <th>0</th>\n",
       "      <td>1</td>\n",
       "      <td>Antz</td>\n",
       "      <td>2.0</td>\n",
       "    </tr>\n",
       "    <tr>\n",
       "      <th>1</th>\n",
       "      <td>1</td>\n",
       "      <td>Beavis and Butt-Head Do America</td>\n",
       "      <td>1.0</td>\n",
       "    </tr>\n",
       "    <tr>\n",
       "      <th>2</th>\n",
       "      <td>1</td>\n",
       "      <td>Ben-Hur</td>\n",
       "      <td>2.0</td>\n",
       "    </tr>\n",
       "    <tr>\n",
       "      <th>3</th>\n",
       "      <td>1</td>\n",
       "      <td>Blazing Saddles</td>\n",
       "      <td>3.0</td>\n",
       "    </tr>\n",
       "    <tr>\n",
       "      <th>4</th>\n",
       "      <td>1</td>\n",
       "      <td>Cape Fear</td>\n",
       "      <td>2.0</td>\n",
       "    </tr>\n",
       "    <tr>\n",
       "      <th>...</th>\n",
       "      <td>...</td>\n",
       "      <td>...</td>\n",
       "      <td>...</td>\n",
       "    </tr>\n",
       "    <tr>\n",
       "      <th>96933</th>\n",
       "      <td>671</td>\n",
       "      <td>Wallace &amp; Gromit: A Close Shave</td>\n",
       "      <td>4.0</td>\n",
       "    </tr>\n",
       "    <tr>\n",
       "      <th>96934</th>\n",
       "      <td>671</td>\n",
       "      <td>Wallace &amp; Gromit: The Wrong Trousers</td>\n",
       "      <td>5.0</td>\n",
       "    </tr>\n",
       "    <tr>\n",
       "      <th>96935</th>\n",
       "      <td>671</td>\n",
       "      <td>Wayne's World</td>\n",
       "      <td>3.0</td>\n",
       "    </tr>\n",
       "    <tr>\n",
       "      <th>96936</th>\n",
       "      <td>671</td>\n",
       "      <td>Whale Rider</td>\n",
       "      <td>2.0</td>\n",
       "    </tr>\n",
       "    <tr>\n",
       "      <th>96937</th>\n",
       "      <td>671</td>\n",
       "      <td>Wizard of Oz, The</td>\n",
       "      <td>4.0</td>\n",
       "    </tr>\n",
       "  </tbody>\n",
       "</table>\n",
       "<p>96938 rows × 3 columns</p>\n",
       "</div>"
      ],
      "text/plain": [
       "       userId                                 title  rating\n",
       "0           1                                  Antz     2.0\n",
       "1           1       Beavis and Butt-Head Do America     1.0\n",
       "2           1                               Ben-Hur     2.0\n",
       "3           1                       Blazing Saddles     3.0\n",
       "4           1                             Cape Fear     2.0\n",
       "...       ...                                   ...     ...\n",
       "96933     671       Wallace & Gromit: A Close Shave     4.0\n",
       "96934     671  Wallace & Gromit: The Wrong Trousers     5.0\n",
       "96935     671                         Wayne's World     3.0\n",
       "96936     671                           Whale Rider     2.0\n",
       "96937     671                     Wizard of Oz, The     4.0\n",
       "\n",
       "[96938 rows x 3 columns]"
      ]
     },
     "execution_count": 35,
     "metadata": {},
     "output_type": "execute_result"
    }
   ],
   "source": [
    "refined_dataset = merged_dataset.groupby(by=['userId','title'], as_index=False).agg({\"rating\":\"mean\"})\n",
    "# merged_dataset['title']\n",
    "refined_dataset"
   ]
  },
  {
   "attachments": {},
   "cell_type": "markdown",
   "id": "e40db40f",
   "metadata": {
    "id": "e40db40f"
   },
   "source": [
    "We notice the number of rows have reduced thus the merged table had few redundancies that have been cleared"
   ]
  },
  {
   "attachments": {},
   "cell_type": "markdown",
   "id": "blzUF2v0nd6Z",
   "metadata": {
    "id": "blzUF2v0nd6Z"
   },
   "source": [
    "Now we will start making our models, to help recommend movies to users."
   ]
  },
  {
   "attachments": {},
   "cell_type": "markdown",
   "id": "d55b5369",
   "metadata": {
    "id": "d55b5369"
   },
   "source": [
    "## First Method: UserBased"
   ]
  },
  {
   "cell_type": "code",
   "execution_count": 36,
   "id": "11f64340",
   "metadata": {
    "colab": {
     "base_uri": "https://localhost:8080/",
     "height": 435
    },
    "id": "11f64340",
    "outputId": "0cebdb67-a74b-4433-8a79-435492907780"
   },
   "outputs": [
    {
     "data": {
      "text/html": [
       "<div>\n",
       "<style scoped>\n",
       "    .dataframe tbody tr th:only-of-type {\n",
       "        vertical-align: middle;\n",
       "    }\n",
       "\n",
       "    .dataframe tbody tr th {\n",
       "        vertical-align: top;\n",
       "    }\n",
       "\n",
       "    .dataframe thead th {\n",
       "        text-align: right;\n",
       "    }\n",
       "</style>\n",
       "<table border=\"1\" class=\"dataframe\">\n",
       "  <thead>\n",
       "    <tr style=\"text-align: right;\">\n",
       "      <th>title</th>\n",
       "      <th>'Hellboy': The Seeds of Creation</th>\n",
       "      <th>'Round Midnight</th>\n",
       "      <th>'Salem's Lot</th>\n",
       "      <th>'Til There Was You</th>\n",
       "      <th>'burbs, The</th>\n",
       "      <th>'night Mother</th>\n",
       "      <th>(500) Days of Summer</th>\n",
       "      <th>*batteries not included</th>\n",
       "      <th>...And Justice for All</th>\n",
       "      <th>1-900 (06)</th>\n",
       "      <th>...</th>\n",
       "      <th>Zoolander 2</th>\n",
       "      <th>Zoom</th>\n",
       "      <th>Zootopia</th>\n",
       "      <th>Zulu</th>\n",
       "      <th>[REC]</th>\n",
       "      <th>eXistenZ</th>\n",
       "      <th>xXx</th>\n",
       "      <th>xXx: State of the Union</th>\n",
       "      <th>¡Three Amigos!</th>\n",
       "      <th>À nous la liberté (Freedom for Us)</th>\n",
       "    </tr>\n",
       "    <tr>\n",
       "      <th>userId</th>\n",
       "      <th></th>\n",
       "      <th></th>\n",
       "      <th></th>\n",
       "      <th></th>\n",
       "      <th></th>\n",
       "      <th></th>\n",
       "      <th></th>\n",
       "      <th></th>\n",
       "      <th></th>\n",
       "      <th></th>\n",
       "      <th></th>\n",
       "      <th></th>\n",
       "      <th></th>\n",
       "      <th></th>\n",
       "      <th></th>\n",
       "      <th></th>\n",
       "      <th></th>\n",
       "      <th></th>\n",
       "      <th></th>\n",
       "      <th></th>\n",
       "      <th></th>\n",
       "    </tr>\n",
       "  </thead>\n",
       "  <tbody>\n",
       "    <tr>\n",
       "      <th>1</th>\n",
       "      <td>0.0</td>\n",
       "      <td>0.0</td>\n",
       "      <td>0.0</td>\n",
       "      <td>0.0</td>\n",
       "      <td>0.0</td>\n",
       "      <td>0.0</td>\n",
       "      <td>0.0</td>\n",
       "      <td>0.0</td>\n",
       "      <td>0.0</td>\n",
       "      <td>0.0</td>\n",
       "      <td>...</td>\n",
       "      <td>0.0</td>\n",
       "      <td>0.0</td>\n",
       "      <td>0.0</td>\n",
       "      <td>0.0</td>\n",
       "      <td>0.0</td>\n",
       "      <td>0.0</td>\n",
       "      <td>0.0</td>\n",
       "      <td>0.0</td>\n",
       "      <td>0.0</td>\n",
       "      <td>0.0</td>\n",
       "    </tr>\n",
       "    <tr>\n",
       "      <th>2</th>\n",
       "      <td>0.0</td>\n",
       "      <td>0.0</td>\n",
       "      <td>0.0</td>\n",
       "      <td>0.0</td>\n",
       "      <td>0.0</td>\n",
       "      <td>0.0</td>\n",
       "      <td>0.0</td>\n",
       "      <td>0.0</td>\n",
       "      <td>0.0</td>\n",
       "      <td>0.0</td>\n",
       "      <td>...</td>\n",
       "      <td>0.0</td>\n",
       "      <td>0.0</td>\n",
       "      <td>0.0</td>\n",
       "      <td>0.0</td>\n",
       "      <td>0.0</td>\n",
       "      <td>0.0</td>\n",
       "      <td>0.0</td>\n",
       "      <td>0.0</td>\n",
       "      <td>0.0</td>\n",
       "      <td>0.0</td>\n",
       "    </tr>\n",
       "    <tr>\n",
       "      <th>3</th>\n",
       "      <td>0.0</td>\n",
       "      <td>0.0</td>\n",
       "      <td>0.0</td>\n",
       "      <td>0.0</td>\n",
       "      <td>0.0</td>\n",
       "      <td>0.0</td>\n",
       "      <td>0.0</td>\n",
       "      <td>0.0</td>\n",
       "      <td>0.0</td>\n",
       "      <td>0.0</td>\n",
       "      <td>...</td>\n",
       "      <td>0.0</td>\n",
       "      <td>0.0</td>\n",
       "      <td>0.0</td>\n",
       "      <td>0.0</td>\n",
       "      <td>0.0</td>\n",
       "      <td>0.0</td>\n",
       "      <td>0.0</td>\n",
       "      <td>0.0</td>\n",
       "      <td>0.0</td>\n",
       "      <td>0.0</td>\n",
       "    </tr>\n",
       "    <tr>\n",
       "      <th>4</th>\n",
       "      <td>0.0</td>\n",
       "      <td>0.0</td>\n",
       "      <td>0.0</td>\n",
       "      <td>0.0</td>\n",
       "      <td>0.0</td>\n",
       "      <td>0.0</td>\n",
       "      <td>0.0</td>\n",
       "      <td>0.0</td>\n",
       "      <td>0.0</td>\n",
       "      <td>0.0</td>\n",
       "      <td>...</td>\n",
       "      <td>0.0</td>\n",
       "      <td>0.0</td>\n",
       "      <td>0.0</td>\n",
       "      <td>0.0</td>\n",
       "      <td>0.0</td>\n",
       "      <td>0.0</td>\n",
       "      <td>0.0</td>\n",
       "      <td>0.0</td>\n",
       "      <td>0.0</td>\n",
       "      <td>0.0</td>\n",
       "    </tr>\n",
       "    <tr>\n",
       "      <th>5</th>\n",
       "      <td>0.0</td>\n",
       "      <td>0.0</td>\n",
       "      <td>0.0</td>\n",
       "      <td>0.0</td>\n",
       "      <td>0.0</td>\n",
       "      <td>0.0</td>\n",
       "      <td>0.0</td>\n",
       "      <td>0.0</td>\n",
       "      <td>0.0</td>\n",
       "      <td>0.0</td>\n",
       "      <td>...</td>\n",
       "      <td>0.0</td>\n",
       "      <td>0.0</td>\n",
       "      <td>0.0</td>\n",
       "      <td>0.0</td>\n",
       "      <td>0.0</td>\n",
       "      <td>0.0</td>\n",
       "      <td>0.0</td>\n",
       "      <td>0.0</td>\n",
       "      <td>0.0</td>\n",
       "      <td>0.0</td>\n",
       "    </tr>\n",
       "  </tbody>\n",
       "</table>\n",
       "<p>5 rows × 6888 columns</p>\n",
       "</div>"
      ],
      "text/plain": [
       "title   'Hellboy': The Seeds of Creation  'Round Midnight  'Salem's Lot  \\\n",
       "userId                                                                    \n",
       "1                                    0.0              0.0           0.0   \n",
       "2                                    0.0              0.0           0.0   \n",
       "3                                    0.0              0.0           0.0   \n",
       "4                                    0.0              0.0           0.0   \n",
       "5                                    0.0              0.0           0.0   \n",
       "\n",
       "title   'Til There Was You  'burbs, The  'night Mother  (500) Days of Summer  \\\n",
       "userId                                                                         \n",
       "1                      0.0          0.0            0.0                   0.0   \n",
       "2                      0.0          0.0            0.0                   0.0   \n",
       "3                      0.0          0.0            0.0                   0.0   \n",
       "4                      0.0          0.0            0.0                   0.0   \n",
       "5                      0.0          0.0            0.0                   0.0   \n",
       "\n",
       "title   *batteries not included  ...And Justice for All  1-900 (06)  ...  \\\n",
       "userId                                                               ...   \n",
       "1                           0.0                     0.0         0.0  ...   \n",
       "2                           0.0                     0.0         0.0  ...   \n",
       "3                           0.0                     0.0         0.0  ...   \n",
       "4                           0.0                     0.0         0.0  ...   \n",
       "5                           0.0                     0.0         0.0  ...   \n",
       "\n",
       "title   Zoolander 2  Zoom  Zootopia  Zulu  [REC]  eXistenZ  xXx  \\\n",
       "userId                                                            \n",
       "1               0.0   0.0       0.0   0.0    0.0       0.0  0.0   \n",
       "2               0.0   0.0       0.0   0.0    0.0       0.0  0.0   \n",
       "3               0.0   0.0       0.0   0.0    0.0       0.0  0.0   \n",
       "4               0.0   0.0       0.0   0.0    0.0       0.0  0.0   \n",
       "5               0.0   0.0       0.0   0.0    0.0       0.0  0.0   \n",
       "\n",
       "title   xXx: State of the Union  ¡Three Amigos!  \\\n",
       "userId                                            \n",
       "1                           0.0             0.0   \n",
       "2                           0.0             0.0   \n",
       "3                           0.0             0.0   \n",
       "4                           0.0             0.0   \n",
       "5                           0.0             0.0   \n",
       "\n",
       "title   À nous la liberté (Freedom for Us)  \n",
       "userId                                      \n",
       "1                                      0.0  \n",
       "2                                      0.0  \n",
       "3                                      0.0  \n",
       "4                                      0.0  \n",
       "5                                      0.0  \n",
       "\n",
       "[5 rows x 6888 columns]"
      ]
     },
     "execution_count": 36,
     "metadata": {},
     "output_type": "execute_result"
    }
   ],
   "source": [
    "# pivot and create movie-user matrix\n",
    "user_to_movie_df = refined_dataset.pivot(index='userId',columns='title',values='rating').fillna(0)\n",
    "user_to_movie_df.head()"
   ]
  },
  {
   "attachments": {},
   "cell_type": "markdown",
   "id": "e8bd461f",
   "metadata": {
    "id": "e8bd461f"
   },
   "source": [
    "We store the pivot as scipy sparse table for efficient storage and for fast operations. Since its passed in KNN model, it needs to able to be processed fast."
   ]
  },
  {
   "cell_type": "code",
   "execution_count": 37,
   "id": "efcd071c",
   "metadata": {
    "colab": {
     "base_uri": "https://localhost:8080/"
    },
    "id": "efcd071c",
    "outputId": "4b5e5524-85a5-45f1-de16-9bbb9c3d934b"
   },
   "outputs": [
    {
     "data": {
      "text/plain": [
       "<671x6888 sparse matrix of type '<class 'numpy.float64'>'\n",
       "\twith 95928 stored elements in Compressed Sparse Row format>"
      ]
     },
     "execution_count": 37,
     "metadata": {},
     "output_type": "execute_result"
    }
   ],
   "source": [
    "# transform matrix to scipy sparse matrix\n",
    "from scipy.sparse import csr_matrix\n",
    "from sklearn.neighbors import NearestNeighbors\n",
    "user_to_movie_sparse_df = csr_matrix(user_to_movie_df.values)\n",
    "user_to_movie_sparse_df\n",
    "# user_u = list(sorted(refined_dataset.userId.unique()))\n",
    "# item_u = list(sorted(refined_dataset.title.unique()))\n",
    "\n",
    "# row = refined_dataset.userId.astype('category').cat.codes\n",
    "# col = refined_dataset.title.astype('category').cat.codes\n",
    "\n",
    "# data = refined_dataset['rating'].tolist()\n",
    "\n",
    "# user_to_movie_sparse_df = csr_matrix((data, (row, col)), shape=(len(user_u), len(item_u)))\n",
    "\n",
    "# df = pd.SparseDataFrame([pd.SparseSeries(sparse_matrix[i].toarray().ravel(), fill_value=0) \n",
    "#                               for i in np.arange(sparse_matrix.shape[0]) ], \n",
    "#                        index=user_u, columns=item_u, default_fill_value=0)"
   ]
  },
  {
   "attachments": {},
   "cell_type": "markdown",
   "id": "c4006f97",
   "metadata": {
    "id": "c4006f97"
   },
   "source": [
    "Use the Nearest Neighbours Algorithm from scikit learn on the pivot sparse table"
   ]
  },
  {
   "cell_type": "code",
   "execution_count": 38,
   "id": "4fd47b3f",
   "metadata": {
    "colab": {
     "base_uri": "https://localhost:8080/"
    },
    "id": "4fd47b3f",
    "outputId": "9ad1beb4-7b79-40dd-8a5b-c6ef98341a3d"
   },
   "outputs": [
    {
     "data": {
      "text/html": [
       "<style>#sk-container-id-1 {color: black;}#sk-container-id-1 pre{padding: 0;}#sk-container-id-1 div.sk-toggleable {background-color: white;}#sk-container-id-1 label.sk-toggleable__label {cursor: pointer;display: block;width: 100%;margin-bottom: 0;padding: 0.3em;box-sizing: border-box;text-align: center;}#sk-container-id-1 label.sk-toggleable__label-arrow:before {content: \"▸\";float: left;margin-right: 0.25em;color: #696969;}#sk-container-id-1 label.sk-toggleable__label-arrow:hover:before {color: black;}#sk-container-id-1 div.sk-estimator:hover label.sk-toggleable__label-arrow:before {color: black;}#sk-container-id-1 div.sk-toggleable__content {max-height: 0;max-width: 0;overflow: hidden;text-align: left;background-color: #f0f8ff;}#sk-container-id-1 div.sk-toggleable__content pre {margin: 0.2em;color: black;border-radius: 0.25em;background-color: #f0f8ff;}#sk-container-id-1 input.sk-toggleable__control:checked~div.sk-toggleable__content {max-height: 200px;max-width: 100%;overflow: auto;}#sk-container-id-1 input.sk-toggleable__control:checked~label.sk-toggleable__label-arrow:before {content: \"▾\";}#sk-container-id-1 div.sk-estimator input.sk-toggleable__control:checked~label.sk-toggleable__label {background-color: #d4ebff;}#sk-container-id-1 div.sk-label input.sk-toggleable__control:checked~label.sk-toggleable__label {background-color: #d4ebff;}#sk-container-id-1 input.sk-hidden--visually {border: 0;clip: rect(1px 1px 1px 1px);clip: rect(1px, 1px, 1px, 1px);height: 1px;margin: -1px;overflow: hidden;padding: 0;position: absolute;width: 1px;}#sk-container-id-1 div.sk-estimator {font-family: monospace;background-color: #f0f8ff;border: 1px dotted black;border-radius: 0.25em;box-sizing: border-box;margin-bottom: 0.5em;}#sk-container-id-1 div.sk-estimator:hover {background-color: #d4ebff;}#sk-container-id-1 div.sk-parallel-item::after {content: \"\";width: 100%;border-bottom: 1px solid gray;flex-grow: 1;}#sk-container-id-1 div.sk-label:hover label.sk-toggleable__label {background-color: #d4ebff;}#sk-container-id-1 div.sk-serial::before {content: \"\";position: absolute;border-left: 1px solid gray;box-sizing: border-box;top: 0;bottom: 0;left: 50%;z-index: 0;}#sk-container-id-1 div.sk-serial {display: flex;flex-direction: column;align-items: center;background-color: white;padding-right: 0.2em;padding-left: 0.2em;position: relative;}#sk-container-id-1 div.sk-item {position: relative;z-index: 1;}#sk-container-id-1 div.sk-parallel {display: flex;align-items: stretch;justify-content: center;background-color: white;position: relative;}#sk-container-id-1 div.sk-item::before, #sk-container-id-1 div.sk-parallel-item::before {content: \"\";position: absolute;border-left: 1px solid gray;box-sizing: border-box;top: 0;bottom: 0;left: 50%;z-index: -1;}#sk-container-id-1 div.sk-parallel-item {display: flex;flex-direction: column;z-index: 1;position: relative;background-color: white;}#sk-container-id-1 div.sk-parallel-item:first-child::after {align-self: flex-end;width: 50%;}#sk-container-id-1 div.sk-parallel-item:last-child::after {align-self: flex-start;width: 50%;}#sk-container-id-1 div.sk-parallel-item:only-child::after {width: 0;}#sk-container-id-1 div.sk-dashed-wrapped {border: 1px dashed gray;margin: 0 0.4em 0.5em 0.4em;box-sizing: border-box;padding-bottom: 0.4em;background-color: white;}#sk-container-id-1 div.sk-label label {font-family: monospace;font-weight: bold;display: inline-block;line-height: 1.2em;}#sk-container-id-1 div.sk-label-container {text-align: center;}#sk-container-id-1 div.sk-container {/* jupyter's `normalize.less` sets `[hidden] { display: none; }` but bootstrap.min.css set `[hidden] { display: none !important; }` so we also need the `!important` here to be able to override the default hidden behavior on the sphinx rendered scikit-learn.org. See: https://github.com/scikit-learn/scikit-learn/issues/21755 */display: inline-block !important;position: relative;}#sk-container-id-1 div.sk-text-repr-fallback {display: none;}</style><div id=\"sk-container-id-1\" class=\"sk-top-container\"><div class=\"sk-text-repr-fallback\"><pre>NearestNeighbors(metric=&#x27;cosine&#x27;)</pre><b>In a Jupyter environment, please rerun this cell to show the HTML representation or trust the notebook. <br />On GitHub, the HTML representation is unable to render, please try loading this page with nbviewer.org.</b></div><div class=\"sk-container\" hidden><div class=\"sk-item\"><div class=\"sk-estimator sk-toggleable\"><input class=\"sk-toggleable__control sk-hidden--visually\" id=\"sk-estimator-id-1\" type=\"checkbox\" checked><label for=\"sk-estimator-id-1\" class=\"sk-toggleable__label sk-toggleable__label-arrow\">NearestNeighbors</label><div class=\"sk-toggleable__content\"><pre>NearestNeighbors(metric=&#x27;cosine&#x27;)</pre></div></div></div></div></div>"
      ],
      "text/plain": [
       "NearestNeighbors(metric='cosine')"
      ]
     },
     "execution_count": 38,
     "metadata": {},
     "output_type": "execute_result"
    }
   ],
   "source": [
    "knn_model_user = NearestNeighbors(metric='cosine', algorithm='auto')\n",
    "knn_model_user.fit(user_to_movie_sparse_df)"
   ]
  },
  {
   "attachments": {},
   "cell_type": "markdown",
   "id": "b4fb5991",
   "metadata": {
    "id": "b4fb5991"
   },
   "source": [
    "The following function finds the most similar users to the user with a given userId"
   ]
  },
  {
   "cell_type": "code",
   "execution_count": 39,
   "id": "ae887cbb",
   "metadata": {
    "id": "ae887cbb"
   },
   "outputs": [],
   "source": [
    "import numpy as np\n",
    "def get_similar_users(user, n = 5):\n",
    "  ## input to this function is the user and number of top similar users you want.\n",
    "\n",
    "    knn_input = np.asarray([user_to_movie_df.values[user-1]])  #.reshape(1,-1)\n",
    "  # knn_input = user_to_movie_df.iloc[0,:].values.reshape(1,-1)\n",
    "    distances, indices = knn_model_user.kneighbors(knn_input, n_neighbors=n+1)\n",
    "    print(\"Top\",n,\"users who are very much similar to the User-\",user, \"are: \")\n",
    "    print(\" \")\n",
    "    for i in range(1,len(distances[0])):\n",
    "        print(i,\". User:\", indices[0][i]+1, \"separated by distance of\",distances[0][i])\n",
    "    return indices.flatten()[1:] + 1, distances.flatten()[1:]"
   ]
  },
  {
   "attachments": {},
   "cell_type": "markdown",
   "id": "e19d691a",
   "metadata": {
    "id": "e19d691a"
   },
   "source": [
    "Here's an example with UserId = 608"
   ]
  },
  {
   "cell_type": "code",
   "execution_count": 40,
   "id": "88a187b0",
   "metadata": {
    "colab": {
     "base_uri": "https://localhost:8080/"
    },
    "id": "88a187b0",
    "outputId": "e716ea13-a72c-4fab-d454-cc9cef284d72"
   },
   "outputs": [
    {
     "name": "stdout",
     "output_type": "stream",
     "text": [
      " Few of movies seen by the User:\n",
      "['2001: A Space Odyssey',\n",
      " '400 Blows, The (Les quatre cents coups)',\n",
      " 'Affliction',\n",
      " 'Akira',\n",
      " 'Alien',\n",
      " 'Aliens',\n",
      " 'All About My Mother (Todo sobre mi madre)',\n",
      " 'Amateur',\n",
      " 'American Beauty',\n",
      " 'American History X']\n",
      "Top 5 users who are very much similar to the User- 608 are: \n",
      " \n",
      "1 . User: 647 separated by distance of 0.6044796002509003\n",
      "2 . User: 472 separated by distance of 0.6376189772618576\n",
      "3 . User: 509 separated by distance of 0.6387643718697718\n",
      "4 . User: 312 separated by distance of 0.6484557727224446\n",
      "5 . User: 15 separated by distance of 0.6485590952881475\n"
     ]
    }
   ],
   "source": [
    "from pprint import pprint\n",
    "user_id = 608\n",
    "print(\" Few of movies seen by the User:\")\n",
    "pprint(list(refined_dataset[refined_dataset['userId'] == user_id]['title'])[:10])\n",
    "similar_users, distances = get_similar_users(user_id,5)"
   ]
  },
  {
   "attachments": {},
   "cell_type": "markdown",
   "id": "3xZODMYWoh_c",
   "metadata": {
    "id": "3xZODMYWoh_c"
   },
   "source": [
    "Recommendation would be more effective if we define weights to ratings by each similar user based on the thier distance from the input user. Defining these weights would give us the accurate recommendations by eliminating the chance of decision manipulation by the users who are relatively very far from the input user. We'll have to make some modifications to the above model."
   ]
  },
  {
   "cell_type": "code",
   "execution_count": 41,
   "id": "Pt_Zzh7topTa",
   "metadata": {
    "colab": {
     "base_uri": "https://localhost:8080/"
    },
    "id": "Pt_Zzh7topTa",
    "outputId": "01e5d029-5afd-4fc1-ec92-945eff97fb65"
   },
   "outputs": [
    {
     "data": {
      "text/plain": [
       "(array([647, 472, 509, 312,  15], dtype=int64),\n",
       " array([0.6044796 , 0.63761898, 0.63876437, 0.64845577, 0.6485591 ]))"
      ]
     },
     "execution_count": 41,
     "metadata": {},
     "output_type": "execute_result"
    }
   ],
   "source": [
    "similar_users, distances"
   ]
  },
  {
   "attachments": {},
   "cell_type": "markdown",
   "id": "6cxC5L6spAa9",
   "metadata": {
    "id": "6cxC5L6spAa9"
   },
   "source": [
    "Setting the weights for given similar user list"
   ]
  },
  {
   "cell_type": "code",
   "execution_count": 42,
   "id": "w8NcZw_Vo9PF",
   "metadata": {
    "colab": {
     "base_uri": "https://localhost:8080/"
    },
    "id": "w8NcZw_Vo9PF",
    "outputId": "d9524ddd-ef9c-4f29-a819-d4b0459a9993"
   },
   "outputs": [
    {
     "data": {
      "text/plain": [
       "array([0.19021487, 0.20064301, 0.20100344, 0.20405309, 0.2040856 ])"
      ]
     },
     "execution_count": 42,
     "metadata": {},
     "output_type": "execute_result"
    }
   ],
   "source": [
    "weightage_list = distances/np.sum(distances)\n",
    "weightage_list"
   ]
  },
  {
   "attachments": {},
   "cell_type": "markdown",
   "id": "be509b1f",
   "metadata": {
    "id": "be509b1f"
   },
   "source": [
    "This matrix stores the user ratings of similar users on the movies"
   ]
  },
  {
   "cell_type": "code",
   "execution_count": 43,
   "id": "f90cdb9c",
   "metadata": {
    "colab": {
     "base_uri": "https://localhost:8080/"
    },
    "id": "f90cdb9c",
    "outputId": "c8f29169-7af3-497c-bddc-56aacf767c22"
   },
   "outputs": [
    {
     "data": {
      "text/plain": [
       "array([[0., 0., 0., ..., 0., 0., 0.],\n",
       "       [0., 0., 0., ..., 0., 0., 0.],\n",
       "       [0., 0., 0., ..., 0., 0., 0.],\n",
       "       [0., 0., 0., ..., 0., 0., 0.],\n",
       "       [0., 0., 0., ..., 0., 0., 0.]])"
      ]
     },
     "execution_count": 43,
     "metadata": {},
     "output_type": "execute_result"
    }
   ],
   "source": [
    "similar_users_ratings = user_to_movie_df.values[similar_users]\n",
    "similar_users_ratings"
   ]
  },
  {
   "cell_type": "code",
   "execution_count": 45,
   "id": "52daaee3",
   "metadata": {
    "colab": {
     "base_uri": "https://localhost:8080/"
    },
    "id": "52daaee3",
    "outputId": "c0bd7026-0a51-4f40-fa0d-71137100d56c"
   },
   "outputs": [
    {
     "data": {
      "text/plain": [
       "Index([''Hellboy': The Seeds of Creation', ''Round Midnight', ''Salem's Lot',\n",
       "       ''Til There Was You', ''burbs, The', ''night Mother',\n",
       "       '(500) Days of Summer', '*batteries not included',\n",
       "       '...And Justice for All', '1-900 (06)',\n",
       "       ...\n",
       "       'Zoolander 2', 'Zoom', 'Zootopia', 'Zulu', '[REC]', 'eXistenZ', 'xXx',\n",
       "       'xXx: State of the Union', '¡Three Amigos!',\n",
       "       'À nous la liberté (Freedom for Us)'],\n",
       "      dtype='object', name='title', length=6888)"
      ]
     },
     "execution_count": 45,
     "metadata": {},
     "output_type": "execute_result"
    }
   ],
   "source": [
    "movies_list = user_to_movie_df.columns\n",
    "movies_list"
   ]
  },
  {
   "cell_type": "code",
   "execution_count": 46,
   "id": "VN1CQVXapXGB",
   "metadata": {
    "colab": {
     "base_uri": "https://localhost:8080/"
    },
    "id": "VN1CQVXapXGB",
    "outputId": "1520b27a-98f0-41f6-c3f0-ff7d8e761769"
   },
   "outputs": [
    {
     "name": "stdout",
     "output_type": "stream",
     "text": [
      "Weightage list shape: 5\n",
      "similar_users_ratings shape: (5, 6888)\n",
      "Number of movies: 6888\n"
     ]
    }
   ],
   "source": [
    "print(\"Weightage list shape:\", len(weightage_list))\n",
    "print(\"similar_users_ratings shape:\", similar_users_ratings.shape)\n",
    "print(\"Number of movies:\", len(movies_list))"
   ]
  },
  {
   "attachments": {},
   "cell_type": "markdown",
   "id": "7LiQ9n37ps_B",
   "metadata": {
    "id": "7LiQ9n37ps_B"
   },
   "source": [
    "We use the numpy concept of broadcasting vectors to get compatible matrix shapes to allow us to multiple weights to the ratings properly."
   ]
  },
  {
   "cell_type": "code",
   "execution_count": 47,
   "id": "p6FYyHdupfQA",
   "metadata": {
    "colab": {
     "base_uri": "https://localhost:8080/"
    },
    "id": "p6FYyHdupfQA",
    "outputId": "e53e2dc3-07ec-450a-b8f4-2ffdffeb758b"
   },
   "outputs": [
    {
     "data": {
      "text/plain": [
       "(5, 6888)"
      ]
     },
     "execution_count": 47,
     "metadata": {},
     "output_type": "execute_result"
    }
   ],
   "source": [
    "weightage_list = weightage_list[:,np.newaxis] + np.zeros(len(movies_list))\n",
    "weightage_list.shape"
   ]
  },
  {
   "attachments": {},
   "cell_type": "markdown",
   "id": "1qzRpHAAp7iF",
   "metadata": {
    "id": "1qzRpHAAp7iF"
   },
   "source": [
    "Observe  Shape is equal to Similar movie ratings by user. Now we'll apply the distance weights on ratings of similar users. We aggregate the movie ratings of the similar users and picking the top 10 or 15 movies to recommend to our current user."
   ]
  },
  {
   "cell_type": "code",
   "execution_count": 48,
   "id": "FGMBRMH5qj8q",
   "metadata": {
    "colab": {
     "base_uri": "https://localhost:8080/"
    },
    "id": "FGMBRMH5qj8q",
    "outputId": "517a528d-39d6-435a-fae5-fe5b1ebf8e9b"
   },
   "outputs": [
    {
     "data": {
      "text/plain": [
       "array([0., 0., 0., ..., 0., 0., 0.])"
      ]
     },
     "execution_count": 48,
     "metadata": {},
     "output_type": "execute_result"
    }
   ],
   "source": [
    "new_rating_matrix = weightage_list*similar_users_ratings\n",
    "mean_rating = new_rating_matrix.sum(axis =0)\n",
    "mean_rating"
   ]
  },
  {
   "attachments": {},
   "cell_type": "markdown",
   "id": "45d47a52",
   "metadata": {},
   "source": [
    "Each value is the mean rating to the movie given by similar users."
   ]
  },
  {
   "attachments": {},
   "cell_type": "markdown",
   "id": "1f8d96d4",
   "metadata": {
    "id": "1f8d96d4"
   },
   "source": [
    "This following function sorts the mean rating of each movie as given by similar users to output an list of indices of the movie titles that will be recommended. "
   ]
  },
  {
   "cell_type": "code",
   "execution_count": 49,
   "id": "c9498147",
   "metadata": {
    "id": "c9498147"
   },
   "outputs": [],
   "source": [
    "from pprint import pprint\n",
    "def recommend_movies(n):\n",
    "    n = min(len(mean_rating),n)\n",
    "    pprint(list(movies_list[np.argsort(mean_rating)[::-1][:n]]))"
   ]
  },
  {
   "cell_type": "code",
   "execution_count": 50,
   "id": "4b345098",
   "metadata": {
    "colab": {
     "base_uri": "https://localhost:8080/"
    },
    "id": "4b345098",
    "outputId": "e9155706-a908-4bd1-d1c4-e1ff78212921"
   },
   "outputs": [
    {
     "name": "stdout",
     "output_type": "stream",
     "text": [
      "Movies recommended based on similar users to 608 are: \n",
      "['Shawshank Redemption, The',\n",
      " 'Forrest Gump',\n",
      " 'Good Will Hunting',\n",
      " 'Rain Man',\n",
      " 'Dr. Strangelove or: How I Learned to Stop Worrying and Love the Bomb',\n",
      " 'Lion King, The',\n",
      " 'Lost in Translation',\n",
      " 'Beautiful Mind, A',\n",
      " 'Almost Famous',\n",
      " 'Shrek']\n"
     ]
    }
   ],
   "source": [
    "print(\"Movies recommended based on similar users to 608 are: \")\n",
    "recommend_movies(10)"
   ]
  },
  {
   "attachments": {},
   "cell_type": "markdown",
   "id": "1_AJGtznq8Ew",
   "metadata": {
    "id": "1_AJGtznq8Ew"
   },
   "source": [
    "The above functions and operations showed the operations we need to implement for one user. Now we encapsulate all this into one single function that inputs userId, number of users to consider and number of movies to recommend."
   ]
  },
  {
   "cell_type": "code",
   "execution_count": 51,
   "id": "89a92b18",
   "metadata": {
    "id": "89a92b18"
   },
   "outputs": [],
   "source": [
    "from pprint import pprint\n",
    "\n",
    "def recommender_system(user_id, n_similar_users, n_movies):\n",
    "    # This system recommends the top movies watched by the similar users to user with Id -- user_id\n",
    "    # And based on the number of n_similar_users and n_movies to recommend we output the recommendations.\n",
    "    print(\"Movie seen by the User:\")\n",
    "    pprint(list(refined_dataset[refined_dataset['userId'] == user_id]['title']))\n",
    "    print(\"\")\n",
    "    def get_similar_users(user, n = 5):\n",
    "        knn_input = np.asarray([user_to_movie_df.values[user-1]])\n",
    "        # Similar to function we made above\n",
    "        \n",
    "    \n",
    "        distances, indices = knn_model_user.kneighbors(knn_input, n_neighbors=n+1)\n",
    "    \n",
    "        print(\"Top\",n,\"users who are very much similar to the User-\",user, \"are: \")\n",
    "        print(\" \")\n",
    "\n",
    "        for i in range(1,len(distances[0])):\n",
    "            print(i,\". User:\", indices[0][i]+1, \"separated by distance of\",distances[0][i])\n",
    "            print(\"\")\n",
    "        return indices.flatten()[1:] + 1, distances.flatten()[1:]\n",
    "    \n",
    "    def recommend_movies(n):\n",
    "        #Outputs the recommendations\n",
    "        n = min(len(mean_rating_list),n)\n",
    "        print(np.argsort(mean_rating_list)[::-1][:n])\n",
    "        pprint(list(movies_list[np.argsort(mean_rating_list)[::-1][:n]]))\n",
    "        \n",
    "    similar_users, distances = get_similar_users(user_id,n_similar_users)\n",
    "    weightage_list = distances/np.sum(distances)\n",
    "    similar_users_ratings = user_to_movie_df.values[similar_users]\n",
    "    movies_list = user_to_movie_df.columns\n",
    "    weightage_list = weightage_list[:,np.newaxis] + np.zeros(len(movies_list))\n",
    "    new_rating_matrix = weightage_list*similar_users_ratings\n",
    "    mean_rating_list = new_rating_matrix.sum(axis =0)\n",
    "    print(\"\")\n",
    "    print(\"Movies recommended based on similar users are: \")\n",
    "    print(\"\")\n",
    "    recommend_movies(n_movies)\n"
   ]
  },
  {
   "cell_type": "code",
   "execution_count": 90,
   "id": "9c7c3963",
   "metadata": {
    "colab": {
     "base_uri": "https://localhost:8080/"
    },
    "id": "9c7c3963",
    "outputId": "2103f90f-c9c2-4ea1-f9f1-6e3bc98a2b4f"
   },
   "outputs": [
    {
     "name": "stdout",
     "output_type": "stream",
     "text": [
      "Enter user id\n"
     ]
    }
   ],
   "source": [
    "print(\"Enter user id\")\n",
    "user_id= int(input())\n",
    "print(\"number of similar users to be considered\")\n",
    "sim_users = int(input())\n",
    "print(\"Enter number of movies to be recommended:\")\n",
    "n_movies = int(input())\n",
    "recommender_system(user_id,sim_users,n_movies)"
   ]
  },
  {
   "attachments": {},
   "cell_type": "markdown",
   "id": "a329ddcd",
   "metadata": {
    "id": "a329ddcd"
   },
   "source": [
    "## Second Method: Item Based"
   ]
  },
  {
   "attachments": {},
   "cell_type": "markdown",
   "id": "71680de5",
   "metadata": {},
   "source": [
    "Now we make a model that recommends movie names based on movie name inputted. Basically outputting most similar movies to a given movie."
   ]
  },
  {
   "attachments": {},
   "cell_type": "markdown",
   "id": "9c3223c6",
   "metadata": {
    "id": "9c3223c6"
   },
   "source": [
    "New pivot table is basically transpose of previous one. "
   ]
  },
  {
   "cell_type": "code",
   "execution_count": 52,
   "id": "f53012ff",
   "metadata": {
    "colab": {
     "base_uri": "https://localhost:8080/",
     "height": 455
    },
    "id": "f53012ff",
    "outputId": "e1c396bc-3b25-4b18-aac0-cf37dcebe6c1"
   },
   "outputs": [
    {
     "data": {
      "text/html": [
       "<div>\n",
       "<style scoped>\n",
       "    .dataframe tbody tr th:only-of-type {\n",
       "        vertical-align: middle;\n",
       "    }\n",
       "\n",
       "    .dataframe tbody tr th {\n",
       "        vertical-align: top;\n",
       "    }\n",
       "\n",
       "    .dataframe thead th {\n",
       "        text-align: right;\n",
       "    }\n",
       "</style>\n",
       "<table border=\"1\" class=\"dataframe\">\n",
       "  <thead>\n",
       "    <tr style=\"text-align: right;\">\n",
       "      <th>userId</th>\n",
       "      <th>1</th>\n",
       "      <th>2</th>\n",
       "      <th>3</th>\n",
       "      <th>4</th>\n",
       "      <th>5</th>\n",
       "      <th>6</th>\n",
       "      <th>7</th>\n",
       "      <th>8</th>\n",
       "      <th>9</th>\n",
       "      <th>10</th>\n",
       "      <th>...</th>\n",
       "      <th>662</th>\n",
       "      <th>663</th>\n",
       "      <th>664</th>\n",
       "      <th>665</th>\n",
       "      <th>666</th>\n",
       "      <th>667</th>\n",
       "      <th>668</th>\n",
       "      <th>669</th>\n",
       "      <th>670</th>\n",
       "      <th>671</th>\n",
       "    </tr>\n",
       "    <tr>\n",
       "      <th>title</th>\n",
       "      <th></th>\n",
       "      <th></th>\n",
       "      <th></th>\n",
       "      <th></th>\n",
       "      <th></th>\n",
       "      <th></th>\n",
       "      <th></th>\n",
       "      <th></th>\n",
       "      <th></th>\n",
       "      <th></th>\n",
       "      <th></th>\n",
       "      <th></th>\n",
       "      <th></th>\n",
       "      <th></th>\n",
       "      <th></th>\n",
       "      <th></th>\n",
       "      <th></th>\n",
       "      <th></th>\n",
       "      <th></th>\n",
       "      <th></th>\n",
       "      <th></th>\n",
       "    </tr>\n",
       "  </thead>\n",
       "  <tbody>\n",
       "    <tr>\n",
       "      <th>'Hellboy': The Seeds of Creation</th>\n",
       "      <td>0.0</td>\n",
       "      <td>0.0</td>\n",
       "      <td>0.0</td>\n",
       "      <td>0.0</td>\n",
       "      <td>0.0</td>\n",
       "      <td>0.0</td>\n",
       "      <td>0.0</td>\n",
       "      <td>0.0</td>\n",
       "      <td>0.0</td>\n",
       "      <td>0.0</td>\n",
       "      <td>...</td>\n",
       "      <td>0.0</td>\n",
       "      <td>0.0</td>\n",
       "      <td>0.0</td>\n",
       "      <td>0.0</td>\n",
       "      <td>0.0</td>\n",
       "      <td>0.0</td>\n",
       "      <td>0.0</td>\n",
       "      <td>0.0</td>\n",
       "      <td>0.0</td>\n",
       "      <td>0.0</td>\n",
       "    </tr>\n",
       "    <tr>\n",
       "      <th>'Round Midnight</th>\n",
       "      <td>0.0</td>\n",
       "      <td>0.0</td>\n",
       "      <td>0.0</td>\n",
       "      <td>0.0</td>\n",
       "      <td>0.0</td>\n",
       "      <td>0.0</td>\n",
       "      <td>0.0</td>\n",
       "      <td>0.0</td>\n",
       "      <td>0.0</td>\n",
       "      <td>0.0</td>\n",
       "      <td>...</td>\n",
       "      <td>0.0</td>\n",
       "      <td>0.0</td>\n",
       "      <td>0.0</td>\n",
       "      <td>0.0</td>\n",
       "      <td>0.0</td>\n",
       "      <td>0.0</td>\n",
       "      <td>0.0</td>\n",
       "      <td>0.0</td>\n",
       "      <td>0.0</td>\n",
       "      <td>0.0</td>\n",
       "    </tr>\n",
       "    <tr>\n",
       "      <th>'Salem's Lot</th>\n",
       "      <td>0.0</td>\n",
       "      <td>0.0</td>\n",
       "      <td>0.0</td>\n",
       "      <td>0.0</td>\n",
       "      <td>0.0</td>\n",
       "      <td>0.0</td>\n",
       "      <td>0.0</td>\n",
       "      <td>0.0</td>\n",
       "      <td>0.0</td>\n",
       "      <td>0.0</td>\n",
       "      <td>...</td>\n",
       "      <td>0.0</td>\n",
       "      <td>0.0</td>\n",
       "      <td>0.0</td>\n",
       "      <td>0.0</td>\n",
       "      <td>0.0</td>\n",
       "      <td>0.0</td>\n",
       "      <td>0.0</td>\n",
       "      <td>0.0</td>\n",
       "      <td>0.0</td>\n",
       "      <td>0.0</td>\n",
       "    </tr>\n",
       "    <tr>\n",
       "      <th>'Til There Was You</th>\n",
       "      <td>0.0</td>\n",
       "      <td>0.0</td>\n",
       "      <td>0.0</td>\n",
       "      <td>0.0</td>\n",
       "      <td>0.0</td>\n",
       "      <td>0.0</td>\n",
       "      <td>0.0</td>\n",
       "      <td>0.0</td>\n",
       "      <td>0.0</td>\n",
       "      <td>0.0</td>\n",
       "      <td>...</td>\n",
       "      <td>0.0</td>\n",
       "      <td>0.0</td>\n",
       "      <td>0.0</td>\n",
       "      <td>0.0</td>\n",
       "      <td>0.0</td>\n",
       "      <td>0.0</td>\n",
       "      <td>0.0</td>\n",
       "      <td>0.0</td>\n",
       "      <td>0.0</td>\n",
       "      <td>0.0</td>\n",
       "    </tr>\n",
       "    <tr>\n",
       "      <th>'burbs, The</th>\n",
       "      <td>0.0</td>\n",
       "      <td>0.0</td>\n",
       "      <td>0.0</td>\n",
       "      <td>0.0</td>\n",
       "      <td>0.0</td>\n",
       "      <td>4.0</td>\n",
       "      <td>0.0</td>\n",
       "      <td>0.0</td>\n",
       "      <td>0.0</td>\n",
       "      <td>0.0</td>\n",
       "      <td>...</td>\n",
       "      <td>0.0</td>\n",
       "      <td>0.0</td>\n",
       "      <td>0.0</td>\n",
       "      <td>0.0</td>\n",
       "      <td>0.0</td>\n",
       "      <td>0.0</td>\n",
       "      <td>0.0</td>\n",
       "      <td>0.0</td>\n",
       "      <td>0.0</td>\n",
       "      <td>0.0</td>\n",
       "    </tr>\n",
       "    <tr>\n",
       "      <th>...</th>\n",
       "      <td>...</td>\n",
       "      <td>...</td>\n",
       "      <td>...</td>\n",
       "      <td>...</td>\n",
       "      <td>...</td>\n",
       "      <td>...</td>\n",
       "      <td>...</td>\n",
       "      <td>...</td>\n",
       "      <td>...</td>\n",
       "      <td>...</td>\n",
       "      <td>...</td>\n",
       "      <td>...</td>\n",
       "      <td>...</td>\n",
       "      <td>...</td>\n",
       "      <td>...</td>\n",
       "      <td>...</td>\n",
       "      <td>...</td>\n",
       "      <td>...</td>\n",
       "      <td>...</td>\n",
       "      <td>...</td>\n",
       "      <td>...</td>\n",
       "    </tr>\n",
       "    <tr>\n",
       "      <th>eXistenZ</th>\n",
       "      <td>0.0</td>\n",
       "      <td>0.0</td>\n",
       "      <td>0.0</td>\n",
       "      <td>0.0</td>\n",
       "      <td>0.0</td>\n",
       "      <td>0.0</td>\n",
       "      <td>0.0</td>\n",
       "      <td>0.0</td>\n",
       "      <td>0.0</td>\n",
       "      <td>0.0</td>\n",
       "      <td>...</td>\n",
       "      <td>0.0</td>\n",
       "      <td>0.0</td>\n",
       "      <td>0.0</td>\n",
       "      <td>0.0</td>\n",
       "      <td>0.0</td>\n",
       "      <td>0.0</td>\n",
       "      <td>0.0</td>\n",
       "      <td>0.0</td>\n",
       "      <td>0.0</td>\n",
       "      <td>0.0</td>\n",
       "    </tr>\n",
       "    <tr>\n",
       "      <th>xXx</th>\n",
       "      <td>0.0</td>\n",
       "      <td>0.0</td>\n",
       "      <td>0.0</td>\n",
       "      <td>0.0</td>\n",
       "      <td>0.0</td>\n",
       "      <td>0.0</td>\n",
       "      <td>0.0</td>\n",
       "      <td>0.0</td>\n",
       "      <td>0.0</td>\n",
       "      <td>0.0</td>\n",
       "      <td>...</td>\n",
       "      <td>0.0</td>\n",
       "      <td>0.0</td>\n",
       "      <td>0.0</td>\n",
       "      <td>0.0</td>\n",
       "      <td>0.0</td>\n",
       "      <td>0.0</td>\n",
       "      <td>0.0</td>\n",
       "      <td>0.0</td>\n",
       "      <td>0.0</td>\n",
       "      <td>0.0</td>\n",
       "    </tr>\n",
       "    <tr>\n",
       "      <th>xXx: State of the Union</th>\n",
       "      <td>0.0</td>\n",
       "      <td>0.0</td>\n",
       "      <td>0.0</td>\n",
       "      <td>0.0</td>\n",
       "      <td>0.0</td>\n",
       "      <td>0.0</td>\n",
       "      <td>0.0</td>\n",
       "      <td>0.0</td>\n",
       "      <td>0.0</td>\n",
       "      <td>0.0</td>\n",
       "      <td>...</td>\n",
       "      <td>0.0</td>\n",
       "      <td>0.0</td>\n",
       "      <td>0.0</td>\n",
       "      <td>0.0</td>\n",
       "      <td>0.0</td>\n",
       "      <td>0.0</td>\n",
       "      <td>0.0</td>\n",
       "      <td>0.0</td>\n",
       "      <td>0.0</td>\n",
       "      <td>0.0</td>\n",
       "    </tr>\n",
       "    <tr>\n",
       "      <th>¡Three Amigos!</th>\n",
       "      <td>0.0</td>\n",
       "      <td>0.0</td>\n",
       "      <td>0.0</td>\n",
       "      <td>0.0</td>\n",
       "      <td>0.0</td>\n",
       "      <td>0.0</td>\n",
       "      <td>0.0</td>\n",
       "      <td>0.0</td>\n",
       "      <td>0.0</td>\n",
       "      <td>0.0</td>\n",
       "      <td>...</td>\n",
       "      <td>0.0</td>\n",
       "      <td>0.0</td>\n",
       "      <td>0.0</td>\n",
       "      <td>0.0</td>\n",
       "      <td>0.0</td>\n",
       "      <td>0.0</td>\n",
       "      <td>0.0</td>\n",
       "      <td>0.0</td>\n",
       "      <td>0.0</td>\n",
       "      <td>0.0</td>\n",
       "    </tr>\n",
       "    <tr>\n",
       "      <th>À nous la liberté (Freedom for Us)</th>\n",
       "      <td>0.0</td>\n",
       "      <td>0.0</td>\n",
       "      <td>0.0</td>\n",
       "      <td>0.0</td>\n",
       "      <td>0.0</td>\n",
       "      <td>0.0</td>\n",
       "      <td>0.0</td>\n",
       "      <td>0.0</td>\n",
       "      <td>0.0</td>\n",
       "      <td>0.0</td>\n",
       "      <td>...</td>\n",
       "      <td>0.0</td>\n",
       "      <td>0.0</td>\n",
       "      <td>0.0</td>\n",
       "      <td>0.0</td>\n",
       "      <td>0.0</td>\n",
       "      <td>0.0</td>\n",
       "      <td>0.0</td>\n",
       "      <td>0.0</td>\n",
       "      <td>0.0</td>\n",
       "      <td>0.0</td>\n",
       "    </tr>\n",
       "  </tbody>\n",
       "</table>\n",
       "<p>6888 rows × 671 columns</p>\n",
       "</div>"
      ],
      "text/plain": [
       "userId                              1    2    3    4    5    6    7    8    \\\n",
       "title                                                                        \n",
       "'Hellboy': The Seeds of Creation    0.0  0.0  0.0  0.0  0.0  0.0  0.0  0.0   \n",
       "'Round Midnight                     0.0  0.0  0.0  0.0  0.0  0.0  0.0  0.0   \n",
       "'Salem's Lot                        0.0  0.0  0.0  0.0  0.0  0.0  0.0  0.0   \n",
       "'Til There Was You                  0.0  0.0  0.0  0.0  0.0  0.0  0.0  0.0   \n",
       "'burbs, The                         0.0  0.0  0.0  0.0  0.0  4.0  0.0  0.0   \n",
       "...                                 ...  ...  ...  ...  ...  ...  ...  ...   \n",
       "eXistenZ                            0.0  0.0  0.0  0.0  0.0  0.0  0.0  0.0   \n",
       "xXx                                 0.0  0.0  0.0  0.0  0.0  0.0  0.0  0.0   \n",
       "xXx: State of the Union             0.0  0.0  0.0  0.0  0.0  0.0  0.0  0.0   \n",
       "¡Three Amigos!                      0.0  0.0  0.0  0.0  0.0  0.0  0.0  0.0   \n",
       "À nous la liberté (Freedom for Us)  0.0  0.0  0.0  0.0  0.0  0.0  0.0  0.0   \n",
       "\n",
       "userId                              9    10   ...  662  663  664  665  666  \\\n",
       "title                                         ...                            \n",
       "'Hellboy': The Seeds of Creation    0.0  0.0  ...  0.0  0.0  0.0  0.0  0.0   \n",
       "'Round Midnight                     0.0  0.0  ...  0.0  0.0  0.0  0.0  0.0   \n",
       "'Salem's Lot                        0.0  0.0  ...  0.0  0.0  0.0  0.0  0.0   \n",
       "'Til There Was You                  0.0  0.0  ...  0.0  0.0  0.0  0.0  0.0   \n",
       "'burbs, The                         0.0  0.0  ...  0.0  0.0  0.0  0.0  0.0   \n",
       "...                                 ...  ...  ...  ...  ...  ...  ...  ...   \n",
       "eXistenZ                            0.0  0.0  ...  0.0  0.0  0.0  0.0  0.0   \n",
       "xXx                                 0.0  0.0  ...  0.0  0.0  0.0  0.0  0.0   \n",
       "xXx: State of the Union             0.0  0.0  ...  0.0  0.0  0.0  0.0  0.0   \n",
       "¡Three Amigos!                      0.0  0.0  ...  0.0  0.0  0.0  0.0  0.0   \n",
       "À nous la liberté (Freedom for Us)  0.0  0.0  ...  0.0  0.0  0.0  0.0  0.0   \n",
       "\n",
       "userId                              667  668  669  670  671  \n",
       "title                                                        \n",
       "'Hellboy': The Seeds of Creation    0.0  0.0  0.0  0.0  0.0  \n",
       "'Round Midnight                     0.0  0.0  0.0  0.0  0.0  \n",
       "'Salem's Lot                        0.0  0.0  0.0  0.0  0.0  \n",
       "'Til There Was You                  0.0  0.0  0.0  0.0  0.0  \n",
       "'burbs, The                         0.0  0.0  0.0  0.0  0.0  \n",
       "...                                 ...  ...  ...  ...  ...  \n",
       "eXistenZ                            0.0  0.0  0.0  0.0  0.0  \n",
       "xXx                                 0.0  0.0  0.0  0.0  0.0  \n",
       "xXx: State of the Union             0.0  0.0  0.0  0.0  0.0  \n",
       "¡Three Amigos!                      0.0  0.0  0.0  0.0  0.0  \n",
       "À nous la liberté (Freedom for Us)  0.0  0.0  0.0  0.0  0.0  \n",
       "\n",
       "[6888 rows x 671 columns]"
      ]
     },
     "execution_count": 52,
     "metadata": {},
     "output_type": "execute_result"
    }
   ],
   "source": [
    "import numpy as np\n",
    "\n",
    "ratings_pivot = refined_dataset.pivot(index='title',columns='userId',values='rating').fillna(0)\n",
    "\n",
    "ratings_pivot"
   ]
  },
  {
   "cell_type": "code",
   "execution_count": 53,
   "id": "3c4c0c40",
   "metadata": {},
   "outputs": [
    {
     "data": {
      "text/plain": [
       "(6888, 671)"
      ]
     },
     "execution_count": 53,
     "metadata": {},
     "output_type": "execute_result"
    }
   ],
   "source": [
    "ratings_pivot.shape\n"
   ]
  },
  {
   "attachments": {},
   "cell_type": "markdown",
   "id": "843b4ac0",
   "metadata": {},
   "source": [
    "Representing a sparse matrix as 2D array leads to wastage of lots of memory as zeroes in the matrix are mostly useless in the representation. So, instead of storing zeroes with non-zero elements, we only store non-zero elements. This means storing non-zero elements with triples- (Row, Column, value)."
   ]
  },
  {
   "attachments": {},
   "cell_type": "markdown",
   "id": "2865393e",
   "metadata": {},
   "source": [
    "SciPy gives tools for creating sparse matrices using multiple data structures, as well as tools for converting a dense matrix to a sparse matrix. The function csr_matrix() is used to create a sparse matrix of compressed sparse row format."
   ]
  },
  {
   "attachments": {},
   "cell_type": "markdown",
   "id": "2ab76b72",
   "metadata": {},
   "source": [
    "The classes in sklearn.neighbors can handle either NumPy arrays or scipy.sparse matrices as input. We will use sparse matrix as input to the model for efficient memory storage and saving computing time."
   ]
  },
  {
   "cell_type": "code",
   "execution_count": 54,
   "id": "bc2c0cdc",
   "metadata": {
    "colab": {
     "base_uri": "https://localhost:8080/"
    },
    "id": "bc2c0cdc",
    "outputId": "783a9252-7c3b-4cb2-9868-6e96a02b0d7e"
   },
   "outputs": [
    {
     "data": {
      "text/plain": [
       "<6888x671 sparse matrix of type '<class 'numpy.float64'>'\n",
       "\twith 95928 stored elements in Compressed Sparse Row format>"
      ]
     },
     "execution_count": 54,
     "metadata": {},
     "output_type": "execute_result"
    }
   ],
   "source": [
    "from scipy.sparse import csr_matrix\n",
    "from sklearn.neighbors import NearestNeighbors\n",
    "\n",
    "movie_to_user_sparse_df = csr_matrix(ratings_pivot.values)\n",
    "movie_to_user_sparse_df"
   ]
  },
  {
   "cell_type": "code",
   "execution_count": 55,
   "id": "fcff0147",
   "metadata": {
    "colab": {
     "base_uri": "https://localhost:8080/"
    },
    "id": "fcff0147",
    "outputId": "e2e369ec-e917-4ccc-f8ee-569bd771dbf0"
   },
   "outputs": [
    {
     "data": {
      "text/html": [
       "<style>#sk-container-id-2 {color: black;}#sk-container-id-2 pre{padding: 0;}#sk-container-id-2 div.sk-toggleable {background-color: white;}#sk-container-id-2 label.sk-toggleable__label {cursor: pointer;display: block;width: 100%;margin-bottom: 0;padding: 0.3em;box-sizing: border-box;text-align: center;}#sk-container-id-2 label.sk-toggleable__label-arrow:before {content: \"▸\";float: left;margin-right: 0.25em;color: #696969;}#sk-container-id-2 label.sk-toggleable__label-arrow:hover:before {color: black;}#sk-container-id-2 div.sk-estimator:hover label.sk-toggleable__label-arrow:before {color: black;}#sk-container-id-2 div.sk-toggleable__content {max-height: 0;max-width: 0;overflow: hidden;text-align: left;background-color: #f0f8ff;}#sk-container-id-2 div.sk-toggleable__content pre {margin: 0.2em;color: black;border-radius: 0.25em;background-color: #f0f8ff;}#sk-container-id-2 input.sk-toggleable__control:checked~div.sk-toggleable__content {max-height: 200px;max-width: 100%;overflow: auto;}#sk-container-id-2 input.sk-toggleable__control:checked~label.sk-toggleable__label-arrow:before {content: \"▾\";}#sk-container-id-2 div.sk-estimator input.sk-toggleable__control:checked~label.sk-toggleable__label {background-color: #d4ebff;}#sk-container-id-2 div.sk-label input.sk-toggleable__control:checked~label.sk-toggleable__label {background-color: #d4ebff;}#sk-container-id-2 input.sk-hidden--visually {border: 0;clip: rect(1px 1px 1px 1px);clip: rect(1px, 1px, 1px, 1px);height: 1px;margin: -1px;overflow: hidden;padding: 0;position: absolute;width: 1px;}#sk-container-id-2 div.sk-estimator {font-family: monospace;background-color: #f0f8ff;border: 1px dotted black;border-radius: 0.25em;box-sizing: border-box;margin-bottom: 0.5em;}#sk-container-id-2 div.sk-estimator:hover {background-color: #d4ebff;}#sk-container-id-2 div.sk-parallel-item::after {content: \"\";width: 100%;border-bottom: 1px solid gray;flex-grow: 1;}#sk-container-id-2 div.sk-label:hover label.sk-toggleable__label {background-color: #d4ebff;}#sk-container-id-2 div.sk-serial::before {content: \"\";position: absolute;border-left: 1px solid gray;box-sizing: border-box;top: 0;bottom: 0;left: 50%;z-index: 0;}#sk-container-id-2 div.sk-serial {display: flex;flex-direction: column;align-items: center;background-color: white;padding-right: 0.2em;padding-left: 0.2em;position: relative;}#sk-container-id-2 div.sk-item {position: relative;z-index: 1;}#sk-container-id-2 div.sk-parallel {display: flex;align-items: stretch;justify-content: center;background-color: white;position: relative;}#sk-container-id-2 div.sk-item::before, #sk-container-id-2 div.sk-parallel-item::before {content: \"\";position: absolute;border-left: 1px solid gray;box-sizing: border-box;top: 0;bottom: 0;left: 50%;z-index: -1;}#sk-container-id-2 div.sk-parallel-item {display: flex;flex-direction: column;z-index: 1;position: relative;background-color: white;}#sk-container-id-2 div.sk-parallel-item:first-child::after {align-self: flex-end;width: 50%;}#sk-container-id-2 div.sk-parallel-item:last-child::after {align-self: flex-start;width: 50%;}#sk-container-id-2 div.sk-parallel-item:only-child::after {width: 0;}#sk-container-id-2 div.sk-dashed-wrapped {border: 1px dashed gray;margin: 0 0.4em 0.5em 0.4em;box-sizing: border-box;padding-bottom: 0.4em;background-color: white;}#sk-container-id-2 div.sk-label label {font-family: monospace;font-weight: bold;display: inline-block;line-height: 1.2em;}#sk-container-id-2 div.sk-label-container {text-align: center;}#sk-container-id-2 div.sk-container {/* jupyter's `normalize.less` sets `[hidden] { display: none; }` but bootstrap.min.css set `[hidden] { display: none !important; }` so we also need the `!important` here to be able to override the default hidden behavior on the sphinx rendered scikit-learn.org. See: https://github.com/scikit-learn/scikit-learn/issues/21755 */display: inline-block !important;position: relative;}#sk-container-id-2 div.sk-text-repr-fallback {display: none;}</style><div id=\"sk-container-id-2\" class=\"sk-top-container\"><div class=\"sk-text-repr-fallback\"><pre>NearestNeighbors(algorithm=&#x27;brute&#x27;)</pre><b>In a Jupyter environment, please rerun this cell to show the HTML representation or trust the notebook. <br />On GitHub, the HTML representation is unable to render, please try loading this page with nbviewer.org.</b></div><div class=\"sk-container\" hidden><div class=\"sk-item\"><div class=\"sk-estimator sk-toggleable\"><input class=\"sk-toggleable__control sk-hidden--visually\" id=\"sk-estimator-id-2\" type=\"checkbox\" checked><label for=\"sk-estimator-id-2\" class=\"sk-toggleable__label sk-toggleable__label-arrow\">NearestNeighbors</label><div class=\"sk-toggleable__content\"><pre>NearestNeighbors(algorithm=&#x27;brute&#x27;)</pre></div></div></div></div></div>"
      ],
      "text/plain": [
       "NearestNeighbors(algorithm='brute')"
      ]
     },
     "execution_count": 55,
     "metadata": {},
     "output_type": "execute_result"
    }
   ],
   "source": [
    "knn_model = NearestNeighbors(algorithm='brute')\n",
    "knn_model.fit(movie_to_user_sparse_df)"
   ]
  },
  {
   "cell_type": "code",
   "execution_count": 56,
   "id": "d63e65e6",
   "metadata": {
    "id": "d63e65e6"
   },
   "outputs": [],
   "source": [
    "movies_list = list(ratings_pivot.index)\n",
    "movie_dict = {movie : index for index, movie in enumerate(movies_list)}"
   ]
  },
  {
   "cell_type": "code",
   "execution_count": 57,
   "id": "72dd56f7",
   "metadata": {
    "id": "72dd56f7"
   },
   "outputs": [],
   "source": [
    "## function to find top n similar users of the given input user \n",
    "def get_similar_movies(movie, n = 10):\n",
    "    index = movie_dict[movie]\n",
    "    knn_input = np.asarray([ratings_pivot.values[index]])\n",
    "    n = min(len(movies_list)-1,n)\n",
    "    distances, indices = knn_model.kneighbors(knn_input, n_neighbors=n+1)\n",
    "    print(\"Top\",n,\"movies which are very much similar to the Movie-\",movie, \"are: \")\n",
    "    print(\" \")\n",
    "    recommended_list =[]\n",
    "    for i in range(1,len(distances[0])):\n",
    "        recommended_list.append(movies_list[indices[0][i]])\n",
    "    return recommended_list"
   ]
  },
  {
   "attachments": {},
   "cell_type": "markdown",
   "id": "f891d4c5",
   "metadata": {
    "id": "f891d4c5"
   },
   "source": [
    "Following output uses a modified version of above function that prints movie names instead of storing in a list, this latter version's use is explained below."
   ]
  },
  {
   "cell_type": "code",
   "execution_count": 58,
   "id": "d8f41e85",
   "metadata": {
    "colab": {
     "base_uri": "https://localhost:8080/"
    },
    "id": "d8f41e85",
    "outputId": "268df791-a35f-4eb6-aa06-21a4a316f537"
   },
   "outputs": [
    {
     "name": "stdout",
     "output_type": "stream",
     "text": [
      "Top 15 movies which are very much similar to the Movie- Godfather, The are: \n",
      " \n"
     ]
    },
    {
     "data": {
      "text/plain": [
       "['Godfather: Part II, The',\n",
       " 'Goodfellas',\n",
       " \"One Flew Over the Cuckoo's Nest\",\n",
       " 'Untouchables, The',\n",
       " 'Apocalypse Now',\n",
       " 'Full Metal Jacket',\n",
       " 'Reservoir Dogs',\n",
       " 'Unforgiven',\n",
       " 'Jerry Maguire',\n",
       " 'Airplane!',\n",
       " 'Casablanca',\n",
       " 'Jaws',\n",
       " 'Chinatown',\n",
       " 'American History X',\n",
       " 'Alien']"
      ]
     },
     "execution_count": 58,
     "metadata": {},
     "output_type": "execute_result"
    }
   ],
   "source": [
    "from pprint import pprint\n",
    "movie_name = 'Godfather, The'\n",
    "\n",
    "get_similar_movies(movie_name,15)"
   ]
  },
  {
   "attachments": {},
   "cell_type": "markdown",
   "id": "48d17150",
   "metadata": {
    "id": "48d17150"
   },
   "source": [
    "#### Now, for fast querying and to make sure we dont train model everytime we ask for recommendation. We'll apply the concept of pre-structuring, i.e. preprocessing and storing useful information for fast retrieval."
   ]
  },
  {
   "cell_type": "code",
   "execution_count": null,
   "id": "ee2cf90d",
   "metadata": {
    "id": "ee2cf90d"
   },
   "outputs": [],
   "source": [
    "# recommendations = {}\n",
    "# for i in movies_list:\n",
    "#     recommendations[i] = get_similar_movies(i)"
   ]
  },
  {
   "cell_type": "code",
   "execution_count": null,
   "id": "4a7db932",
   "metadata": {
    "id": "4a7db932"
   },
   "outputs": [],
   "source": [
    "# recommendations"
   ]
  },
  {
   "cell_type": "code",
   "execution_count": null,
   "id": "5ccc9b2e",
   "metadata": {
    "id": "5ccc9b2e"
   },
   "outputs": [],
   "source": [
    "# import sys\n",
    "\n",
    "# print(\"The size of the dictionary is {} kilobytes\".format(sys.getsizeof(recommendations)/1024))"
   ]
  },
  {
   "attachments": {},
   "cell_type": "markdown",
   "id": "b42b5f65",
   "metadata": {
    "id": "b42b5f65"
   },
   "source": [
    "We will pickle this dictionary."
   ]
  },
  {
   "cell_type": "code",
   "execution_count": null,
   "id": "eace78bd",
   "metadata": {
    "id": "eace78bd"
   },
   "outputs": [],
   "source": [
    "# import pickle\n",
    "# with open('prestructuring-results.pickle', 'wb') as handle:\n",
    "#     pickle.dump(recommendations, handle, protocol=pickle.HIGHEST_PROTOCOL)"
   ]
  },
  {
   "attachments": {},
   "cell_type": "markdown",
   "id": "z6a-G_vPu9Hx",
   "metadata": {
    "id": "z6a-G_vPu9Hx"
   },
   "source": [
    "At this stage in the submitted Phase 2 work, I have made use of 2nd approach in the API, that is recommending movies based only on movie name."
   ]
  },
  {
   "attachments": {},
   "cell_type": "markdown",
   "id": "0455a3d0",
   "metadata": {
    "id": "0455a3d0"
   },
   "source": [
    "In the next submission I hope to combine the 1st and 2nd Methods or develop a better model. Also, I hope to solve the cold start problem which hasnt been dealt with yet. The solution of pickling is an efficient solution assuming no new items are added, since that would call for re-training. I also aim to add that functionality, since pickling offers a very simple solution, though it speeds up the API calls by a huge margin(Since otherwise, we'll have to train the model everytime a request is sent)."
   ]
  },
  {
   "attachments": {},
   "cell_type": "markdown",
   "id": "36cc6b07",
   "metadata": {
    "id": "2506e460"
   },
   "source": [
    "## 3rd Method: Combining User Similarity Model and Item Similarity Model."
   ]
  },
  {
   "attachments": {},
   "cell_type": "markdown",
   "id": "7354dddd",
   "metadata": {},
   "source": [
    "##### Now we will combine the user based and item based models to give our results. The basic gist of this method is that it'll take input the userId as input and movie name. Based on these inputs, the model first finds the similar users to the given userID, collects the movies he/she has watched into a dataframe. Now, a knn model will be trained based on the distances from the given movie name to find most similar movies to them one requested to the user from the movies that similar users have watched."
   ]
  },
  {
   "attachments": {},
   "cell_type": "markdown",
   "id": "f7c9c334",
   "metadata": {},
   "source": [
    "### Nearest Neighbours Algorithm will be used extensively here"
   ]
  },
  {
   "attachments": {},
   "cell_type": "markdown",
   "id": "b576ff85",
   "metadata": {},
   "source": [
    "####  Brute Force\n",
    "Brute-force computation of distances between all pairs of points in the dataset: For N samples in  dimensions D, this approach scales as O(DN^2). Very competitive for small data samples. However, as the number of samples N grows, this approach becomes infeasible.\n",
    "\n",
    "#### KD Tree\n",
    "To address inefficiencies of Brute-Force methods, tree-based data structures used. In general, these models try to reduce number of distance calculations by efficiently encoding distance information for sample. Basic idea is if A is distant from B and B is close to C, then we know C is also far from A without any calculations. Computational Cost reduces to O(DNlog(N)) or better.\n",
    "Construction is fast, once constructed nearest neighbour computed in O(log(N)) computations. Very fast for low-dimensional D<20 neighbour searches. It becomes inefficient as D increases.\n",
    "\n",
    "#### Ball Tree\n",
    "To address KD Trees inefficiencies and mantain the good points of it. Tree construction is more costly however it results into a very efficient one even in high dimensions. \n",
    "\n",
    "\n",
    "##### Since, NearestNeighbour has default parameter 'auto' for algorithm it chooses, so it may be choosing 'ball-tree' only for the high sample and high dimensional data that is our ratings_pivot but we'll make that choice explicitly now."
   ]
  },
  {
   "cell_type": "code",
   "execution_count": 235,
   "id": "e21b53e9",
   "metadata": {},
   "outputs": [
    {
     "data": {
      "text/plain": [
       "NearestNeighbors(algorithm='ball_tree')"
      ]
     },
     "execution_count": 235,
     "metadata": {},
     "output_type": "execute_result"
    }
   ],
   "source": [
    "knn_model = NearestNeighbors(algorithm='ball_tree')\n",
    "knn_model.fit(ratings_pivot.values)"
   ]
  },
  {
   "cell_type": "code",
   "execution_count": 240,
   "id": "93d68450",
   "metadata": {
    "id": "93d68450"
   },
   "outputs": [],
   "source": [
    "from pprint import pprint\n",
    "\n",
    "def recommender_system_3(user_id, movie_name,n_similar_users, n_movies):\n",
    "    # This system recommends the top movies watched by the similar users to user with Id -- user_id\n",
    "    # And based on the number of n_similar_users and n_movies to recommend we output the recommendations.\n",
    "    \n",
    "    #List to store movies seen by user\n",
    "    movies_seen = list(refined_dataset[refined_dataset['userId'] == user_id]['title'])\n",
    "    print(movies_seen)\n",
    "    def get_similar_users(user, n = 5):\n",
    "        knn_input = np.asarray([user_to_movie_df.values[user-1]])\n",
    "        # Similar to function we made above\n",
    "        distances, indices = knn_model_user.kneighbors(knn_input, n_neighbors=n+1)\n",
    "        print(\"Top\",n,\"users who are very much similar to the User-\",user, \"are: \")\n",
    "        print(\" \")\n",
    "        for i in range(1,len(distances[0])):\n",
    "            print(i,\". User:\", indices[0][i]+1, \"separated by distance of\",distances[0][i])\n",
    "            print(\"\")\n",
    "        return indices.flatten()[1:] + 1, distances.flatten()[1:]\n",
    "    \n",
    "    \n",
    "    def recommend_userbased():\n",
    "         #Outputs indices of movies as rated by similar users\n",
    "        similar_users_movies_indices = np.argsort(mean_rating_list)[::-1]\n",
    "        similar_user_movie_names = movies_df[movies_df['movieId'].isin(similar_users_movies_indices)]['title'].values\n",
    "        return similar_user_movie_names\n",
    "\n",
    "\n",
    "    def get_similar_movies(movie):\n",
    "        # Outputs the movies similar to the given movie name.\n",
    "        index = movie_dict[movie]\n",
    "        knn_input = np.asarray([ratings_pivot.values[index]])\n",
    "        distances, indices = knn_model.kneighbors(knn_input,20)\n",
    "        recommended_list =[]\n",
    "        for i in range(1,len(distances[0])):\n",
    "            recommended_list.append(movies_list[indices[0][i]])\n",
    "        return recommended_list\n",
    "\n",
    "        \n",
    "        \n",
    "    similar_users, distances = get_similar_users(user_id,n_similar_users)\n",
    "    weightage_list = distances/np.sum(distances)\n",
    "    similar_users_ratings = user_to_movie_df.values[similar_users]\n",
    "    movies_list = user_to_movie_df.columns\n",
    "    weightage_list = weightage_list[:,np.newaxis] + np.zeros(len(movies_list))\n",
    "    new_rating_matrix = weightage_list*similar_users_ratings\n",
    "    mean_rating_list = new_rating_matrix.sum(axis =0)\n",
    "    similar_users_movies = recommend_userbased()\n",
    "    # Filtering out the movies already seen by user\n",
    "    filtered_similar_movies = [i for i in similar_users_movies if i not in movies_seen]\n",
    "    print(filtered_similar_movies)\n",
    "    recommended_list =  get_similar_movies(movie_name)\n",
    "    final_list = [i for i in recommended_list if i in filtered_similar_movies]\n",
    "    print(final_list)\n",
    "    return final_list[:n_movies]\n"
   ]
  },
  {
   "cell_type": "code",
   "execution_count": 241,
   "id": "a8876a6c",
   "metadata": {},
   "outputs": [
    {
     "name": "stdout",
     "output_type": "stream",
     "text": [
      "Enter user id\n",
      "610\n",
      "number of similar users to be considered\n",
      "6\n",
      "Enter number of movies to be recommended:\n",
      "6\n",
      "Enter Name of movie:\n",
      "Toy Story\n",
      "[\"'71\", '(500) Days of Summer', '10 Cloverfield Lane', '127 Hours', '13 Assassins (Jûsan-nin no shikaku)', '13 Hours', '13 Sins', '1408', '16 Blocks', '2 Fast 2 Furious (Fast and the Furious 2, The)', '2001 Maniacs', '2001: A Space Odyssey', '2012', '22 Jump Street', '25th Hour', '28 Days Later', '28 Weeks Later', '30 Days of Night', '300', '3000 Miles to Graceland', '31', '3:10 to Yuma', '40-Year-Old Virgin, The', '48 Hrs.', '50 First Dates', '50/50', '6th Day, The', '9', 'A Million Ways to Die in the West', 'A-Team, The', 'A.I. Artificial Intelligence', 'ABCs of Death, The', 'AVP: Alien vs. Predator', 'AVPR: Aliens vs. Predator - Requiem', 'Abandoned, The', 'About Time', 'About a Boy', 'Abraham Lincoln: Vampire Hunter', 'Absentia', 'Abyss, The', 'Accidental Spy, The (Dak miu mai shing)', 'Ace Ventura: Pet Detective', 'Adaptation', 'Adjustment Bureau, The', 'Adventures of Baron Munchausen, The', 'Adventures of Tintin, The', 'Afflicted', 'After Hours', 'Age of Innocence, The', 'Airplane!', 'Akira', \"Alice Doesn't Live Here Anymore\", 'Alien', 'Aliens', 'Almost Famous', 'Along Came Polly', 'Altered', 'Amazing Spider-Man, The', \"Amelie (Fabuleux destin d'Amélie Poulain, Le)\", 'American Beauty', 'American Gangster', 'American Hustle', 'American Outlaws', 'American Pie 2', 'American Psycho', 'American Splendor', 'American, The', 'Anchorman 2: The Legend Continues', 'Anchorman: The Legend of Ron Burgundy', 'And Your Mother Too (Y tu mamá también)', 'Anger Management', 'Animal House', 'Annie Hall', 'Ant-Man', 'Antichrist', 'Apartment, The', 'Apocalypse Now', 'Argo', 'Armour of God (Long xiong hu di)', 'Armour of God II: Operation Condor (Operation Condor) (Fei ying gai wak)', 'Army of Darkness', 'Around the World in 80 Days', 'Arrival', 'Art of War, The', 'As Above, So Below', 'As Good as It Gets', 'Assault on Precinct 13', 'Audition (Ôdishon)', 'Austin Powers in Goldmember', 'Avatar', 'Avengers, The', 'Avengers: Age of Ultron', 'Aviator, The', 'Babadook, The', 'Back to the Future', 'Bad Boys II', 'Bad News Bears', 'Bad News Bears, The', 'Bad Santa', 'Bad Taste', 'Bamboozled', 'Bank Job, The', 'Barking Dogs Never Bite (Flandersui gae)', 'Barton Fink', 'Batman', 'Batman Begins', 'Batman Forever', 'Batman v Superman: Dawn of Justice', 'Battle Royale (Batoru rowaiaru)', 'Battles Without Honor & Humanity (Jingi naki tatakai)', 'Bay, The', 'Be Kind Rewind', 'Beach, The', 'Beasts of the Southern Wild', 'Bedazzled', 'Before Sunrise', 'Behind Enemy Lines', 'Behind the Mask: The Rise of Leslie Vernon', 'Belly', 'Beowulf', 'Bernie', 'Best in Show', 'Better Tomorrow II, A (Ying hung boon sik II)', 'Better Tomorrow, A (Ying hung boon sik)', 'Beyond Re-Animator', 'Bicycle Thieves (a.k.a. The Bicycle Thief) (a.k.a. The Bicycle Thieves) (Ladri di biciclette)', 'Big Fish', 'Big Hero 6', 'Big Lebowski, The', \"Big Momma's House\", 'Big Short, The', 'Big Trouble in Little China', 'Billy Elliot', 'Bird People in China, The (Chûgoku no chôjin)', 'Birdemic: Shock and Terror', 'Birdman: Or (The Unexpected Virtue of Ignorance)', 'Bittersweet Life, A (Dalkomhan insaeng)', 'Black Hawk Down', 'Black Knight', 'Black Sheep', 'Black Swan', 'Blade II', 'Blade Runner', 'Blade: Trinity', 'Blades of Glory', 'Blair Witch', 'Blazing Saddles', 'Blind Fury', 'Blood Creek (a.k.a. Town Creek)', 'Blood Diamond', 'Blood Simple', 'Blood: The Last Vampire', 'Bloodmoon', 'Bloodsport: The Dark Kumite', 'Blue Valentine', 'Blue Velvet', 'Boiler Room', 'Bone Tomahawk', 'Bones', 'Bonnie and Clyde', 'Book of Eli, The', 'Book of Shadows: Blair Witch 2', 'Borat: Cultural Learnings of America for Make Benefit Glorious Nation of Kazakhstan', 'Bourne Identity, The', 'Bourne Legacy, The', 'Bourne Supremacy, The', 'Bourne Ultimatum, The', 'Bowling for Columbine', 'Boxcar Bertha', 'Boy Meets Girl', 'Boyhood', 'Branded to Kill (Koroshi no rakuin)', 'Brave', 'Braveheart', 'Brazil', 'Breakfast Club, The', 'Brick', 'Bridesmaids', 'Bridge of Spies', \"Bridget Jones's Diary\", 'Bring It On', 'Bringing Out the Dead', 'Broken Arrow', 'Broken Flowers', 'Brotherhood of the Wolf (Pacte des loups, Le)', 'Brothers', 'Brothers Bloom, The', 'Brothers Grimm, The', 'Bruce Almighty', 'Brüno (Bruno)', 'Bubba Ho-tep', 'Buffalo Soldiers', \"Bug's Life, A\", 'Bullet in the Head', 'Bulletproof Monk', 'Bully', 'Buried', 'Burn After Reading', 'Burrowers, The', 'Cabin Fever', 'Cabin in the Woods, The', 'Cable Guy, The', 'Caddyshack', 'Cape Fear', 'Captain America: Civil War', 'Captain America: The Winter Soldier', 'Captain Phillips', 'Cars', 'Cars 2', 'Casablanca', 'Casino', 'Casino Royale', 'Casshern', 'Cast Away', 'Catch Me If You Can', 'Cell, The', 'Cellular', 'Cemetery Man (Dellamorte Dellamore)', 'Chappie', 'Charlie and the Chocolate Factory', \"Charlie's Angels\", \"Charlie's Angels: Full Throttle\", 'Chi-Raq', 'Chicken Run', 'Children of Men', 'Children, The', 'Christine', 'Chronicle', 'Chronicles of Riddick, The', 'Cigarette Burns', 'Citizen Kane', 'City Hunter (Sing si lip yan)', 'City of God (Cidade de Deus)', 'City of Lost Souls, The (Hyôryuu-gai)', 'Clerks II', 'Click', 'Clockers', 'Close Range', 'Cloud Atlas', 'Cloudy with a Chance of Meatballs', 'Cloverfield', 'Clown', 'Club Dread', 'Coffee and Cigarettes', 'Cold Fish (Tsumetai nettaigyo)', 'Collateral', 'Collateral Damage', 'Collector, The', 'Color of Money, The', 'Confessions of a Dangerous Mind', 'Conjuring, The', 'Constantine', 'Cool Hand Luke', 'Cooties', 'Coraline', 'Corpse Bride', 'Cottage, The', 'Cowboy Bebop: The Movie (Cowboy Bebop: Tengoku no Tobira)', 'Cowboys & Aliens', 'Coyote Ugly', 'Crank', 'Crank: High Voltage', 'Crazy, Stupid, Love.', 'Creep', 'Creepshow', 'Crime Story (Zhong an zu)', 'Crimson Peak', 'Crippled Avengers (Can que) (Return of the 5 Deadly Venoms)', 'Crouching Tiger, Hidden Dragon (Wo hu cang long)', 'Crow, The: Wicked Prayer', 'Crows Zero (Kurôzu zero)', 'Cursed', 'Da Sweet Blood of Jesus', 'Dallas Buyers Club', 'Dance of the Dead', 'Daredevil', 'Darjeeling Limited, The', 'Dark Crystal, The', 'Dark Knight Rises, The', 'Dark Knight, The', 'Dark Skies', 'Darkest Hour, The', 'Darkman', 'Darkness Falls', 'Dawn of the Dead', 'Dawn of the Planet of the Apes', 'Day After Tomorrow, The', 'Day Watch (Dnevnoy dozor)', 'Day of the Dead', 'Day the Earth Stood Still, The', 'Daybreakers', 'Dazed and Confused', 'Dead Alive (Braindead)', 'Dead End', 'Dead Heat', 'Dead Man', \"Dead Man's Shoes\", 'Dead Silence', 'Dead Snow (Død snø)', 'Dead Snow 2: Red vs. Dead ', 'Dead or Alive 2: Tôbôsha', 'Dead or Alive: Hanzaisha', 'Deadly Outlaw: Rekka (a.k.a. Violent Fire) (Jitsuroku Andô Noboru kyôdô-den: Rekka)', 'Deadpool', 'Death Proof', 'Deaths of Ian Stone, The', 'Deep Red (Profondo rosso)', 'Deliver Us from Evil', 'Den, The', 'Departed, The', 'Derailed', 'Descendants, The', 'Descent, The', 'Despicable Me', 'Devil', \"Devil's Backbone, The (Espinazo del diablo, El)\", \"Devil's Rejects, The\", 'Devils on the Doorstep (Guizi lai le)', 'Diary of the Dead', 'Die Hard', 'Digging Up the Marrow', 'Digimon: The Movie', 'Dirty Dozen, The', 'District 13 (Banlieue 13)', 'District 9', 'Disturbia', 'Django Unchained', 'Do the Right Thing', 'Dobermann', 'Doctor Strange', 'Dog Day Afternoon', 'Dog Soldiers', 'Domino', \"Don't Be Afraid of the Dark\", \"Don't Breathe\", 'Donnie Darko', 'Doom', 'Dope', 'Down Terrace', 'Down by Law', 'Down to Earth', 'Dr. Dolittle 2', 'Dr. Strangelove or: How I Learned to Stop Worrying and Love the Bomb', 'Dracula 2000', 'Dracula Untold', 'Drag Me to Hell', 'Dragon Lord (a.k.a. Dragon Strike) (Long Xiao Ye)', 'Dreamcatcher', 'Drive', 'Drunken Master (Jui kuen)', 'Duck, You Sucker', 'Dumb & Dumber (Dumb and Dumber)', 'Dumb and Dumber To', 'Dungeons & Dragons', 'E.T. the Extra-Terrestrial', 'Eagle Eye', 'Eastern Promises', 'Edge of Tomorrow', 'Elf', 'Elite Squad (Tropa de Elite)', 'Elysium', \"Emperor's New Groove, The\", 'Encounters at the End of the World', 'End of Watch', \"Ender's Game\", 'Enemy', 'Enter the Dragon', 'Enter the Void', 'Equalizer, The', 'Equilibrium', 'Escape From Tomorrow', 'Escape from L.A.', 'Escape from New York', 'Eternal Sunshine of the Spotless Mind', 'Everybody Wants Some', 'Evil Dead', 'Evil Dead II (Dead by Dawn)', 'Evil Dead, The', 'Evolution', 'Ewok Adventure, The (a.k.a. Caravan of Courage: An Ewok Adventure)', 'Ewoks: The Battle for Endor', 'Exorcism of Emily Rose, The', 'Exorcist, The', 'Expendables 2, The', 'Expendables, The', 'Exte: Hair Extensions', 'FLCL', 'Face/Off', 'Family Man, The', 'Family, The', 'Fantastic Mr. Fox', 'Fargo', 'Fast & Furious (Fast and the Furious 4, The)', 'Fast & Furious 6 (Fast and the Furious 6, The)', 'Fast Five (Fast and the Furious 5, The)', 'Fast and the Furious, The', 'Fast and the Furious: Tokyo Drift, The (Fast and the Furious 3, The)', 'Fear and Loathing in Las Vegas', 'Fearless Hyena, The (Xiao quan guai zhao)', 'Feast', 'Femme Nikita, La (Nikita)', \"Ferris Bueller's Day Off\", 'Fever Pitch', 'Fido', 'Field in England, A', 'Fifth Element, The', 'Fight Club', 'Fighter, The', 'Final Destination', 'Final Destination 2', 'Final Destination 3', 'Final Destination, The (Final Destination 4) (Final Destination in 3-D, The)', 'Final Fantasy: The Spirits Within', 'Finding Dory', 'Finding Nemo', 'First Blood (Rambo: First Blood)', 'First Strike (Police Story 4: First Strike) (Ging chaat goo si 4: Ji gaan daan yam mo)', 'Fisher King, The', 'Fistful of Dollars, A (Per un pugno di dollari)', 'Five Deadly Venoms', 'Five Element Ninjas', 'Flesh & Blood', 'Flintstones in Viva Rock Vegas, The', 'Fog, The', 'For a Few Dollars More (Per qualche dollaro in più)', 'For the Birds', 'Forbidden Kingdom, The', 'Forgetting Sarah Marshall', 'Forrest Gump', 'Fountain, The', 'Four Brothers', 'Four Lions', 'Fracture', 'Frailty', 'Freddy vs. Jason', 'French Connection, The', 'From Beyond', 'From Dusk Till Dawn', 'Frontière(s)', 'Frozen', 'Fugitive, The', 'Full Metal Jacket', 'Funny Games U.S.', 'Funny People', 'Furious 7', 'Fury', 'Gamer', 'Gangs of New York', 'Garden State', 'Gen-X Cops', \"Geri's Game\", 'Get Out', 'Get on the Bus', 'Ghost Dog: The Way of the Samurai', 'Ghost Rider', 'Ghost World', 'Ghost in the Shell (Kôkaku kidôtai)', 'Ghostbusters', 'Ghostbusters (a.k.a. Ghost Busters)', 'Ghosts of Mars', 'Gift, The', 'Ginger Snaps', 'Ginger Snaps Back: The Beginning', 'Ginger Snaps: Unleashed', 'Girl Walks Home Alone at Night, A', 'Girl Who Leapt Through Time, The (Toki o kakeru shôjo)', 'Girl with the Dragon Tattoo, The', 'Gladiator', 'Godfather, The', 'Godfather: Part II, The', 'Godzilla', 'Gone Baby Gone', 'Gone Girl', 'Gone in 60 Seconds', 'Good, the Bad and the Ugly, The (Buono, il brutto, il cattivo, Il)', 'Good, the Bad, the Weird, The (Joheunnom nabbeunnom isanghannom)', 'Goodfellas', 'Goodnight Mommy (Ich seh ich seh)', 'Gossip', 'Gozu (Gokudô kyôfu dai-gekijô: Gozu)', 'Grabbers', 'Graduate, The', 'Grand Budapest Hotel, The', 'Grave Encounters', 'Great Yokai War, The (Yôkai daisensô)', 'Green Hornet, The', 'Green Mile, The', 'Green Zone', 'Grindhouse', 'Groundhog Day', 'Guardians of the Galaxy', 'Guest, The', 'Hail, Caesar!', 'Hall Pass', 'Halloween', 'Halloween II', 'Halloween: Resurrection (Halloween 8)', 'Hancock', 'Hangover, The', 'Hanna', 'Hannibal', 'Hansel & Gretel: Witch Hunters', 'Happening, The', 'Happiness of the Katakuris, The (Katakuri-ke no kôfuku)', 'Hard Candy', 'Hard Target', 'Hard-Boiled (Lat sau san taam)', 'Harold & Kumar Escape from Guantanamo Bay', 'Harold and Kumar Go to White Castle', 'Harry Potter and the Chamber of Secrets', 'Harry Potter and the Deathly Hallows: Part 1', 'Harry Potter and the Deathly Hallows: Part 2', 'Harry Potter and the Goblet of Fire', 'Harry Potter and the Half-Blood Prince', 'Harry Potter and the Order of the Phoenix', 'Harry Potter and the Prisoner of Azkaban', \"Harry Potter and the Sorcerer's Stone (a.k.a. Harry Potter and the Philosopher's Stone)\", 'Hatchet', 'Hatchet II', 'Hatchet III', 'Haunter', 'Hazard', 'He Got Game', 'He Never Died', 'Headhunters (Hodejegerne)', 'Heartbreak Kid, The', 'Heartbreakers', 'Heartless', 'Hearts in Atlantis', 'Heat', 'Hell or High Water', 'Hellboy', 'Hellboy II: The Golden Army', 'Hellraiser', 'Her', 'Hero (Ying xiong)', 'Hidalgo', 'High Fidelity', 'High Noon', 'High Rise', 'High Tension (Haute tension) (Switchblade Romance)', 'Highlander: Endgame (Highlander IV)', 'Hills Have Eyes, The', 'Himizu', 'History of Violence, A', 'Hitch', 'Hitchcock/Truffaut', \"Hitchhiker's Guide to the Galaxy, The\", 'Hitman', 'Hobbit: An Unexpected Journey, The', 'Hollow Man', 'Holy Motors', 'Honeymoon', 'Horde, The (La Horde)', 'Horns', 'Horrible Bosses', 'Host, The (Gwoemul)', 'Hostage', 'Hostel', 'Hostel: Part II', 'Hot Fuzz', 'Hot Tub Time Machine', 'House of 1000 Corpses', 'House of Flying Daggers (Shi mian mai fu)', 'House of the Dead, The', 'House of the Devil, The', 'Housebound', 'How the Grinch Stole Christmas (a.k.a. The Grinch)', 'How to Train Your Dragon', 'How to Train Your Dragon 2', 'Hudsucker Proxy, The', 'Hugo', 'Hurt Locker, The', 'Hush', 'Hustler, The', 'I Am Legend', 'I Heart Huckabees', 'I Love You, Man', 'I Saw the Devil (Akmareul boatda)', 'I Sell the Dead', \"I'm a Cyborg, But That's OK (Saibogujiman kwenchana)\", 'I, Robot', 'Ichi the Killer (Koroshiya 1)', 'Identity', 'Idiocracy', 'Igby Goes Down', 'Imaginarium of Doctor Parnassus, The', 'In Bruges', 'In the Mood For Love (Fa yeung nin wa)', 'In the Mouth of Madness', 'Inception', 'Incredible Hulk, The', 'Incredibles, The', 'Independence Day (a.k.a. ID4)', 'Indiana Jones and the Kingdom of the Crystal Skull', 'Indiana Jones and the Last Crusade', 'Infernal Affairs (Mou gaan dou)', 'Inglourious Basterds', 'Inherent Vice', 'Inland Empire', 'Innkeepers, The', \"Inside (À l'intérieur)\", 'Inside Llewyn Davis', 'Inside Man', 'Inside Out', 'Insidious', 'Insidious: Chapter 2', 'Insidious: Chapter 3', 'Insomnia', 'Interstellar', 'Into the Wild', 'Intolerable Cruelty', 'Invincible Shaolin', 'Ip Man', 'Iron Man', 'Iron Man 2', 'Iron Man 3', 'Irreversible (Irréversible)', 'Island, The', 'It Follows', 'Italian Job, The', 'Jack Reacher', 'Jarhead', 'Jason X', 'Jeepers Creepers', 'Jimmy Neutron: Boy Genius', 'Joe Dirt', 'John Carter', 'John Dies at the End', 'John Q', 'John Wick', 'John Wick: Chapter Two', 'Joint Security Area (Gongdong gyeongbi guyeok JSA)', 'Joy Ride', 'Jumper', 'Juno', 'Jupiter Ascending', 'Jurassic Park', 'Jurassic Park III', 'Jurassic World', 'Kick-Ass', 'Kick-Ass 2', 'Kill Bill: Vol. 1', 'Kill Bill: Vol. 2', 'Kill Command', 'Kill List', 'Killer, The (Die xue shuang xiong)', 'King Kong', 'King of Comedy (Hei kek ji wong)', 'King of Comedy, The', \"King's Speech, The\", 'Kingdom of Heaven', 'Kingdom, The', 'Kingpin', 'Kingsman: The Secret Service', 'Kiss Kiss Bang Bang', 'Kiss of the Dragon', \"Knight's Tale, A\", 'Knocked Up', 'Knowing', 'Krampus', 'Kundun', 'Kung Fu Hustle (Gong fu)', 'Kung Fu Panda', 'Kung Fu Panda 2', 'Kung Fu Panda 3', 'Labyrinth', 'Lady Vengeance (Sympathy for Lady Vengeance) (Chinjeolhan geumjassi)', 'Lady in the Water', 'Ladykillers, The', 'Lara Croft: Tomb Raider', 'Lars and the Real Girl', 'Last Boy Scout, The', 'Last Castle, The', 'Last Exorcism, The', 'Last Hurrah for Chivalry (Hao xia)', 'Last Life in the Universe (Ruang rak noi nid mahasan)', 'Last Samurai, The', 'Last Shift', 'Last Temptation of Christ, The', 'Last Winter, The', 'Layer Cake', 'League of Extraordinary Gentlemen, The (a.k.a. LXG)', 'Legend', 'Legend of Drunken Master, The (Jui kuen II)', \"Lemony Snicket's A Series of Unfortunate Events\", 'Let Me In', 'Let the Right One In (Låt den rätte komma in)', 'Lethal Weapon', 'Liar Liar', 'Life After Beth', 'Life Aquatic with Steve Zissou, The', 'Life Less Ordinary, A', 'Life of Pi', 'Lifted', 'Lights Out', 'Lilo & Stitch', 'Limits of Control, The', 'Little Big Soldier (Da bing xiao jiang)', 'Little Miss Sunshine', 'Little Nicky', 'Live Free or Die Hard', 'Lives of Others, The (Das leben der Anderen)', 'Logan', 'Lone Ranger, The', 'Lone Survivor', 'Long Kiss Goodnight, The', 'Lookout, The', 'Looper', 'Lord of the Rings: The Fellowship of the Ring, The', 'Lord of the Rings: The Return of the King, The', 'Lord of the Rings: The Two Towers, The', 'Lords of Salem, The', 'Loser', 'Losers, The', 'Lost in Translation', 'Love Actually', 'Love Exposure (Ai No Mukidashi)', 'Lucky Number Slevin', 'Lucy', 'Léon: The Professional (a.k.a. The Professional) (Léon)', 'Machete', 'Mad Max: Fury Road', 'Malcolm X', \"Man Who Wasn't There, The\", 'Man of Steel', 'Man on Fire', 'Man on Wire', 'Man on the Moon', 'Manchurian Candidate, The', 'Maniac', 'Maniac Cop', 'Maniac Cop 2', 'Mary and Max', 'Mask, The', 'Masked Avengers', 'Master and Commander: The Far Side of the World', 'Matchstick Men', 'Matrix Reloaded, The', 'Matrix Revolutions, The', 'Matrix, The', 'May', 'Maze Runner, The', 'Me, Myself & Irene', 'Mean Girls', 'Mean Streets', 'Mechanic, The', 'Medallion, The', 'Meet the Fockers', 'Meet the Parents', 'Melancholia', 'Memento', 'Memoirs of an Invisible Man', 'Memories of Murder (Salinui chueok)', 'Men Who Stare at Goats, The', 'Men in Black II (a.k.a. MIIB) (a.k.a. MIB 2)', 'Men in Black III (M.III.B.) (M.I.B.³)', 'Merantau', 'Miami Vice', 'Midnight Meat Train, The', 'Mighty Wind, A', \"Miller's Crossing\", 'Millions', 'Mind Game', 'Mindhunters', 'Minority Report', 'Miracles - Mr. Canton and Lady Rose', 'Mirrors', 'Miss Congeniality', 'Mission: Impossible - Ghost Protocol', 'Mission: Impossible - Rogue Nation', 'Mission: Impossible II', 'Mission: Impossible III', 'Mist, The', \"Mo' Better Blues\", 'Monsters University', 'Monsters, Inc.', 'Monty Python and the Holy Grail', \"Monty Python's Life of Brian\", \"Monty Python's The Meaning of Life\", 'Moon', 'Moonrise Kingdom', 'Mother (Madeo)', 'Mothman Prophecies, The', 'Moulin Rouge', 'Movie 43', 'Mr. & Mrs. Smith', 'Mr. Deeds', 'Mr. Nice Guy (Yat goh ho yan)', 'Mr. Nobody', 'Mulholland Drive', 'Mummy Returns, The', 'Munich', 'My Dinner with André', 'My Life as a Dog (Mitt liv som hund)', 'My Lucky Stars (Fuk sing go jiu)', 'Mystery Train', 'Napoleon Dynamite', 'Narc', \"National Lampoon's Van Wilder\", 'Near Dark', 'NeverEnding Story, The', 'New One-Armed Swordsman, The (Xin du bi dao)', 'New Police Story (Xin jing cha gu shi)', 'New York, New York', 'Night Watch (Nochnoy dozor)', 'Night of the Creeps', 'Night of the Living Dead', 'Night on Earth', 'Nightcrawler', 'Nightmare on Elm Street, A', 'Ninja', 'Ninja: Shadow of a Tear', 'No Country for Old Men', 'Non-Stop', 'Now You See Me', 'Now You See Me 2', 'Nurse Betty', 'Nutty Professor II: The Klumps', 'O Brother, Where Art Thou?', 'Oblivion', \"Ocean's Eleven\", 'Oculus', 'Old Boy', 'Omen, The', 'Once Upon a Time in America', 'Once Upon a Time in Mexico', \"Once Upon a Time in the West (C'era una volta il West)\", 'Once a Thief (Zong heng si hai)', 'One Hour Photo', 'One Man Band', 'One, The', 'One-Armed Swordsman, The (Dubei dao)', 'Ong-Bak: The Thai Warrior (Ong Bak)', 'Only Lovers Left Alive', 'Open Range', 'Opera', 'Orange County', 'Original Kings of Comedy, The', 'Other Guys, The', 'Others, The', 'Oz the Great and Powerful', 'Pacific Rim', 'Pact, The', \"Pan's Labyrinth (Laberinto del fauno, El)\", 'Pandorum', 'Panic Room', 'Paranormal Activity', 'Paranormal Activity 2', 'Paranormal Activity 3', 'Paranormal Activity 4', 'Patriot, The', 'Paul', 'Paycheck', 'Pearl Harbor', 'Perfect Getaway, A', 'Phantasm', 'Phone Booth', 'Pineapple Express', 'Piranha (Piranha 3D)', \"Pirates of the Caribbean: At World's End\", \"Pirates of the Caribbean: Dead Man's Chest\", 'Pirates of the Caribbean: On Stranger Tides', 'Pirates of the Caribbean: The Curse of the Black Pearl', 'Pitch Black', 'Place Beyond the Pines, The', 'Planet Terror', 'Planet of the Apes', 'Platoon', 'Police Story (Ging chaat goo si)', 'Police Story 2 (Ging chaat goo si juk jaap)', 'Pontypool', 'Predator', 'Predators', 'Predestination', 'Prestige, The', 'Priest', 'Primer', 'Prince of Darkness', 'Princess Bride, The', 'Prisoners', \"Project A ('A' gai waak)\", \"Project A 2 ('A' gai wak juk jap)\", 'Prometheus', 'Proposition, The', 'Pulp Fiction', 'Pulse (Kairo)', 'Punch-Drunk Love', 'Punisher, The', 'Purge, The', 'Purge: Anarchy, The', 'Quantum of Solace', 'Queen of the Damned', 'Quick and the Dead, The', 'Raging Bull', 'Raiders of the Lost Ark (Indiana Jones and the Raiders of the Lost Ark)', 'Raising Arizona', 'Rambo (Rambo 4)', 'Rango', 'Rapture-Palooza', 'Rat Race', 'Ratatouille', 'Re-Animator', 'Reality', 'Reaping, The', 'Rear Window', 'Red', 'Red 2', 'Red Cliff (Chi bi)', 'Red Cliff Part II (Chi Bi Xia: Jue Zhan Tian Xia)', 'Red Dawn', 'Red Dragon', 'Red Eye', 'Red Hill', 'Red Planet', 'Reign of Fire', 'Remember the Titans', 'Requiem', 'Requiem for a Dream', 'Reservoir Dogs', 'Resident Evil', 'Resident Evil: Afterlife', 'Resident Evil: Apocalypse', 'Resident Evil: Extinction', 'Resolution', 'Return of the Living Dead, The', 'Return of the One-Armed Swordsman', 'Revolver', 'Riddick', 'Ring, The', 'Rise of the Planet of the Apes', 'Road Trip', 'Road Warrior, The (Mad Max 2)', 'Road to Perdition', 'Robin-B-Hood (Bo bui gai wak)', 'RoboCop', 'RoboCop 3', 'RocknRolla', 'Rogue', 'Rogue One: A Star Wars Story', 'Romeo Must Die', 'Room', 'Room for Romeo Brass, A', 'Royal Tenenbaums, The', 'Rubber', 'Ruby Sparks', 'Ruins, The', 'Rumble in the Bronx (Hont faan kui)', 'Run All Night', 'Rundown, The', 'Running Man, The', 'Rush', 'Rush Hour', 'Rush Hour 2', 'Rush Hour 3', 'S.W.A.T.', 'Sacrament, The', 'Safe House', 'Safety Not Guaranteed', 'Salt', 'Salton Sea, The', 'Sausage Party', 'Save the Last Dance', 'Saved!', 'Saving Private Ryan', 'Saw', 'Saw II', 'Scanner Darkly, A', 'Scarface', 'Scary Movie', 'Scary Movie 2', \"Schindler's List\", 'School Daze', 'School of Rock', 'Science of Sleep, The (La science des rêves)', 'Scooby-Doo 2: Monsters Unleashed', 'Score, The', 'Scott Pilgrim vs. the World', 'Scouts Guide to the Zombie Apocalypse', 'Scream 3', 'Scream 4', 'Secret Life of Walter Mitty, The', 'Secretary', 'Serious Man, A', 'Session 9', 'Seven (a.k.a. Se7en)', 'Seven Psychopaths', 'Severance', 'Sexy Beast', 'Shaft', 'Shallow Grave', 'Shallow Hal', 'Shanghai Knights', 'Shanghai Noon', 'Shaolin Soccer (Siu lam juk kau)', 'Shaolin Temple (Shao Lin si)', 'Sharknado', 'Shaun of the Dead', 'Shawshank Redemption, The', \"She's Gotta Have It\", 'Shepherd: Border Patrol, The', 'Sherlock Holmes', 'Sherlock Holmes: A Game of Shadows', 'Shining, The', \"Shoot 'Em Up\", 'Shooter', 'Short Term 12', 'Shrek', 'Shutter Island', 'Sicario', 'Side Effects', 'Sideways', 'Sightseers', 'Signal, The', 'Signs', 'Silence of the Lambs, The', 'Silent Hill', 'Silver Linings Playbook', 'Simple Plan, A', 'Simpsons Movie, The', 'Sin City', 'Sin City: A Dame to Kill For', 'Sinister', 'Sixth Sense, The', 'Skeleton Key, The', 'Skin I Live In, The (La piel que habito)', 'Skulls, The', 'Sky Captain and the World of Tomorrow', 'Skyfall', 'Slacker', 'Sling Blade', 'Slither', 'Slow West', 'Slumdog Millionaire', 'Smoke', \"Smokin' Aces\", \"Snake in the Eagle's Shadow (Se ying diu sau)\", 'Snakes on a Plane', 'Snatch', 'Snowpiercer', 'Snowtown (Snowtown Murders, The)', 'Somers Town', 'Source Code', 'Southbound', 'Spaceballs', 'Spanglish', 'Spartan', 'Spectre', 'Speed', 'Spider-Man', 'Spider-Man 2', 'Spider-Man 3', 'Spirited Away (Sen to Chihiro no kamikakushi)', 'Splinter', 'Split', 'Spotlight', 'Spring', 'Spy', 'Spy Game', 'Spy Kids', 'Spy Kids 2: The Island of Lost Dreams', 'Squid and the Whale, The', 'Stake Land', 'Stan Helsing', 'Star Trek', 'Star Trek Beyond', 'Star Trek Into Darkness', 'Star Wars: Episode I - The Phantom Menace', 'Star Wars: Episode II - Attack of the Clones', 'Star Wars: Episode III - Revenge of the Sith', 'Star Wars: Episode IV - A New Hope', 'Star Wars: Episode V - The Empire Strikes Back', 'Star Wars: Episode VI - Return of the Jedi', 'Star Wars: Episode VII - The Force Awakens', 'Stardust', 'Starman', 'Starship Troopers', 'Station Agent, The', 'Stingray Sam', 'Stoker', 'Strange Circus (Kimyô na sâkasu)', 'Stranger Than Paradise', 'Stranger than Fiction', 'Strangers, The', 'Stripes', 'Stuck', 'Stuck on You', 'SubUrbia', 'Sucker Punch', 'Suicide Club (Jisatsu saakuru)', 'Suicide Squad', 'Sukiyaki Western Django', 'Summer Wars (Samâ wôzu)', 'Summer of Sam', 'Sunshine', 'Super 8', 'Super Troopers', 'Superbad', 'Superman Returns', 'Suspiria', 'Sweeney Todd: The Demon Barber of Fleet Street', 'Sweetest Thing, The', 'Swordfish', 'Sympathy for Mr. Vengeance (Boksuneun naui geot)', 'Sympathy for the Underdog', 'TMNT (Teenage Mutant Ninja Turtles)', \"Take Aim at the Police Van (Sono gosôsha wo nerae: 'Jûsangô taihisen' yori)\", 'Taken', 'Taken 2', 'Taken 3', 'Tales from the Crypt Presents: Demon Knight', 'Talladega Nights: The Ballad of Ricky Bobby', 'Tattooed Life (Irezumi ichidai)', 'Taxi Driver', 'Team America: World Police', 'Ted', 'Teenage Mutant Ninja Turtles', 'Tell No One (Ne le dis à personne)', 'Terminator 2: Judgment Day', 'Terminator 3: Rise of the Machines', 'Terminator Genisys', 'Terminator Salvation', 'Terminator, The', 'Texas Chainsaw 3D', 'Texas Chainsaw Massacre, The', 'Thank You for Smoking', 'The Amazing Spider-Man 2', 'The Boy and the Beast', 'The Count of Monte Cristo', 'The Fate of the Furious', 'The Gallows', 'The Gift', 'The Good Dinosaur', 'The Green Inferno', 'The Hateful Eight', 'The Hunger Games', 'The Hunger Games: Catching Fire', 'The Hunger Games: Mockingjay - Part 1', 'The Hunger Games: Mockingjay - Part 2', 'The Jungle Book', 'The Lego Movie', 'The Lobster', 'The Machinist', 'The Magnificent Ruffians', 'The Magnificent Seven', 'The Man from U.N.C.L.E.', 'The Martian', 'The Neon Demon', 'The Nice Guys', 'The Raid 2: Berandal', 'The Raid: Redemption', 'The Revenant', 'The Scorpion King', 'The Voices', 'The Witch', 'There Will Be Blood', \"There's Something About Mary\", 'They Live', 'Thing, The', 'Thirst (Bakjwi)', 'Thirteen Ghosts (a.k.a. Thir13en Ghosts)', 'This Is 40', 'This Is England', 'This Is the End', 'Thor', 'Thor: The Dark World', 'Tideland', 'Time Bandits', 'Tinker Tailor Soldier Spy', 'Titan A.E.', 'Titanic', 'Tokyo Drifter (Tôkyô nagaremono)', 'Tokyo Tribe', 'Tokyo!', 'Tomorrowland', 'Total Recall', 'Tournament, The', 'Town, The', 'Toy Story', 'Toy Story 2', 'Toy Story 3', 'Trading Places', 'Traffic', 'Training Day', 'Trainspotting', 'Trainwreck', 'Trance', 'Transformers', 'Transformers: Dark of the Moon', 'Transformers: Revenge of the Fallen', 'Transporter 2', 'Transporter 3', 'Transporter, The', 'Tree of Life, The', 'Tremors 3: Back to Perfection', 'Triangle', 'Troll 2', 'Troll Hunter, The (Trolljegeren)', 'Tron: Legacy', 'Tropic Thunder', 'True Grit', 'True Lies', 'Truman Show, The', 'Tucker & Dale vs Evil', 'Tusk', 'Twelve Monkeys (a.k.a. 12 Monkeys)', 'Ultraviolet', 'Unbreakable', 'Unbroken', 'Undead', 'Underworld', 'Underworld: Evolution', 'Undisputed II: Last Man Standing', 'Undisputed III: Redemption', 'United 93', 'Universal Soldier: Day of Reckoning', 'Unleashed (Danny the Dog)', 'Unstoppable', 'Up', 'Up in the Air', 'Upstream Color', 'Urban Legends: Final Cut', 'Usual Suspects, The', 'V for Vendetta', 'V/H/S', 'V/H/S/2', 'Vacancy', 'Vacation', 'Valkyrie', 'Vampire Hunter D: Bloodlust (Banpaia hantâ D)', 'Vampires', 'Van Helsing', 'Vanilla Sky', 'Vantage Point', 'Versus', 'Vertical Limit', 'Vertigo', 'Village of the Damned', 'Village, The', 'Visitor Q (Bizita Q)', 'WALL·E', 'Waking Life', 'Wallace & Gromit in The Curse of the Were-Rabbit', 'Wanted', 'War of the Worlds', 'Warm Bodies', 'Watchmen', 'Way of the Gun, The', 'We Are What We Are', 'Wedding Crashers', 'Wendigo', 'What Lies Beneath', 'What We Do in the Shadows', 'What Women Want', 'Wheels on Meals (Kuai can che)', 'Where the Wild Things Are', 'Who Am I? (Wo shi shei)', \"Who's That Knocking at My Door?\", \"Why Don't You Play In Hell? (Jigoku de naze warui)\", 'Windtalkers', 'Winners and Sinners (Qi mou miao ji: Wu fu xing)', 'Wizard of Oz, The', 'Wolf Creek', 'Wolf of Wall Street, The', 'Wolverine, The', 'Woman, The', 'Woods, The', 'World War Z', \"World's End, The\", 'Wreck-It Ralph', 'Wrestler, The', 'Wrong', 'Wrong Cops', 'Wrong Turn 2: Dead End', 'X-Files: I Want to Believe, The', 'X-Men', 'X-Men Origins: Wolverine', 'X-Men: Apocalypse', 'X-Men: Days of Future Past', 'X-Men: First Class', 'X-Men: The Last Stand', 'X2: X-Men United', \"You're Next\", 'Your Highness', 'Youth of the Beast (Yaju no seishun)', 'Zack and Miri Make a Porno', 'Zebraman', 'Zero Theorem, The', 'Zodiac', 'Zombeavers', 'Zombieland', 'Zoolander', 'Zootopia', '[REC]', '[REC]²', '[REC]³ 3 Génesis', 'xXx', 'xXx: State of the Union']\n",
      "Top 6 users who are very much similar to the User- 610 are: \n",
      " \n",
      "1 . User: 249 separated by distance of 0.5177316940683978\n",
      "\n",
      "2 . User: 298 separated by distance of 0.5526117660789823\n",
      "\n",
      "3 . User: 274 separated by distance of 0.5607971256946047\n",
      "\n",
      "4 . User: 380 separated by distance of 0.571312728206611\n",
      "\n",
      "5 . User: 305 separated by distance of 0.5884934492444365\n",
      "\n",
      "6 . User: 599 separated by distance of 0.5970065762391155\n",
      "\n",
      "['Jumanji', 'Grumpier Old Men', 'Waiting to Exhale', 'Father of the Bride Part II', 'Sabrina', 'Tom and Huck', 'Sudden Death', 'GoldenEye', 'American President, The', 'Dracula: Dead and Loving It', 'Balto', 'Nixon', 'Cutthroat Island', 'Sense and Sensibility', 'Four Rooms', 'Ace Ventura: When Nature Calls', 'Money Train', 'Get Shorty', 'Copycat', 'Assassins', 'Powder', 'Leaving Las Vegas', 'Othello', 'Now and Then', 'Persuasion', 'City of Lost Children, The (Cité des enfants perdus, La)', 'Shanghai Triad (Yao a yao yao dao waipo qiao)', 'Dangerous Minds', 'Babe', 'Dead Man Walking', 'It Takes Two', 'Clueless', 'Cry, the Beloved Country', 'Richard III', 'Dead Presidents', 'Restoration', 'Mortal Kombat', 'To Die For', 'How to Make an American Quilt', 'Pocahontas', 'When Night Is Falling', 'Mighty Aphrodite', 'Lamerica', 'Big Green, The', 'Georgia', 'Home for the Holidays', 'Postman, The (Postino, Il)', 'Indian in the Cupboard, The', 'Eye for an Eye', \"Mr. Holland's Opus\", \"Don't Be a Menace to South Central While Drinking Your Juice in the Hood\", 'Two if by Sea', 'Bio-Dome', 'Lawnmower Man 2: Beyond Cyberspace', 'French Twist (Gazon maudit)', 'Friday', 'Fair Game', 'Kicking and Screaming', 'Misérables, Les', 'Bed of Roses', 'Big Bully', 'Screamers', 'Nico Icon', 'Crossing Guard, The', 'Juror, The', 'White Balloon, The (Badkonake sefid)', \"Things to Do in Denver When You're Dead\", \"Antonia's Line (Antonia)\", 'Once Upon a Time... When We Were Colored', 'Angels and Insects', 'White Squall', 'Dunston Checks In', 'Nick of Time', 'Mary Reilly', 'Vampire in Brooklyn', 'Beautiful Girls', 'In the Bleak Midwinter', 'Hate (Haine, La)', 'Heidi Fleiss: Hollywood Madam', 'City Hall', 'Bottle Rocket', 'Mr. Wrong', 'Unforgettable', 'Happy Gilmore', 'Bridges of Madison County, The', 'Nobody Loves Me (Keiner liebt mich)', 'Muppet Treasure Island', 'Catwalk', 'Before and After', 'Anne Frank Remembered', \"Young Poisoner's Handbook, The\", 'If Lucy Fell', 'Steal Big, Steal Little', 'Boys of St. Vincent, The', 'Boomerang', 'Chungking Express (Chung Hing sam lam)', 'Flirting With Disaster', 'NeverEnding Story III, The', \"Jupiter's Wife\", 'Pie in the Sky', 'Jade', 'Down Periscope', 'Man of the Year', 'Up Close and Personal', 'Birdcage, The', 'Brothers McMullen, The', 'Bad Boys', 'Amazing Panda Adventure, The', 'Basketball Diaries, The', 'Awfully Big Adventure, An', 'Amateur', 'Apollo 13', 'Rob Roy', 'Addiction, The', 'Beauty of the Day (Belle de jour)', 'Beyond Rangoon', 'Blue in the Face', 'Canadian Bacon', 'Casper', 'Congo', 'Crimson Tide', 'Crumb', 'Desperado', 'Devil in a Blue Dress', 'Die Hard: With a Vengeance', 'Doom Generation, The', 'First Knight', 'Free Willy 2: The Adventure Home', 'Hackers', 'Jeffrey', 'Johnny Mnemonic', 'Judge Dredd', 'Jury Duty', 'Kids', 'Living in Oblivion', 'Lord of Illusions', 'Love & Human Remains', 'Mad Love', 'Mallrats', 'Mighty Morphin Power Rangers: The Movie', 'Mute Witness', 'Nadja', 'Net, The', 'Nine Months', 'Party Girl', 'Prophecy, The', 'Reckless', 'Safe', 'Scarlet Letter, The', 'Showgirls', 'Something to Talk About', 'Species', 'Strange Days', 'Umbrellas of Cherbourg, The (Parapluies de Cherbourg, Les)', 'Three Wishes', 'Total Eclipse', 'To Wong Foo, Thanks for Everything! Julie Newmar', 'Under Siege 2: Dark Territory', 'Unstrung Heroes', 'Unzipped', 'Walk in the Clouds, A', 'Waterworld', \"White Man's Burden\", 'Wild Bill', 'Browning Version, The', 'Bushwhacked', 'Burnt by the Sun (Utomlyonnye solntsem)', 'Before the Rain (Pred dozhdot)', 'Billy Madison', 'Babysitter, The', 'Boys on the Side', 'Cure, The', 'Castle Freak', 'Circle of Friends', 'Clerks', 'Don Juan DeMarco', 'Disclosure', 'Drop Zone', 'Destiny Turns on the Radio', 'Death and the Maiden', 'Dolores Claiborne', 'Eat Drink Man Woman (Yin shi nan nu)', 'Exotica', 'Exit to Eden', 'Ed Wood', 'French Kiss', 'Forget Paris', 'Far From Home: The Adventures of Yellow Dog', 'Goofy Movie, A', 'Hideaway', 'Fluke', 'Farinelli: il castrato', 'Gordy', 'Hoop Dreams', 'Heavenly Creatures', 'Houseguest', 'Immortal Beloved', 'Heavyweights (Heavy Weights)', 'Hunted, The', 'I.Q.', 'Interview with the Vampire: The Vampire Chronicles', 'Jefferson in Paris', 'Jerky Boys, The', 'Junior', 'Just Cause', \"Kid in King Arthur's Court, A\", 'Kiss of Death', 'Little Women', 'Little Princess, A', 'Ladybird Ladybird', 'Like Water for Chocolate (Como agua para chocolate)', 'Legends of the Fall', 'Major Payne', 'My Crazy Life (Mi vida loca)', 'Love Affair', 'Losing Isaiah', 'Madness of King George, The', \"Mary Shelley's Frankenstein (Frankenstein)\", 'Man of the House', 'Mixed Nuts', 'Milk Money', 'Miracle on 34th Street', 'Miami Rhapsody', 'My Family', 'Murder in the First', \"Nobody's Fool\", 'Nell', 'New Jersey Drive', 'New York Cop (Nyû Yôku no koppu)', 'Beyond Bedlam', 'Nina Takes a Lover', 'Natural Born Killers', 'Only You', 'Once Were Warriors', 'Poison Ivy II', 'Outbreak', 'Perez Family, The', \"Pyromaniac's Love Story, A\", 'Pushing Hands (Tui shou)', 'Quiz Show', 'Picture Bride (Bijo photo)', 'Queen Margot (Reine Margot, La)', 'Roommates', 'Ready to Wear (Pret-A-Porter)', 'Three Colors: Red (Trois couleurs: Rouge)', 'Three Colors: Blue (Trois couleurs: Bleu)', 'Three Colors: White (Trzy kolory: Bialy)', 'Rent-a-Kid', 'Relative Fear', 'Stuart Saves His Family', 'Swan Princess, The', 'Secret of Roan Inish, The', 'Specialist, The', 'Stargate', 'Santa Clause, The', 'Suture', 'Strawberry and Chocolate (Fresa y chocolate)', 'Swimming with Sharks', 'Sum of Us, The', \"National Lampoon's Senior Trip\", 'To Live (Huozhe)', 'Tank Girl', 'Star Trek: Generations', 'Tales from the Hood', 'Tom & Viv', 'Tommy Boy', 'Vanya on 42nd Street', 'Underneath', 'Walking Dead, The', \"What's Eating Gilbert Grape\", 'Virtuosity', 'While You Were Sleeping', 'War, The', 'Double Happiness', \"Muriel's Wedding\", 'Baby-Sitters Club, The', 'Adventures of Priscilla, Queen of the Desert, The', 'Backbeat', 'Bitter Moon', 'Bullets Over Broadway', 'Clear and Present Danger', 'Client, The', 'Corrina, Corrina', 'Crooklyn', 'Crow, The', 'Cobb', 'Flintstones, The', 'Four Weddings and a Funeral', 'Higher Learning', 'I Like It Like That', 'I Love Trouble', 'It Could Happen to You', 'Jungle Book, The', 'Wonderful, Horrible Life of Leni Riefenstahl, The (Macht der Bilder: Leni Riefenstahl, Die)', 'Lion King, The', 'Little Buddha', \"Wes Craven's New Nightmare (Nightmare on Elm Street Part 7: Freddy's Finale, A)\", 'Maverick', 'Mrs. Parker and the Vicious Circle', 'Naked Gun 33 1/3: The Final Insult', 'Paper, The', 'Reality Bites', 'Red Rock West', 'Richie Rich', 'River Wild, The', 'Speechless', 'Timecop', 'When a Man Loves a Woman', 'Wolf', 'Wyatt Earp', 'Bad Company', 'Man of No Importance, A', 'S.F.W.', 'Low Down Dirty Shame, A', 'Boys Life', 'Colonel Chabert, Le', 'Faster Pussycat! Kill! Kill!', \"Jason's Lyric\", 'Street Fighter', 'Highlander III: The Sorcerer (a.k.a. Highlander: The Final Dimension)', 'Federal Hill', '8 Seconds', 'Above the Rim', 'Addams Family Values', 'Airheads', 'Air Up There, The', 'Another Stakeout', 'Bad Girls', 'Barcelona', 'Being Human', 'Beverly Hillbillies, The', 'Beverly Hills Cop III', 'Black Beauty', 'Blink', 'Blown Away', 'Blue Chips', 'Blue Sky', 'Body Snatchers', 'Boxing Helena', 'Bronx Tale, A', 'Cabin Boy', 'Calendar Girl', \"Carlito's Way\", \"City Slickers II: The Legend of Curly's Gold\", 'Clean Slate', 'Cliffhanger', 'Coneheads', 'Color of Night', 'Cops and Robbersons', 'Cowboy Way, The', 'Dave', 'Demolition Man', 'Even Cowgirls Get the Blues', 'Fatal Instinct', 'Farewell My Concubine (Ba wang bie ji)', 'Fearless', 'Fear of a Black Hat', 'With Honors', 'Flesh and Bone', \"Widows' Peak\", 'For Love or Money', 'Firm, The', 'Free Willy', 'Fresh', 'Geronimo: An American Legend', 'Getaway, The', 'Getting Even with Dad', 'Go Fish', 'Hot Shots! Part Deux', 'Live Nude Girls', 'Englishman Who Went Up a Hill But Came Down a Mountain, The', 'House of the Spirits, The', 'House Party 3', \"I'll Do Anything\", 'In the Army Now', 'In the Line of Fire', 'In the Name of the Father', 'Inkwell, The', \"What's Love Got to Do with It?\", 'Jimmy Hollywood', 'Judgment Night', 'Kalifornia', 'Killing Zoe', 'Lassie', 'Last Action Hero', 'Life with Mikey', 'Lightning Jack', 'M. Butterfly', 'Made in America', 'Malice', 'Man Without a Face, The', 'Manhattan Murder Mystery', 'Menace II Society', 'Executive Decision', 'In the Realm of the Senses (Ai no corrida)', 'What Happened Was...', 'Much Ado About Nothing', 'Mr. Wonderful', 'Mrs. Doubtfire', 'Naked', 'Next Karate Kid, The', 'No Escape', 'North', 'Orlando', 'Perfect World, A', 'Philadelphia', 'Piano, The', 'Poetic Justice', 'Program, The', 'Puppet Masters, The', 'Radioland Murders', 'Ref, The', 'Remains of the Day, The', 'Renaissance Man', 'Rising Sun', 'Road to Wellville, The', 'Robin Hood: Men in Tights', 'Romeo Is Bleeding', 'Romper Stomper', 'Ruby in Paradise', 'Rudy', 'Savage Nights (Nuits fauves, Les)', 'Scout, The', 'Searching for Bobby Fischer', 'Secret Garden, The', 'Serial Mom', 'Shadow, The', 'Shadowlands', 'Short Cuts', 'Simple Twist of Fate, A', 'Sirens', 'Six Degrees of Separation', 'Sleepless in Seattle', 'Sliver', 'Son in Law', 'So I Married an Axe Murderer', 'Striking Distance', 'Super Mario Bros.', 'Surviving the Game', 'Terminal Velocity', 'Thirty-Two Short Films About Glenn Gould', 'Threesome', 'Nightmare Before Christmas, The', 'Three Musketeers, The', 'Tombstone', 'True Romance', 'War Room, The', 'Pagemaster, The', 'Welcome to the Dollhouse', 'Germinal', 'Chasers', 'Kika', 'Bhaji on the Beach', 'Little Big League', 'Ciao, Professore! (Io speriamo che me la cavo)', 'Spanking the Monkey', 'Little Rascals, The', 'Andre', 'Escort, The (Scorta, La)', 'Princess Caraboo', 'Celluloid Closet, The', 'Dear Diary (Caro Diario)', 'Brady Bunch Movie, The', 'Home Alone', 'Ghost', 'Aladdin', 'Dances with Wolves', 'Snow White and the Seven Dwarfs', 'Beauty and the Beast', 'Pinocchio', 'Pretty Woman', 'Wild Bunch, The', 'Love and a .45', 'Great Day in Harlem, A', 'One Fine Day', 'Candyman: Farewell to the Flesh', 'Homeward Bound II: Lost in San Francisco', 'Heavy Metal', 'Hellraiser: Bloodline', 'Pallbearer, The', 'Jane Eyre', 'Bread and Chocolate (Pane e cioccolata)', 'Aristocats, The', 'Flower of My Secret, The (La flor de mi secreto)', 'Two Much', 'Ed', 'Thin Line Between Love and Hate, A', 'Last Supper, The', 'Primal Fear', 'All Dogs Go to Heaven 2', 'Land and Freedom (Tierra y libertad)', 'Denise Calls Up', 'Theodore Rex', 'Family Thing, A', 'Frisk', 'Sgt. Bilko', 'Jack and Sarah', 'Girl 6', 'Diabolique', 'Nelly & Monsieur Arnaud', 'Courage Under Fire', 'Mission: Impossible', 'Cold Fever (Á köldum klaka)', 'Moll Flanders', 'Dragonheart', 'Eddie', 'James and the Giant Peach', 'Fear', 'Kids in the Hall: Brain Candy', 'Underground', 'Bloodsport 2 (a.k.a. Bloodsport II: The Next Kumite)', 'Song of the Little Road (Pather Panchali)', 'World of Apu, The (Apur Sansar)', 'Mystery Science Theater 3000: The Movie', 'Space Jam', 'Barbarella', 'Some Folks Call It a Sling Blade', 'Run of the Country, The', 'Alphaville (Alphaville, une étrange aventure de Lemmy Caution)', \"It's My Party\", 'Operation Dumbo Drop', 'Mrs. Winterbourne', 'Solo', 'Substitute, The', 'True Crime', 'Feeling Minnesota', 'Delta of Venus', 'Angus', 'Boys', 'Quest, The', 'Sunset Park', 'Mulholland Falls', 'Truth About Cats & Dogs, The', 'Oliver & Company', 'Celtic Pride', 'Flipper', 'Horseman on the Roof, The (Hussard sur le toit, Le)', 'Visitors, The (Visiteurs, Les)', 'Multiplicity', 'Wallace & Gromit: The Best of Aardman Animation', 'Haunted World of Edward D. Wood Jr., The', 'Craft, The', 'Great White Hype, The', 'Last Dance', 'Cold Comfort Farm', \"Heaven's Prisoners\", 'Rock, The', 'Twister', 'Barb Wire', 'Thinner', 'Spy Hard', 'Wallace & Gromit: A Close Shave', 'Stupids, The', 'Arrival, The', 'Ashes of Time (Dung che sai duk)', 'Maya Lin: A Strong Clear Vision', 'Stalingrad', 'Phantom, The', 'Striptease', 'Heavy', 'Jack', 'I Shot Andy Warhol', 'Touki Bouki', 'Spirits of the Dead', \"'Til There Was You\", 'Stealing Beauty', 'Fan, The', 'Hunchback of Notre Dame, The', 'Eraser', 'Nutty Professor, The', 'Unforgettable Summer, An (Un été inoubliable)', 'Last Klezmer: Leopold Kozlowski, His Life and Music, The', 'Somebody to Love', 'Daylight', 'Frighteners, The', 'Lone Star', 'Harriet the Spy', 'Phenomenon', 'Walking and Talking', \"She's the One\", 'Time to Kill, A', 'American Buffalo', 'Alaska', 'Fled', 'Kazaam', 'Larger Than Life', 'Very Brady Sequel, A', 'Collector, The (La collectionneuse)', 'Kaspar Hauser', 'Adventures of Pinocchio, The', \"Joe's Apartment\", 'First Wives Club, The', 'Ransom', 'High School High', 'Foxfire', 'Chain Reaction', 'Matilda', 'Emma', 'Crow: City of Angels, The', 'House Arrest', 'Eyes Without a Face (Yeux sans visage, Les)', 'Tales from the Crypt Presents: Bordello of Blood', 'Spitfire Grill, The', 'Basquiat', 'Tin Cup', 'Supercop (Police Story 3: Supercop) (Jing cha gu shi III: Chao ji jing cha)', 'Bound', 'Carpool', 'Kansas City', \"Gone Fishin'\", 'Nothing to Lose', 'Supercop 2 (Project S) (Chao ji ji hua)', 'Relic, The', 'Island of Dr. Moreau, The', 'First Kid', 'Trigger Effect, The', 'Bogus', 'Bulletproof', 'Land Before Time III: The Time of the Great Giving', '1-900 (06)', 'Halloween: The Curse of Michael Myers (Halloween 6: The Curse of Michael Myers)', 'Twelfth Night', 'Mother Night', 'Wild Reeds (Les roseaux sauvages)', 'For Whom the Bell Tolls', 'Philadelphia Story, The', \"Singin' in the Rain\", 'American in Paris, An', 'Funny Face', \"Breakfast at Tiffany's\", 'It Happened One Night', 'Gaslight', 'Gay Divorcee, The', 'North by Northwest', 'Some Like It Hot', 'Charade', 'Maltese Falcon, The', 'My Fair Lady', 'Sabrina', 'Roman Holiday', 'Little Princess, The', 'Meet Me in St. Louis', 'Gone with the Wind', 'My Favorite Year', 'Sunset Blvd. (a.k.a. Sunset Boulevard)', 'All About Eve', 'Women, The', 'Rebecca', 'Foreign Correspondent', 'Notorious', 'Spellbound', 'Affair to Remember, An', 'To Catch a Thief', 'Father of the Bride', 'Band Wagon, The', 'Ninotchka', 'Love in the Afternoon', 'Gigi', 'Adventures of Robin Hood, The', 'Mark of Zorro, The', 'Laura', 'Ghost and Mrs. Muir, The', 'Lost Horizon', 'Top Hat', 'To Be or Not to Be', 'My Man Godfrey', 'Giant', 'East of Eden', 'Thin Man, The', 'His Girl Friday', \"It's a Wonderful Life\", 'Mr. Smith Goes to Washington', 'Bringing Up Baby', 'Penny Serenade', 'Of Human Bondage', 'Little Lord Fauntleroy', 'Inspector General, The', '39 Steps, The', 'African Queen, The', 'Beat the Devil', 'Cat on a Hot Tin Roof', 'Meet John Doe', 'Farewell to Arms, A', 'Nothing Personal', 'Dangerous Ground', 'Picnic', 'Pompatus of Love, The', 'Fly Away Home', 'Bliss', 'Grace of My Heart', 'Maximum Risk', 'Michael Collins', 'Infinity', 'Big Night', 'Last Man Standing', 'Set It Off', '2 Days in the Valley', 'Extreme Measures', 'Glimmer Man, The', 'D3: The Mighty Ducks', 'Chamber, The', 'Apple Dumpling Gang, The', 'Davy Crockett, King of the Wild Frontier', 'Escape to Witch Mountain', 'Love Bug, The', 'Herbie Rides Again', 'Old Yeller', 'Parent Trap, The', 'Pollyanna', 'Homeward Bound: The Incredible Journey', 'Shaggy Dog, The', 'Swiss Family Robinson', 'That Darn Cat!', '20,000 Leagues Under the Sea', 'Cool Runnings', 'Angels in the Outfield', 'Cinderella', 'Winnie the Pooh and the Blustery Day', 'Three Caballeros, The', 'Sword in the Stone, The', 'Robin Hood: Prince of Thieves', 'Mary Poppins', 'Dumbo', \"Pete's Dragon\", 'Bedknobs and Broomsticks', 'Alice in Wonderland', 'Fox and the Hound, The', 'Freeway', 'Sound of Music, The', 'Lawnmower Man, The', 'Secret Agent, The', 'Secrets & Lies', 'That Thing You Do!', 'To Gillian on Her 37th Birthday', 'Beautiful Thing', 'Ghost and the Darkness, The', 'Looking for Richard', 'Trees Lounge', 'Normal Life', 'Shadow Conspiracy', 'Jude', 'Everyone Says I Love You', \"William Shakespeare's Romeo + Juliet\", 'Swingers', 'Sleepers', 'Aladdin and the King of Thieves', 'Shall We Dance', 'Crossfire', 'Willy Wonka & the Chocolate Factory', 'Innocents, The', 'Sleeper', 'Bananas', 'Fish Called Wanda, A', 'Victor/Victoria', 'Candidate, The', 'Great Race, The', 'Old Man and the Sea, The', 'Dial M for Murder', 'Dirty Dancing', \"Weekend at Bernie's\", 'Basic Instinct', 'Doors, The', 'Crying Game, The', 'Glengarry Glen Ross', \"Sophie's Choice\", 'Christmas Carol, A', 'Days of Thunder', 'Top Gun', 'Rebel Without a Cause', 'Streetcar Named Desire, A', 'Children of the Corn IV: The Gathering', \"Microcosmos (Microcosmos: Le peuple de l'herbe)\", 'Palookaville', 'Funeral, The', 'Single Girl, A (Fille seule, La)', 'Eighth Day, The (Huitième jour, Le)', 'Drunks', 'People vs. Larry Flynt, The', 'Glory Daze', 'Perfect Candidate, A', 'On Golden Pond', 'Return of the Pink Panther, The', 'Drop Dead Fred', 'Howling, The', 'Jean de Florette', 'Manon of the Spring (Manon des sources)', 'Private Benjamin', 'Hustler White', 'Entertaining Angels: The Dorothy Day Story', 'Line King: The Al Hirschfeld Story, The', 'When We Were Kings', 'Wallace & Gromit: The Wrong Trousers', 'Return of Martin Guerre, The (Retour de Martin Guerre, Le)', 'Lesson Faust', 'Children Are Watching Us, The (Bambini ci guardano, I)', 'Tin Drum, The (Blechtrommel, Die)', 'Ruling Class, The', 'Mina Tannenbaum', 'Dear God', 'Best of the Best 3: No Turning Back', 'Bob Roberts', 'Cinema Paradiso (Nuovo cinema Paradiso)', 'Cook the Thief His Wife & Her Lover, The', 'Delicatessen', 'Double Life of Veronique, The (Double Vie de Véronique, La)', 'Enchanted April', 'Paths of Glory', 'Grifters, The', 'Hear My Song', 'English Patient, The', 'Mediterraneo', 'My Left Foot', 'Sex, Lies, and Videotape', 'Passion Fish', 'Strictly Ballroom', 'Thin Blue Line, The', 'Tie Me Up! Tie Me Down! (¡Átame!)', 'Madonna: Truth or Dare', 'Paris Is Burning', \"One Flew Over the Cuckoo's Nest\", \"Cheech and Chong's Up in Smoke\", 'Withnail & I', '12 Angry Men', 'Lawrence of Arabia', 'Clockwork Orange, A', 'To Kill a Mockingbird', 'Wings of Desire (Himmel über Berlin, Der)', 'Third Man, The', 'Big Blue, The (Grand bleu, Le)', 'Ran', 'Psycho', 'Blues Brothers, The', 'Grand Day Out with Wallace and Gromit, A', 'Henry V', 'Amadeus', 'Quiet Man, The', 'Right Stuff, The', 'Stalker', 'Boot, Das (Boat, The)', 'Sting, The', 'Harold and Maude', 'Trust', 'Seventh Seal, The (Sjunde inseglet, Det)', 'Local Hero', 'Glory', 'Rosencrantz and Guildenstern Are Dead', 'Manhattan', 'Dead Poets Society', 'Touch of Evil', 'Bridge on the River Kwai, The', '8 1/2 (8½)', 'Chinatown', 'Treasure of the Sierra Madre, The', 'Duck Soup', 'Better Off Dead...', 'Stand by Me', 'M', 'Great Escape, The', 'Deer Hunter, The', 'Diva', 'Unforgiven', 'Pump Up the Volume', 'Arsenic and Old Lace', 'Fried Green Tomatoes', 'Patton', 'Highlander', 'Cyrano de Bergerac', 'Young Frankenstein', 'Raise the Red Lantern (Da hong deng long gao gao gua)', 'Great Dictator, The', 'Fantasia', 'Big Sleep, The', 'Heathers', 'Somewhere in Time', 'Ben-Hur', 'This Is Spinal Tap', 'Koyaanisqatsi (a.k.a. Koyaanisqatsi: Life Out of Balance)', 'Some Kind of Wonderful', 'Being There', 'Gandhi', 'Unbearable Lightness of Being, The', 'Room with a View, A', 'Real Genius', 'Pink Floyd: The Wall', 'Killing Fields, The', 'Forbidden Planet', 'Field of Dreams', 'Man Who Would Be King, The', 'Butch Cassidy and the Sundance Kid', 'Paris, Texas', 'Until the End of the World (Bis ans Ende der Welt)', 'When Harry Met Sally...', 'Hype!', 'Female Perversions', 'Blue Juice', 'Alien³ (a.k.a. Alien 3)', 'American Werewolf in London, An', \"Amityville 1992: It's About Time\", 'Amityville 3-D', 'Amityville: Dollhouse', 'Amityville: A New Generation', 'Amityville II: The Possession', 'Amityville Horror, The', 'Amityville Curse, The', \"Blood for Dracula (Andy Warhol's Dracula)\", \"April Fool's Day\", 'Audrey Rose', 'Believers, The', 'Birds, The', 'Blob, The', 'Blood Beach', 'Body Parts', 'Body Snatcher, The', \"Dracula (Bram Stoker's Dracula)\", 'Bride of Frankenstein, The (Bride of Frankenstein)', 'Burnt Offerings', 'Candyman', 'Carrie', 'Cat People', 'Nosferatu (Nosferatu, eine Symphonie des Grauens)', 'Vampire in Venice (Nosferatu a Venezia) (Nosferatu in Venice)', 'Blood and Wine (Blood & Wine)', 'Albino Alligator', 'Mirror Has Two Faces, The', 'Breaking the Waves', 'Nightwatch', 'Star Trek: First Contact', 'Shine', 'Jingle All the Way', 'Paradise Lost: The Child Murders at Robin Hood Hills', \"Preacher's Wife, The\", 'Ridicule', 'Crucible, The', '101 Dalmatians', 'Die Hard 2', 'Star Trek: The Motion Picture', 'Star Trek VI: The Undiscovered Country', 'Star Trek V: The Final Frontier', 'Star Trek II: The Wrath of Khan', 'Star Trek III: The Search for Spock', 'Star Trek IV: The Voyage Home', 'Batman Returns', 'Young Guns', 'Young Guns II', 'Grease', 'Grease 2', 'Marked for Death', 'Under Siege', 'Jaws', 'Jaws 2', 'Jaws 3-D', 'My Fellow Americans', 'Mars Attacks!', 'Citizen Ruth', 'Jerry Maguire', 'Tin Men', 'Sneakers', 'Bastard Out of Carolina', 'In Love and War', \"Marvin's Room\", 'Ghosts of Mississippi', 'Beavis and Butt-Head Do America', 'La Cérémonie', 'Scream', 'Last of the Mohicans, The', 'Michael', 'Hamlet', \"Some Mother's Son\", 'Whole Wide World, The', 'Mother', 'Thieves (Voleurs, Les)', 'Evita', 'Portrait of a Lady, The', 'Walkabout', 'Murder at 1600', 'Hearts and Minds', 'Fierce Creatures', 'Zeus and Roxanne', 'Turbulence', 'Angel Baby', 'Beverly Hills Ninja', 'Metro', 'Cement Garden, The', \"Dante's Peak\", 'Meet Wally Sparks', 'Amos & Andrew', 'Benny & Joon', 'Prefontaine', \"McHale's Navy\", 'Kolya (Kolja)', \"Gridlock'd\", 'Waiting for Guffman', 'Beautician and the Beast, The', 'Pest, The', 'Fools Rush In', 'Touch', 'Absolute Power', 'That Darn Cat', \"Vegas Vacation (National Lampoon's Las Vegas Vacation)\", 'Lost Highway', 'Rosewood', 'Donnie Brasco', 'Booty Call', 'Best Men', 'Jungle2Jungle (a.k.a. Jungle 2 Jungle)', 'Kama Sutra: A Tale of Love', 'Private Parts', 'Love Jones', 'Saint, The', \"Smilla's Sense of Snow\", 'Crash', 'Daytrippers, The', 'Selena', \"Devil's Own, The\", \"Cats Don't Dance\", 'B*A*P*S', 'Love and Other Catastrophes', 'Turbo: A Power Rangers Movie', 'Anna Karenina', 'Double Team', 'Inventing the Abbotts', 'Anaconda', 'Grosse Pointe Blank', 'Kissed', '8 Heads in a Duffel Bag', 'Paradise Road', \"Romy and Michele's High School Reunion\", 'Temptress Moon (Feng Yue)', 'Volcano', 'Children of the Revolution', 'Austin Powers: International Man of Mystery', 'Breakdown', 'Broken English', \"Fathers' Day\", 'Nowhere', 'Promise, The (La promesse)', 'Shall We Dance? (Shall We Dansu?)', 'Addicted to Love', 'Brassed Off', 'Lost World: Jurassic Park, The', 'Ponette', 'Schizopolis', 'Shiloh', 'Rough Magic', 'Trial and Error', 'Buddy', 'Con Air', 'Pillow Book, The', 'Speed 2: Cruise Control', 'Batman & Robin', \"For Roseanna (Roseanna's Grave)\", 'Head Above Water', 'Hercules', \"My Best Friend's Wedding\", \"When the Cat's Away (Chacun cherche son chat)\", 'Contempt (Mépris, Le)', 'Fall', 'Men in Black (a.k.a. MIB)', 'Out to Sea', 'Wild America', 'Simple Wish, A', 'Contact', 'Love Serenade', 'G.I. Jane', 'Conan the Barbarian', 'George of the Jungle', 'Cop Land', 'Event Horizon', 'Spawn', 'Air Bud', 'Picture Perfect', 'In the Company of Men', 'Career Girls', 'Conspiracy Theory', 'Desperate Measures', 'Steel', \"She's So Lovely\", 'Hoodlum', 'Leave It to Beaver', 'Mimic', 'Money Talks', 'Excess Baggage', 'Kull the Conqueror', 'Air Force One', '187 (One Eight Seven)', 'Hunt for Red October, The', 'My Own Private Idaho', 'Kiss Me, Guido', 'Star Maps', 'In & Out', 'Edge, The', 'Peacemaker, The', 'L.A. Confidential', 'Seven Years in Tibet', 'Kiss the Girls', 'Soul Food', 'Wishmaster', 'Thousand Acres, A', 'Game, The', 'Fire Down Below', 'U Turn', 'MatchMaker, The', 'Assignment, The', \"Ulee's Gold\", 'Ice Storm, The', 'Chasing Amy', 'Full Monty, The', 'Indian Summer (a.k.a. Alive & Kicking)', 'Mrs. Brown (a.k.a. Her Majesty, Mrs. Brown)', 'I Know What You Did Last Summer', \"The Devil's Advocate\", 'RocketMan (a.k.a. Rocket Man)', 'Playing God', 'House of Yes, The', 'Fast, Cheap & Out of Control', 'Washington Square', 'Year of the Horse', 'Gattaca', 'FairyTale: A True Story', 'Phantoms', 'Swept from the Sea', 'Hurricane Streets', \"Eve's Bayou\", 'Switchback', 'Gang Related', 'Bean', 'Mad City', 'Welcome to Sarajevo', 'Deceiver', 'Rainmaker, The', 'Boogie Nights', 'Witness', 'Incognito', 'Critical Care', 'Joy Luck Club, The', 'Chairman of the Board', 'Sliding Doors', 'Mortal Kombat: Annihilation', 'Wings of the Dove, The', 'Mrs. Dalloway', 'I Love You, I Love You Not', 'Red Corner', 'Jackal, The', 'Anastasia', 'Man Who Knew Too Little, The', 'Alien: Resurrection', 'Amistad', 'Apostle, The', 'Artemisia', 'Bent', 'Butcher Boy, The', 'Deconstructing Harry', 'Flubber', 'For Richer or Poorer', 'Good Will Hunting', 'Home Alone 3', 'Midnight in the Garden of Good and Evil', 'Mouse Hunt', 'Scream 2', 'Stranger in the House', 'Sweet Hereafter, The', 'Tomorrow Never Dies', 'Postman, The', 'Horse Whisperer, The', 'Jackie Brown', 'Mr. Magoo', 'Afterglow', 'My Life in Pink (Ma vie en rose)', 'Great Expectations', '3 Ninjas: High Noon On Mega Mountain', 'Senseless', 'Wag the Dog', 'Dark City', 'Hard Rain', 'Half Baked', 'Fallen', 'Shooting Fish', 'Fallen Angels (Duo luo tian shi)', 'Four Days in September (O Que É Isso, Companheiro?)', 'Spice World', 'Deep Rising', 'Music From Another Room', 'Replacement Killers, The', 'B. Monkey', 'Night Flier', 'Blues Brothers 2000', 'Wedding Singer, The', 'Sphere', 'Palmetto', 'King of New York', 'Twilight', 'U.S. Marshals', 'Welcome to Woop-Woop', 'Love and Death on Long Island', 'Everest', 'Suicide Kings', 'Man in the Iron Mask, The', 'Newton Boys, The', 'Wild Things', 'Paulie', 'Cool, Dry Place, A', 'Fireworks (Hana-bi)', 'Primary Colors', 'Wide Awake', 'Two Girls and a Guy', 'Object of My Affection, The', 'Homegrown', 'The Players Club', \"Barney's Great Adventure\", 'Big One, The', 'Chinese Box', 'Lost in Space', 'Mercury Rising', 'Spanish Prisoner, The', 'City of Angels', 'Last Days of Disco, The', 'Odd Couple II, The', 'My Giant', 'Gingerbread Man, The', 'Live Flesh (Carne trémula)', 'Zero Effect', 'Borrowers, The', \"Krippendorf's Tribe\", 'Kurt & Courtney', 'Real Blonde, The', \"Taste of Cherry (Ta'm e guilass)\", 'Character (Karakter)', 'Species II', 'Major League: Back to the Minors', 'Big Hit, The', 'Tarzan and the Lost City', 'Dancer, Texas Pop. 81', 'Misérables, Les', 'Clockwatchers', 'Deep Impact', 'Quest for Camelot', 'Bulworth', 'Opposite of Sex, The', 'Almost Heroes', 'Hope Floats', 'Ugly, The', 'Perfect Murder, A', 'Beyond Silence (Jenseits der Stille)', 'Six Days Seven Nights', \"Can't Hardly Wait\", 'High Art', 'Children of Heaven, The (Bacheha-Ye Aseman)', 'Dream for an Insomniac', 'Henry Fool', 'Mr. Jealousy', 'Mulan', 'X-Files: Fight the Future, The', 'I Went Down', 'Dr. Dolittle', 'Out of Sight', 'Picnic at Hanging Rock', 'Smoke Signals', \"Buffalo '66 (a.k.a. Buffalo 66)\", 'Armageddon', 'Lethal Weapon 4', 'Madeline', 'Small Soldiers', 'Pi', 'Whatever', 'Plan 9 from Outer Space', 'Broadway Melody, The', 'All Quiet on the Western Front', 'Cimarron', 'Grand Hotel', 'Mutiny on the Bounty', 'Great Ziegfeld, The', 'Life of Emile Zola, The', \"You Can't Take It with You\", 'Mrs. Miniver', 'Going My Way', 'Lost Weekend, The', 'Best Years of Our Lives, The', \"Gentleman's Agreement\", 'Hamlet', \"All the King's Men\", 'From Here to Eternity', 'On the Waterfront', 'Marty', 'West Side Story', 'Tom Jones', 'Man for All Seasons, A', 'In the Heat of the Night', 'Oliver!', 'Midnight Cowboy', 'Rocky', 'Kramer vs. Kramer', 'Ordinary People', 'Chariots of Fire', 'Terms of Endearment', 'Out of Africa', 'Last Emperor, The', 'Rain Man', 'Driving Miss Daisy', 'Take the Money and Run', 'Klute', 'Repo Man', 'Metropolitan', \"Nightmare on Elm Street 2: Freddy's Revenge, A\", 'Nightmare on Elm Street 3: Dream Warriors, A', 'Nightmare on Elm Street 4: The Dream Master, A', 'Nightmare on Elm Street 5: The Dream Child, A', \"Freddy's Dead: The Final Nightmare (Nightmare on Elm Street Part 6: Freddy's Dead, A)\", 'Friday the 13th', 'Friday the 13th Part 2', 'Friday the 13th Part 3: 3D', 'Friday the 13th Part IV: The Final Chapter', 'Friday the 13th Part V: A New Beginning', 'Friday the 13th Part VI: Jason Lives', 'Friday the 13th Part VII: The New Blood', 'Friday the 13th Part VIII: Jason Takes Manhattan', 'Halloween III: Season of the Witch', 'Halloween 4: The Return of Michael Myers', 'Halloween 5: The Revenge of Michael Myers', 'Prom Night', 'Prom Night IV: Deliver Us From Evil', \"Child's Play\", \"Child's Play 2\", \"Child's Play 3\", 'Poltergeist', 'Poltergeist II: The Other Side', 'Poltergeist III', 'Exorcist II: The Heretic', 'Exorcist III, The', 'Lethal Weapon 2', 'Lethal Weapon 3', 'Gremlins', 'Gremlins 2: The New Batch', 'Goonies, The', 'Mask of Zorro, The', 'Polish Wedding', 'This World, Then the Fireworks', 'Soylent Green', 'Metropolis', 'Back to the Future Part II', 'Back to the Future Part III', 'Poseidon Adventure, The', 'Freaky Friday', 'Absent-Minded Professor, The', 'Apple Dumpling Gang Rides Again, The', 'Babes in Toyland', 'Bambi', 'Seven Samurai (Shichinin no samurai)', 'Dangerous Liaisons', 'Dune', 'Godfather: Part III, The', 'Rapture, The', 'Lolita', 'Disturbing Behavior', \"Jane Austen's Mafia!\", 'Barefoot Executive, The', 'Black Cauldron, The', 'Black Hole, The', \"Blackbeard's Ghost\", 'Blank Check', 'Candleshoe', 'Cat from Outer Space, The', 'Computer Wore Tennis Shoes, The', 'Condorman', 'D2: The Mighty Ducks', \"Darby O'Gill and the Little People\", 'Devil and Max Devlin, The', 'Flight of the Navigator', 'Great Mouse Detective, The', 'Herbie Goes Bananas', 'Herbie Goes to Monte Carlo', 'Hocus Pocus', 'Honey, I Blew Up the Kid', 'Honey, I Shrunk the Kids', 'Hot Lead and Cold Feet', 'In Search of the Castaways', 'Incredible Journey, The', 'Negotiator, The', 'Parent Trap, The', 'BASEketball', 'Roger & Me', 'Purple Rose of Cairo, The', 'Out of the Past', 'Doctor Zhivago', 'Fanny and Alexander (Fanny och Alexander)', 'Trip to Bountiful, The', 'Tender Mercies', 'And the Band Played On', \"'burbs, The\", 'Fandango', 'Night Porter, The (Portiere di notte, Il)', 'Mephisto', 'Journey of Natty Gann, The', 'Jungle Book, The', 'Lady and the Tramp', 'Little Mermaid, The', 'Mighty Ducks, The', 'Muppet Christmas Carol, The', 'Newsies', '101 Dalmatians (One Hundred and One Dalmatians)', 'Peter Pan', 'Popeye', 'Rescuers Down Under, The', 'Rescuers, The', 'Return from Witch Mountain', 'Return of Jafar, The', 'Return to Oz', 'Rocketeer, The', 'Shaggy D.A., The', 'Sleeping Beauty', 'Something Wicked This Way Comes', 'Son of Flubber', 'Song of the South', 'Splash', 'Steamboat Willie', 'Tall Tale', 'Tex', 'Tron', 'Swing Kids', 'Halloween H20: 20 Years Later (Halloween 7: The Revenge of Laurie Strode)', 'L.A. Story', 'Jerk, The', \"Dead Men Don't Wear Plaid\", 'Man with Two Brains, The', 'Grand Canyon', 'Outsiders, The', 'Indiana Jones and the Temple of Doom', 'Lord of the Rings, The', '1984 (Nineteen Eighty-Four)', 'Dead Zone, The', 'Maximum Overdrive', 'Needful Things', 'Cujo', 'Children of the Corn', 'All Dogs Go to Heaven', 'Addams Family, The', 'Ever After: A Cinderella Story', 'Snake Eyes', 'Atlantic City', 'Autumn Sonata (Höstsonaten)', \"Who's Afraid of Virginia Woolf?\", 'Adventures in Babysitting', 'Weird Science', 'Doctor Dolittle', 'Nutty Professor, The', \"Charlotte's Web\", 'Watership Down', 'Secret of NIMH, The', 'American Tail, An', 'American Tail: Fievel Goes West, An', 'Sixteen Candles', 'Pretty in Pink', \"St. Elmo's Fire\", 'Clan of the Cave Bear, The', 'House', 'House II: The Second Story', 'Gods Must Be Crazy, The', 'Gods Must Be Crazy II, The', 'Air Bud: Golden Receiver', 'How Stella Got Her Groove Back', 'Slums of Beverly Hills, The', 'Best Man, The (Testimone dello sposo, Il)', 'Henry: Portrait of a Serial Killer', \"Rosemary's Baby\", 'NeverEnding Story II: The Next Chapter, The', 'Attack of the Killer Tomatoes!', 'Surf Nazis Must Die', 'Your Friends and Neighbors', 'Return to Paradise', 'Blade', 'Dead Man on Campus', 'Wrongfully Accused', 'Next Stop Wonderland', 'Strike! (a.k.a. All I Wanna Do, The Hairy Bird)', 'Beetlejuice', 'Déjà Vu', 'Rope', 'Family Plot', 'Frenzy', 'Topaz', 'Torn Curtain', 'Marnie', 'Wrong Man, The', 'Man Who Knew Too Much, The', 'Trouble with Harry, The', 'I Confess', 'Strangers on a Train', 'Stage Fright', '54', 'Why Do Fools Fall In Love?', 'Willow', 'Untouchables, The', 'Dirty Work', 'Knock Off', 'Paradine Case, The', 'Lifeboat', 'Shadow of a Doubt', 'Saboteur', 'Suspicion', 'Jamaica Inn', 'Lady Vanishes, The', 'Sabotage', 'Secret Agent', 'Man Who Knew Too Much, The', 'Lodger: A Story of the London Fog, The', 'Rounders', 'Cube', 'Simon Birch', \"Swept Away (Travolti da un insolito destino nell'azzurro mare d'Agosto)\", 'My Bodyguard', 'Class', 'Broadcast News', 'Allnighter, The', 'Working Girl', 'Married to the Mob', 'Say Anything...', 'My Blue Heaven', 'Hero', 'Toys', 'Young Doctors in Love', 'Parasite', 'No Small Affair', 'Blame It on Rio', 'Wisdom', 'One Crazy Summer', 'About Last Night...', 'Seventh Sign, The', \"We're No Angels\", 'Nothing But Trouble', \"Butcher's Wife, The\", 'Mortal Thoughts', 'Few Good Men, A', 'Indecent Proposal', 'Permanent Midnight', 'One True Thing', 'Six-String Samurai', 'Ronin', 'Urban Legend', 'Clay Pigeons', 'Monument Ave.', 'Pecker', 'Sheltering Sky, The', 'Fiendish Plot of Dr. Fu Manchu, The', 'Them!', 'Player, The', 'Stardust Memories', 'Edward Scissorhands', 'Overnight Delivery', 'Antz', 'Impostors, The', 'Night at the Roxbury, A', 'What Dreams May Come', 'Strangeland', 'Producers, The', 'History of the World: Part I', 'My Cousin Vinny', 'Nashville', 'Love Is the Devil', 'Holy Man', 'One Tough Cop', 'Mighty, The', '2010: The Year We Make Contact', 'Children of a Lesser God', 'Elephant Man, The', 'Beloved', \"Bride of Chucky (Child's Play 4)\", 'Practical Magic', 'Happiness', 'Apt Pupil', 'Pleasantville', 'Soldier', 'Cruise, The', 'Life Is Beautiful (La Vita è bella)', 'Orgazmo', 'Tales from the Darkside: The Movie', 'American History X', 'Hands on a Hard Body', 'Living Out Loud', 'Gods and Monsters', 'Siege, The', 'Waterboy, The', 'Elizabeth', 'Velvet Goldmine', 'I Still Know What You Did Last Summer', \"I'll Be Home For Christmas\", 'Meet Joe Black', 'Hard Core Logo', 'Runaway Train', 'Stepford Wives, The', 'Pope of Greenwich Village, The', 'Sid and Nancy', 'Mona Lisa', 'Heart Condition', 'Nights of Cabiria (Notti di Cabiria, Le)', 'Big Chill, The', 'Enemy of the State', 'Rugrats Movie, The', 'Celebrity', 'Central Station (Central do Brasil)', 'Savior', 'Waking Ned Devine (a.k.a. Waking Ned)', 'Celebration, The (Festen)', 'Pink Flamingos', 'Glen or Glenda', 'Godzilla (Gojira)', 'Godzilla 1985: The Legend Is Reborn (Gojira) (Godzilla) (Return of Godzilla, The)', 'King Kong vs. Godzilla (Kingukongu tai Gojira)', 'King Kong Lives', 'Desperately Seeking Susan', 'Emerald Forest, The', 'Fletch', 'Fletch Lives', 'Red Sonja', 'Gung Ho', 'Money Pit, The', 'View to a Kill, A', 'Lifeforce', 'Police Academy', 'Police Academy 2: Their First Assignment', 'Police Academy 3: Back in Training', 'Police Academy 4: Citizens on Patrol', 'Police Academy 5: Assignment: Miami Beach', 'Police Academy 6: City Under Siege', 'Babe: Pig in the City', 'Home Fries', 'Very Bad Things', 'Steam: The Turkish Bath (Hamam)', 'Psycho', 'Little Voice', 'Jack Frost', 'Star Trek: Insurrection', 'Prince of Egypt, The', 'Rushmore', 'Shakespeare in Love', 'Miracle on 34th Street', 'Santa Claus: The Movie', 'Prancer', 'Pale Rider', 'Rambo: First Blood Part II', 'Rambo III', 'Jewel of the Nile, The', 'Romancing the Stone', 'Cocoon', 'Cocoon: The Return', 'Rocky II', 'Rocky III', 'Rocky IV', 'Rocky V', 'Clue', 'Young Sherlock Holmes', 'Violets Are Blue...', 'Back to School', 'Heartburn', 'Nothing in Common', 'Extremities', 'Karate Kid, The', 'Karate Kid, Part II, The', 'Karate Kid, Part III, The', \"Christmas Vacation (National Lampoon's Christmas Vacation)\", \"You've Got Mail\", 'General, The', 'Thin Red Line, The', 'Faculty, The', 'Mighty Joe Young', 'Mighty Joe Young', 'Patch Adams', 'Stepmom', 'Civil Action, A', 'Hurlyburly', 'Tea with Mussolini', 'Affliction', 'Hilary and Jackie', 'Playing by Heart', 'At First Sight', 'In Dreams', 'Varsity Blues', 'Virus', 'Howard the Duck', 'Gate, The', 'Boy Who Could Fly, The', 'Fly, The', 'Fly, The', 'Fly II, The', 'Running Scared', 'Armed and Dangerous', 'Texas Chainsaw Massacre 2, The', 'Texas Chainsaw Massacre: The Next Generation (a.k.a. The Return of the Texas Chainsaw Massacre)', 'Ruthless People', 'Deadly Friend', 'Name of the Rose, The (Name der Rose, Der)', \"Jumpin' Jack Flash\", 'Peggy Sue Got Married', 'Crocodile Dundee', 'Crocodile Dundee II', 'Tough Guys', 'Soul Man', '52 Pick-Up', 'Heartbreak Ridge', 'Firewalker', '¡Three Amigos!', 'My Name Is Joe', 'Still Crazy', 'Day of the Beast, The (Día de la Bestia, El)', \"She's All That\", 'Peeping Tom', 'Payback', 'Simply Irresistible', '20 Dates', 'Harmonists, The', 'Last Days, The', 'Fantastic Planet, The (Planète sauvage, La)', 'Blast from the Past', 'Message in a Bottle', 'My Favorite Martian', 'Jawbreaker', 'October Sky', 'Office Space', 'Apple, The (Sib)', '200 Cigarettes', '8MM', 'Other Sister, The', 'Long Goodbye, The', 'Ballad of Narayama, The (Narayama bushiko)', 'Pet Sematary', 'Pet Sematary II', 'Children of the Corn II: The Final Sacrifice', 'Children of the Corn III', 'Night Shift', 'Airport', 'Airport 1975', \"Airport '77\", 'Rollercoaster', 'Towering Inferno, The', 'Alligator', 'Meteor', 'Westworld', \"Logan's Run\", 'Beneath the Planet of the Apes', 'Battle for the Planet of the Apes', 'Conquest of the Planet of the Apes', 'Escape from the Planet of the Apes', 'Avalanche', 'Earthquake', 'Beyond the Poseidon Adventure', 'Dancemaker', 'Analyze This', 'Corruptor, The', 'Cruel Intentions', 'Lock, Stock & Two Smoking Barrels', \"School of Flesh, The (École de la chair, L')\", 'Deep End of the Ocean, The', 'Rage: Carrie 2, The', 'Wing Commander', 'Haunting, The', 'Dead Ringers', \"My Boyfriend's Back\", 'Children of the Damned', 'Baby Geniuses', 'I Stand Alone (Seul contre tous)', 'Forces of Nature', 'King and I, The', 'Ravenous', 'True Crime', 'Dangerous Beauty', 'King and I, The', \"Doug's 1st Movie\", 'EDtv', 'Mod Squad, The', 'Walk on the Moon, A', '10 Things I Hate About You', 'Tango', 'Out-of-Towners, The', 'Dreamlife of Angels, The (Vie rêvée des anges, La)', 'Metroland', 'Following', 'Go', 'Never Been Kissed', 'Twin Dragons (Shuang long hui)', \"Cookie's Fortune\", 'Lovers of the Arctic Circle, The (Los Amantes del Círculo Polar)', 'Goodbye Lover', 'Life', 'Friends & Lovers', 'Hideous Kinky', 'Monster, The (Mostro, Il)', 'Open Your Eyes (Abre los ojos)', 'SLC Punk!', 'Lost & Found', 'Pushing Tin', 'Election', 'eXistenZ', 'Entrapment', 'Idle Hands', 'Get Real', 'King of Masks, The (Bian Lian)', 'Winslow Boy, The', 'Mildred Pierce', 'Night of the Comet', 'Chopping Mall (a.k.a. Killbots)', 'My Science Project', 'Dick Tracy', 'Mummy, The', 'Castle, The', 'This Is My Father', \"William Shakespeare's A Midsummer Night's Dream\", \"Trippin'\", 'After Life (Wandafuru raifu)', 'Black Mask (Hak hap)', 'Love Letter, The', \"Besieged (a.k.a. L' Assedio)\", 'Saragossa Manuscript, The (Rekopis znaleziony w Saragossie)', 'Mummy, The', 'Mummy, The', 'Mommie Dearest', 'Superman', 'Superman II', 'Superman III', 'Superman IV: The Quest for Peace', 'Dracula', 'Frankenstein', 'Frankenstein Meets the Wolf Man', 'Curse of Frankenstein, The', 'Wolf Man, The', 'Howling II: Your Sister Is a Werewolf', 'Tarantula', 'Rocky Horror Picture Show, The', 'It Came from Hollywood', 'Thing from Another World, The', 'It Came from Outer Space', 'War of the Worlds, The', 'Invasion of the Body Snatchers', 'Earth vs. the Flying Saucers', 'Swamp Thing', 'Pork Chop Hill', 'Run Silent Run Deep', 'Notting Hill', 'Thirteenth Floor, The', 'Loss of Sexual Innocence, The', 'Instinct', 'Buena Vista Social Club', 'Free Enterprise', 'Limbo', 'Austin Powers: The Spy Who Shagged Me', 'Red Violin, The (Violon rouge, Le)', 'Tarzan', \"General's Daughter, The\", 'Ideal Husband, An', \"Legend of 1900, The (a.k.a. The Legend of the Pianist on the Ocean) (Leggenda del pianista sull'oceano)\", 'Run Lola Run (Lola rennt)', 'Trekkies', 'Big Daddy', 'Boys, The', 'Dinner Game, The (Dîner de cons, Le)', 'My Son the Fanatic', 'Zone 39', 'Arachnophobia', 'South Park: Bigger, Longer and Uncut', 'Wild Wild West', 'American Pie', 'Arlington Road', \"Autumn Tale, An (Conte d'automne)\", 'Muppets From Space', 'Blair Witch Project, The', 'Eyes Wide Shut', 'Lake Placid', 'Ghostbusters II', 'Drop Dead Gorgeous', 'Haunting, The', 'Inspector Gadget', 'Deep Blue Sea', 'Mystery Men', 'Runaway Bride', 'Twin Falls Idaho', 'Killing, The', \"Killer's Kiss\", 'Spartacus', 'Lolita', 'Barry Lyndon', '400 Blows, The (Les quatre cents coups)', 'Jules and Jim (Jules et Jim)', 'Vibes', 'Mosquito Coast, The', 'Golden Child, The', 'Brighton Beach Memoirs', 'Assassination', 'Crimes of the Heart', 'Color Purple, The', 'Kindred, The', 'No Mercy', 'Ménage (Tenue de soirée)', 'Native Son', 'Otello', 'Mission, The', 'Little Shop of Horrors', 'Little Shop of Horrors, The', 'Allan Quatermain and the Lost City of Gold', 'Morning After, The', 'Radio Days', 'From the Hip', 'Outrageous Fortune', 'Deadtime Stories', 'Frances', 'Dick', 'Iron Giant, The', 'Thomas Crown Affair, The', 'Thomas Crown Affair, The', 'Acid House, The', 'Adventures of Sebastian Cole, The', 'Yards, The', 'Bowfinger', 'Brokedown Palace', 'Detroit Rock City', 'Better Than Chocolate', 'Head On', 'Heaven Can Wait', 'Pit and the Pendulum', 'Masque of the Red Death, The', 'Haunted Honeymoon', \"Cat's Eye\", \"Monty Python's And Now for Something Completely Different\", 'Damien: Omen II', 'Final Conflict, The (a.k.a. Omen III: The Final Conflict)', 'Airplane II: The Sequel', 'American Werewolf in Paris, An', \"European Vacation (aka National Lampoon's European Vacation)\", \"National Lampoon's Vacation\", 'Funny Farm', 'Big', 'Problem Child', 'Problem Child 2', 'Little Nemo: Adventures in Slumberland', 'Oscar and Lucinda (a.k.a. Oscar & Lucinda)', 'Tequila Sunrise', 'Pelican Brief, The', 'Christmas Story, A', 'Mickey Blue Eyes', 'Teaching Mrs. Tingle', 'Universal Soldier: The Return', 'Universal Soldier', 'Perfect Blue', 'In Too Deep', 'Source, The', 'Iron Eagle', 'Iron Eagle II', 'Aces: Iron Eagle III', 'Iron Eagle IV', 'Three Days of the Condor (3 Days of the Condor)', 'Hamlet', 'Medicine Man', 'On the Ropes', '13th Warrior, The', \"Astronaut's Wife, The\", 'Dudley Do-Right', 'Muse, The', 'Chill Factor', 'Outside Providence', 'Bedrooms & Hallways', 'West Beirut (West Beyrouth)', 'Stigmata', 'Stir of Echoes', 'Black Cat, White Cat (Crna macka, beli macor)', 'Minus Man, The', 'Adventures of Milo and Otis, The (Koneko monogatari)', 'Only Angels Have Wings', 'Othello (Tragedy of Othello: The Moor of Venice, The)', 'Saturn 3', \"Soldier's Story, A\", 'I Saw What You Did', 'Yellow Submarine', 'Stop Making Sense', 'Blue Streak', 'For Love of the Game', 'Caligula', \"Hard Day's Night, A\", 'Sugar Town', 'Buddy Holly Story, The', 'Fright Night', 'Fright Night Part II', 'Barefoot in the Park', 'Deliverance', 'Excalibur', 'Pajama Game, The', 'Sommersby', 'Thumbelina', 'Tommy', 'Hell Night', 'Double Jeopardy', 'Jakob the Liar', 'Mumford', 'Dog Park', 'Guinevere', 'Adventures of Elmo in Grouchland, The', 'Simon Sez', 'Drive Me Crazy', 'Mystery, Alaska', 'Three Kings', 'Happy, Texas', 'New Rose Hotel', 'Plunkett & MaCleane', 'Romance', 'Alvarez Kelly', 'And the Ship Sails On (E la nave va)', 'Dark Half, The', \"Gulliver's Travels\", 'Monkey Shines', 'Psycho II', 'Psycho III', 'Sanjuro (Tsubaki Sanjûrô)', 'Random Hearts', 'Superstar', \"Boys Don't Cry\", 'Limey, The', 'Risky Business', 'Body Heat', 'Year of Living Dangerously, The', 'High Plains Drifter', \"Hang 'Em High\", 'Conformist, The (Conformista, Il)', 'Hairspray', 'Brief Encounter', \"Razor's Edge, The\", 'Reds', 'Return with Honor', 'Time of the Gypsies (Dom za vesanje)', 'Days of Heaven', 'Lady Eve, The', \"Sullivan's Travels\", 'Palm Beach Story, The', 'Niagara', 'Gilda', 'South Pacific', 'Flashdance', 'Indochine', 'Help!', 'Goldfinger', 'From Russia with Love', 'Dr. No', 'Blue Lagoon, The', 'Sydney (Hard Eight)', 'Home Alone 2: Lost in New York', 'Someone to Watch Over Me', 'Story of Us, The', 'Julien Donkey-Boy', 'Omega Code, The', 'Straight Story, The', 'Bad Seed, The', 'Man and a Woman, A (Un homme et une femme)', 'Fitzcarraldo', 'All That Jazz', 'Red Sorghum (Hong gao liang)', 'Crimes and Misdemeanors', 'Bats', 'Best Man, The', 'Crazy in Alabama', 'Three to Tango', 'Body Shots', 'Guardian, The', 'Ipcress File, The', 'On Any Sunday', 'RoboCop 2', 'Who Framed Roger Rabbit?', 'Melvin and Howard', 'For Your Eyes Only', 'Licence to Kill', 'Live and Let Die', 'Rawhead Rex', 'Thunderball', 'House on Haunted Hill', 'Music of the Heart', 'Being John Malkovich', 'Princess Mononoke (Mononoke-hime)', 'My Best Fiend (Mein liebster Feind)', 'Train of Life (Train de vie)', 'Bachelor, The', 'Bone Collector, The', 'Insider, The', 'American Movie', 'Last Night', 'Rosetta', \"They Shoot Horses, Don't They?\", 'Bride of Re-Animator', \"Bustin' Loose\", 'Coma', 'Creepshow 2', 'Drugstore Cowboy', 'Falling Down', 'Funhouse, The', 'General, The', 'Piranha', 'Taming of the Shrew, The', 'Nighthawks', 'Yojimbo', 'Repossessed', 'Omega Man, The', 'Robin Hood', 'Mister Roberts', 'Quest for Fire (Guerre du feu, La)', 'Little Big Man', 'Face in the Crowd, A', 'Meatballs', 'Meatballs Part II', 'Meatballs III', 'Meatballs 4', 'Dead Again', \"Peter's Friends\", 'Incredibly True Adventure of Two Girls in Love, The', 'Under the Rainbow', 'Anywhere But Here', 'Dogma', 'Messenger: The Story of Joan of Arc, The', 'Pokémon: The First Movie', \"Felicia's Journey\", 'Oxygen', \"Where's Marlowe?\", 'Commitments, The', 'Holiday Inn', 'Longest Day, The', 'Poison Ivy', 'Poison Ivy: New Seduction', 'Tora! Tora! Tora!', 'Women on the Verge of a Nervous Breakdown (Mujeres al borde de un ataque de nervios)', 'Verdict, The', 'Adventures of Buckaroo Banzai Across the 8th Dimension, The', 'Stand and Deliver', 'Moonstruck', 'Sandpiper, The', 'Jeremiah Johnson', 'Repulsion', 'Irma la Douce', '42 Up', 'Liberty Heights', 'Mansfield Park', 'Sleepy Hollow', 'World Is Not Enough, The', 'All About My Mother (Todo sobre mi madre)', 'Babes in Toyland', 'Scrooged', 'Harvey', 'Matewan', 'Kagemusha', 'McCabe & Mrs. Miller', 'Maurice', 'Grapes of Wrath, The', 'My Man Godfrey', 'Shop Around the Corner, The', 'Natural, The', 'Shampoo', 'River Runs Through It, A', 'Fatal Attraction', 'Jagged Edge', 'Stanley & Iris', 'Midnight Run', 'Awakenings', 'Come See the Paradise', 'Backdraft', 'River, The', 'Places in the Heart', \"'night Mother\", 'End of Days', 'Flawless', 'Ride with the Devil', 'Distinguished Gentleman, The', 'End of the Affair, The', 'Holy Smoke', 'Sweet and Lowdown', 'Bonfire of the Vanities', 'Daddy Long Legs', 'Grand Illusion (La grande illusion)', 'Great Santini, The', 'Stealing Home', 'Two Jakes, The', 'U2: Rattle and Hum', 'Hell in the Pacific', 'Cradle Will Rock', 'Deuce Bigalow: Male Gigolo', 'Cider House Rules, The', 'War Zone, The', 'Last Picture Show, The', '7th Voyage of Sinbad, The', 'Anna and the King', 'Bicentennial Man', 'Stuart Little', 'Emperor and the Assassin, The (Jing ke ci qin wang)', 'Fantasia 2000', 'Magnolia', 'Onegin', 'Simpatico', 'Topsy-Turvy', 'Boiling Point', 'Carnal Knowledge', 'Easy Rider', 'The Falcon and the Snowman', 'Room at the Top', 'Any Given Sunday', 'Galaxy Quest', 'Talented Mr. Ripley, The', 'Next Friday', 'Hurricane, The', \"Angela's Ashes\", 'Titus', 'Mr. Death: The Rise and Fall of Fred A. Leuchter, Jr.', 'Third Miracle, The', 'Snow Falling on Cedars', 'Girl, Interrupted', 'My Dog Skip', 'Supernova', 'Terrorist, The (a.k.a. Malli) (Theeviravaathi)', 'Way We Were, The', 'Stalag 17', 'Presidio, The', 'Papillon', 'Last Detail, The', 'Five Easy Pieces', 'Dead Calm', 'Boys from Brazil, The', 'Against All Odds', \"Loaded Weapon 1 (National Lampoon's Loaded Weapon 1)\", 'Fast Times at Ridgemont High', 'Cry in the Dark, A', 'Batman: Mask of the Phantasm', 'American Flyers', 'Star Is Born, A', 'Pacific Heights', \"Draughtsman's Contract, The\", 'Zed & Two Noughts, A', 'Woman in the Dunes (Suna no onna)', 'Down to You', 'Odessa File, The', 'Where the Buffalo Roam', 'Eye of the Beholder', 'Big Tease, The', 'Cup, The (Phörpa)', 'Encino Man', 'Goodbye Girl, The', 'Sister Act', 'Sister Act 2: Back in the Habit', 'Hand That Rocks the Cradle, The', 'Alive', 'Agnes of God', 'Scent of a Woman', \"Wayne's World\", \"Wayne's World 2\", 'League of Their Own, A', 'Patriot Games', 'Bodyguard, The', 'Death Becomes Her', 'Far and Away', 'Howards End', 'Singles', 'Twin Peaks: Fire Walk with Me', \"White Men Can't Jump\", 'Buffy the Vampire Slayer', \"Man Bites Dog (C'est arrivé près de chez vous)\", 'Mariachi, El', 'Stop! Or My Mom Will Shoot', 'Forever Young', 'Cutting Edge, The', 'Of Mice and Men', 'Bad Lieutenant', 'Single White Female', 'Boondock Saints, The', 'Gun Shy', 'Baby, The', 'Brandon Teena Story, The', 'Minnie and Moskowitz', 'They Might Be Giants', 'Snow Day', 'Tigger Movie, The', 'Not One Less (Yi ge dou bu neng shao)', 'Eaten Alive', 'Raining Stones', 'To Sir with Love', 'Hanging Up', 'Whole Nine Yards, The', 'Beautiful People', 'Black Tar Heroin: The Dark End of the Street', 'Circus, The', 'City Lights', 'Flamingo Kid, The', 'Kid, The', 'Class Reunion', 'Happy Go Lovely', 'Reindeer Games', 'Wonder Boys', 'Chain of Fools', 'Drowning Mona', 'Next Best Thing, The', 'What Planet Are You From?', 'Beyond the Mat', 'The Year My Voice Broke', 'Splendor in the Grass', 'My Tutor', 'Key Largo', 'For All Mankind', 'Born Yesterday', 'Birdy', 'Blood Feast', 'Charlie, the Lonesome Cougar', 'Never Cry Wolf', 'Raisin in the Sun, A', 'Closer You Get, The', 'Mission to Mars', 'Ninth Gate, The', 'East-West (Est-ouest)', 'Defending Your Life', 'Breaking Away', 'Hoosiers (a.k.a. Best Shot)', 'Bull Durham', 'American Graffiti', 'Asphalt Jungle, The', 'Searchers, The', 'Big Country, The', 'Betrayed', 'Bridge at Remagen, The', 'Daughters of the Dust', 'Ogre, The (Unhold, Der)', 'On the Beach', 'Taking of Pelham One Two Three, The', 'Volunteers', 'JFK', \"Who's Harry Crumb?\", 'Harry and the Hendersons', \"Let's Get Harry\", 'Shanghai Surprise', \"Who's That Girl?\", 'She-Devil', 'Date with an Angel', 'Blind Date', 'Nadine', 'Muppet Movie, The', 'Great Muppet Caper, The', 'Muppets Take Manhattan, The', \"We're Back! A Dinosaur's Story\", 'Baby... Secret of the Lost Legend', 'Turtle Diary', 'Raise the Titanic', 'Night to Remember, A', 'Captain Horatio Hornblower R.N.', 'Erin Brockovich', 'Soft Fruit', \"Bear, The (Ours, L')\", 'Love Is a Many-Splendored Thing', 'Mirror, The (Zerkalo)', 'Crimson Pirate, The', 'Thelma & Louise', '...And Justice for All', 'Jungle Fever', 'Champ, The', 'Creature Comforts', 'Death Wish', 'Death Wish 2', 'Death Wish 3', 'Death Wish 4: The Crackdown', 'Death Wish 5: The Face of Death', 'Double Indemnity', 'Dying Young', 'Teenage Mutant Ninja Turtles II: The Secret of the Ooze', 'Teenage Mutant Ninja Turtles III', 'Band of the Hand', 'Bloodsport', 'Eyes of Laura Mars', 'Funny Bones', 'Good Earth, The', 'Good Morning, Vietnam', 'Good Mother, The', 'Grumpy Old Men', \"Guess Who's Coming to Dinner\", 'Here on Earth', 'Whatever It Takes', 'Buddy Boy', 'Color of Paradise, The (Rang-e khoda)', 'Gothic', 'Lord of the Flies', 'Modern Times', 'Heart and Souls', 'Hud', 'Inherit the Wind', 'Dersu Uzala', 'Close Encounters of the Third Kind', \"Jonah Who Will Be 25 in the Year 2000 (Jonas qui aura 25 ans en l'an 2000)\", 'Retroactive', 'Place in the Sun, A', \"Jacob's Ladder\", 'Empire Records', 'Bamba, La', 'Ladyhawke', 'Lucas', 'Road to El Dorado, The', 'Hook', 'Son of the Sheik, The', 'Madame Sousatzka', 'Max Dugan Returns', 'Midnight Express', 'Misery', 'Mr. Saturday Night', \"Murphy's Romance\", 'My Life', 'Solaris (Solyaris)', 'Network', 'No Way Out', 'North Dallas Forty', 'Odd Couple, The', 'Outlaw Josey Wales, The', 'Frequency', 'Ready to Rumble', 'Return to Me', 'Rules of Engagement', \"Joe Gould's Secret\", 'Me Myself I', 'Bell, Book and Candle', 'Force 10 from Navarone', 'Arthur', 'Bachelor Party', 'Parenthood', 'Prince of Tides, The', 'Postman Always Rings Twice, The', 'All the Vermeers in New York', '28 Days', 'Keeping the Faith', 'Where the Money Is', 'East is East', 'Filth and the Fury, The', 'Diner', 'Shakes the Clown', 'Cabaret', 'What Ever Happened to Baby Jane?', 'Auntie Mame', 'Guys and Dolls', 'The Hunger', 'Marathon Man', 'Love and Basketball', 'U-571', 'Virgin Suicides, The', 'Jennifer 8', 'Limelight', 'Crow: Salvation, The', 'Where the Heart Is', 'Big Kahuna, The', 'Bossa Nova', 'Smiling Fish and Goat on Fire', 'Idiots, The (Idioterne)', 'Time Code', 'Carnosaur', 'Carnosaur 2', 'Carnosaur 3: Primal Species', 'Hidden, The', 'Two Moon Junction', 'Up at the Villa', 'Human Traffic', 'Breathless', 'The Idolmaker', 'Inferno', 'Lords of Flatbush, The', 'Mr. Mom', 'Time Masters (Maîtres du temps, Les)', 'Battlefield Earth', 'Center Stage', 'Screwed', 'Whipped', 'Hamlet', 'Anchors Aweigh', 'Gypsy', 'On the Town', \"Pee-wee's Big Adventure\", 'Regret to Inform', 'Honeymoon in Vegas', 'Dinosaur', 'Small Time Crooks', 'Hollywood Knights, The', 'Twelve Chairs, The', 'Better Living Through Circuitry', '8 ½ Women (a.k.a. 8 1/2 Women) (a.k.a. Eight and a Half Women)', 'Carnival of Souls', 'Flying Tigers', 'Gold Rush, The', 'Monsieur Verdoux', \"On Her Majesty's Secret Service\", 'Seven Days in May', 'Spy Who Loved Me, The', 'Vagabond (Sans toit ni loi)', 'Moonraker', 'Man with the Golden Gun, The', 'King in New York, A', 'Woman of Paris, A', 'Fighting Seabees, The', 'Abominable Snowman, The (Abominable Snowman of the Himalayas, The)', 'American Gigolo', 'City of the Living Dead (a.k.a. Gates of Hell, The) (Paura nella città dei morti viventi)', 'Endless Summer, The', 'Guns of Navarone, The', 'Blow-Out (La grande bouffe)', 'Quatermass and the Pit', 'Puppet Master', 'Puppet Master II', \"Puppet Master III: Toulon's Revenge\", 'Puppet Master 4', 'Puppet Master 5: The Final Chapter', 'Rent-A-Cop', 'Romeo and Juliet', 'Stay Tuned', 'Benji', 'Benji the Hunted', 'For the Love of Benji', 'White Christmas', 'Eraserhead', 'Baraka', 'Man with the Golden Arm, The', 'Decline of Western Civilization, The', 'Decline of Western Civilization Part II: The Metal Years, The', 'Magnum Force', 'Fabulous Baker Boys, The', \"Prizzi's Honor\", 'Flatliners', 'Light Years (Gandahar)', \"Porky's\", \"Porky's II: The Next Day\", \"Porky's Revenge\", 'Private School', \"Class of Nuke 'Em High\", 'Toxic Avenger, The', 'Toxic Avenger, Part II, The', 'Toxic Avenger Part III: The Last Temptation of Toxie, The', 'Predator 2', 'Brother from Another Planet, The', 'Alien Nation', 'Mad Max', 'Mad Max Beyond Thunderdome', 'Bird on a Wire', 'Angel Heart', '9 1/2 Weeks (Nine 1/2 Weeks)', 'Firestarter', 'Sleepwalkers', 'Action Jackson', 'Sarafina!', 'Soapdish', 'Long Walk Home, The', \"Clara's Heart\", 'Burglar', 'Fatal Beauty', \"Love's Labour's Lost\", 'Hamlet', 'Coming Home', 'American Pop', 'One False Move', 'Conversation, The', \"Cutter's Way\", 'Fury, The', 'Paper Chase, The', 'Serpico', 'Ace in the Hole (Big Carnival, The)', 'Lonely Are the Brave', 'Sugarland Express, The', 'Trouble in Paradise', 'Badlands', 'Battleship Potemkin', 'Boys and Girls', 'Butterfly (La lengua de las mariposas)', \"Jesus' Son\", 'Adventures of Rocky and Bullwinkle, The', 'Perfect Storm, The', 'Golden Bowl, The', 'Communion', 'Kentucky Fried Movie, The', 'Blood In, Blood Out', 'F/X', 'F/X2 (a.k.a. F/X 2 - The Deadly Art of Illusion)', 'Hot Spot, The', 'Missing in Action', 'Missing in Action 2: The Beginning', 'Braddock: Missing in Action III', 'Thunderbolt and Lightfoot', 'Dreamscape', 'The Golden Voyage of Sinbad', 'House Party', 'House Party 2', 'Croupier', 'Kid, The', \"But I'm a Cheerleader\", 'Shower (Xizao)', 'Blow-Up (Blowup)', 'Pawnbroker, The', 'Groove', 'Footloose', 'Duel in the Sun', 'Chuck & Buck', 'Five Senses, The', 'In Crowd, The', 'Pokémon the Movie 2000', 'Anatomy of a Murder', 'Freejack', \"Mackenna's Gold\", 'Sinbad and the Eye of the Tiger', 'Two Women (Ciociara, La)', 'What About Bob?', 'White Sands', 'Breaker Morant', 'Everything You Always Wanted to Know About Sex * But Were Afraid to Ask', 'Interiors', 'Love and Death', 'Official Story, The (La historia oficial)', 'Tampopo', 'Girl on the Bridge, The (Fille sur le pont, La)', 'Wonderland', 'Autumn in New York', 'Space Cowboys', 'Psycho Beach Party', 'Saving Grace', 'Black Sabbath (Tre volti della paura, I)', \"Brain That Wouldn't Die, The\", 'Bronco Billy', 'Crush, The', \"Kelly's Heroes\", 'Phantasm II', 'Phantasm III: Lord of the Dead', 'Phantasm IV: Oblivion', 'Pumpkinhead', 'Air America', 'Sleepaway Camp', 'Steel Magnolias', 'And God Created Woman (Et Dieu... créa la femme)', 'Easy Money', 'Ilsa, She Wolf of the SS', 'The Spiral Staircase', \"I'm the One That I Want\", 'Tao of Steve, The', 'Affair of Love, An (Liaison pornographique, Une)', 'Bless the Child', 'Cecil B. DeMented', 'Eyes of Tammy Faye, The', 'Replacements, The', 'About Adam', 'Godzilla 2000 (Gojira ni-sen mireniamu)', 'Naked Gun: From the Files of Police Squad!, The', 'Naked Gun 2 1/2: The Smell of Fear, The', 'Our Town', 'Shane', 'Suddenly, Last Summer', 'Cat Ballou', 'Supergirl', 'Crew, The', 'Skipped Parts', 'Solas', 'Watcher, The', 'Bait', 'Circus', 'Crime and Punishment in Suburbia', 'Duets', 'Under Suspicion', 'Woman on Top', 'Dancer in the Dark', 'Beautiful', 'Broken Hearts Club, The', 'Girlfight', 'Hellbound: Hellraiser II', 'Hellraiser III: Hell on Earth', 'Faraway, So Close (In weiter Ferne, so nah!)', 'Bikini Beach', 'Voyage to the Bottom of the Sea', 'Fantastic Voyage', 'Abbott and Costello Meet Frankenstein', 'Bank Dick, The', 'Creature from the Black Lagoon, The', 'Invisible Man, The', 'Killer Shrews, The', 'Runaway', 'Slumber Party Massacre, The', 'Slumber Party Massacre II', 'Slumber Party Massacre III', 'Sorority House Massacre', 'Sorority House Massacre II', 'Get Carter', 'Get Carter', 'Tigerland', 'Two Family House', 'Contender, The', 'Dr. T and the Women', 'Ladies Man, The', 'Billy Jack', 'Billy Jack Goes to Washington', 'Time Machine, The', 'Ghoulies II', 'Unsinkable Molly Brown, The', 'Adventures of Ichabod and Mr. Toad, The', 'Strange Love of Martha Ivers, The', 'Detour', 'Pay It Forward', 'Private Eyes, The', 'Little Vampire, The', 'Legend of Bagger Vance, The', 'Men of Honor', 'You Can Count on Me', 'Diamonds Are Forever', 'Eagle Has Landed, The', 'Bounce', 'One Day in September', 'Rugrats in Paris: The Movie', '102 Dalmatians', 'Malèna', 'Quills', 'Proof of Life', 'Bounty, The', 'Planes, Trains & Automobiles', \"She's Having a Baby\", 'Living Daylights, The', 'Transformers: The Movie', 'Wall Street', 'Born on the Fourth of July', 'Talk Radio', \"Brewster's Millions\", 'Punchline', 'Chocolat', \"Dude, Where's My Car?\", 'Pollock', 'Finding Forrester', 'Before Night Falls', 'House of Mirth, The', 'State and Main', 'All the Pretty Horses', 'Everlasting Piece, An', 'Thirteen Days', 'Claim, The', 'Shadow of the Vampire', 'House of Games', 'Annie', \"Don't Tell Mom the Babysitter's Dead\", 'Officer and a Gentleman, An', 'Alamo, The', 'At Close Range', 'Friendly Persuasion', 'Gettysburg', 'Horrors of Spider Island (Ein Toter Hing im Netz)', 'Antitrust', 'Double Take', 'Panic', 'Pledge, The', 'The Man in the Moon', 'Mystic Pizza', 'Prelude to a Kiss', 'Coffy', 'Foxy Brown', \"I'm Gonna Git You Sucka\", 'Untamed Heart', 'Sugar & Spice', 'Wedding Planner, The', 'Legend of Rita, The (Stille nach dem Schuß, Die)', 'With a Friend Like Harry... (Harry, un ami qui vous veut du bien)', 'Amazing Grace and Chuck', 'Amazon Women on the Moon', 'Baby Boom', 'Back to the Beach', 'Barfly', 'Best Seller', 'Beverly Hills Cop II', 'Beverly Hills Cop', 'Big Easy, The', 'Born in East L.A.', 'Brave Little Toaster, The', \"Can't Buy Me Love\", 'Cherry 2000', 'Cop', 'Eddie Murphy Raw', 'Empire of the Sun', 'Ernest Goes to Camp', 'Flowers in the Attic', 'Fourth Protocol, The', 'Gardens of Stone', 'Glass Menagerie, The', 'Hiding Out', 'Hollywood Shuffle', 'Hope and Glory', 'Innerspace', 'Ishtar', 'Jaws: The Revenge', 'Leonard Part 6', 'Less Than Zero', 'Like Father, Like Son', 'Lost Boys, The', 'Made in Heaven', 'Maid to Order', 'Making Mr. Right', 'Mannequin', 'Masters of the Universe', 'Monster Squad, The', 'My Demon Lover', \"No Man's Land\", 'Head Over Heels', 'Left Behind: The Movie', 'Valentine', 'Million Dollar Hotel, The', 'Nico and Dani (Krámpack)', 'Saving Silverman (Evil Woman)', 'Vatel', \"Recess: School's Out\", 'Sweet November', 'Company Man', 'Price of Milk, The', 'Monkeybone', 'Widow of St. Pierre, The (Veuve de Saint-Pierre, La)', 'Mexican, The', \"Caveman's Valentine, The\", 'Series 7: The Contenders', '15 Minutes', 'Get Over It', \"Long Night's Journey Into Day\", 'Avalon', \"Gray's Anatomy\", 'Of Mice and Men', 'Reform School Girls', 'Tapeheads', \"Bishop's Wife, The\", 'Lilies of the Field', 'Greatest Story Ever Told, The', 'Elmer Gantry', 'Alfie', 'Fantasticks, The', \"I Know Where I'm Going!\", 'Abominable Dr. Phibes, The', 'Real Life', 'Battle Beyond the Stars', 'Double Impact', 'Fuzz', 'Harley Davidson and the Marlboro Man', \"Losin' It\", 'Mermaids', 'Navy Seals', 'Manhunter', 'Reversal of Fortune', 'Death on the Nile', 'Revenge of the Nerds', 'Revenge of the Nerds II: Nerds in Paradise', '4 Little Girls', \"River's Edge\", 'Girls Just Want to Have Fun', 'Longest Yard, The', 'Necessary Roughness', 'Enemy at the Gates', 'Exit Wounds', 'Dish, The', \"Say It Isn't So\", 'Someone Like You', 'Tomcats', 'Tailor of Panama, The', \"Amores Perros (Love's a Bitch)\", 'Keep the River on Your Right: A Modern Cannibal Tale', 'Gleaners & I, The (Les glaneurs et la glaneuse)', 'Along Came a Spider', 'Blow', 'Just Visiting', 'Pokémon 3: The Movie', 'Beautiful Creatures', 'Brigham City', 'Josie and the Pussycats', 'Chopper', 'Circle, The (Dayereh)', 'Crocodile Dundee in Los Angeles', 'Freddy Got Fingered', 'Center of the World, The', 'Luzhin Defence, The', 'Visit, The', 'Days of Wine and Roses', 'Driven', \"One Night at McCool's\", 'Town & Country', 'Under the Sand', 'Krull', 'Lost in America', 'Triumph of the Will (Triumph des Willens)', 'World According to Garp, The', 'Fellini Satyricon', 'Frankie and Johnny', 'Frankie and Johnny', 'City of Women, The (Città delle donne, La)', 'For the Boys', 'Nine to Five (a.k.a. 9 to 5)', 'Norma Rae', 'Summer Rental', '5,000 Fingers of Dr. T, The', 'Love Story', 'Pelle the Conqueror (Pelle erobreren)', 'Rififi (Du rififi chez les hommes)', 'Bread and Roses', 'Startup.com', 'Angel Eyes', 'Fast Food, Fast Women', \"Himalaya (Himalaya - l'enfance d'un chef)\", 'Man Who Cried, The', 'Ice Castles', 'Love Potion #9', 'City Slickers', 'Eight Men Out', 'Horse Soldiers, The', 'Night, The (Notte, La)', 'Mississippi Burning', 'Magnificent Seven, The', 'Rio Bravo', 'Throw Momma from the Train', 'Yi Yi', 'Sand Pebbles, The', \"Twelve O'Clock High\", \"Von Ryan's Express\", 'Animal, The', 'Big Eden', 'Anniversary Party, The', 'Divided We Fall (Musíme si pomáhat)', 'Catch-22', 'Forgotten Silver', 'Point Break', 'Uncommon Valor', 'Unlawful Entry', 'Youngblood', 'Gentlemen Prefer Blondes', 'How to Marry a Millionaire', 'Seven Year Itch, The', 'Tootsie', 'Atlantis: The Lost Empire', 'Baby Boy', 'Crazy/Beautiful', 'Pootie Tang', 'Let It Snow', 'Princess and the Warrior, The (Krieger und die Kaiserin, Der)', 'Closet, The (Placard, Le)', 'Crimson Rivers, The (Rivières pourpres, Les)', 'Lumumba', 'Cats & Dogs', 'Lost and Delirious', 'Rape Me (Baise-moi)', 'Alice', 'Another Woman', 'Beach Blanket Bingo', 'Big Deal on Madonna Street (I Soliti Ignoti)', 'Cannonball Run, The', 'Cannonball Run II', \"Diary of a Chambermaid (Journal d'une femme de chambre, Le)\", 'Dr. Goldfoot and the Bikini Machine', 'Fall of the House of Usher, The (House of Usher)', 'Faust', 'Man Who Shot Liberty Valance, The', 'Salvador', 'September', 'Shadows and Fog', 'Something Wild', 'Thing with Two Heads, The', 'All That Heaven Allows', 'Barefoot Contessa, The', 'Cries and Whispers (Viskningar och rop)', 'Garden of the Finzi-Continis, The (Giardino dei Finzi-Contini, Il)', 'Kiss Me Deadly', 'Lion in Winter, The', 'Misfits, The', 'Moby Dick', 'Sweet Smell of Success', 'Written on the Wind', '10th Victim, The (La decima vittima)', 'Obsession', 'Fist of Fury (Chinese Connection, The) (Jing wu men)', 'Christiane F. (a.k.a. We Children from Bahnhof Zoo) (Christiane F. - Wir Kinder vom Bahnhof Zoo)', 'Big Boss, The (Fists of Fury) (Tang shan da xiong)', 'Game of Death', 'Last Dragon, The', 'Outland', 'Way of the Dragon, The (a.k.a. Return of the Dragon) (Meng long guo jiang)', 'T-Rex: Back to the Cretaceous', 'Legally Blonde', 'Adanggaman', 'Jump Tomorrow', 'Made', 'Michael Jordan to the Max', 'More', 'Africa: The Serengeti', 'Alaska: Spirit of the Wild', '18 Again!', '1969', 'Accidental Tourist, The', 'Accused, The', 'Above the Law', 'Ariel', 'Arthur 2: On the Rocks', 'Bat*21', 'Beaches', 'Beast of War, The (Beast, The)', 'Big Business', 'Big Top Pee-Wee', 'Biloxi Blues', 'Blob, The', 'Bright Lights, Big City', 'Caddyshack II', 'Camille Claudel', 'Cocktail', 'Colors', 'Coming to America', 'Couch Trip, The', 'Critters', 'Crossing Delancey', 'D.O.A.', 'Dead Pool, The', 'Dirty Rotten Scoundrels', 'Drowning by Numbers', 'Ernest Saves Christmas', 'Feds', 'For Keeps', 'Frantic', 'Gorillas in the Mist', 'Great Outdoors, The', 'High Spirits', 'Johnny Be Good', 'Lady in White (a.k.a. The Mystery of the Lady in White)', 'The Lair of the White Worm', 'Land Before Time, The', 'License to Drive', 'Little Nikita', 'Masquerade', 'Milagro Beanfield War', 'Moon Over Parador', 'My Stepmother Is an Alien', 'Night in the Life of Jimmy Reardon, A', 'Bagdad Cafe (Out of Rosenheim)', 'Red Heat', 'Return to Snowy River (a.k.a. The Man From Snowy River II)', 'Man from Snowy River, The', 'Running on Empty', 'Serpent and the Rainbow, The', 'Short Circuit 2', 'Short Circuit', 'Vanishing, The (Spoorloos)', 'Tetsuo, the Ironman (Tetsuo)', 'Tucker: The Man and His Dream', 'Twins', 'Without a Clue', 'Young Einstein', 'Always', 'American Ninja', 'Best of the Best', \"Bill & Ted's Excellent Adventure\", 'Black Rain', 'Blaze', 'Casualties of War', 'Chances Are', 'Cyborg', 'Dad', 'Disorganized Crime', 'Dream a Little Dream', 'Dream Team, The', 'Earth Girls Are Easy', 'Eddie and the Cruisers', 'Erik the Viking', 'Family Business', 'Farewell to the King', 'Fat Man and Little Boy', 'Gleaming the Cube', 'Great Balls of Fire!', 'Gross Anatomy (a.k.a. A Cut Above)', 'Harlem Nights', 'Her Alibi', 'How to Get Ahead in Advertising', 'Innocent Man, An', 'January Man, The', 'Johnny Handsome', 'Jesus of Montreal (Jésus de Montréal)', 'K-9', 'Kickboxer', 'Last Exit to Brooklyn', 'Lean on Me', 'Let It Ride', 'Little Monsters', \"Look Who's Talking\", 'Loverboy', 'Major League', 'Meet the Feebles', 'Millennium', 'Miracle Mile', 'New York Stories', 'Next of Kin', 'No Holds Barred', 'Package, The', 'Penn & Teller Get Killed', 'Pink Cadillac', \"America's Sweethearts\", 'Brother', 'Hedwig and the Angry Inch', 'Bread and Tulips (Pane e tulipani)', 'Cure', 'Greenfingers', 'Wet Hot American Summer', 'Return of the Musketeers, The', 'Road House', 'Santa Sangre', 'Scenes from the Class Struggle in Beverly Hills', 'Sea of Love', 'See No Evil, Hear No Evil', \"She's Out of Control\", 'Skin Deep', 'Stepfather, The', 'Sweetie', 'Tall Guy, The', 'Tango & Cash', 'Three Fugitives', 'Troop Beverly Hills', 'Turner & Hooch', 'UHF', 'Uncle Buck', 'War of the Roses, The', 'Wizard, The', \"Weekend at Bernie's II\", 'Billy Liar', 'Black Robe', \"Cat o' Nine Tails, The (Gatto a nove code, Il)\", 'Cotton Club, The', \"Who'll Stop the Rain\", 'Basket Case', 'Original Sin', 'Princess Diaries, The', 'Chocolat', 'Hatari!', 'Cage aux Folles, La', 'Marat/Sade', 'Paint Your Wagon', 'Shootist, The', 'Theremin: An Electronic Odyssey', 'Altered States', 'Any Which Way You Can', 'Awakening, The', 'Battle Creek Brawl (Big Brawl, The)', 'Osmosis Jones', 'All Over the Guy', 'Deep End, The', \"Captain Corelli's Mandolin\", 'Bubble Boy', 'Curse of the Jade Scorpion, The', 'Jay and Silent Bob Strike Back', 'Summer Catch', 'Happy Accidents', 'Maybe Baby', 'Together (Tillsammans)', 'Tortilla Soup', 'O', '3 Ninjas', '3 Ninjas Kick Back', '3 Ninjas Knuckle Up', 'Wicker Man, The', 'Musketeer, The', 'Rock Star', 'Two Can Play That Game', 'L.I.E.', 'Our Lady of the Assassins (Virgen de los sicarios, La)', 'Into the Arms of Strangers: Stories of the Kindertransport', 'Glass House, The', 'Hardball', 'Dinner Rush', 'Haiku Tunnel', 'Big Trouble', 'Glitter', 'American Astronaut, The', 'Liam', 'Sidewalks of New York', \"Endurance: Shackleton's Legendary Antarctic Expedition, The\", \"French Lieutenant's Woman, The\", 'Great Silence, The (Grande silenzio, Il)', 'Legend of Hell House, The', 'Little Man Tate', 'Moscow Does Not Believe in Tears (Moskva slezam ne verit)', 'Phantom of the Paradise', '13 Ghosts', 'Father Goose', 'Grass Is Greener, The', 'Indiscreet', \"It's a Mad, Mad, Mad, Mad World\", \"King Solomon's Mines\", 'Little Foxes, The', 'Operation Petticoat', 'Play Misty for Me', 'Pocketful of Miracles', 'Vanishing, The', 'Silkwood', 'I Never Promised You a Rose Garden', 'Quadrophenia', 'SpaceCamp', 'When Worlds Collide', \"Don't Say a Word\", 'Extreme Days', \"Max Keeble's Big Move\", 'Serendipity', 'Swamp, The (Ciénaga, La)', 'Big Red One, The', 'Boogeyman, The', 'Party, The (Boum, La)', 'Brubaker', \"Can't Stop the Music\", 'Changeling, The', \"Coal Miner's Daughter\", 'Competition, The', 'Last Metro, The (Dernier métro, Le)', 'Bandits', 'Corky Romano', 'Iron Monkey (Siu nin Wong Fei-hung ji: Tit Ma Lau)', 'Fat Girl (À ma soeur!)', 'My First Mister', 'Spriggan (Supurigan)', 'Dirty Harry', 'Fiddler on the Roof', 'Making the Grade', 'Not Without My Daughter', 'Female Trouble', 'Titanica', 'From Hell', 'Riding in Cars with Boys', 'Focus', 'K-PAX', 'Better Than Sex', 'High Heels and Low Lifes', 'Life as a House', 'Town is Quiet, The (Ville est tranquille, La)', 'Domestic Disturbance', 'Tape', 'Heist', 'When a Stranger Calls', 'Novocaine', 'Out Cold', 'In the Bedroom', 'Incredible Shrinking Woman, The', 'Jabberwocky', 'Funny Girl', 'Breathless (À bout de souffle)', 'Beastmaster, The', 'Midway', 'MacArthur', 'Subway', 'Now, Voyager', 'Little Women', 'Cheap Detective, The', \"Everybody's Famous! (Iedereen beroemd!)\", 'Last Wave, The', 'That Obscure Object of Desire (Cet obscur objet du désir)', 'Toy, The', 'Dressed to Kill', 'Fame', 'Final Countdown, The', 'Flash Gordon', 'Angry Red Planet, The', 'Enforcer, The', 'Eye for an Eye, An', 'Gauntlet, The', 'Lord of the Flies', 'Morons From Outer Space', 'People That Time Forgot, The', \"Ocean's Eleven (a.k.a. Ocean's 11)\", 'Stunt Man, The', 'Sudden Impact', 'Affair of the Necklace, The', 'Pornstar: The Legend of Ron Jeremy', 'Texas Rangers', 'Baran', 'Business of Strangers, The', 'Incredible Shrinking Man, The', \"No Man's Land\", 'And Then There Were None', 'Blue Angel, The (Blaue Engel, Der)', 'Moscow on the Hudson', 'Not Another Teen Movie', 'Iris', 'Kandahar (Safar e Ghandehar)', 'Lantana', \"Bill & Ted's Bogus Journey\", 'Clockwise', 'Sheena', 'Spacehunter: Adventures in the Forbidden Zone', 'White Water Summer', 'How High', 'Joe Somebody', 'Kate & Leopold', 'Majestic, The', 'Beautiful Mind, A', 'Defiant Ones, The', 'Party, The', 'Topkapi', 'Witness for the Prosecution', 'Ali', 'Charlotte Gray', 'Yentl', 'Gosford Park', 'I Am Sam', \"Monster's Ball\", 'Shipping News, The', 'Murder by Death', 'Waterdance, The', 'Another 48 Hrs.', 'What Time Is It There? (Ni neibian jidian)', 'Russia House, The', 'Truly, Madly, Deeply', 'Dragonslayer', 'Conan the Destroyer', 'Fire and Ice', 'Impostor', 'Kung Pow: Enter the Fist', 'Snow Dogs', 'Italian for Beginners (Italiensk for begyndere)', 'Blankman', 'Brainstorm', 'Dragon: The Bruce Lee Story', 'Little Dieter Needs to Fly', 'M*A*S*H (a.k.a. MASH)', 'Seconds', 'One-Eyed Jacks', 'Walk to Remember, A', 'Beijing Bicycle (Shiqi sui de dan che)', 'Escaflowne: The Movie (Escaflowne)', 'Maelström', 'Metropolis', \"Son's Room, The (Stanza del figlio, La)\", 'Storytelling', 'Waydowntown', 'Adventures of Huck Finn, The', 'Cousins', 'Slackers', 'Birthday Girl', 'Rare Birds', 'Going Places (Valseuses, Les)', 'Big Fat Liar', 'Rollerball', 'Scotland, Pa.', \"Baby's Day Out\", 'Heidi', 'Rookie of the Year', 'Sandlot, The', \"Don't Look Now\", 'Crossroads', \"Hart's War\", 'Return to Never Land', 'Good Son, The', 'Last Orders', 'After the Fox (Caccia alla volpe)', 'Bad and the Beautiful, The', 'Designing Woman', 'Sleuth', 'Stroszek', 'Dragonfly', \"How to Kill Your Neighbor's Dog\", 'Mean Machine', 'Monsoon Wedding', 'Scratch', 'Wild Strawberries (Smultronstället)', '40 Days and 40 Nights', 'We Were Soldiers', 'Big Bird Cage, The', 'Big Doll House, The', 'Ferngully: The Last Rainforest', 'Zombie (a.k.a. Zombie 2: The Dead Are Among Us) (Zombi 2)', 'Royal Wedding', 'All About the Benjamins', 'Time Machine, The', 'Magnificent Ambersons, The', 'Fun', 'Hangar 18', 'Hopscotch', 'Humanoids from the Deep', 'Little Darlings', 'Long Good Friday, The', \"Mon oncle d'Amérique\", 'Motel Hell', 'Ffolkes', 'Octagon, The', 'Oh, God! Book II', 'Oh, God!', 'Ice Age', 'Showtime', \"Harrison's Flowers\", 'Kissing Jessica Stein', 'Promises', 'All the Right Moves', 'Road to Morocco', 'Taps', 'Return of the Secaucus 7', 'Rude Boy', 'Running Scared', 'Seems Like Old Times', 'Shogun Assassin', 'Smokey and the Bandit II', 'Smokey and the Bandit', 'Smokey and the Bandit III', 'Stir Crazy', 'Sorority Boys', 'Stolen Summer', 'George Washington', 'Clockstoppers', 'Death to Smoochy', 'Rookie, The', 'No Such Thing', 'Piano Teacher, The (La pianiste)', \"Time Out (L'emploi du temps)\", 'Fraternity Vacation', 'Impromptu', 'High Crimes', 'Crush', 'Lucky Break', 'Atomic Cafe, The', 'Rashomon (Rashômon)', 'Slap Shot', 'Changing Lanes', \"Cat's Meow, The\", 'Human Nature', 'My Big Fat Greek Wedding', 'Joe Versus the Volcano', 'Rome, Open City (a.k.a. Open City) (Roma, città aperta)', 'Taking Care of Business', 'Three Men and a Baby', 'Three Men and a Little Lady', 'Watcher in the Woods, The', 'Murder by Numbers', 'Enigma', 'Nine Queens (Nueve reinas)', 'Triumph of Love, The', 'World Traveler', 'Life or Something Like It', 'Dogtown and Z-Boyz', 'Rain', 'Bob le Flambeur', 'Cadillac Man', 'Delirious', 'Full Moon in Blue Water', 'Husbands and Wives', 'Lenny', 'Triumph of the Spirit', 'Wild Orchid', 'Deuces Wild', 'Hollywood Ending', 'Butterflies Are Free', 'Giant Spider Invasion, The', 'Iron Will', 'Mountains of the Moon', 'White Fang', 'New Guy, The', 'Unfaithful', \"Lady and the Duke, The (Anglaise et le duc, L')\", 'Calamity Jane', 'Cranes Are Flying, The (Letyat zhuravli)', 'Harvey Girls, The', 'Believer, The', 'Importance of Being Earnest, The', 'Every Which Way But Loose', 'I Want to Live!', 'Last Waltz, The', 'Enough', 'Spirit: Stallion of the Cimarron', 'CQ', 'Thirteen Conversations About One Thing (a.k.a. 13 Conversations)', 'Monkey Business', 'Requiem for a Heavyweight', 'Sum of All Fears, The', 'Undercover Brother', '84 Charing Cross Road', 'Rapid Fire', 'Silent Running', 'Bad Company', 'Divine Secrets of the Ya-Ya Sisterhood', 'Cherish', 'Fast Runner, The (Atanarjuat)', 'Scooby-Doo', 'Dangerous Lives of Altar Boys, The', \"Emperor's New Clothes, The\", 'Gangster No. 1', 'Harvard Man', 'Dark Blue World (Tmavomodrý svet)', 'Caveman', \"Cheech & Chong's The Corsican Brothers\", \"Silver Bullet (Stephen King's Silver Bullet)\", 'Sorry, Wrong Number', 'Hombre', 'Manhattan Project, The', 'Men at Work', 'She Wore a Yellow Ribbon', 'V. I. Warshawski', 'Juwanna Mann', 'Rabbit-Proof Fence', 'Sunshine State', 'Hey Arnold! The Movie', 'Lovely & Amazing', 'Pumpkin', \"Look Who's Talking Now\", \"Mo' Money\", 'Object of Beauty, The', 'Wagons East', 'Like Mike', 'Powerpuff Girls, The', 'Me Without You', 'Crocodile Hunter: Collision Course, The', 'All About Lily Chou-Chou (Riri Shushu no subete)', 'My Wife is an Actress (Ma Femme est une Actrice)', '20 Million Miles to Earth', 'The Importance of Being Earnest', 'Perfect', '1776', 'Z', 'Sex and Lucia (Lucía y el sexo)', 'Eight Legged Freaks', 'K-19: The Widowmaker', 'Stuart Little 2', 'Kid Stays in the Picture, The', 'Tadpole', 'Who Is Cletis Tout?', 'Nosferatu the Vampyre (Nosferatu: Phantom der Nacht)', 'The Big Bus', 'In Like Flint', 'Our Man Flint', 'Red Beard (Akahige)', 'Robin and Marian', 'Top Secret!', 'Master of Disguise, The', \"Last Kiss, The (Ultimo bacio, L')\", 'Good Girl, The', 'Blood Work', '24 Hour Party People', 'Secret Ballot (Raye makhfi)', 'Martin Lawrence Live: Runteldat', 'Songs From the Second Floor (Sånger från andra våningen)', 'Principal, The', 'Rollerball', 'Adventures of Pluto Nash, The', 'Blue Crush', 'Mostly Martha (Bella Martha)', 'Possession', 'Serving Sara', 'Simone (S1m0ne)', 'Undisputed', \"Amy's O (a.k.a. Amy's Orgasm)\", 'Satin Rouge', 'Care Bears Movie, The', 'Care Bears Movie II: A New Generation', 'Clash of the Titans', 'Hot Shots!', 'Swarm, The', 'Time After Time', 'Down and Out in Beverly Hills', 'Love Me Tender', 'Stakeout', 'FearDotCom (a.k.a. Fear.com) (a.k.a. Fear Dot Com)', 'À nous la liberté (Freedom for Us)', 'Snipes', 'City by the Sea', 'Swimfan', 'Johnny Dangerously', 'Last House on the Left, The', 'Thesis (Tesis)', 'Barbershop', 'Stealing Harvard', 'Alias Betty (Betty Fisher et autres histoires)', 'Aspen Extreme', \"Betsy's Wedding\", 'Captain Ron', 'Ernest Goes to Jail', 'Ernest Scared Stupid', 'Indian Summer', 'Mack, The', 'Monkey Trouble', 'Spaced Invaders', 'Suburban Commando', 'Yearling, The', 'Lavender Hill Mob, The', 'Man in the White Suit, The', 'Son of the Bride (Hijo de la novia, El)', 'Das Experiment (Experiment, The)', 'Ballistic: Ecks vs. Sever', 'Banger Sisters, The', 'Four Feathers, The', 'Trapped', '8 Women', 'His Secret Life (a.k.a. Ignorant Fairies, The) (Fate ignoranti, Le)', 'Invincible', 'Trials of Henry Kissinger, The', 'Sweet Home Alabama', 'Tuxedo, The', 'Moonlight Mile', 'Wasabi', 'Jonah: A VeggieTales Movie', 'Bloody Sunday', 'Heaven', 'Man from Elysian Fields, The', 'Welcome to Collinwood', 'Flirting', 'Godzilla vs. Mothra (Mosura tai Gojira)', 'Godzilla, King of the Monsters! (Kaijû-ô Gojira)', 'Powaqqatsi', 'Pride of the Yankees, The', 'Valmont', 'Horror of Dracula (Dracula)', 'Strange Brew', 'Incredible Mr. Limpet, The', 'Flashback', 'Below', 'Brown Sugar', 'Knockaround Guys', 'Rules of Attraction, The', 'Tuck Everlasting', 'White Oleander', 'Comedian', 'Pokemon 4 Ever (a.k.a. Pokémon 4: The Movie)', 'Swept Away', 'Formula 51', 'Auto Focus', 'Grey Zone, The', 'Naqoyqatsi', 'Real Women Have Curves', 'Tully', 'Billy Bathgate', 'Grave of the Fireflies (Hotaru no haka)', 'Saturday Night Fever', 'Staying Alive', 'Urban Cowboy', 'Tom Horn', 'The Pumaman', 'Without Warning (a.k.a. Alien Warning) (a.k.a. It Came Without Warning)', '...All the Marbles', 'Absence of Malice', 'Banana Joe', 'Blow Out', 'Friend Is a Treasure, A (Chi Trova Un Amico, Trova un Tesoro) (Who Finds a Friend Finds a Treasure)', 'Chosen, The', 'Continental Divide', 'Eyewitness (Janitor, The)', 'Faces of Death', 'Faces of Death 3', \"Woman Next Door, The (Femme d'à côté, La)\", 'First Monday in October', 'Four Seasons, The', 'Galaxy of Terror (Quest)', 'Gallipoli', 'Ghost Story', \"Gregory's Girl\", 'Happy Birthday to Me', 'Looker', 'Teddy Bear (Mis)', 'Modern Problems', 'My Bloody Valentine', 'Neighbors', 'Piranha II: The Spawning', 'Polyester', 'Professional, The (Le professionnel)', 'Ghost Ship', 'Jackass: The Movie', 'Paid in Full', 'Truth About Charlie, The', 'All or Nothing', 'Frida', 'Roger Dodger', 'Company of Wolves, The', 'Exodus', 'Russians Are Coming, the Russians Are Coming, The', 'World of Henry Orient, The', 'I Spy', 'Santa Clause 2, The', 'Femme Fatale', '8 Mile', 'Far from Heaven', 'Ararat', 'Crime of Father Amaro, The (Crimen del padre Amaro, El)', 'Standing in the Shadows of Motown', 'Rio Grande', 'Blackrock', 'Men with Brooms', 'Houseboat', 'Madame Bovary', \"My Father's Glory (La gloire de mon père)\", \"My Mother's Castle (Château de ma mère, Le)\", 'Return to the Blue Lagoon', 'Toy Soldiers', 'Ragtime', \"I'm Starting From Three (Ricomincio da Tre)\", 'Scanners', 'Do You Remember Dolly Bell? (Sjecas li se, Dolly Bell)', 'Take This Job and Shove It', 'Thief', 'Die Another Day', \"The Emperor's Club\", 'Friday After Next', 'Personal Velocity', 'Quiet American, The', 'Talk to Her (Hable con Ella)', \"Eight Crazy Nights (Adam Sandler's Eight Crazy Nights)\", 'Extreme Ops', 'Solaris', 'Treasure Planet', 'They', 'Chopper Chicks in Zombietown', 'Brother (Brat)', 'Cruel Romance, A (Zhestokij Romans)', 'Elling', 'I Spit on Your Grave (Day of the Woman)', 'Last Seduction, The', 'New Waterford Girl', 'Zulu', 'Analyze That', 'Empire', 'Hit the Bank (Vabank)', 'Victory (a.k.a. Escape to Victory)', 'Android', 'Attila (Attila Flagello di Dio)', 'Beast Within, The', 'Best Little Whorehouse in Texas, The', 'Party 2, The (Boum 2, La)', 'Burden of Dreams', 'Deathtrap', 'Drumline', 'Hot Chick, The', 'Maid in Manhattan', 'Star Trek: Nemesis', 'About Schmidt', 'Evelyn', 'Intact (Intacto)', 'Morvern Callar', 'Antwone Fisher', 'Two Weeks Notice', 'Blue Steel', 'Body of Evidence', \"Children's Hour, The\", 'Duellists, The', 'Miami Blues', 'My Girl 2', 'My Girl', 'My Neighbor Totoro (Tonari no Totoro)', 'Thief of Bagdad, The', 'War and Peace', 'Attack of the Crab Monsters', 'Black Christmas', \"Story of O, The (Histoire d'O)\", 'Fat City', 'Quicksilver', 'Pinocchio', 'Chicago', 'Hours, The', 'Max', 'Nicholas Nickleby', 'Pianist, The', 'Heavy Metal 2000', 'Love Liza', 'Blue Collar Comedy Tour: The Movie', 'Just Married', 'Guy Thing, A', 'Kangaroo Jack', 'National Security', 'Alice Adams', 'American Friend, The (Amerikanische Freund, Der)', 'American Me', 'Band of Outsiders (Bande à part)', 'CB4 - The Movie', 'Dogfight', 'Girls! Girls! Girls!', 'Imitation of Life', 'Mystery Date', 'Pépé le Moko', 'Secret Admirer', 'Woman in Red, The', 'Amen.', \"Blind Spot: Hitler's Secretary (Im toten Winkel - Hitlers Sekretärin)\", 'Blind Date', 'Ethan Frome', 'Harder They Come, The', 'Sugar Hill', 'Biker Boyz', 'Recruit, The', 'Guru, The', 'Lost in La Mancha', 'Harder They Fall, The', 'Ordinary Decent Criminal', 'Tokyo Decadence (Topâzu)', 'Firefox', 'I, the Jury', 'Kiss Me Goodbye', 'Last Unicorn, The', \"Midsummer Night's Sex Comedy, A\", 'Missing', 'Monty Python Live at the Hollywood Bowl', 'Night of the Shooting Stars (Notte di San Lorenzo, La)', 'Paradise', 'Pirate Movie, The', 'Santa Claus Is a Stinker (Le Père Noël est une ordure)', 'Richard Pryor Live on the Sunset Strip', 'Sunless (Sans Soleil)', 'Savannah Smiles', \"Secret Policeman's Other Ball, The\", 'Tenebre', 'They Call Me Bruce? (a.k.a. A Fistful of Chopsticks)', 'Trail of the Pink Panther', 'Venom', 'White Dog', 'Zapped!', 'How to Lose a Guy in 10 Days', 'Jungle Book 2, The', 'All the Real Girls', 'Gerry', 'He Loves Me... He Loves Me Not (À la folie... pas du tout)', 'Dennis the Menace', 'Black Stallion Returns, The', 'Black Stallion, The', 'Patch of Blue, A', 'Red Badge of Courage, The', 'Thrill of It All, The', 'Pillow Talk', 'Man Who Fell to Earth, The', 'Dark Blue', 'Gods and Generals', 'Life of David Gale, The', 'Old School', 'Open Hearts (Elsker dig for evigt)', 'Poolhall Junkies', 'Stone Reader', 'Cradle 2 the Grave', 'Spider', 'Lady Jane', 'Late Marriage (Hatuna Meuheret)', 'Life Stinks', 'Meteor Man, The', 'Volcano High (Whasango)', 'Bringing Down the House', 'Tears of the Sun', 'Laurel Canyon', 'Nowhere in Africa (Nirgendwo in Afrika)', 'Safety of Objects, The', 'Bend It Like Beckham', 'Hunted, The', 'Willard', 'Prozac Nation', 'Spun', 'King of Kings', 'Talk of the Town, The', 'Born Free', 'Equus', 'Europa Europa (Hitlerjunge Salomon)', 'Glenn Miller Story, The', 'Green Card', 'Journey to the Center of the Earth', 'Pauline at the Beach (Pauline à la Plage)', 'Ringu (Ring)', 'Salaam Bombay!', 'Sweet Charity', 'Talent for the Game', 'Boat Trip', \"Piglet's Big Movie\", 'View from the Top', 'Awful Truth, The', 'Basic', 'Core, The', 'Head of State', 'What a Girl Wants', 'Assassination Tango', 'Raising Victor Vargas', 'Stevie', \"Akira Kurosawa's Dreams (Dreams)\", 'Day for Night (La Nuit Américaine)', 'In a Lonely Place', 'Good Thief, The', 'Man Apart, A', 'Levity', 'Man Without a Past, The (Mies vailla menneisyyttä)', 'Better Luck Tomorrow', 'Ghosts of the Abyss', 'Lilya 4-Ever (Lilja 4-ever)', 'Chasing Papi (a.k.a. Papi Chulo)', 'Holes', \"Malibu's Most Wanted\", 'Winged Migration (Peuple migrateur, Le)', 'Flickering Lights (Blinkende lygter)', 'Straw Dogs', 'Beginning of the End', 'Andromeda Strain, The', 'Fahrenheit 451', 'I Am Trying to Break Your Heart', 'Legal Eagles', 'Memories of Me', 'Sibling Rivalry', 'Undercover Blues', 'Wildcats', 'Wiz, The', 'My Father the Hero (Mon père, ce héros.)', 'Scenes from a Mall', 'Confidence', 'It Runs in the Family', 'Decade Under the Influence, A', 'Manic', 'People I Know', 'Spellbound', 'Lizzie McGuire Movie, The', 'Blue Car', 'Dancer Upstairs, The', 'Marooned in Iraq (Gomgashtei dar Aragh)', 'Owning Mahowny', 'Daddy Day Care', \"Man on the Train (Homme du train, L')\", 'Shape of Things, The', 'Trip, The', '101 Reykjavik (101 Reykjavík)', 'Chorus Line, A', 'Beat Street', \"Breakin' 2: Electric Boogaloo\", \"Breakin'\", 'Laputa: Castle in the Sky (Tenkû no shiro Rapyuta)', 'High Society', 'Kiss Me Kate', 'Down with Love', 'Cinemania', \"Spanish Apartment, The (L'auberge espagnole)\", 'Pokémon Heroes', 'In-Laws, The', 'Gigantic (A Tale of Two Johns)', 'Respiro', 'Wrong Turn', 'Capturing the Friedmans', 'Together (Han ni Zai Yiki)', 'Whale Rider', 'Nevada Smith', 'Silk Stockings', 'Crazies, The (a.k.a. Code Name: Trixie)', 'Murder on a Sunday Morning (Un coupable idéal)', 'Siam Sunset', 'Treasure Island', \"Walk, Don't Run\", 'Animals are Beautiful People', 'Car Wash', 'Destry Rides Again', 'Intervista', 'Live Wire', 'Shenandoah', 'Oscar', '6th Man, The (Sixth Man, The)', 'Railway Children, The', 'Two Mules for Sister Sara', \"Winchester '73\", 'Man with the Movie Camera, The (Chelovek s kino-apparatom)', 'Objective, Burma!', \"This Boy's Life\", 'Belle époque', 'Flight of the Phoenix, The', 'From the Terrace', 'Long, Hot Summer, The', 'Man of Aran', 'Music Box', 'Trial, The (Procès, Le)', 'Unforgiven, The', 'Good Burger', 'Jubilee', 'Mississippi Masala', 'Shattered', 'Song of Bernadette, The', 'Thoroughly Modern Millie', 'Dumb and Dumberer: When Harry Met Lloyd', 'From Justin to Kelly', 'Hollywood Homicide', 'Alex and Emma', 'Fulltime Killer (Chuen jik sat sau)', 'Ali: Fear Eats the Soul (Angst essen Seele auf)', 'Bodies, Rest & Motion', 'Ring of Terror', 'You Only Live Once', 'Anastasia', 'Babe, The', 'Mr. Baseball', 'Scaramouche', 'Start the Revolution Without Me', 'Tenant, The (Locataire, Le)', \"What's Up, Doc?\", 'Hulk', 'Legally Blonde 2: Red, White & Blonde', 'Sinbad: Legend of the Seven Seas', 'Swimming Pool', 'Cuckoo, The (Kukushka)', 'I Capture the Castle', 'Northfork', 'How to Deal', 'Johnny English', 'Anarchist Cookbook, The', 'Dirty Pretty Things', \"Embalmer, The (Imbalsamatore, L')\", 'Garage Days', 'Born to Be Wild', 'Curly Sue', 'Little Giants', 'Loose Cannons', 'Mouse That Roared, The', 'Masked & Anonymous', 'Lara Croft Tomb Raider: The Cradle of Life', 'Seabiscuit', 'Spy Kids 3-D: Game Over', 'Camp', 'Mondays in the Sun (Lunes al sol, Los)', 'Scorched', 'Avanti!', 'Eve of Destruction', 'Kickboxer 2: The Road Back', 'Kiss Me, Stupid', 'One, Two, Three', 'Private Life of Sherlock Holmes, The', 'Remo Williams: The Adventure Begins', 'Blood of Heroes, The (Salute of the Jugger, The)', \"What's Up, Tiger Lily?\", 'American Wedding (American Pie 3)', 'Gigli', 'And Now... Ladies and Gentlemen...', 'Magdalene Sisters, The', 'Secret Lives of Dentists, The', 'Freaky Friday', 'Divorce, Le', 'Princess Blade, The (Shura Yukihime)', 'Step Into Liquid', 'Double Life, A', 'Hawks and Sparrows (Uccellacci e Uccellini)', 'Gospel According to St. Matthew, The (Vangelo secondo Matteo, Il)', 'Umberto D.', \"Brother's Keeper\", 'I Love You to Death', 'Grind', 'Uptown Girls', 'Agent Cody Banks', 'Camp Nowhere', 'Hot Dog... The Movie', 'House of Wax', \"Man's Best Friend\", 'Sure Thing, The', 'Valley Girl', 'Wait Until Dark', 'Tokyo Story (Tôkyô monogatari)', 'Green Ray, The (Rayon vert, Le)', 'THX 1138', 'Kind Hearts and Coronets', 'Atragon (Kaitei Gunkan)', 'Attack of the Puppet People', '10', 'Tremors', 'Red Shoes, The', 'Pink Panther, The', 'Pink Panther Strikes Again, The', 'Commando', 'Dracula', 'Discreet Charm of the Bourgeoisie, The (Charme discret de la bourgeoisie, Le)', 'Waco: The Rules of Engagement', 'Road Home, The (Wo de fu qin mu qin)', 'Ikiru', 'Comic Book Villains', 'Angel at My Table, An', \"Handmaid's Tale, The\", 'Revolution OS', 'Death in Venice (Morte a Venezia)', \"My Boss's Daughter\", 'Autumn Spring (Babí léto)', 'Battle of Shaker Heights, The', 'Dust', 'Stoked: The Rise and Fall of Gator', 'Jeepers Creepers 2', 'Bollywood/Hollywood', 'Once Upon a Time in the Midlands', 'Dickie Roberts: Former Child Star', 'Party Monster', 'Taking Sides', 'Dummy', 'Millennium Actress (Sennen joyû)', 'Children of the Night', 'Gotcha!', 'Kuffs', 'Once Upon a Time in China (Wong Fei Hung)', 'Once Upon a Time in China II (Wong Fei-hung Ji Yi: Naam yi dong ji keung)', 'Once Upon a Time in China III (Wong Fei-hung tsi sam: Siwong tsangba)', 'Paper Moon', 'Hello, Dolly!', 'Once Bitten', 'Squirm', 'Brood, The', 'Anything Else', 'Cold Creek Manor', 'Fighting Temptations, The', 'Secondhand Lions', 'In This World', 'Duplex', 'Under the Tuscan Sun', 'Luther', 'Mambo Italiano', 'My Life Without Me', 'To Be and to Have (Être et avoir)', 'Triplets of Belleville, The (Les triplettes de Belleville)', 'Videodrome', 'Life and Debt', 'Lagaan: Once Upon a Time in India', 'Judgment at Nuremberg', 'Brief History of Time, A', 'Leningrad Cowboys Go America', 'Rules of the Game, The (La règle du jeu)', 'Seven Brides for Seven Brothers', 'Kiss of the Spider Woman', \"All the President's Men\", 'Angie', \"Apartment, The (Appartement, L')\", 'Avalon', \"Babette's Feast (Babettes gæstebud)\", 'Beethoven', \"Beethoven's 2nd\", 'Boyz N the Hood', 'Bugsy', 'Bugsy Malone', 'Cobra', 'Phenomena (a.k.a. Creepers)', 'Crimewave', 'Where Eagles Dare', 'Tightrope', 'Sleeping with the Enemy', 'PCU', 'Rookie, The', 'City Heat', \"Three O'Clock High\", 'White Hunter, Black Heart', 'Come and See (Idi i smotri)', 'More American Graffiti', \"It's Pat\", 'Regarding Henry', 'Alien Contamination', 'Amazing Transparent Man, The', 'Love Affair', 'Scrooge', 'Leap of Faith', 'Gas, Food, Lodging', 'In Cold Blood', 'Campus Man', 'Yankee Doodle Dandy', 'Ninja Scroll (Jûbei ninpûchô)', 'Knife in the Water (Nóz w wodzie)', 'Mobsters', 'Out of Time', 'Wonderland', 'Bus 174 (Ônibus 174)', 'Mystic River', 'Runaway Jury', 'Pieces of April', 'Returner (Ritaanaa)', 'Sylvia', 'Veronica Guerin', 'In the Cut', 'Beyond Borders', 'Radio', 'Scary Movie 3', 'Brother Bear', 'Elephant', 'Sweet Sixteen', 'Alien from L.A.', 'Interstate 60', 'Eye, The (Gin gwai) (Jian gui)', 'Jolson Story, The', \"You'll Never Get Rich\", 'Unvanquished, The (Aparajito)', 'Cercle Rouge, Le (Red Circle, The)', 'Human Stain, The', 'Shattered Glass', 'Revolution Will Not Be Televised, The (a.k.a. Chavez: Inside the Coup)', 'Billabong Odyssey', 'Gloomy Sunday (Ein Lied von Liebe und Tod)', 'Father of the Bride', \"My Architect: A Son's Journey\", 'Looney Tunes: Back in Action', 'Tupac: Resurrection', 'Big Empty, The', 'Missing, The', 'Cat in the Hat, The', 'Gothika', '21 Grams', 'Barbarian Invasions, The (Les invasions barbares)', 'Haunted Mansion, The', 'Timeline', 'Damage (Fatale)', 'OT: Our Town', \"Devil's Playground\", 'Journeys with George', 'Dead of Night', 'Dernier Combat, Le (Last Battle, The)', 'Desk Set', 'Europa (Zentropa)', 'Final Analysis', 'Freshman, The', 'Funny Games', 'WarGames', 'Ordet (Word, The)', 'Forbidden Games (Jeux interdits)', 'Jane Eyre', 'Tale of Two Cities, A', \"Passion of Joan of Arc, The (Passion de Jeanne d'Arc, La)\", 'Ben-Hur: A Tale of the Christ', 'Cabinet of Dr. Caligari, The (Cabinet des Dr. Caligari., Das)', 'Gorky Park', 'The Great Train Robbery', 'Guarding Tess', 'Hannah and Her Sisters', 'Hard Way, The', 'Highlander II: The Quickening', 'Hoffa', 'House of Cards', 'Housesitter', 'Hudson Hawk', 'Invasion of the Body Snatchers', 'Kindergarten Cop', 'King Ralph', 'Last Tango in Paris (Ultimo tango a Parigi)', \"Lorenzo's Oil\", \"Lover, The (Amant, L')\", 'Mr. Destiny', 'Night of the Hunter, The', 'Only the Lonely', 'Over the Top', 'Passenger 57', 'Presumed Innocent', 'Project X', 'Proof', 'Wedding Banquet, The (Xi yan)', 'Salo, or The 120 Days of Sodom (Salò o le 120 giornate di Sodoma)', 'Midnight Clear, A', 'Summer School', 'Silverado', 'Quick Change', 'Radio Flyer', 'Real McCoy, The', 'Revenge', 'Secret of My Succe$s, The (a.k.a. The Secret of My Success)', 'Show Me Love (Fucking Åmål)', 'Teen Wolf', 'High Heels (Tacones lejanos)', 'Things You Can Tell Just by Looking at Her', 'To Live and Die in L.A.', 'Trapped in Paradise', 'Wild at Heart', 'Witches, The', 'Witches of Eastwick, The', 'Year of the Dragon', 'Nothing to Lose', 'Flying Down to Rio', 'Follow the Fleet', \"What's New, Pussycat\", 'Mary of Scotland', 'Roberta', 'Little Women', 'Swing Time', 'Public Enemy, The', \"Midsummer Night's Dream, A\", 'Life with Father', 'National Velvet', 'Jesus Christ Superstar', 'Dark Victory', 'Birdman of Alcatraz', 'Aguirre: The Wrath of God (Aguirre, der Zorn Gottes)', 'Beauty and the Beast (La belle et la bête)', 'Birth of a Nation, The', 'Juliet of the Spirits (Giulietta degli spiriti)', 'Macbeth (a.k.a. Tragedy of Macbeth, The)', 'Red River', 'Woman Under the Influence, A', 'Stagecoach', 'Shot in the Dark, A', 'Navigator, The', 'Court Jester, The', 'Bullitt', 'Jezebel', 'Hunchback of Notre Dame, The', '42nd Street', 'That Touch of Mink', 'Sweet Dreams', 'Play It Again, Sam', 'Send Me No Flowers', 'Pygmalion', 'Passage to India, A', 'Black Orpheus (Orfeu Negro)', 'Amarcord', 'Horse Feathers', 'Anna Karenina', 'Front Page, The', 'Rivers and Tides', 'Nausicaä of the Valley of the Wind (Kaze no tani no Naushika)', 'Doc Hollywood', 'Dragnet', 'Madhouse', '1941', 'Foul Play', 'Beyond the Clouds (Al di là delle nuvole)', 'Diabolique (Les diaboliques)', 'Leprechaun', 'Wings of Honneamise (Ôritsu uchûgun Oneamisu no tsubasa)', \"Adam's Rib\", 'King of Hearts', 'Naked Lunch', 'Grass', 'Spring Forward', 'Run', 'Summer Place, A', 'Night at the Opera, A', 'Element of Crime, The (Forbrydelsens Element)', 'Cooler, The', 'In America', 'My Flesh and Blood', 'Honey', \"Something's Gotta Give\", 'Girl with a Pearl Earring', 'Mona Lisa Smile', 'Calendar Girls', 'Fog of War: Eleven Lessons from the Life of Robert S. McNamara, The', 'House of Sand and Fog', 'Monster', 'Cheaper by the Dozen', 'Cold Mountain', 'Peter Pan', 'Company, The', 'Japanese Story', 'Chasing Liberty', 'Aileen: Life and Death of a Serial Killer', 'Torque', 'Crimson Gold (Talaye sorgh)', 'Osama', 'Great Gatsby, The', 'Wuthering Heights', 'Ship of Fools', 'This Property is Condemned', 'Jane Eyre', 'Blame It on the Bellboy', 'Only the Strong', 'Adventures of Ford Fairlane, The', 'Wind and the Lion, The', 'Mon Oncle (My Uncle)', 'Dr. Jekyll and Mr. Hyde', \"M. Hulot’s Holiday (Mr. Hulot's Holiday) (Vacances de Monsieur Hulot, Les)\", 'People Will Talk', 'I Was a Male War Bride', 'To Have and Have Not', 'High Sierra', 'Dark Passage', 'Ox-Bow Incident, The', 'They Drive by Night', 'Reefer Madness (a.k.a. Tell Your Children)', 'D.O.A.', 'Pumping Iron', 'Cool World', 'Strada, La', 'Boy and His Dog, A', 'Ashes and Diamonds (Popiól i diament)', \"Intolerance: Love's Struggle Throughout the Ages\", 'Tormented', 'Chitty Chitty Bang Bang', 'Suriyothai (a.k.a. Legend of Suriyothai, The)', 'Where the Day Takes You', 'The Butterfly Effect', 'Win a Date with Tad Hamilton!', 'Touching the Void', 'Big Bounce, The', 'Perfect Score, The', 'You Got Served', 'Latter Days', 'Barbershop 2: Back in Business', 'Catch That Kid', 'Miracle', 'An Amazing Couple', 'Dreamers, The', 'Lost Skeleton of Cadavra, The', 'Hip Hop Witch, Da', 'Thirteen', 'Best Defense', 'Welcome to Mooseport', 'Kitchen Stories (Salmer fra kjøkkenet)', 'Monsieur Ibrahim (Monsieur Ibrahim et les fleurs du Coran)', \"Diary of a Country Priest (Journal d'un curé de campagne)\", 'Thief of Bagdad, The', 'The Diary of Anne Frank', 'Allegro non troppo', 'Black Widow', \"Herod's Law (Ley de Herodes, La)\", \"King Solomon's Mines\", 'Raw Deal', 'Goodbye, Mr. Chips', 'Follow Me, Boys!', 'Against the Ropes', 'Confessions of a Teenage Drama Queen', 'EuroTrip', 'Passion of the Christ, The', 'Dirty Dancing: Havana Nights', 'Twisted', 'Good bye, Lenin!', 'Starsky & Hutch', 'Reckoning, The', 'Persona', 'Passion of Anna, The (Passion, En)', 'Corbeau, Le (Raven, The)', 'Pickup on South Street', 'Damned, The (La Caduta degli dei)', 'Just One of the Guys', 'Wrong Arm of the Law, The', 'Agent Cody Banks 2: Destination London', 'Girl Next Door, The', 'Secret Window', 'Broken Wings (Knafayim Shvurot)', 'Wilbur Wants to Kill Himself', 'Mad Dog and Glory', 'Peyton Place', 'Taking Lives', 'Intermission', 'Jersey Girl', 'Never Die Alone', 'Dogville', 'Ned Kelly', 'Prince & Me, The', 'Walking Tall', 'United States of Leland, The', 'The Alamo', 'Ella Enchanted', 'Whole Ten Yards, The', \"I'm Not Scared (Io non ho paura)\", 'Ten Commandments, The', 'Prey for Rock & Roll', 'Those Magnificent Men in Their Flying Machines', 'Cheaper by the Dozen', 'Scenes From a Marriage (Scener ur ett äktenskap)', 'Munchies', 'Going in Style', 'Paper Clips', 'This So-Called Disaster', '13 Going on 30', 'Envy', 'Godsend', 'Laws of Attraction', 'Mudge Boy, The', \"Breakin' All the Rules\", 'Troy', 'Carandiru', 'Eye See You (D-Tox)', 'Watch on the Rhine', 'Enemy Mine', 'Happy Together (a.k.a. Buenos Aires Affair) (Chun gwong cha sit)', 'Henry & June', 'Martin', 'Three Faces of Eve, The', '100 Girls', 'Fail-Safe', 'Paperhouse', 'Kwaidan (Kaidan)', '28 Up', 'You Only Live Twice', 'Octopussy', 'Wit', 'Never Say Never Again', 'Pride and Prejudice', 'Fountainhead, The', 'Woman of the Year', 'Samouraï, Le (Godson, The)', 'Oklahoma!', 'Desert Hearts', 'Body Double', 'Chaplin', 'Miracle Worker, The', 'Monster in a Box', 'School Ties', 'Raising Cain', 'Rose Red', 'Noises Off...', 'Babylon 5: In the Beginning', 'Witchfinder General (Conquerer Worm, The)', 'Pride and Prejudice', 'China Syndrome, The', 'Wages of Fear, The (Salaire de la peur, Le)', \"Look Who's Talking Too\", \"Bells of St. Mary's, The\", 'Delta Force, The', 'Pat and Mike', 'Animal Crackers', 'He Said, She Said', 'Cat People', 'Camelot', 'Lonely Guy, The', 'Four Musketeers, The', 'Protocol', 'Postman Always Rings Twice, The', 'Matinee', 'Baxter', 'Explorers', \"Scent of Green Papaya, The (Mùi du du xhan - L'odeur de la papaye verte)\", 'Pierrot le fou', 'Weekend (a.k.a. Le Week-end) (Week End)', 'Tuesdays with Morrie', 'Alexander Nevsky (Aleksandr Nevskiy)', 'Jason and the Argonauts', 'Tinker, Tailor, Soldier, Spy', 'Throne of Blood (Kumonosu jô)', 'Best of Youth, The (La meglio gioventù)', 'Undercurrent', \"Bang, Bang, You're Dead\", 'Twister', 'Sniper', 'Genghis Blues', '11\\'09\"01 - September 11', 'Parallax View, The', 'Warriors, The', 'Babylon 5: A Call to Arms', 'Babylon 5: The River of Souls', 'Babylon 5: Thirdspace', 'True Stories', 'Virgin Spring, The (Jungfrukällan)', 'Mogambo', 'Another Thin Man', 'Thin Man Goes Home, The', 'Shadow of the Thin Man', 'After the Thin Man', 'Song of the Thin Man', 'Love Crazy', 'Gunga Din', 'Children of Dune', 'Dune', 'Lammbock', 'Legend, The (Legend of Fong Sai-Yuk, The) (Fong Sai Yuk)', 'Tremors II: Aftershocks', 'Notorious C.H.O.', 'The Plague of the Zombies', 'I Walked with a Zombie', 'Highway 61', 'How to Succeed in Business Without Really Trying', 'Pat Garrett and Billy the Kid', \"Last Man on Earth, The (Ultimo uomo della Terra, L')\", 'Bring Me the Head of Alfredo Garcia', 'Ride the High Country', 'Master of the Flying Guillotine (Du bi quan wang da po xue di zi)', 'Frankenstein Must Be Destroyed', 'Gidget', 'Desperate Living', 'Stray Dog (Nora inu)', 'Hidden Fortress, The (Kakushi-toride no san-akunin)', 'High and Low (Tengoku to jigoku)', 'People Under the Stairs, The', 'Dark Days', 'Zelig', 'Shame (Skammen)', 'Silence, The (Tystnaden)', 'Winter Light (Nattvardsgästerna)', 'Through a Glass Darkly (Såsom i en spegel)', 'The Magician', 'Killers, The', 'Night of the Iguana, The', 'Nightbreed', 'Ken Park', 'Monterey Pop', 'Bridge Too Far, A', 'Tale of Two Sisters, A (Janghwa, Hongryeon)', 'Broadway Danny Rose', 'Robot Jox', 'Dolls', 'Space Truckers', 'Death Race 2000', 'Bucket Of Blood, A', 'Brigadoon', 'Power of One, The', 'Weather Underground, The', 'Kikujiro (Kikujirô no natsu)', 'Spring, Summer, Fall, Winter... and Spring (Bom yeoreum gaeul gyeoul geurigo bom)', 'Phantom Tollbooth, The', 'Getaway, The', 'Dark Water (Honogurai mizu no soko kara)', 'Thing Called Love, The', 'The Thief', 'How to Steal a Million', 'Stendhal Syndrome, The (Sindrome di Stendhal, La)', 'Jack the Bear', 'I Am a Fugitive from a Chain Gang', 'Hamburger Hill', 'Sweet Bird of Youth', 'Frankenstein Unbound', 'Shiri (Swiri)', 'Bad Day at Black Rock', 'In China They Eat Dogs (I Kina spiser de hunde)', 'Delta Force 2 (Delta Force 2: The Colombian Connection)', 'Crossroads', 'Seducing Doctor Lewis (Grande séduction, La)', 'Sunrise: A Song of Two Humans', 'Shock Corridor', 'Au revoir les enfants', 'Pursuit of Happiness', 'Indestructible Man', 'Wasp Woman, The', 'Attack of the Giant Leeches', 'Lola Montès', 'Charly', 'Lust for Life', 'Dolce Vita, La', 'Jin Roh: The Wolf Brigade (Jin-Rô)', 'Captain Blood', '*batteries not included', 'Educating Rita', 'Sansho the Bailiff (Sanshô dayû)', 'Zazie dans le métro', 'Americanization of Emily, The', 'Anne of the Thousand Days', \"Avventura, L' (Adventure, The)\", 'Beyond the Valley of the Dolls', 'Hiroshima Mon Amour', 'Ugetsu (Ugetsu monogatari)', 'Day of the Jackal, The', 'Maltese Falcon, The (a.k.a. Dangerous Female)', 'I Love You Again', 'Safety Last!', 'While the City Sleeps', 'Little Murders', 'Viridiana', 'Masterminds', 'Lupin III: The Castle Of Cagliostro (Rupan sansei: Kariosutoro no shiro)', 'Arizona Dream', '3 Women (Three Women)', 'Grey Gardens', 'Purple Rain', 'Point of No Return', \"Hairdresser's Husband, The (Le mari de la coiffeuse)\", 'College', 'Mitchell', 'Used People', 'Front Page, The', 'Dolls', 'Man Who Came to Dinner, The', 'Make Way for Tomorrow', 'Major and the Minor, The', 'Caine Mutiny, The', 'Black Narcissus', 'Escape from Alcatraz', 'Oliver Twist', 'Shrek 2', 'Raising Helen', 'Soul Plane', \"Baadasssss! (How to Get the Man's Foot Outta Your Ass)\", 'Blind Swordsman: Zatoichi, The (Zatôichi)', 'Garfield: The Movie', 'Stepford Wives, The', 'Hunting of the President, The', 'Doctor, The', 'Dresser, The', 'Father Hood', 'Hello Again', 'Hope Springs', 'Lover Come Back', 'Police Academy: Mission to Moscow', 'Big Wednesday', 'Book of Love', 'Hour of the Wolf (Vargtimmen)', 'Suddenly', 'Divorcee, The', 'Meet the Applegates', 'Robot Carnival (Roboto kânibauru)', 'Americathon', 'Sands of Iwo Jima', 'This Island Earth', 'Anthony Adverse', 'Blackboard Jungle', 'Luna Papa', 'Investigation of a Citizen Above Suspicion (Indagine su un cittadino al di sopra di ogni sospetto)', 'To Each His Own', 'Heiress, The', 'Dragon Seed', 'Executive Suite', 'Johnny Belinda', 'Super Size Me', 'Johnny Eager', 'Jetée, La', 'Northwest Passage', 'Picture of Dorian Gray, The', 'Human Condition I, The (Ningen no joken I)', \"Please Don't Eat the Daisies\", 'White Heat', 'Christmas Carol, A (Scrooge)', 'Memphis Belle', 'Cincinnati Kid, The', 'Animal Factory', 'Godzilla vs. Mechagodzilla (Gojira tai Mekagojira)', 'Hitcher, The', 'Show Boat', 'Fear X', 'Freaks', 'Immigrant, The', 'Silent Movie', 'Anna Christie', 'Dr. Jekyll and Mr. Hyde', 'Dodgeball: A True Underdog Story', 'Terminal, The', 'Dear Frankie', 'White Chicks', 'Door in the Floor, The', 'Notebook, The', 'Two Brothers (Deux frères)', 'De-Lovely', 'Day at the Races, A', 'Bob & Carol & Ted & Alice', 'Claymation Christmas Celebration, A', \"Happenstance (Battement d'ailes du papillon, Le)\", 'Comandante', 'Into the Woods', 'Pirates of Silicon Valley', 'Manufacturing Consent: Noam Chomsky and the Media', 'Mayor of the Sunset Strip', 'Killing Me Softly', 'Philadelphia Experiment, The', 'Juice', 'Revenge of the Pink Panther', 'Angels with Dirty Faces', 'Zero de conduite (Zero for Conduct) (Zéro de conduite: Jeunes diables au collège)', 'Taxi', 'Taxi 3', 'Tokyo Godfathers', 'Our Hospitality', 'All of Me', \"Farmer's Daughter, The\", 'Overboard', 'Butterfield 8', 'Exterminating Angel, The (Ángel exterminador, El)', 'Fahrenheit 9/11', 'Roxanne', \"Dr. Terror's House of Horrors\", 'Secret Society', 'Last Starfighter, The', 'Before Sunset', 'King Arthur', 'Cinderella Story, A', 'Maria Full of Grace (Maria, Llena eres de gracia)', \"Long Day's Journey Into Night\", 'Short Film About Killing, A (Krótki film o zabijaniu)', 'Catwoman', 'A Home at the End of the World', 'Testament of Dr. Mabuse, The (Das Testament des Dr. Mabuse)', 'Flash Gordon Conquers the Universe', \"Man Escaped, A (Un  condamné à mort s'est échappé ou Le vent souffle où il veut)\", 'Miracle of Marcelino, The (Marcelino pan y vino)', 'Slaughterhouse-Five', 'Bachelor and the Bobby-Soxer, The', 'Mr. Blandings Builds His Dream House', 'My Favorite Wife', 'New Adventures of Pippi Longstocking, The', 'Night and Day', 'Snake Pit, The', 'Super, The', 'Leopard, The (Gattopardo, Il)', 'Day of the Locust, The', 'To End All Wars', 'Woman Is a Woman, A (femme est une femme, Une)', 'Biggles', 'Yesterday, Today and Tomorrow (Ieri, oggi, domani)', 'Unprecedented: The 2000 Presidential Election', 'Prime of Miss Jean Brodie, The', 'My Voyage to Italy (Il mio viaggio in Italia)', 'This Gun for Hire', 'Sherlock Holmes: Terror by Night', 'Spy Who Came in from the Cold, The', 'Sherlock Holmes and the Secret Weapon', 'Sherlock Holmes: The Woman in Green', 'Sherlock Holmes: Dressed to Kill', 'Thunderbirds', 'Musa the Warrior (Musa)', 'Funny Thing Happened on the Way to the Forum, A', 'Little Black Book', 'Code 46', 'Story of Women (Affaire de femmes, Une)', 'Princess Diaries 2: Royal Engagement, The', 'Danny Deckchair', \"We Don't Live Here Anymore\", 'Without a Paddle', 'Exorcist: The Beginning', 'Bill Cosby, Himself', 'Anacondas: The Hunt for the Blood Orchid', 'Suspect Zero', 'Warriors of Heaven and Earth (Tian di ying xiong)', 'Vanity Fair', 'Paparazzi', 'Wicker Park', 'Camera Buff (Amator)', 'Vitelloni, I (a.k.a. The Young and the Passionate)', 'Mr. 3000', 'Wimbledon', 'First Daughter', 'Forgotten, The', 'Motorcycle Diaries, The (Diarios de motocicleta)', 'Come Back, Little Sheba', 'Murder on the Orient Express', 'Mask', 'Orca: The Killer Whale', '1492: Conquest of Paradise', 'Cannibal Holocaust', 'Shark Tale', 'Ladder 49', 'Raise Your Voice', 'Taxi', 'Stage Beauty', 'Shall We Dance?', 'Eulogy', 'P.S.', 'Country Girl, The', 'Rose Tattoo, The', 'Fearless Vampire Killers, The', \"Decline of the American Empire, The (Déclin de l'empire américain, Le)\", \"Bebe's Kids\", 'Friday Night Lights', 'Tarnation', 'Final Cut, The', 'Being Julia', 'Surviving Christmas', 'Grudge, The', 'Alfie', 'Vera Drake', 'Falling Angels', 'Lightning in a Bottle', 'Undertow', 'Ray', 'Birth', 'Callas Forever', 'Polar Express, The', 'Kinsey', \"Seed of Chucky (Child's Play 5)\", 'After the Sunset', 'Bridget Jones: The Edge of Reason', 'Finding Neverland', 'National Treasure', 'Bad Education (La mala educación)', 'SpongeBob SquarePants Movie, The', 'Alexander', 'Christmas with the Kranks', 'Guerrilla: The Taking of Patty Hearst', 'Closer', 'I Am David', \"Ocean's Twelve\", \"Bush's Brain\", 'Damn Yankees!', \"That's Entertainment\", 'D.A.R.Y.L.', 'Fire in the Sky', 'Invisible Man Returns, The', \"Love Me If You Dare (Jeux d'enfants)\", 'Control Room']\n",
      "['Mission: Impossible', 'Willy Wonka & the Chocolate Factory', 'Nutty Professor, The', 'Babe', 'Honey, I Shrunk the Kids', 'Indiana Jones and the Temple of Doom', 'Twister', 'Beetlejuice', 'Men in Black (a.k.a. MIB)', 'Austin Powers: International Man of Mystery', 'Mrs. Doubtfire']\n",
      "['Mission: Impossible', 'Willy Wonka & the Chocolate Factory', 'Nutty Professor, The', 'Babe', 'Honey, I Shrunk the Kids', 'Indiana Jones and the Temple of Doom']\n"
     ]
    }
   ],
   "source": [
    "print(\"Enter user id\")\n",
    "user_id= int(input())\n",
    "print(\"number of similar users to be considered\")\n",
    "sim_users = int(input())\n",
    "print(\"Enter number of movies to be recommended:\")\n",
    "n_movies = int(input())\n",
    "print(\"Enter Name of movie:\")\n",
    "movie_name = input()\n",
    "print(recommender_system_3(user_id,movie_name,sim_users,n_movies))\n",
    "# "
   ]
  },
  {
   "attachments": {},
   "cell_type": "markdown",
   "id": "269e43ba",
   "metadata": {},
   "source": [
    "Now start pickling and stoering things that we will need in API.\n",
    "- Refined_Dataset Dataframe\n",
    "- knn_model_user\n",
    "- movies_df\n",
    "- knn_model\n",
    "- movie_dict and movie_list"
   ]
  },
  {
   "cell_type": "code",
   "execution_count": 242,
   "id": "453fdc80",
   "metadata": {},
   "outputs": [],
   "source": [
    "import pickle\n",
    "\n",
    "with open('refined_dataset.pickle', 'wb') as handle:\n",
    "    pickle.dump(refined_dataset, handle, protocol=pickle.HIGHEST_PROTOCOL)\n",
    "\n",
    "with open('user_to_user_model.pickle', 'wb') as handle:\n",
    "    pickle.dump(knn_model_user, handle, protocol=pickle.HIGHEST_PROTOCOL)\n",
    "\n",
    "with open('item_to_item_model.pickle', 'wb') as handle:\n",
    "    pickle.dump(knn_model, handle, protocol=pickle.HIGHEST_PROTOCOL)\n",
    "    \n",
    "with open('movie_df.pickle', 'wb') as handle:\n",
    "    pickle.dump(movies_df, handle, protocol=pickle.HIGHEST_PROTOCOL)\n",
    "\n",
    "with open('movies_list.pickle', 'wb') as handle:\n",
    "    pickle.dump(movies_list, handle, protocol=pickle.HIGHEST_PROTOCOL)\n",
    "\n",
    "with open('movies_dict.pickle', 'wb') as handle:\n",
    "    pickle.dump(movie_dict, handle, protocol=pickle.HIGHEST_PROTOCOL)"
   ]
  },
  {
   "attachments": {},
   "cell_type": "markdown",
   "id": "2492e227",
   "metadata": {},
   "source": [
    "## Phase 3 - Content Based"
   ]
  },
  {
   "attachments": {},
   "cell_type": "markdown",
   "id": "5dfa909f",
   "metadata": {},
   "source": [
    "Since we are going to update this project, we'll start by adding the functionality to deal with Cold Start Problem, by recommending most popular movies at the moment. The basic idea behind this recommender is that movies that are more popular and more critically acclaimed will have a higher probability of being liked by the average audience. This model does not give personalized recommendations based on the user."
   ]
  },
  {
   "cell_type": "code",
   "execution_count": 59,
   "id": "c8d4531f",
   "metadata": {},
   "outputs": [
    {
     "name": "stderr",
     "output_type": "stream",
     "text": [
      "C:\\Users\\Shiv\\AppData\\Local\\Temp\\ipykernel_11540\\3105047284.py:1: DtypeWarning: Columns (10) have mixed types. Specify dtype option on import or set low_memory=False.\n",
      "  md = pd. read_csv('movies_dataset//movies_metadata.csv')\n"
     ]
    },
    {
     "data": {
      "text/html": [
       "<div>\n",
       "<style scoped>\n",
       "    .dataframe tbody tr th:only-of-type {\n",
       "        vertical-align: middle;\n",
       "    }\n",
       "\n",
       "    .dataframe tbody tr th {\n",
       "        vertical-align: top;\n",
       "    }\n",
       "\n",
       "    .dataframe thead th {\n",
       "        text-align: right;\n",
       "    }\n",
       "</style>\n",
       "<table border=\"1\" class=\"dataframe\">\n",
       "  <thead>\n",
       "    <tr style=\"text-align: right;\">\n",
       "      <th></th>\n",
       "      <th>adult</th>\n",
       "      <th>belongs_to_collection</th>\n",
       "      <th>budget</th>\n",
       "      <th>genres</th>\n",
       "      <th>homepage</th>\n",
       "      <th>id</th>\n",
       "      <th>imdb_id</th>\n",
       "      <th>original_language</th>\n",
       "      <th>original_title</th>\n",
       "      <th>overview</th>\n",
       "      <th>...</th>\n",
       "      <th>release_date</th>\n",
       "      <th>revenue</th>\n",
       "      <th>runtime</th>\n",
       "      <th>spoken_languages</th>\n",
       "      <th>status</th>\n",
       "      <th>tagline</th>\n",
       "      <th>title</th>\n",
       "      <th>video</th>\n",
       "      <th>vote_average</th>\n",
       "      <th>vote_count</th>\n",
       "    </tr>\n",
       "  </thead>\n",
       "  <tbody>\n",
       "    <tr>\n",
       "      <th>0</th>\n",
       "      <td>False</td>\n",
       "      <td>{'id': 10194, 'name': 'Toy Story Collection', ...</td>\n",
       "      <td>30000000</td>\n",
       "      <td>[{'id': 16, 'name': 'Animation'}, {'id': 35, '...</td>\n",
       "      <td>http://toystory.disney.com/toy-story</td>\n",
       "      <td>862</td>\n",
       "      <td>tt0114709</td>\n",
       "      <td>en</td>\n",
       "      <td>Toy Story</td>\n",
       "      <td>Led by Woody, Andy's toys live happily in his ...</td>\n",
       "      <td>...</td>\n",
       "      <td>1995-10-30</td>\n",
       "      <td>373554033.0</td>\n",
       "      <td>81.0</td>\n",
       "      <td>[{'iso_639_1': 'en', 'name': 'English'}]</td>\n",
       "      <td>Released</td>\n",
       "      <td>NaN</td>\n",
       "      <td>Toy Story</td>\n",
       "      <td>False</td>\n",
       "      <td>7.7</td>\n",
       "      <td>5415.0</td>\n",
       "    </tr>\n",
       "    <tr>\n",
       "      <th>1</th>\n",
       "      <td>False</td>\n",
       "      <td>NaN</td>\n",
       "      <td>65000000</td>\n",
       "      <td>[{'id': 12, 'name': 'Adventure'}, {'id': 14, '...</td>\n",
       "      <td>NaN</td>\n",
       "      <td>8844</td>\n",
       "      <td>tt0113497</td>\n",
       "      <td>en</td>\n",
       "      <td>Jumanji</td>\n",
       "      <td>When siblings Judy and Peter discover an encha...</td>\n",
       "      <td>...</td>\n",
       "      <td>1995-12-15</td>\n",
       "      <td>262797249.0</td>\n",
       "      <td>104.0</td>\n",
       "      <td>[{'iso_639_1': 'en', 'name': 'English'}, {'iso...</td>\n",
       "      <td>Released</td>\n",
       "      <td>Roll the dice and unleash the excitement!</td>\n",
       "      <td>Jumanji</td>\n",
       "      <td>False</td>\n",
       "      <td>6.9</td>\n",
       "      <td>2413.0</td>\n",
       "    </tr>\n",
       "    <tr>\n",
       "      <th>2</th>\n",
       "      <td>False</td>\n",
       "      <td>{'id': 119050, 'name': 'Grumpy Old Men Collect...</td>\n",
       "      <td>0</td>\n",
       "      <td>[{'id': 10749, 'name': 'Romance'}, {'id': 35, ...</td>\n",
       "      <td>NaN</td>\n",
       "      <td>15602</td>\n",
       "      <td>tt0113228</td>\n",
       "      <td>en</td>\n",
       "      <td>Grumpier Old Men</td>\n",
       "      <td>A family wedding reignites the ancient feud be...</td>\n",
       "      <td>...</td>\n",
       "      <td>1995-12-22</td>\n",
       "      <td>0.0</td>\n",
       "      <td>101.0</td>\n",
       "      <td>[{'iso_639_1': 'en', 'name': 'English'}]</td>\n",
       "      <td>Released</td>\n",
       "      <td>Still Yelling. Still Fighting. Still Ready for...</td>\n",
       "      <td>Grumpier Old Men</td>\n",
       "      <td>False</td>\n",
       "      <td>6.5</td>\n",
       "      <td>92.0</td>\n",
       "    </tr>\n",
       "    <tr>\n",
       "      <th>3</th>\n",
       "      <td>False</td>\n",
       "      <td>NaN</td>\n",
       "      <td>16000000</td>\n",
       "      <td>[{'id': 35, 'name': 'Comedy'}, {'id': 18, 'nam...</td>\n",
       "      <td>NaN</td>\n",
       "      <td>31357</td>\n",
       "      <td>tt0114885</td>\n",
       "      <td>en</td>\n",
       "      <td>Waiting to Exhale</td>\n",
       "      <td>Cheated on, mistreated and stepped on, the wom...</td>\n",
       "      <td>...</td>\n",
       "      <td>1995-12-22</td>\n",
       "      <td>81452156.0</td>\n",
       "      <td>127.0</td>\n",
       "      <td>[{'iso_639_1': 'en', 'name': 'English'}]</td>\n",
       "      <td>Released</td>\n",
       "      <td>Friends are the people who let you be yourself...</td>\n",
       "      <td>Waiting to Exhale</td>\n",
       "      <td>False</td>\n",
       "      <td>6.1</td>\n",
       "      <td>34.0</td>\n",
       "    </tr>\n",
       "    <tr>\n",
       "      <th>4</th>\n",
       "      <td>False</td>\n",
       "      <td>{'id': 96871, 'name': 'Father of the Bride Col...</td>\n",
       "      <td>0</td>\n",
       "      <td>[{'id': 35, 'name': 'Comedy'}]</td>\n",
       "      <td>NaN</td>\n",
       "      <td>11862</td>\n",
       "      <td>tt0113041</td>\n",
       "      <td>en</td>\n",
       "      <td>Father of the Bride Part II</td>\n",
       "      <td>Just when George Banks has recovered from his ...</td>\n",
       "      <td>...</td>\n",
       "      <td>1995-02-10</td>\n",
       "      <td>76578911.0</td>\n",
       "      <td>106.0</td>\n",
       "      <td>[{'iso_639_1': 'en', 'name': 'English'}]</td>\n",
       "      <td>Released</td>\n",
       "      <td>Just When His World Is Back To Normal... He's ...</td>\n",
       "      <td>Father of the Bride Part II</td>\n",
       "      <td>False</td>\n",
       "      <td>5.7</td>\n",
       "      <td>173.0</td>\n",
       "    </tr>\n",
       "  </tbody>\n",
       "</table>\n",
       "<p>5 rows × 24 columns</p>\n",
       "</div>"
      ],
      "text/plain": [
       "   adult                              belongs_to_collection    budget  \\\n",
       "0  False  {'id': 10194, 'name': 'Toy Story Collection', ...  30000000   \n",
       "1  False                                                NaN  65000000   \n",
       "2  False  {'id': 119050, 'name': 'Grumpy Old Men Collect...         0   \n",
       "3  False                                                NaN  16000000   \n",
       "4  False  {'id': 96871, 'name': 'Father of the Bride Col...         0   \n",
       "\n",
       "                                              genres  \\\n",
       "0  [{'id': 16, 'name': 'Animation'}, {'id': 35, '...   \n",
       "1  [{'id': 12, 'name': 'Adventure'}, {'id': 14, '...   \n",
       "2  [{'id': 10749, 'name': 'Romance'}, {'id': 35, ...   \n",
       "3  [{'id': 35, 'name': 'Comedy'}, {'id': 18, 'nam...   \n",
       "4                     [{'id': 35, 'name': 'Comedy'}]   \n",
       "\n",
       "                               homepage     id    imdb_id original_language  \\\n",
       "0  http://toystory.disney.com/toy-story    862  tt0114709                en   \n",
       "1                                   NaN   8844  tt0113497                en   \n",
       "2                                   NaN  15602  tt0113228                en   \n",
       "3                                   NaN  31357  tt0114885                en   \n",
       "4                                   NaN  11862  tt0113041                en   \n",
       "\n",
       "                original_title  \\\n",
       "0                    Toy Story   \n",
       "1                      Jumanji   \n",
       "2             Grumpier Old Men   \n",
       "3            Waiting to Exhale   \n",
       "4  Father of the Bride Part II   \n",
       "\n",
       "                                            overview  ... release_date  \\\n",
       "0  Led by Woody, Andy's toys live happily in his ...  ...   1995-10-30   \n",
       "1  When siblings Judy and Peter discover an encha...  ...   1995-12-15   \n",
       "2  A family wedding reignites the ancient feud be...  ...   1995-12-22   \n",
       "3  Cheated on, mistreated and stepped on, the wom...  ...   1995-12-22   \n",
       "4  Just when George Banks has recovered from his ...  ...   1995-02-10   \n",
       "\n",
       "       revenue runtime                                   spoken_languages  \\\n",
       "0  373554033.0    81.0           [{'iso_639_1': 'en', 'name': 'English'}]   \n",
       "1  262797249.0   104.0  [{'iso_639_1': 'en', 'name': 'English'}, {'iso...   \n",
       "2          0.0   101.0           [{'iso_639_1': 'en', 'name': 'English'}]   \n",
       "3   81452156.0   127.0           [{'iso_639_1': 'en', 'name': 'English'}]   \n",
       "4   76578911.0   106.0           [{'iso_639_1': 'en', 'name': 'English'}]   \n",
       "\n",
       "     status                                            tagline  \\\n",
       "0  Released                                                NaN   \n",
       "1  Released          Roll the dice and unleash the excitement!   \n",
       "2  Released  Still Yelling. Still Fighting. Still Ready for...   \n",
       "3  Released  Friends are the people who let you be yourself...   \n",
       "4  Released  Just When His World Is Back To Normal... He's ...   \n",
       "\n",
       "                         title  video vote_average vote_count  \n",
       "0                    Toy Story  False          7.7     5415.0  \n",
       "1                      Jumanji  False          6.9     2413.0  \n",
       "2             Grumpier Old Men  False          6.5       92.0  \n",
       "3            Waiting to Exhale  False          6.1       34.0  \n",
       "4  Father of the Bride Part II  False          5.7      173.0  \n",
       "\n",
       "[5 rows x 24 columns]"
      ]
     },
     "execution_count": 59,
     "metadata": {},
     "output_type": "execute_result"
    }
   ],
   "source": [
    "md = pd. read_csv('movies_dataset//movies_metadata.csv')\n",
    "md.head()"
   ]
  },
  {
   "cell_type": "code",
   "execution_count": 60,
   "id": "00e9679d",
   "metadata": {},
   "outputs": [],
   "source": [
    "from ast import literal_eval\n",
    "md['genres'] = md['genres'].fillna('[]').apply(literal_eval).apply(lambda x: [i['name'] for i in x] if isinstance(x, list) else [])"
   ]
  },
  {
   "attachments": {},
   "cell_type": "markdown",
   "id": "6b3892d2",
   "metadata": {},
   "source": [
    "I'll use the TMDB Ratings to come up with Top Movies Chart. \n",
    "\n",
    "Weighted Rating (WR) =  (v/(v+m)*R)+(m/(v+m)*C) [IMDB's weighted rating formula]\n",
    " \n",
    "where,\n",
    "- v is the number of votes for the movie\n",
    "- m is the minimum votes required to be listed in the chart\n",
    "- R is the average rating of the movie\n",
    "- C is the mean vote across the whole report\n",
    "\n",
    " We will use 95th percentile as our cutoff. In other words, for a movie to feature in the charts, it must have more votes than at least 95% of the movies in the list."
   ]
  },
  {
   "cell_type": "code",
   "execution_count": 61,
   "id": "6985d553",
   "metadata": {},
   "outputs": [
    {
     "data": {
      "text/plain": [
       "5.244896612406511"
      ]
     },
     "execution_count": 61,
     "metadata": {},
     "output_type": "execute_result"
    }
   ],
   "source": [
    "vote_counts = md[md['vote_count'].notnull()]['vote_count'].astype('int')\n",
    "vote_averages = md[md['vote_average'].notnull()]['vote_average'].astype('int')\n",
    "C = vote_averages.mean()\n",
    "C"
   ]
  },
  {
   "cell_type": "code",
   "execution_count": 62,
   "id": "7101cf29",
   "metadata": {},
   "outputs": [
    {
     "data": {
      "text/plain": [
       "434.0"
      ]
     },
     "execution_count": 62,
     "metadata": {},
     "output_type": "execute_result"
    }
   ],
   "source": [
    "m = vote_counts.quantile(0.95)\n",
    "m"
   ]
  },
  {
   "cell_type": "code",
   "execution_count": 63,
   "id": "f7393da1",
   "metadata": {},
   "outputs": [],
   "source": [
    "md['year'] = pd.to_datetime(md['release_date'], errors='coerce').apply(lambda x: str(x).split('-')[0] if x != np.nan else np.nan)"
   ]
  },
  {
   "cell_type": "code",
   "execution_count": 67,
   "id": "6af23c95",
   "metadata": {},
   "outputs": [
    {
     "data": {
      "text/plain": [
       "(2274, 6)"
      ]
     },
     "execution_count": 67,
     "metadata": {},
     "output_type": "execute_result"
    }
   ],
   "source": [
    "qualified = md[(md['vote_count'] >= m) & (md['vote_count'].notnull()) & (md['vote_average'].notnull())][['title', 'year', 'vote_count', 'vote_average', 'popularity', 'genres']]\n",
    "qualified['vote_count'] = qualified['vote_count'].astype('int')\n",
    "qualified['vote_average'] = qualified['vote_average'].astype('int')\n",
    "qualified.shape"
   ]
  },
  {
   "cell_type": "code",
   "execution_count": 68,
   "id": "ca9f3678",
   "metadata": {},
   "outputs": [],
   "source": [
    "def weighted_rating(x):\n",
    "    v = x['vote_count']\n",
    "    R = x['vote_average']\n",
    "    return (v/(v+m) * R) + (m/(m+v) * C)"
   ]
  },
  {
   "cell_type": "code",
   "execution_count": 69,
   "id": "79f41600",
   "metadata": {},
   "outputs": [
    {
     "data": {
      "text/html": [
       "<div>\n",
       "<style scoped>\n",
       "    .dataframe tbody tr th:only-of-type {\n",
       "        vertical-align: middle;\n",
       "    }\n",
       "\n",
       "    .dataframe tbody tr th {\n",
       "        vertical-align: top;\n",
       "    }\n",
       "\n",
       "    .dataframe thead th {\n",
       "        text-align: right;\n",
       "    }\n",
       "</style>\n",
       "<table border=\"1\" class=\"dataframe\">\n",
       "  <thead>\n",
       "    <tr style=\"text-align: right;\">\n",
       "      <th></th>\n",
       "      <th>title</th>\n",
       "      <th>year</th>\n",
       "      <th>vote_count</th>\n",
       "      <th>vote_average</th>\n",
       "      <th>popularity</th>\n",
       "      <th>genres</th>\n",
       "      <th>wr</th>\n",
       "    </tr>\n",
       "  </thead>\n",
       "  <tbody>\n",
       "    <tr>\n",
       "      <th>15480</th>\n",
       "      <td>Inception</td>\n",
       "      <td>2010</td>\n",
       "      <td>14075</td>\n",
       "      <td>8</td>\n",
       "      <td>29.108149</td>\n",
       "      <td>[Action, Thriller, Science Fiction, Mystery, A...</td>\n",
       "      <td>7.917588</td>\n",
       "    </tr>\n",
       "    <tr>\n",
       "      <th>12481</th>\n",
       "      <td>The Dark Knight</td>\n",
       "      <td>2008</td>\n",
       "      <td>12269</td>\n",
       "      <td>8</td>\n",
       "      <td>123.167259</td>\n",
       "      <td>[Drama, Action, Crime, Thriller]</td>\n",
       "      <td>7.905871</td>\n",
       "    </tr>\n",
       "    <tr>\n",
       "      <th>22879</th>\n",
       "      <td>Interstellar</td>\n",
       "      <td>2014</td>\n",
       "      <td>11187</td>\n",
       "      <td>8</td>\n",
       "      <td>32.213481</td>\n",
       "      <td>[Adventure, Drama, Science Fiction]</td>\n",
       "      <td>7.897107</td>\n",
       "    </tr>\n",
       "    <tr>\n",
       "      <th>2843</th>\n",
       "      <td>Fight Club</td>\n",
       "      <td>1999</td>\n",
       "      <td>9678</td>\n",
       "      <td>8</td>\n",
       "      <td>63.869599</td>\n",
       "      <td>[Drama]</td>\n",
       "      <td>7.881753</td>\n",
       "    </tr>\n",
       "    <tr>\n",
       "      <th>4863</th>\n",
       "      <td>The Lord of the Rings: The Fellowship of the Ring</td>\n",
       "      <td>2001</td>\n",
       "      <td>8892</td>\n",
       "      <td>8</td>\n",
       "      <td>32.070725</td>\n",
       "      <td>[Adventure, Fantasy, Action]</td>\n",
       "      <td>7.871787</td>\n",
       "    </tr>\n",
       "    <tr>\n",
       "      <th>...</th>\n",
       "      <td>...</td>\n",
       "      <td>...</td>\n",
       "      <td>...</td>\n",
       "      <td>...</td>\n",
       "      <td>...</td>\n",
       "      <td>...</td>\n",
       "      <td>...</td>\n",
       "    </tr>\n",
       "    <tr>\n",
       "      <th>2006</th>\n",
       "      <td>Indiana Jones and the Temple of Doom</td>\n",
       "      <td>1984</td>\n",
       "      <td>2841</td>\n",
       "      <td>7</td>\n",
       "      <td>15.802306</td>\n",
       "      <td>[Adventure, Action]</td>\n",
       "      <td>6.767415</td>\n",
       "    </tr>\n",
       "    <tr>\n",
       "      <th>16129</th>\n",
       "      <td>The King's Speech</td>\n",
       "      <td>2010</td>\n",
       "      <td>2817</td>\n",
       "      <td>7</td>\n",
       "      <td>11.260387</td>\n",
       "      <td>[Drama, History]</td>\n",
       "      <td>6.765698</td>\n",
       "    </tr>\n",
       "    <tr>\n",
       "      <th>895</th>\n",
       "      <td>Sunset Boulevard</td>\n",
       "      <td>1950</td>\n",
       "      <td>533</td>\n",
       "      <td>8</td>\n",
       "      <td>11.709777</td>\n",
       "      <td>[Drama]</td>\n",
       "      <td>6.763480</td>\n",
       "    </tr>\n",
       "    <tr>\n",
       "      <th>9888</th>\n",
       "      <td>Sin City</td>\n",
       "      <td>2005</td>\n",
       "      <td>2755</td>\n",
       "      <td>7</td>\n",
       "      <td>15.010525</td>\n",
       "      <td>[Action, Thriller, Crime]</td>\n",
       "      <td>6.761143</td>\n",
       "    </tr>\n",
       "    <tr>\n",
       "      <th>16833</th>\n",
       "      <td>Source Code</td>\n",
       "      <td>2011</td>\n",
       "      <td>2752</td>\n",
       "      <td>7</td>\n",
       "      <td>9.796962</td>\n",
       "      <td>[Thriller, Science Fiction, Mystery]</td>\n",
       "      <td>6.760918</td>\n",
       "    </tr>\n",
       "  </tbody>\n",
       "</table>\n",
       "<p>250 rows × 7 columns</p>\n",
       "</div>"
      ],
      "text/plain": [
       "                                                   title  year  vote_count  \\\n",
       "15480                                          Inception  2010       14075   \n",
       "12481                                    The Dark Knight  2008       12269   \n",
       "22879                                       Interstellar  2014       11187   \n",
       "2843                                          Fight Club  1999        9678   \n",
       "4863   The Lord of the Rings: The Fellowship of the Ring  2001        8892   \n",
       "...                                                  ...   ...         ...   \n",
       "2006                Indiana Jones and the Temple of Doom  1984        2841   \n",
       "16129                                  The King's Speech  2010        2817   \n",
       "895                                     Sunset Boulevard  1950         533   \n",
       "9888                                            Sin City  2005        2755   \n",
       "16833                                        Source Code  2011        2752   \n",
       "\n",
       "       vote_average  popularity  \\\n",
       "15480             8   29.108149   \n",
       "12481             8  123.167259   \n",
       "22879             8   32.213481   \n",
       "2843              8   63.869599   \n",
       "4863              8   32.070725   \n",
       "...             ...         ...   \n",
       "2006              7   15.802306   \n",
       "16129             7   11.260387   \n",
       "895               8   11.709777   \n",
       "9888              7   15.010525   \n",
       "16833             7    9.796962   \n",
       "\n",
       "                                                  genres        wr  \n",
       "15480  [Action, Thriller, Science Fiction, Mystery, A...  7.917588  \n",
       "12481                   [Drama, Action, Crime, Thriller]  7.905871  \n",
       "22879                [Adventure, Drama, Science Fiction]  7.897107  \n",
       "2843                                             [Drama]  7.881753  \n",
       "4863                        [Adventure, Fantasy, Action]  7.871787  \n",
       "...                                                  ...       ...  \n",
       "2006                                 [Adventure, Action]  6.767415  \n",
       "16129                                   [Drama, History]  6.765698  \n",
       "895                                              [Drama]  6.763480  \n",
       "9888                           [Action, Thriller, Crime]  6.761143  \n",
       "16833               [Thriller, Science Fiction, Mystery]  6.760918  \n",
       "\n",
       "[250 rows x 7 columns]"
      ]
     },
     "execution_count": 69,
     "metadata": {},
     "output_type": "execute_result"
    }
   ],
   "source": [
    "qualified['wr'] = qualified.apply(weighted_rating, axis=1)\n",
    "qualified = qualified.sort_values('wr', ascending=False).head(250)\n",
    "qualified "
   ]
  },
  {
   "cell_type": "code",
   "execution_count": 70,
   "id": "cbe99cda",
   "metadata": {},
   "outputs": [],
   "source": [
    "s = md.apply(lambda x: pd.Series(x['genres']),axis=1).stack().reset_index(level=1, drop=True)\n",
    "s.name = 'genre'\n",
    "gen_md = md.drop('genres', axis=1).join(s)"
   ]
  },
  {
   "cell_type": "code",
   "execution_count": 71,
   "id": "d61f7222",
   "metadata": {},
   "outputs": [],
   "source": [
    "def build_chart(genre, percentile=0.85):\n",
    "    df = gen_md[gen_md['genre'] == genre]\n",
    "    vote_counts = df[df['vote_count'].notnull()]['vote_count'].astype('int')\n",
    "    vote_averages = df[df['vote_average'].notnull()]['vote_average'].astype('int')\n",
    "    C = vote_averages.mean()\n",
    "    m = vote_counts.quantile(percentile)\n",
    "    \n",
    "    qualified = df[(df['vote_count'] >= m) & (df['vote_count'].notnull()) & (df['vote_average'].notnull())][['title', 'year', 'vote_count', 'vote_average', 'popularity']]\n",
    "    qualified['vote_count'] = qualified['vote_count'].astype('int')\n",
    "    qualified['vote_average'] = qualified['vote_average'].astype('int')\n",
    "    \n",
    "    qualified['wr'] = qualified.apply(lambda x: (x['vote_count']/(x['vote_count']+m) * x['vote_average']) + (m/(m+x['vote_count']) * C), axis=1)\n",
    "    qualified = qualified.sort_values('wr', ascending=False).head(250)\n",
    "    \n",
    "    return qualified"
   ]
  },
  {
   "cell_type": "code",
   "execution_count": 73,
   "id": "8f6e4b8c",
   "metadata": {},
   "outputs": [
    {
     "data": {
      "text/html": [
       "<div>\n",
       "<style scoped>\n",
       "    .dataframe tbody tr th:only-of-type {\n",
       "        vertical-align: middle;\n",
       "    }\n",
       "\n",
       "    .dataframe tbody tr th {\n",
       "        vertical-align: top;\n",
       "    }\n",
       "\n",
       "    .dataframe thead th {\n",
       "        text-align: right;\n",
       "    }\n",
       "</style>\n",
       "<table border=\"1\" class=\"dataframe\">\n",
       "  <thead>\n",
       "    <tr style=\"text-align: right;\">\n",
       "      <th></th>\n",
       "      <th>title</th>\n",
       "      <th>year</th>\n",
       "      <th>vote_count</th>\n",
       "      <th>vote_average</th>\n",
       "      <th>popularity</th>\n",
       "      <th>wr</th>\n",
       "    </tr>\n",
       "  </thead>\n",
       "  <tbody>\n",
       "    <tr>\n",
       "      <th>15480</th>\n",
       "      <td>Inception</td>\n",
       "      <td>2010</td>\n",
       "      <td>14075</td>\n",
       "      <td>8</td>\n",
       "      <td>29.108149</td>\n",
       "      <td>7.955099</td>\n",
       "    </tr>\n",
       "    <tr>\n",
       "      <th>12481</th>\n",
       "      <td>The Dark Knight</td>\n",
       "      <td>2008</td>\n",
       "      <td>12269</td>\n",
       "      <td>8</td>\n",
       "      <td>123.167259</td>\n",
       "      <td>7.948610</td>\n",
       "    </tr>\n",
       "    <tr>\n",
       "      <th>4863</th>\n",
       "      <td>The Lord of the Rings: The Fellowship of the Ring</td>\n",
       "      <td>2001</td>\n",
       "      <td>8892</td>\n",
       "      <td>8</td>\n",
       "      <td>32.070725</td>\n",
       "      <td>7.929579</td>\n",
       "    </tr>\n",
       "    <tr>\n",
       "      <th>7000</th>\n",
       "      <td>The Lord of the Rings: The Return of the King</td>\n",
       "      <td>2003</td>\n",
       "      <td>8226</td>\n",
       "      <td>8</td>\n",
       "      <td>29.324358</td>\n",
       "      <td>7.924031</td>\n",
       "    </tr>\n",
       "    <tr>\n",
       "      <th>5814</th>\n",
       "      <td>The Lord of the Rings: The Two Towers</td>\n",
       "      <td>2002</td>\n",
       "      <td>7641</td>\n",
       "      <td>8</td>\n",
       "      <td>29.423537</td>\n",
       "      <td>7.918382</td>\n",
       "    </tr>\n",
       "    <tr>\n",
       "      <th>256</th>\n",
       "      <td>Star Wars</td>\n",
       "      <td>1977</td>\n",
       "      <td>6778</td>\n",
       "      <td>8</td>\n",
       "      <td>42.149697</td>\n",
       "      <td>7.908327</td>\n",
       "    </tr>\n",
       "    <tr>\n",
       "      <th>1154</th>\n",
       "      <td>The Empire Strikes Back</td>\n",
       "      <td>1980</td>\n",
       "      <td>5998</td>\n",
       "      <td>8</td>\n",
       "      <td>19.470959</td>\n",
       "      <td>7.896841</td>\n",
       "    </tr>\n",
       "    <tr>\n",
       "      <th>4135</th>\n",
       "      <td>Scarface</td>\n",
       "      <td>1983</td>\n",
       "      <td>3017</td>\n",
       "      <td>8</td>\n",
       "      <td>11.299673</td>\n",
       "      <td>7.802046</td>\n",
       "    </tr>\n",
       "    <tr>\n",
       "      <th>9430</th>\n",
       "      <td>Oldboy</td>\n",
       "      <td>2003</td>\n",
       "      <td>2000</td>\n",
       "      <td>8</td>\n",
       "      <td>10.616859</td>\n",
       "      <td>7.711649</td>\n",
       "    </tr>\n",
       "    <tr>\n",
       "      <th>1910</th>\n",
       "      <td>Seven Samurai</td>\n",
       "      <td>1954</td>\n",
       "      <td>892</td>\n",
       "      <td>8</td>\n",
       "      <td>15.01777</td>\n",
       "      <td>7.426145</td>\n",
       "    </tr>\n",
       "    <tr>\n",
       "      <th>43190</th>\n",
       "      <td>Band of Brothers</td>\n",
       "      <td>2001</td>\n",
       "      <td>725</td>\n",
       "      <td>8</td>\n",
       "      <td>7.903731</td>\n",
       "      <td>7.325485</td>\n",
       "    </tr>\n",
       "    <tr>\n",
       "      <th>1215</th>\n",
       "      <td>M</td>\n",
       "      <td>1931</td>\n",
       "      <td>465</td>\n",
       "      <td>8</td>\n",
       "      <td>12.752421</td>\n",
       "      <td>7.072073</td>\n",
       "    </tr>\n",
       "    <tr>\n",
       "      <th>14551</th>\n",
       "      <td>Avatar</td>\n",
       "      <td>2009</td>\n",
       "      <td>12114</td>\n",
       "      <td>7</td>\n",
       "      <td>185.070892</td>\n",
       "      <td>6.966363</td>\n",
       "    </tr>\n",
       "    <tr>\n",
       "      <th>17818</th>\n",
       "      <td>The Avengers</td>\n",
       "      <td>2012</td>\n",
       "      <td>12000</td>\n",
       "      <td>7</td>\n",
       "      <td>89.887648</td>\n",
       "      <td>6.966049</td>\n",
       "    </tr>\n",
       "    <tr>\n",
       "      <th>26564</th>\n",
       "      <td>Deadpool</td>\n",
       "      <td>2016</td>\n",
       "      <td>11444</td>\n",
       "      <td>7</td>\n",
       "      <td>187.860492</td>\n",
       "      <td>6.964431</td>\n",
       "    </tr>\n",
       "  </tbody>\n",
       "</table>\n",
       "</div>"
      ],
      "text/plain": [
       "                                                   title  year  vote_count  \\\n",
       "15480                                          Inception  2010       14075   \n",
       "12481                                    The Dark Knight  2008       12269   \n",
       "4863   The Lord of the Rings: The Fellowship of the Ring  2001        8892   \n",
       "7000       The Lord of the Rings: The Return of the King  2003        8226   \n",
       "5814               The Lord of the Rings: The Two Towers  2002        7641   \n",
       "256                                            Star Wars  1977        6778   \n",
       "1154                             The Empire Strikes Back  1980        5998   \n",
       "4135                                            Scarface  1983        3017   \n",
       "9430                                              Oldboy  2003        2000   \n",
       "1910                                       Seven Samurai  1954         892   \n",
       "43190                                   Band of Brothers  2001         725   \n",
       "1215                                                   M  1931         465   \n",
       "14551                                             Avatar  2009       12114   \n",
       "17818                                       The Avengers  2012       12000   \n",
       "26564                                           Deadpool  2016       11444   \n",
       "\n",
       "       vote_average  popularity        wr  \n",
       "15480             8   29.108149  7.955099  \n",
       "12481             8  123.167259  7.948610  \n",
       "4863              8   32.070725  7.929579  \n",
       "7000              8   29.324358  7.924031  \n",
       "5814              8   29.423537  7.918382  \n",
       "256               8   42.149697  7.908327  \n",
       "1154              8   19.470959  7.896841  \n",
       "4135              8   11.299673  7.802046  \n",
       "9430              8   10.616859  7.711649  \n",
       "1910              8    15.01777  7.426145  \n",
       "43190             8    7.903731  7.325485  \n",
       "1215              8   12.752421  7.072073  \n",
       "14551             7  185.070892  6.966363  \n",
       "17818             7   89.887648  6.966049  \n",
       "26564             7  187.860492  6.964431  "
      ]
     },
     "execution_count": 73,
     "metadata": {},
     "output_type": "execute_result"
    }
   ],
   "source": [
    "build_chart('Action').head(15)"
   ]
  },
  {
   "cell_type": "code",
   "execution_count": null,
   "id": "00b44154",
   "metadata": {},
   "outputs": [],
   "source": []
  },
  {
   "cell_type": "code",
   "execution_count": null,
   "id": "21972f05",
   "metadata": {},
   "outputs": [],
   "source": [
    "def cold_start_recomm(user_id, movie_name,n_similar_users, n_movies):\n",
    "    "
   ]
  },
  {
   "cell_type": "code",
   "execution_count": 8,
   "id": "184ff17d",
   "metadata": {},
   "outputs": [
    {
     "name": "stdout",
     "output_type": "stream",
     "text": [
      "Collecting fsspec\n",
      "  Downloading fsspec-2023.6.0-py3-none-any.whl (163 kB)\n",
      "                                              0.0/163.8 kB ? eta -:--:--\n",
      "     -------                                 30.7/163.8 kB 1.3 MB/s eta 0:00:01\n",
      "     ---------------------                   92.2/163.8 kB 1.0 MB/s eta 0:00:01\n",
      "     -------------------------------      143.4/163.8 kB 944.1 kB/s eta 0:00:01\n",
      "     ------------------------------------ 163.8/163.8 kB 893.0 kB/s eta 0:00:00\n",
      "Installing collected packages: fsspec\n",
      "Successfully installed fsspec-2023.6.0\n"
     ]
    }
   ],
   "source": [
    "!pip install fsspec"
   ]
  },
  {
   "cell_type": "code",
   "execution_count": 11,
   "id": "4ed62ca4",
   "metadata": {},
   "outputs": [
    {
     "data": {
      "text/html": [
       "<div>\n",
       "<style scoped>\n",
       "    .dataframe tbody tr th:only-of-type {\n",
       "        vertical-align: middle;\n",
       "    }\n",
       "\n",
       "    .dataframe tbody tr th {\n",
       "        vertical-align: top;\n",
       "    }\n",
       "\n",
       "    .dataframe thead th {\n",
       "        text-align: right;\n",
       "    }\n",
       "</style>\n",
       "<table border=\"1\" class=\"dataframe\">\n",
       "  <thead>\n",
       "    <tr style=\"text-align: right;\">\n",
       "      <th></th>\n",
       "      <th>title</th>\n",
       "      <th>overview</th>\n",
       "      <th>original_language</th>\n",
       "      <th>vote_count</th>\n",
       "      <th>vote_average</th>\n",
       "    </tr>\n",
       "  </thead>\n",
       "  <tbody>\n",
       "    <tr>\n",
       "      <th>0</th>\n",
       "      <td>Ad Astra</td>\n",
       "      <td>The near future, a time when both hope and har...</td>\n",
       "      <td>en</td>\n",
       "      <td>2853</td>\n",
       "      <td>5.9</td>\n",
       "    </tr>\n",
       "    <tr>\n",
       "      <th>1</th>\n",
       "      <td>Bloodshot</td>\n",
       "      <td>After he and his wife are murdered, marine Ray...</td>\n",
       "      <td>en</td>\n",
       "      <td>1349</td>\n",
       "      <td>7.2</td>\n",
       "    </tr>\n",
       "    <tr>\n",
       "      <th>2</th>\n",
       "      <td>Bad Boys for Life</td>\n",
       "      <td>Marcus and Mike are forced to confront new thr...</td>\n",
       "      <td>en</td>\n",
       "      <td>2530</td>\n",
       "      <td>7.1</td>\n",
       "    </tr>\n",
       "    <tr>\n",
       "      <th>3</th>\n",
       "      <td>Ant-Man</td>\n",
       "      <td>Armed with the astonishing ability to shrink i...</td>\n",
       "      <td>en</td>\n",
       "      <td>13611</td>\n",
       "      <td>7.1</td>\n",
       "    </tr>\n",
       "    <tr>\n",
       "      <th>4</th>\n",
       "      <td>Percy Jackson: Sea of Monsters</td>\n",
       "      <td>In their quest to confront the ultimate evil, ...</td>\n",
       "      <td>en</td>\n",
       "      <td>3542</td>\n",
       "      <td>5.9</td>\n",
       "    </tr>\n",
       "    <tr>\n",
       "      <th>...</th>\n",
       "      <td>...</td>\n",
       "      <td>...</td>\n",
       "      <td>...</td>\n",
       "      <td>...</td>\n",
       "      <td>...</td>\n",
       "    </tr>\n",
       "    <tr>\n",
       "      <th>9995</th>\n",
       "      <td>Cargo</td>\n",
       "      <td>The story of CARGO takes place on rusty space-...</td>\n",
       "      <td>de</td>\n",
       "      <td>225</td>\n",
       "      <td>5.9</td>\n",
       "    </tr>\n",
       "    <tr>\n",
       "      <th>9996</th>\n",
       "      <td>The Good Night</td>\n",
       "      <td>Gary, a musician, is trapped in an unhappy rel...</td>\n",
       "      <td>en</td>\n",
       "      <td>67</td>\n",
       "      <td>5.6</td>\n",
       "    </tr>\n",
       "    <tr>\n",
       "      <th>9997</th>\n",
       "      <td>The World Is Yours</td>\n",
       "      <td>To escape his life of crime, a Paris drug deal...</td>\n",
       "      <td>fr</td>\n",
       "      <td>234</td>\n",
       "      <td>7.1</td>\n",
       "    </tr>\n",
       "    <tr>\n",
       "      <th>9998</th>\n",
       "      <td>The Grand Seduction</td>\n",
       "      <td>A small fishing village must procure a local d...</td>\n",
       "      <td>en</td>\n",
       "      <td>169</td>\n",
       "      <td>6.7</td>\n",
       "    </tr>\n",
       "    <tr>\n",
       "      <th>9999</th>\n",
       "      <td>Woochi: The Demon Slayer</td>\n",
       "      <td>Spanning four centuries in Korea, this epic ac...</td>\n",
       "      <td>ko</td>\n",
       "      <td>78</td>\n",
       "      <td>6.7</td>\n",
       "    </tr>\n",
       "  </tbody>\n",
       "</table>\n",
       "<p>10000 rows × 5 columns</p>\n",
       "</div>"
      ],
      "text/plain": [
       "                               title  \\\n",
       "0                           Ad Astra   \n",
       "1                          Bloodshot   \n",
       "2                  Bad Boys for Life   \n",
       "3                            Ant-Man   \n",
       "4     Percy Jackson: Sea of Monsters   \n",
       "...                              ...   \n",
       "9995                           Cargo   \n",
       "9996                  The Good Night   \n",
       "9997              The World Is Yours   \n",
       "9998             The Grand Seduction   \n",
       "9999        Woochi: The Demon Slayer   \n",
       "\n",
       "                                               overview original_language  \\\n",
       "0     The near future, a time when both hope and har...                en   \n",
       "1     After he and his wife are murdered, marine Ray...                en   \n",
       "2     Marcus and Mike are forced to confront new thr...                en   \n",
       "3     Armed with the astonishing ability to shrink i...                en   \n",
       "4     In their quest to confront the ultimate evil, ...                en   \n",
       "...                                                 ...               ...   \n",
       "9995  The story of CARGO takes place on rusty space-...                de   \n",
       "9996  Gary, a musician, is trapped in an unhappy rel...                en   \n",
       "9997  To escape his life of crime, a Paris drug deal...                fr   \n",
       "9998  A small fishing village must procure a local d...                en   \n",
       "9999  Spanning four centuries in Korea, this epic ac...                ko   \n",
       "\n",
       "      vote_count  vote_average  \n",
       "0           2853           5.9  \n",
       "1           1349           7.2  \n",
       "2           2530           7.1  \n",
       "3          13611           7.1  \n",
       "4           3542           5.9  \n",
       "...          ...           ...  \n",
       "9995         225           5.9  \n",
       "9996          67           5.6  \n",
       "9997         234           7.1  \n",
       "9998         169           6.7  \n",
       "9999          78           6.7  \n",
       "\n",
       "[10000 rows x 5 columns]"
      ]
     },
     "execution_count": 11,
     "metadata": {},
     "output_type": "execute_result"
    }
   ],
   "source": [
    "import pandas as pd\n",
    "tmdb = pd.read_csv('C://Users//Shiv//Desktop//2 months//Movie-Recommender-System//tmdb//TMDb_updated.CSV',index_col=[0])\n",
    "tmdb"
   ]
  },
  {
   "cell_type": "code",
   "execution_count": null,
   "id": "32b52545",
   "metadata": {},
   "outputs": [],
   "source": []
  },
  {
   "cell_type": "code",
   "execution_count": null,
   "id": "59fb73c3",
   "metadata": {},
   "outputs": [],
   "source": []
  },
  {
   "cell_type": "code",
   "execution_count": null,
   "id": "b13bf439",
   "metadata": {},
   "outputs": [],
   "source": []
  },
  {
   "cell_type": "code",
   "execution_count": null,
   "id": "00a3a682",
   "metadata": {},
   "outputs": [],
   "source": []
  },
  {
   "cell_type": "code",
   "execution_count": null,
   "id": "af3c3118",
   "metadata": {},
   "outputs": [],
   "source": []
  },
  {
   "cell_type": "code",
   "execution_count": null,
   "id": "626d1900",
   "metadata": {},
   "outputs": [],
   "source": []
  },
  {
   "cell_type": "code",
   "execution_count": null,
   "id": "4eae2866",
   "metadata": {},
   "outputs": [],
   "source": []
  },
  {
   "cell_type": "code",
   "execution_count": null,
   "id": "b8a322eb",
   "metadata": {},
   "outputs": [],
   "source": []
  },
  {
   "cell_type": "code",
   "execution_count": null,
   "id": "d37a6a1b",
   "metadata": {},
   "outputs": [],
   "source": []
  },
  {
   "cell_type": "code",
   "execution_count": null,
   "id": "37b037d2",
   "metadata": {},
   "outputs": [],
   "source": []
  },
  {
   "cell_type": "code",
   "execution_count": null,
   "id": "abfd6305",
   "metadata": {},
   "outputs": [],
   "source": []
  }
 ],
 "metadata": {
  "colab": {
   "collapsed_sections": [
    "5f5ff89b"
   ],
   "name": "ML_MINIPROJECT_PHASE2.ipynb",
   "provenance": []
  },
  "kernelspec": {
   "display_name": "Python 3 (ipykernel)",
   "language": "python",
   "name": "python3"
  },
  "language_info": {
   "codemirror_mode": {
    "name": "ipython",
    "version": 3
   },
   "file_extension": ".py",
   "mimetype": "text/x-python",
   "name": "python",
   "nbconvert_exporter": "python",
   "pygments_lexer": "ipython3",
   "version": "3.11.4"
  }
 },
 "nbformat": 4,
 "nbformat_minor": 5
}
